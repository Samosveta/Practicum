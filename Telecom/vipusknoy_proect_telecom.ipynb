{
  "cells": [
    {
      "cell_type": "markdown",
      "metadata": {
        "id": "Bwy0SsfuKjae"
      },
      "source": [
        "# Определение неэффективных операторов провайдера \"Нупозвони\""
      ]
    },
    {
      "cell_type": "markdown",
      "metadata": {
        "id": "T09ePPH6OcN1"
      },
      "source": [
        "Презентация https://docs.google.com/presentation/d/1a09bE_LKrfrtTsLLfptNifmCuun_sDqS9woCNu_av5Y/edit?usp=sharing\n",
        "\n",
        "Дашборд: https://public.tableau.com/views/telecom_calls_count/Dashboard1?:language=en-US&publish=yes&:display_count=n&:origin=viz_share_link"
      ]
    },
    {
      "cell_type": "markdown",
      "metadata": {
        "id": "osphzYgEKP4G"
      },
      "source": [
        "**Описание проекта:**\n",
        "\n",
        " Мы работаем в провайдере \"Нупозвони\". Нашими клиентами являются кол-центры, которые осуществляют обзвон своих клиентов и принимают входящие вызовы от них. В каждом кол центре работают несколько операторов. Сейчас мы разрабатываем новую функциональность, которая позволит кол-центрам определять неэффективных операторов.\n",
        "\n",
        "**Цель проекта:** научится определять неэффективных операторов\n",
        "\n",
        "**Задачи проекта:**\n",
        "- проанализировать имеющиеся данные,\n",
        "- изучить индустриальные стандарты по эффективности операторов кол центров\n",
        "- выявить неэффективных операторов по разным критриям\n",
        "- выявить у каких клиентов много неэффективных операторов"
      ]
    },
    {
      "cell_type": "markdown",
      "metadata": {
        "id": "G-Ewp1NkKY_O"
      },
      "source": [
        "## Импортируем необходимые библиотеки, загрузим данные"
      ]
    },
    {
      "cell_type": "code",
      "execution_count": null,
      "metadata": {
        "id": "tSJRbqmIKH_t",
        "colab": {
          "base_uri": "https://localhost:8080/"
        },
        "outputId": "1a3edb37-5bf3-4a61-8e32-4b462ae122b2"
      },
      "outputs": [
        {
          "output_type": "stream",
          "name": "stderr",
          "text": [
            "/usr/local/lib/python3.7/dist-packages/statsmodels/tools/_testing.py:19: FutureWarning: pandas.util.testing is deprecated. Use the functions in the public API at pandas.testing instead.\n",
            "  import pandas.util.testing as tm\n"
          ]
        }
      ],
      "source": [
        "import pandas as pd\n",
        "import seaborn as sns\n",
        "import numpy as np\n",
        "import math as mth\n",
        "import matplotlib.pyplot as plt\n",
        "from scipy import stats as st\n",
        "from pandas.core.groupby import groupby\n",
        "import scipy.stats as stats\n",
        "from statsmodels.stats.weightstats import ztest as ztest"
      ]
    },
    {
      "cell_type": "code",
      "execution_count": null,
      "metadata": {
        "colab": {
          "base_uri": "https://localhost:8080/",
          "height": 580
        },
        "id": "DAJFznY2bcX2",
        "outputId": "9c8dfb8a-3bda-4750-c548-8afea3e21737",
        "scrolled": false
      },
      "outputs": [
        {
          "output_type": "execute_result",
          "data": {
            "text/plain": [
              "       user_id                       date direction internal  operator_id  \\\n",
              "33236   167487  2019-10-18 00:00:00+03:00       out    False     914052.0   \n",
              "6919    166582  2019-09-22 00:00:00+03:00       out    False     885876.0   \n",
              "4193    166503  2019-10-21 00:00:00+03:00       out    False     906680.0   \n",
              "13036   166782  2019-10-09 00:00:00+03:00        in    False     893804.0   \n",
              "47861   168187  2019-10-30 00:00:00+03:00        in    False     937736.0   \n",
              "29580   167246  2019-11-01 00:00:00+03:00       out    False     908078.0   \n",
              "32217   167455  2019-10-24 00:00:00+03:00       out    False     918390.0   \n",
              "44040   168021  2019-11-12 00:00:00+03:00       out    False     939218.0   \n",
              "49468   168187  2019-11-26 00:00:00+03:00       out    False     937902.0   \n",
              "28354   167180  2019-10-16 00:00:00+03:00        in    False     905932.0   \n",
              "\n",
              "       is_missed_call  calls_count  call_duration  total_call_duration  \n",
              "33236            True           21              0                  404  \n",
              "6919             True           57              0                 1976  \n",
              "4193            False            3            307                  353  \n",
              "13036           False           31           1833                 1960  \n",
              "47861            True            1              0                   20  \n",
              "29580           False            6            239                  278  \n",
              "32217           False            2           1869                 1895  \n",
              "44040            True            6              0                   95  \n",
              "49468            True           26              0                  681  \n",
              "28354           False            1             28                   34  "
            ],
            "text/html": [
              "\n",
              "  <div id=\"df-c872e9de-56df-4afa-aa09-80b1efd7148f\">\n",
              "    <div class=\"colab-df-container\">\n",
              "      <div>\n",
              "<style scoped>\n",
              "    .dataframe tbody tr th:only-of-type {\n",
              "        vertical-align: middle;\n",
              "    }\n",
              "\n",
              "    .dataframe tbody tr th {\n",
              "        vertical-align: top;\n",
              "    }\n",
              "\n",
              "    .dataframe thead th {\n",
              "        text-align: right;\n",
              "    }\n",
              "</style>\n",
              "<table border=\"1\" class=\"dataframe\">\n",
              "  <thead>\n",
              "    <tr style=\"text-align: right;\">\n",
              "      <th></th>\n",
              "      <th>user_id</th>\n",
              "      <th>date</th>\n",
              "      <th>direction</th>\n",
              "      <th>internal</th>\n",
              "      <th>operator_id</th>\n",
              "      <th>is_missed_call</th>\n",
              "      <th>calls_count</th>\n",
              "      <th>call_duration</th>\n",
              "      <th>total_call_duration</th>\n",
              "    </tr>\n",
              "  </thead>\n",
              "  <tbody>\n",
              "    <tr>\n",
              "      <th>33236</th>\n",
              "      <td>167487</td>\n",
              "      <td>2019-10-18 00:00:00+03:00</td>\n",
              "      <td>out</td>\n",
              "      <td>False</td>\n",
              "      <td>914052.0</td>\n",
              "      <td>True</td>\n",
              "      <td>21</td>\n",
              "      <td>0</td>\n",
              "      <td>404</td>\n",
              "    </tr>\n",
              "    <tr>\n",
              "      <th>6919</th>\n",
              "      <td>166582</td>\n",
              "      <td>2019-09-22 00:00:00+03:00</td>\n",
              "      <td>out</td>\n",
              "      <td>False</td>\n",
              "      <td>885876.0</td>\n",
              "      <td>True</td>\n",
              "      <td>57</td>\n",
              "      <td>0</td>\n",
              "      <td>1976</td>\n",
              "    </tr>\n",
              "    <tr>\n",
              "      <th>4193</th>\n",
              "      <td>166503</td>\n",
              "      <td>2019-10-21 00:00:00+03:00</td>\n",
              "      <td>out</td>\n",
              "      <td>False</td>\n",
              "      <td>906680.0</td>\n",
              "      <td>False</td>\n",
              "      <td>3</td>\n",
              "      <td>307</td>\n",
              "      <td>353</td>\n",
              "    </tr>\n",
              "    <tr>\n",
              "      <th>13036</th>\n",
              "      <td>166782</td>\n",
              "      <td>2019-10-09 00:00:00+03:00</td>\n",
              "      <td>in</td>\n",
              "      <td>False</td>\n",
              "      <td>893804.0</td>\n",
              "      <td>False</td>\n",
              "      <td>31</td>\n",
              "      <td>1833</td>\n",
              "      <td>1960</td>\n",
              "    </tr>\n",
              "    <tr>\n",
              "      <th>47861</th>\n",
              "      <td>168187</td>\n",
              "      <td>2019-10-30 00:00:00+03:00</td>\n",
              "      <td>in</td>\n",
              "      <td>False</td>\n",
              "      <td>937736.0</td>\n",
              "      <td>True</td>\n",
              "      <td>1</td>\n",
              "      <td>0</td>\n",
              "      <td>20</td>\n",
              "    </tr>\n",
              "    <tr>\n",
              "      <th>29580</th>\n",
              "      <td>167246</td>\n",
              "      <td>2019-11-01 00:00:00+03:00</td>\n",
              "      <td>out</td>\n",
              "      <td>False</td>\n",
              "      <td>908078.0</td>\n",
              "      <td>False</td>\n",
              "      <td>6</td>\n",
              "      <td>239</td>\n",
              "      <td>278</td>\n",
              "    </tr>\n",
              "    <tr>\n",
              "      <th>32217</th>\n",
              "      <td>167455</td>\n",
              "      <td>2019-10-24 00:00:00+03:00</td>\n",
              "      <td>out</td>\n",
              "      <td>False</td>\n",
              "      <td>918390.0</td>\n",
              "      <td>False</td>\n",
              "      <td>2</td>\n",
              "      <td>1869</td>\n",
              "      <td>1895</td>\n",
              "    </tr>\n",
              "    <tr>\n",
              "      <th>44040</th>\n",
              "      <td>168021</td>\n",
              "      <td>2019-11-12 00:00:00+03:00</td>\n",
              "      <td>out</td>\n",
              "      <td>False</td>\n",
              "      <td>939218.0</td>\n",
              "      <td>True</td>\n",
              "      <td>6</td>\n",
              "      <td>0</td>\n",
              "      <td>95</td>\n",
              "    </tr>\n",
              "    <tr>\n",
              "      <th>49468</th>\n",
              "      <td>168187</td>\n",
              "      <td>2019-11-26 00:00:00+03:00</td>\n",
              "      <td>out</td>\n",
              "      <td>False</td>\n",
              "      <td>937902.0</td>\n",
              "      <td>True</td>\n",
              "      <td>26</td>\n",
              "      <td>0</td>\n",
              "      <td>681</td>\n",
              "    </tr>\n",
              "    <tr>\n",
              "      <th>28354</th>\n",
              "      <td>167180</td>\n",
              "      <td>2019-10-16 00:00:00+03:00</td>\n",
              "      <td>in</td>\n",
              "      <td>False</td>\n",
              "      <td>905932.0</td>\n",
              "      <td>False</td>\n",
              "      <td>1</td>\n",
              "      <td>28</td>\n",
              "      <td>34</td>\n",
              "    </tr>\n",
              "  </tbody>\n",
              "</table>\n",
              "</div>\n",
              "      <button class=\"colab-df-convert\" onclick=\"convertToInteractive('df-c872e9de-56df-4afa-aa09-80b1efd7148f')\"\n",
              "              title=\"Convert this dataframe to an interactive table.\"\n",
              "              style=\"display:none;\">\n",
              "        \n",
              "  <svg xmlns=\"http://www.w3.org/2000/svg\" height=\"24px\"viewBox=\"0 0 24 24\"\n",
              "       width=\"24px\">\n",
              "    <path d=\"M0 0h24v24H0V0z\" fill=\"none\"/>\n",
              "    <path d=\"M18.56 5.44l.94 2.06.94-2.06 2.06-.94-2.06-.94-.94-2.06-.94 2.06-2.06.94zm-11 1L8.5 8.5l.94-2.06 2.06-.94-2.06-.94L8.5 2.5l-.94 2.06-2.06.94zm10 10l.94 2.06.94-2.06 2.06-.94-2.06-.94-.94-2.06-.94 2.06-2.06.94z\"/><path d=\"M17.41 7.96l-1.37-1.37c-.4-.4-.92-.59-1.43-.59-.52 0-1.04.2-1.43.59L10.3 9.45l-7.72 7.72c-.78.78-.78 2.05 0 2.83L4 21.41c.39.39.9.59 1.41.59.51 0 1.02-.2 1.41-.59l7.78-7.78 2.81-2.81c.8-.78.8-2.07 0-2.86zM5.41 20L4 18.59l7.72-7.72 1.47 1.35L5.41 20z\"/>\n",
              "  </svg>\n",
              "      </button>\n",
              "      \n",
              "  <style>\n",
              "    .colab-df-container {\n",
              "      display:flex;\n",
              "      flex-wrap:wrap;\n",
              "      gap: 12px;\n",
              "    }\n",
              "\n",
              "    .colab-df-convert {\n",
              "      background-color: #E8F0FE;\n",
              "      border: none;\n",
              "      border-radius: 50%;\n",
              "      cursor: pointer;\n",
              "      display: none;\n",
              "      fill: #1967D2;\n",
              "      height: 32px;\n",
              "      padding: 0 0 0 0;\n",
              "      width: 32px;\n",
              "    }\n",
              "\n",
              "    .colab-df-convert:hover {\n",
              "      background-color: #E2EBFA;\n",
              "      box-shadow: 0px 1px 2px rgba(60, 64, 67, 0.3), 0px 1px 3px 1px rgba(60, 64, 67, 0.15);\n",
              "      fill: #174EA6;\n",
              "    }\n",
              "\n",
              "    [theme=dark] .colab-df-convert {\n",
              "      background-color: #3B4455;\n",
              "      fill: #D2E3FC;\n",
              "    }\n",
              "\n",
              "    [theme=dark] .colab-df-convert:hover {\n",
              "      background-color: #434B5C;\n",
              "      box-shadow: 0px 1px 3px 1px rgba(0, 0, 0, 0.15);\n",
              "      filter: drop-shadow(0px 1px 2px rgba(0, 0, 0, 0.3));\n",
              "      fill: #FFFFFF;\n",
              "    }\n",
              "  </style>\n",
              "\n",
              "      <script>\n",
              "        const buttonEl =\n",
              "          document.querySelector('#df-c872e9de-56df-4afa-aa09-80b1efd7148f button.colab-df-convert');\n",
              "        buttonEl.style.display =\n",
              "          google.colab.kernel.accessAllowed ? 'block' : 'none';\n",
              "\n",
              "        async function convertToInteractive(key) {\n",
              "          const element = document.querySelector('#df-c872e9de-56df-4afa-aa09-80b1efd7148f');\n",
              "          const dataTable =\n",
              "            await google.colab.kernel.invokeFunction('convertToInteractive',\n",
              "                                                     [key], {});\n",
              "          if (!dataTable) return;\n",
              "\n",
              "          const docLinkHtml = 'Like what you see? Visit the ' +\n",
              "            '<a target=\"_blank\" href=https://colab.research.google.com/notebooks/data_table.ipynb>data table notebook</a>'\n",
              "            + ' to learn more about interactive tables.';\n",
              "          element.innerHTML = '';\n",
              "          dataTable['output_type'] = 'display_data';\n",
              "          await google.colab.output.renderOutput(dataTable, element);\n",
              "          const docLink = document.createElement('div');\n",
              "          docLink.innerHTML = docLinkHtml;\n",
              "          element.appendChild(docLink);\n",
              "        }\n",
              "      </script>\n",
              "    </div>\n",
              "  </div>\n",
              "  "
            ]
          },
          "metadata": {},
          "execution_count": 4
        }
      ],
      "source": [
        "tel_data.sample(10)"
      ]
    },
    {
      "cell_type": "markdown",
      "metadata": {
        "id": "eM_xiCxZLooS"
      },
      "source": [
        "## Откроем таблицы и изучим общую информацию о данных"
      ]
    },
    {
      "cell_type": "code",
      "execution_count": null,
      "metadata": {
        "colab": {
          "base_uri": "https://localhost:8080/"
        },
        "id": "vV_iEPEnLiTC",
        "outputId": "9dbe44f0-a9a9-4814-9161-c2610b8cf72d"
      },
      "outputs": [
        {
          "output_type": "stream",
          "name": "stdout",
          "text": [
            "<class 'pandas.core.frame.DataFrame'>\n",
            "RangeIndex: 53902 entries, 0 to 53901\n",
            "Data columns (total 9 columns):\n",
            " #   Column               Non-Null Count  Dtype  \n",
            "---  ------               --------------  -----  \n",
            " 0   user_id              53902 non-null  int64  \n",
            " 1   date                 53902 non-null  object \n",
            " 2   direction            53902 non-null  object \n",
            " 3   internal             53785 non-null  object \n",
            " 4   operator_id          45730 non-null  float64\n",
            " 5   is_missed_call       53902 non-null  bool   \n",
            " 6   calls_count          53902 non-null  int64  \n",
            " 7   call_duration        53902 non-null  int64  \n",
            " 8   total_call_duration  53902 non-null  int64  \n",
            "dtypes: bool(1), float64(1), int64(4), object(3)\n",
            "memory usage: 3.3+ MB\n"
          ]
        }
      ],
      "source": [
        "tel_data.info()"
      ]
    },
    {
      "cell_type": "markdown",
      "metadata": {
        "id": "Zb_uz4_7NOF5"
      },
      "source": [
        "Согласно документации: \n",
        "\n",
        "user_id — Идентификатор клиентского аккаунта в сервисе\n",
        "\n",
        "date — Дата статистики\n",
        "\n",
        "direction — Направление вызовов (out - исходящий вызов, in — входящий\n",
        "вызов)\n",
        "\n",
        "internal — Является ли звонок внутренним звонком между операторами \n",
        "клиента\n",
        "\n",
        "operator_id — Идентификатор оператора\n",
        "\n",
        "is_missed_call — Является ли звонок пропущенным\n",
        "\n",
        "calls_count — Количество звонков\n",
        "\n",
        "call_duration — Длительность звонка (без учета времени ожидания)\n",
        "\n",
        "total_call_duration — Длительность звонка (с учетом времени ожидания)"
      ]
    },
    {
      "cell_type": "markdown",
      "metadata": {
        "id": "51NlTWjQM3Uo"
      },
      "source": [
        "Мы видим 53902 записи в большинстве колонок. Больше всего пропусков в колонке operator_id, также немного в колонке internal. "
      ]
    },
    {
      "cell_type": "markdown",
      "metadata": {
        "id": "Qb6-jsGaNxAW"
      },
      "source": [
        "Типы данных:\n",
        "\n",
        "- в колонке с датой нужно заменить на фотмат datetime, \n",
        " \n",
        "- direction удобней будет пользоваться, если мы заменим текст на обозначения 0/1, 0 - исходящие звонки, 1 - входящие звонки\n",
        "\n",
        "- operator_id заменить на тип int\n"
      ]
    },
    {
      "cell_type": "code",
      "execution_count": null,
      "metadata": {
        "colab": {
          "base_uri": "https://localhost:8080/",
          "height": 300
        },
        "id": "ZdWxNpLaTQAX",
        "outputId": "37e745ae-2435-49c5-bf48-64bf5fe845bf"
      },
      "outputs": [
        {
          "output_type": "execute_result",
          "data": {
            "text/plain": [
              "         user_id  operator_id  calls_count  call_duration  total_call_duration\n",
              "count   53902.00     45730.00     53902.00       53902.00             53902.00\n",
              "mean   167295.34    916535.99        16.45         866.68              1157.13\n",
              "std       598.88     21254.12        62.92        3731.79              4403.47\n",
              "min    166377.00    879896.00         1.00           0.00                 0.00\n",
              "25%    166782.00    900788.00         1.00           0.00                47.00\n",
              "50%    167162.00    913938.00         4.00          38.00               210.00\n",
              "75%    167819.00    937708.00        12.00         572.00               902.00\n",
              "max    168606.00    973286.00      4817.00      144395.00            166155.00"
            ],
            "text/html": [
              "\n",
              "  <div id=\"df-a11fd073-7616-4491-9d9b-2f8c4954b1c7\">\n",
              "    <div class=\"colab-df-container\">\n",
              "      <div>\n",
              "<style scoped>\n",
              "    .dataframe tbody tr th:only-of-type {\n",
              "        vertical-align: middle;\n",
              "    }\n",
              "\n",
              "    .dataframe tbody tr th {\n",
              "        vertical-align: top;\n",
              "    }\n",
              "\n",
              "    .dataframe thead th {\n",
              "        text-align: right;\n",
              "    }\n",
              "</style>\n",
              "<table border=\"1\" class=\"dataframe\">\n",
              "  <thead>\n",
              "    <tr style=\"text-align: right;\">\n",
              "      <th></th>\n",
              "      <th>user_id</th>\n",
              "      <th>operator_id</th>\n",
              "      <th>calls_count</th>\n",
              "      <th>call_duration</th>\n",
              "      <th>total_call_duration</th>\n",
              "    </tr>\n",
              "  </thead>\n",
              "  <tbody>\n",
              "    <tr>\n",
              "      <th>count</th>\n",
              "      <td>53902.00</td>\n",
              "      <td>45730.00</td>\n",
              "      <td>53902.00</td>\n",
              "      <td>53902.00</td>\n",
              "      <td>53902.00</td>\n",
              "    </tr>\n",
              "    <tr>\n",
              "      <th>mean</th>\n",
              "      <td>167295.34</td>\n",
              "      <td>916535.99</td>\n",
              "      <td>16.45</td>\n",
              "      <td>866.68</td>\n",
              "      <td>1157.13</td>\n",
              "    </tr>\n",
              "    <tr>\n",
              "      <th>std</th>\n",
              "      <td>598.88</td>\n",
              "      <td>21254.12</td>\n",
              "      <td>62.92</td>\n",
              "      <td>3731.79</td>\n",
              "      <td>4403.47</td>\n",
              "    </tr>\n",
              "    <tr>\n",
              "      <th>min</th>\n",
              "      <td>166377.00</td>\n",
              "      <td>879896.00</td>\n",
              "      <td>1.00</td>\n",
              "      <td>0.00</td>\n",
              "      <td>0.00</td>\n",
              "    </tr>\n",
              "    <tr>\n",
              "      <th>25%</th>\n",
              "      <td>166782.00</td>\n",
              "      <td>900788.00</td>\n",
              "      <td>1.00</td>\n",
              "      <td>0.00</td>\n",
              "      <td>47.00</td>\n",
              "    </tr>\n",
              "    <tr>\n",
              "      <th>50%</th>\n",
              "      <td>167162.00</td>\n",
              "      <td>913938.00</td>\n",
              "      <td>4.00</td>\n",
              "      <td>38.00</td>\n",
              "      <td>210.00</td>\n",
              "    </tr>\n",
              "    <tr>\n",
              "      <th>75%</th>\n",
              "      <td>167819.00</td>\n",
              "      <td>937708.00</td>\n",
              "      <td>12.00</td>\n",
              "      <td>572.00</td>\n",
              "      <td>902.00</td>\n",
              "    </tr>\n",
              "    <tr>\n",
              "      <th>max</th>\n",
              "      <td>168606.00</td>\n",
              "      <td>973286.00</td>\n",
              "      <td>4817.00</td>\n",
              "      <td>144395.00</td>\n",
              "      <td>166155.00</td>\n",
              "    </tr>\n",
              "  </tbody>\n",
              "</table>\n",
              "</div>\n",
              "      <button class=\"colab-df-convert\" onclick=\"convertToInteractive('df-a11fd073-7616-4491-9d9b-2f8c4954b1c7')\"\n",
              "              title=\"Convert this dataframe to an interactive table.\"\n",
              "              style=\"display:none;\">\n",
              "        \n",
              "  <svg xmlns=\"http://www.w3.org/2000/svg\" height=\"24px\"viewBox=\"0 0 24 24\"\n",
              "       width=\"24px\">\n",
              "    <path d=\"M0 0h24v24H0V0z\" fill=\"none\"/>\n",
              "    <path d=\"M18.56 5.44l.94 2.06.94-2.06 2.06-.94-2.06-.94-.94-2.06-.94 2.06-2.06.94zm-11 1L8.5 8.5l.94-2.06 2.06-.94-2.06-.94L8.5 2.5l-.94 2.06-2.06.94zm10 10l.94 2.06.94-2.06 2.06-.94-2.06-.94-.94-2.06-.94 2.06-2.06.94z\"/><path d=\"M17.41 7.96l-1.37-1.37c-.4-.4-.92-.59-1.43-.59-.52 0-1.04.2-1.43.59L10.3 9.45l-7.72 7.72c-.78.78-.78 2.05 0 2.83L4 21.41c.39.39.9.59 1.41.59.51 0 1.02-.2 1.41-.59l7.78-7.78 2.81-2.81c.8-.78.8-2.07 0-2.86zM5.41 20L4 18.59l7.72-7.72 1.47 1.35L5.41 20z\"/>\n",
              "  </svg>\n",
              "      </button>\n",
              "      \n",
              "  <style>\n",
              "    .colab-df-container {\n",
              "      display:flex;\n",
              "      flex-wrap:wrap;\n",
              "      gap: 12px;\n",
              "    }\n",
              "\n",
              "    .colab-df-convert {\n",
              "      background-color: #E8F0FE;\n",
              "      border: none;\n",
              "      border-radius: 50%;\n",
              "      cursor: pointer;\n",
              "      display: none;\n",
              "      fill: #1967D2;\n",
              "      height: 32px;\n",
              "      padding: 0 0 0 0;\n",
              "      width: 32px;\n",
              "    }\n",
              "\n",
              "    .colab-df-convert:hover {\n",
              "      background-color: #E2EBFA;\n",
              "      box-shadow: 0px 1px 2px rgba(60, 64, 67, 0.3), 0px 1px 3px 1px rgba(60, 64, 67, 0.15);\n",
              "      fill: #174EA6;\n",
              "    }\n",
              "\n",
              "    [theme=dark] .colab-df-convert {\n",
              "      background-color: #3B4455;\n",
              "      fill: #D2E3FC;\n",
              "    }\n",
              "\n",
              "    [theme=dark] .colab-df-convert:hover {\n",
              "      background-color: #434B5C;\n",
              "      box-shadow: 0px 1px 3px 1px rgba(0, 0, 0, 0.15);\n",
              "      filter: drop-shadow(0px 1px 2px rgba(0, 0, 0, 0.3));\n",
              "      fill: #FFFFFF;\n",
              "    }\n",
              "  </style>\n",
              "\n",
              "      <script>\n",
              "        const buttonEl =\n",
              "          document.querySelector('#df-a11fd073-7616-4491-9d9b-2f8c4954b1c7 button.colab-df-convert');\n",
              "        buttonEl.style.display =\n",
              "          google.colab.kernel.accessAllowed ? 'block' : 'none';\n",
              "\n",
              "        async function convertToInteractive(key) {\n",
              "          const element = document.querySelector('#df-a11fd073-7616-4491-9d9b-2f8c4954b1c7');\n",
              "          const dataTable =\n",
              "            await google.colab.kernel.invokeFunction('convertToInteractive',\n",
              "                                                     [key], {});\n",
              "          if (!dataTable) return;\n",
              "\n",
              "          const docLinkHtml = 'Like what you see? Visit the ' +\n",
              "            '<a target=\"_blank\" href=https://colab.research.google.com/notebooks/data_table.ipynb>data table notebook</a>'\n",
              "            + ' to learn more about interactive tables.';\n",
              "          element.innerHTML = '';\n",
              "          dataTable['output_type'] = 'display_data';\n",
              "          await google.colab.output.renderOutput(dataTable, element);\n",
              "          const docLink = document.createElement('div');\n",
              "          docLink.innerHTML = docLinkHtml;\n",
              "          element.appendChild(docLink);\n",
              "        }\n",
              "      </script>\n",
              "    </div>\n",
              "  </div>\n",
              "  "
            ]
          },
          "metadata": {},
          "execution_count": 6
        }
      ],
      "source": [
        "round(tel_data.describe(), 2) "
      ]
    },
    {
      "cell_type": "code",
      "execution_count": null,
      "metadata": {
        "colab": {
          "base_uri": "https://localhost:8080/",
          "height": 36
        },
        "id": "134zudmrzfC0",
        "outputId": "a5c15951-ed92-4852-cf4c-3a00d246b729"
      },
      "outputs": [
        {
          "output_type": "execute_result",
          "data": {
            "text/plain": [
              "'2019-08-02 00:00:00+03:00'"
            ],
            "application/vnd.google.colaboratory.intrinsic+json": {
              "type": "string"
            }
          },
          "metadata": {},
          "execution_count": 7
        }
      ],
      "source": [
        "tel_data['date'].min()"
      ]
    },
    {
      "cell_type": "code",
      "execution_count": null,
      "metadata": {
        "colab": {
          "base_uri": "https://localhost:8080/",
          "height": 36
        },
        "id": "4qMuLOuKzjUa",
        "outputId": "35c346b3-d751-4805-985b-3d693e56f0b5"
      },
      "outputs": [
        {
          "output_type": "execute_result",
          "data": {
            "text/plain": [
              "'2019-11-28 00:00:00+03:00'"
            ],
            "application/vnd.google.colaboratory.intrinsic+json": {
              "type": "string"
            }
          },
          "metadata": {},
          "execution_count": 8
        }
      ],
      "source": [
        "tel_data['date'].max()"
      ]
    },
    {
      "cell_type": "markdown",
      "metadata": {
        "id": "QJqdHXWxzYlC"
      },
      "source": [
        "У нас есть данные с 2 августа 2019 года по 28 ноября 2019 года."
      ]
    },
    {
      "cell_type": "code",
      "execution_count": null,
      "metadata": {
        "colab": {
          "base_uri": "https://localhost:8080/"
        },
        "id": "wb9lBr1tahJu",
        "outputId": "b8d77829-13ff-4ec4-bf75-3b4dfba9f11c"
      },
      "outputs": [
        {
          "output_type": "stream",
          "name": "stdout",
          "text": [
            "<class 'pandas.core.frame.DataFrame'>\n",
            "RangeIndex: 732 entries, 0 to 731\n",
            "Data columns (total 3 columns):\n",
            " #   Column       Non-Null Count  Dtype \n",
            "---  ------       --------------  ----- \n",
            " 0   user_id      732 non-null    int64 \n",
            " 1   tariff_plan  732 non-null    object\n",
            " 2   date_start   732 non-null    object\n",
            "dtypes: int64(1), object(2)\n",
            "memory usage: 17.3+ KB\n"
          ]
        }
      ],
      "source": [
        "tel_cl.info()"
      ]
    },
    {
      "cell_type": "code",
      "execution_count": null,
      "metadata": {
        "colab": {
          "base_uri": "https://localhost:8080/",
          "height": 206
        },
        "id": "uIdojKWrzRJZ",
        "outputId": "42233284-efcf-4f3d-aab0-d75797f449cc"
      },
      "outputs": [
        {
          "output_type": "execute_result",
          "data": {
            "text/plain": [
              "   user_id tariff_plan  date_start\n",
              "0   166713           A  2019-08-15\n",
              "1   166901           A  2019-08-23\n",
              "2   168527           A  2019-10-29\n",
              "3   167097           A  2019-09-01\n",
              "4   168193           A  2019-10-16"
            ],
            "text/html": [
              "\n",
              "  <div id=\"df-806a7303-28f0-4f80-b1b8-30a44bb893ab\">\n",
              "    <div class=\"colab-df-container\">\n",
              "      <div>\n",
              "<style scoped>\n",
              "    .dataframe tbody tr th:only-of-type {\n",
              "        vertical-align: middle;\n",
              "    }\n",
              "\n",
              "    .dataframe tbody tr th {\n",
              "        vertical-align: top;\n",
              "    }\n",
              "\n",
              "    .dataframe thead th {\n",
              "        text-align: right;\n",
              "    }\n",
              "</style>\n",
              "<table border=\"1\" class=\"dataframe\">\n",
              "  <thead>\n",
              "    <tr style=\"text-align: right;\">\n",
              "      <th></th>\n",
              "      <th>user_id</th>\n",
              "      <th>tariff_plan</th>\n",
              "      <th>date_start</th>\n",
              "    </tr>\n",
              "  </thead>\n",
              "  <tbody>\n",
              "    <tr>\n",
              "      <th>0</th>\n",
              "      <td>166713</td>\n",
              "      <td>A</td>\n",
              "      <td>2019-08-15</td>\n",
              "    </tr>\n",
              "    <tr>\n",
              "      <th>1</th>\n",
              "      <td>166901</td>\n",
              "      <td>A</td>\n",
              "      <td>2019-08-23</td>\n",
              "    </tr>\n",
              "    <tr>\n",
              "      <th>2</th>\n",
              "      <td>168527</td>\n",
              "      <td>A</td>\n",
              "      <td>2019-10-29</td>\n",
              "    </tr>\n",
              "    <tr>\n",
              "      <th>3</th>\n",
              "      <td>167097</td>\n",
              "      <td>A</td>\n",
              "      <td>2019-09-01</td>\n",
              "    </tr>\n",
              "    <tr>\n",
              "      <th>4</th>\n",
              "      <td>168193</td>\n",
              "      <td>A</td>\n",
              "      <td>2019-10-16</td>\n",
              "    </tr>\n",
              "  </tbody>\n",
              "</table>\n",
              "</div>\n",
              "      <button class=\"colab-df-convert\" onclick=\"convertToInteractive('df-806a7303-28f0-4f80-b1b8-30a44bb893ab')\"\n",
              "              title=\"Convert this dataframe to an interactive table.\"\n",
              "              style=\"display:none;\">\n",
              "        \n",
              "  <svg xmlns=\"http://www.w3.org/2000/svg\" height=\"24px\"viewBox=\"0 0 24 24\"\n",
              "       width=\"24px\">\n",
              "    <path d=\"M0 0h24v24H0V0z\" fill=\"none\"/>\n",
              "    <path d=\"M18.56 5.44l.94 2.06.94-2.06 2.06-.94-2.06-.94-.94-2.06-.94 2.06-2.06.94zm-11 1L8.5 8.5l.94-2.06 2.06-.94-2.06-.94L8.5 2.5l-.94 2.06-2.06.94zm10 10l.94 2.06.94-2.06 2.06-.94-2.06-.94-.94-2.06-.94 2.06-2.06.94z\"/><path d=\"M17.41 7.96l-1.37-1.37c-.4-.4-.92-.59-1.43-.59-.52 0-1.04.2-1.43.59L10.3 9.45l-7.72 7.72c-.78.78-.78 2.05 0 2.83L4 21.41c.39.39.9.59 1.41.59.51 0 1.02-.2 1.41-.59l7.78-7.78 2.81-2.81c.8-.78.8-2.07 0-2.86zM5.41 20L4 18.59l7.72-7.72 1.47 1.35L5.41 20z\"/>\n",
              "  </svg>\n",
              "      </button>\n",
              "      \n",
              "  <style>\n",
              "    .colab-df-container {\n",
              "      display:flex;\n",
              "      flex-wrap:wrap;\n",
              "      gap: 12px;\n",
              "    }\n",
              "\n",
              "    .colab-df-convert {\n",
              "      background-color: #E8F0FE;\n",
              "      border: none;\n",
              "      border-radius: 50%;\n",
              "      cursor: pointer;\n",
              "      display: none;\n",
              "      fill: #1967D2;\n",
              "      height: 32px;\n",
              "      padding: 0 0 0 0;\n",
              "      width: 32px;\n",
              "    }\n",
              "\n",
              "    .colab-df-convert:hover {\n",
              "      background-color: #E2EBFA;\n",
              "      box-shadow: 0px 1px 2px rgba(60, 64, 67, 0.3), 0px 1px 3px 1px rgba(60, 64, 67, 0.15);\n",
              "      fill: #174EA6;\n",
              "    }\n",
              "\n",
              "    [theme=dark] .colab-df-convert {\n",
              "      background-color: #3B4455;\n",
              "      fill: #D2E3FC;\n",
              "    }\n",
              "\n",
              "    [theme=dark] .colab-df-convert:hover {\n",
              "      background-color: #434B5C;\n",
              "      box-shadow: 0px 1px 3px 1px rgba(0, 0, 0, 0.15);\n",
              "      filter: drop-shadow(0px 1px 2px rgba(0, 0, 0, 0.3));\n",
              "      fill: #FFFFFF;\n",
              "    }\n",
              "  </style>\n",
              "\n",
              "      <script>\n",
              "        const buttonEl =\n",
              "          document.querySelector('#df-806a7303-28f0-4f80-b1b8-30a44bb893ab button.colab-df-convert');\n",
              "        buttonEl.style.display =\n",
              "          google.colab.kernel.accessAllowed ? 'block' : 'none';\n",
              "\n",
              "        async function convertToInteractive(key) {\n",
              "          const element = document.querySelector('#df-806a7303-28f0-4f80-b1b8-30a44bb893ab');\n",
              "          const dataTable =\n",
              "            await google.colab.kernel.invokeFunction('convertToInteractive',\n",
              "                                                     [key], {});\n",
              "          if (!dataTable) return;\n",
              "\n",
              "          const docLinkHtml = 'Like what you see? Visit the ' +\n",
              "            '<a target=\"_blank\" href=https://colab.research.google.com/notebooks/data_table.ipynb>data table notebook</a>'\n",
              "            + ' to learn more about interactive tables.';\n",
              "          element.innerHTML = '';\n",
              "          dataTable['output_type'] = 'display_data';\n",
              "          await google.colab.output.renderOutput(dataTable, element);\n",
              "          const docLink = document.createElement('div');\n",
              "          docLink.innerHTML = docLinkHtml;\n",
              "          element.appendChild(docLink);\n",
              "        }\n",
              "      </script>\n",
              "    </div>\n",
              "  </div>\n",
              "  "
            ]
          },
          "metadata": {},
          "execution_count": 10
        }
      ],
      "source": [
        "tel_cl.head()"
      ]
    },
    {
      "cell_type": "code",
      "execution_count": null,
      "metadata": {
        "colab": {
          "base_uri": "https://localhost:8080/",
          "height": 36
        },
        "id": "7yTawc0KztOU",
        "outputId": "194f4459-8627-482e-ef59-f0d021e3978f"
      },
      "outputs": [
        {
          "output_type": "execute_result",
          "data": {
            "text/plain": [
              "'2019-08-01'"
            ],
            "application/vnd.google.colaboratory.intrinsic+json": {
              "type": "string"
            }
          },
          "metadata": {},
          "execution_count": 11
        }
      ],
      "source": [
        "tel_cl.date_start.min()"
      ]
    },
    {
      "cell_type": "code",
      "execution_count": null,
      "metadata": {
        "colab": {
          "base_uri": "https://localhost:8080/",
          "height": 36
        },
        "id": "dVPZ7jdIz16P",
        "outputId": "81a1c8c4-af08-4358-8ae1-2e9196e63bf8"
      },
      "outputs": [
        {
          "output_type": "execute_result",
          "data": {
            "text/plain": [
              "'2019-10-31'"
            ],
            "application/vnd.google.colaboratory.intrinsic+json": {
              "type": "string"
            }
          },
          "metadata": {},
          "execution_count": 12
        }
      ],
      "source": [
        "tel_cl.date_start.max()"
      ]
    },
    {
      "cell_type": "markdown",
      "metadata": {
        "id": "1fcNrZMhz6un"
      },
      "source": [
        "В таблице с тарифами пропусков нет, данные с 1 августа по 31 октября. Столбец с датой необходимо перевести в формат datatime"
      ]
    },
    {
      "cell_type": "markdown",
      "metadata": {
        "id": "fevmor7esnsG"
      },
      "source": [
        "**Вывод по разделу**\n",
        "\n",
        "У нас есть данные для каждого оператора, который работает на какого-либо из наших клиетов сформированные по дням и типам звонков.\n",
        "\n",
        "Данные с 1 августа по 31 октября 2019 года, всего 53902 строк. \n",
        "\n",
        "Также есть данные о тарифе клиента и дате его подключения.\n",
        "\n",
        "Предварительно можно утверждать, что, данных достаточно для ответа на поставленные вопросы. Но встречаются пропуски в данных, в столбцах с идентификатором оператора и направлением звонков. \n",
        "\n",
        "Типы столбцов с датами не соответсвуют типу данных.\n",
        " "
      ]
    },
    {
      "cell_type": "markdown",
      "metadata": {
        "id": "aiy2nOJXTAkg"
      },
      "source": [
        "## Предобработка данных"
      ]
    },
    {
      "cell_type": "markdown",
      "metadata": {
        "id": "8ZPxcE5EpwpN"
      },
      "source": [
        "### Изменим тип данных в столбцах. "
      ]
    },
    {
      "cell_type": "markdown",
      "metadata": {
        "id": "fZmJAnteTGwy"
      },
      "source": [
        "В столбце дата у нас указано время и часовой пояс, но они все одинаковые. Уберем эту часть, оставим только дату и переведем ее в тип данных datetime"
      ]
    },
    {
      "cell_type": "code",
      "execution_count": null,
      "metadata": {
        "id": "pD3d-6PMbP8-"
      },
      "outputs": [],
      "source": [
        "tel_data['date'] = tel_data['date'].str.split(' ').str[0]\n",
        "\n",
        "tel_data['date'] = pd.to_datetime(tel_data['date'], format='%Y-%m-%d')"
      ]
    },
    {
      "cell_type": "markdown",
      "metadata": {
        "id": "o5wXkV25zlCR"
      },
      "source": [
        ""
      ]
    },
    {
      "cell_type": "code",
      "execution_count": null,
      "metadata": {
        "id": "yyZhNggbzIQN"
      },
      "outputs": [],
      "source": [
        "tel_cl['date_start'] = pd.to_datetime(tel_cl['date_start'], format='%Y-%m-%d')"
      ]
    },
    {
      "cell_type": "markdown",
      "metadata": {
        "id": "-XpuX7zxTZWV"
      },
      "source": [
        "Заменим строковые значения, на цифровые обозначения и приведем к типу int колонку direction"
      ]
    },
    {
      "cell_type": "code",
      "execution_count": null,
      "metadata": {
        "id": "1wfFs1i4buIh"
      },
      "outputs": [],
      "source": [
        "tel_data['direction'] = tel_data['direction'].replace('out', 0)"
      ]
    },
    {
      "cell_type": "code",
      "execution_count": null,
      "metadata": {
        "id": "whw21D3xNy7w"
      },
      "outputs": [],
      "source": [
        "tel_data['direction'] = tel_data['direction'].replace('in', 1)"
      ]
    },
    {
      "cell_type": "code",
      "execution_count": null,
      "metadata": {
        "colab": {
          "base_uri": "https://localhost:8080/"
        },
        "id": "tCVAu_vgOeIy",
        "outputId": "9dbf35f9-3930-4128-f10d-2896219eb6de"
      },
      "outputs": [
        {
          "output_type": "execute_result",
          "data": {
            "text/plain": [
              "array([1, 0], dtype=int8)"
            ]
          },
          "metadata": {},
          "execution_count": 17
        }
      ],
      "source": [
        "tel_data['direction'] = tel_data['direction'].astype('int8')\n",
        "tel_data['direction'].unique()"
      ]
    },
    {
      "cell_type": "markdown",
      "metadata": {
        "id": "wtwFcp7jp3UJ"
      },
      "source": [
        "### Обработаем пропущенные значения"
      ]
    },
    {
      "cell_type": "markdown",
      "metadata": {
        "id": "_gCNxznnTpDf"
      },
      "source": [
        "Изучим пропущенные данные в столбце оператор"
      ]
    },
    {
      "cell_type": "code",
      "execution_count": null,
      "metadata": {
        "colab": {
          "base_uri": "https://localhost:8080/",
          "height": 363
        },
        "id": "_e1B1L2uTwjB",
        "outputId": "26e477f8-200d-4a92-9ad7-26f4f2bc23ed"
      },
      "outputs": [
        {
          "output_type": "execute_result",
          "data": {
            "text/plain": [
              "       user_id       date  direction internal  operator_id  is_missed_call  \\\n",
              "13742   166800 2019-11-15          1    False          NaN            True   \n",
              "30137   167285 2019-10-09          0    False          NaN            True   \n",
              "22718   167071 2019-10-05          1    False          NaN            True   \n",
              "27083   167172 2019-11-01          1    False          NaN            True   \n",
              "28060   167176 2019-11-12          1    False          NaN            True   \n",
              "37956   167650 2019-09-26          1    False          NaN            True   \n",
              "41909   167906 2019-10-07          1    False          NaN            True   \n",
              "39053   167664 2019-10-27          1    False          NaN            True   \n",
              "5889    166536 2019-10-22          1    False          NaN            True   \n",
              "21900   167052 2019-10-05          1    False          NaN            True   \n",
              "\n",
              "       calls_count  call_duration  total_call_duration  \n",
              "13742            2              0                   36  \n",
              "30137            2              0                    0  \n",
              "22718           20              0                  712  \n",
              "27083            3              0                  127  \n",
              "28060            3              0                  312  \n",
              "37956            2              0                   35  \n",
              "41909            1              0                    0  \n",
              "39053            2              0                    4  \n",
              "5889             2              0                   95  \n",
              "21900           14              0                  147  "
            ],
            "text/html": [
              "\n",
              "  <div id=\"df-5416594e-367d-475a-a983-b3569a95abb8\">\n",
              "    <div class=\"colab-df-container\">\n",
              "      <div>\n",
              "<style scoped>\n",
              "    .dataframe tbody tr th:only-of-type {\n",
              "        vertical-align: middle;\n",
              "    }\n",
              "\n",
              "    .dataframe tbody tr th {\n",
              "        vertical-align: top;\n",
              "    }\n",
              "\n",
              "    .dataframe thead th {\n",
              "        text-align: right;\n",
              "    }\n",
              "</style>\n",
              "<table border=\"1\" class=\"dataframe\">\n",
              "  <thead>\n",
              "    <tr style=\"text-align: right;\">\n",
              "      <th></th>\n",
              "      <th>user_id</th>\n",
              "      <th>date</th>\n",
              "      <th>direction</th>\n",
              "      <th>internal</th>\n",
              "      <th>operator_id</th>\n",
              "      <th>is_missed_call</th>\n",
              "      <th>calls_count</th>\n",
              "      <th>call_duration</th>\n",
              "      <th>total_call_duration</th>\n",
              "    </tr>\n",
              "  </thead>\n",
              "  <tbody>\n",
              "    <tr>\n",
              "      <th>13742</th>\n",
              "      <td>166800</td>\n",
              "      <td>2019-11-15</td>\n",
              "      <td>1</td>\n",
              "      <td>False</td>\n",
              "      <td>NaN</td>\n",
              "      <td>True</td>\n",
              "      <td>2</td>\n",
              "      <td>0</td>\n",
              "      <td>36</td>\n",
              "    </tr>\n",
              "    <tr>\n",
              "      <th>30137</th>\n",
              "      <td>167285</td>\n",
              "      <td>2019-10-09</td>\n",
              "      <td>0</td>\n",
              "      <td>False</td>\n",
              "      <td>NaN</td>\n",
              "      <td>True</td>\n",
              "      <td>2</td>\n",
              "      <td>0</td>\n",
              "      <td>0</td>\n",
              "    </tr>\n",
              "    <tr>\n",
              "      <th>22718</th>\n",
              "      <td>167071</td>\n",
              "      <td>2019-10-05</td>\n",
              "      <td>1</td>\n",
              "      <td>False</td>\n",
              "      <td>NaN</td>\n",
              "      <td>True</td>\n",
              "      <td>20</td>\n",
              "      <td>0</td>\n",
              "      <td>712</td>\n",
              "    </tr>\n",
              "    <tr>\n",
              "      <th>27083</th>\n",
              "      <td>167172</td>\n",
              "      <td>2019-11-01</td>\n",
              "      <td>1</td>\n",
              "      <td>False</td>\n",
              "      <td>NaN</td>\n",
              "      <td>True</td>\n",
              "      <td>3</td>\n",
              "      <td>0</td>\n",
              "      <td>127</td>\n",
              "    </tr>\n",
              "    <tr>\n",
              "      <th>28060</th>\n",
              "      <td>167176</td>\n",
              "      <td>2019-11-12</td>\n",
              "      <td>1</td>\n",
              "      <td>False</td>\n",
              "      <td>NaN</td>\n",
              "      <td>True</td>\n",
              "      <td>3</td>\n",
              "      <td>0</td>\n",
              "      <td>312</td>\n",
              "    </tr>\n",
              "    <tr>\n",
              "      <th>37956</th>\n",
              "      <td>167650</td>\n",
              "      <td>2019-09-26</td>\n",
              "      <td>1</td>\n",
              "      <td>False</td>\n",
              "      <td>NaN</td>\n",
              "      <td>True</td>\n",
              "      <td>2</td>\n",
              "      <td>0</td>\n",
              "      <td>35</td>\n",
              "    </tr>\n",
              "    <tr>\n",
              "      <th>41909</th>\n",
              "      <td>167906</td>\n",
              "      <td>2019-10-07</td>\n",
              "      <td>1</td>\n",
              "      <td>False</td>\n",
              "      <td>NaN</td>\n",
              "      <td>True</td>\n",
              "      <td>1</td>\n",
              "      <td>0</td>\n",
              "      <td>0</td>\n",
              "    </tr>\n",
              "    <tr>\n",
              "      <th>39053</th>\n",
              "      <td>167664</td>\n",
              "      <td>2019-10-27</td>\n",
              "      <td>1</td>\n",
              "      <td>False</td>\n",
              "      <td>NaN</td>\n",
              "      <td>True</td>\n",
              "      <td>2</td>\n",
              "      <td>0</td>\n",
              "      <td>4</td>\n",
              "    </tr>\n",
              "    <tr>\n",
              "      <th>5889</th>\n",
              "      <td>166536</td>\n",
              "      <td>2019-10-22</td>\n",
              "      <td>1</td>\n",
              "      <td>False</td>\n",
              "      <td>NaN</td>\n",
              "      <td>True</td>\n",
              "      <td>2</td>\n",
              "      <td>0</td>\n",
              "      <td>95</td>\n",
              "    </tr>\n",
              "    <tr>\n",
              "      <th>21900</th>\n",
              "      <td>167052</td>\n",
              "      <td>2019-10-05</td>\n",
              "      <td>1</td>\n",
              "      <td>False</td>\n",
              "      <td>NaN</td>\n",
              "      <td>True</td>\n",
              "      <td>14</td>\n",
              "      <td>0</td>\n",
              "      <td>147</td>\n",
              "    </tr>\n",
              "  </tbody>\n",
              "</table>\n",
              "</div>\n",
              "      <button class=\"colab-df-convert\" onclick=\"convertToInteractive('df-5416594e-367d-475a-a983-b3569a95abb8')\"\n",
              "              title=\"Convert this dataframe to an interactive table.\"\n",
              "              style=\"display:none;\">\n",
              "        \n",
              "  <svg xmlns=\"http://www.w3.org/2000/svg\" height=\"24px\"viewBox=\"0 0 24 24\"\n",
              "       width=\"24px\">\n",
              "    <path d=\"M0 0h24v24H0V0z\" fill=\"none\"/>\n",
              "    <path d=\"M18.56 5.44l.94 2.06.94-2.06 2.06-.94-2.06-.94-.94-2.06-.94 2.06-2.06.94zm-11 1L8.5 8.5l.94-2.06 2.06-.94-2.06-.94L8.5 2.5l-.94 2.06-2.06.94zm10 10l.94 2.06.94-2.06 2.06-.94-2.06-.94-.94-2.06-.94 2.06-2.06.94z\"/><path d=\"M17.41 7.96l-1.37-1.37c-.4-.4-.92-.59-1.43-.59-.52 0-1.04.2-1.43.59L10.3 9.45l-7.72 7.72c-.78.78-.78 2.05 0 2.83L4 21.41c.39.39.9.59 1.41.59.51 0 1.02-.2 1.41-.59l7.78-7.78 2.81-2.81c.8-.78.8-2.07 0-2.86zM5.41 20L4 18.59l7.72-7.72 1.47 1.35L5.41 20z\"/>\n",
              "  </svg>\n",
              "      </button>\n",
              "      \n",
              "  <style>\n",
              "    .colab-df-container {\n",
              "      display:flex;\n",
              "      flex-wrap:wrap;\n",
              "      gap: 12px;\n",
              "    }\n",
              "\n",
              "    .colab-df-convert {\n",
              "      background-color: #E8F0FE;\n",
              "      border: none;\n",
              "      border-radius: 50%;\n",
              "      cursor: pointer;\n",
              "      display: none;\n",
              "      fill: #1967D2;\n",
              "      height: 32px;\n",
              "      padding: 0 0 0 0;\n",
              "      width: 32px;\n",
              "    }\n",
              "\n",
              "    .colab-df-convert:hover {\n",
              "      background-color: #E2EBFA;\n",
              "      box-shadow: 0px 1px 2px rgba(60, 64, 67, 0.3), 0px 1px 3px 1px rgba(60, 64, 67, 0.15);\n",
              "      fill: #174EA6;\n",
              "    }\n",
              "\n",
              "    [theme=dark] .colab-df-convert {\n",
              "      background-color: #3B4455;\n",
              "      fill: #D2E3FC;\n",
              "    }\n",
              "\n",
              "    [theme=dark] .colab-df-convert:hover {\n",
              "      background-color: #434B5C;\n",
              "      box-shadow: 0px 1px 3px 1px rgba(0, 0, 0, 0.15);\n",
              "      filter: drop-shadow(0px 1px 2px rgba(0, 0, 0, 0.3));\n",
              "      fill: #FFFFFF;\n",
              "    }\n",
              "  </style>\n",
              "\n",
              "      <script>\n",
              "        const buttonEl =\n",
              "          document.querySelector('#df-5416594e-367d-475a-a983-b3569a95abb8 button.colab-df-convert');\n",
              "        buttonEl.style.display =\n",
              "          google.colab.kernel.accessAllowed ? 'block' : 'none';\n",
              "\n",
              "        async function convertToInteractive(key) {\n",
              "          const element = document.querySelector('#df-5416594e-367d-475a-a983-b3569a95abb8');\n",
              "          const dataTable =\n",
              "            await google.colab.kernel.invokeFunction('convertToInteractive',\n",
              "                                                     [key], {});\n",
              "          if (!dataTable) return;\n",
              "\n",
              "          const docLinkHtml = 'Like what you see? Visit the ' +\n",
              "            '<a target=\"_blank\" href=https://colab.research.google.com/notebooks/data_table.ipynb>data table notebook</a>'\n",
              "            + ' to learn more about interactive tables.';\n",
              "          element.innerHTML = '';\n",
              "          dataTable['output_type'] = 'display_data';\n",
              "          await google.colab.output.renderOutput(dataTable, element);\n",
              "          const docLink = document.createElement('div');\n",
              "          docLink.innerHTML = docLinkHtml;\n",
              "          element.appendChild(docLink);\n",
              "        }\n",
              "      </script>\n",
              "    </div>\n",
              "  </div>\n",
              "  "
            ]
          },
          "metadata": {},
          "execution_count": 18
        }
      ],
      "source": [
        "tel_nul = tel_data[tel_data['operator_id'].isnull() == True]\n",
        "tel_nul.sample(10)"
      ]
    },
    {
      "cell_type": "code",
      "execution_count": null,
      "metadata": {
        "colab": {
          "base_uri": "https://localhost:8080/",
          "height": 394
        },
        "id": "W8Vvxo4msnsM",
        "outputId": "33c9c746-900e-43f8-da71-115ed7785a57"
      },
      "outputs": [
        {
          "output_type": "execute_result",
          "data": {
            "text/plain": [
              "         calls_count\n",
              "user_id             \n",
              "168252           145\n",
              "166405           122\n",
              "166582           118\n",
              "166782           117\n",
              "166658           111\n",
              "166983            96\n",
              "166916            92\n",
              "166541            89\n",
              "166485            89\n",
              "166520            86"
            ],
            "text/html": [
              "\n",
              "  <div id=\"df-743b2cfa-8f0f-4b4a-bc8e-db21315e4dc4\">\n",
              "    <div class=\"colab-df-container\">\n",
              "      <div>\n",
              "<style scoped>\n",
              "    .dataframe tbody tr th:only-of-type {\n",
              "        vertical-align: middle;\n",
              "    }\n",
              "\n",
              "    .dataframe tbody tr th {\n",
              "        vertical-align: top;\n",
              "    }\n",
              "\n",
              "    .dataframe thead th {\n",
              "        text-align: right;\n",
              "    }\n",
              "</style>\n",
              "<table border=\"1\" class=\"dataframe\">\n",
              "  <thead>\n",
              "    <tr style=\"text-align: right;\">\n",
              "      <th></th>\n",
              "      <th>calls_count</th>\n",
              "    </tr>\n",
              "    <tr>\n",
              "      <th>user_id</th>\n",
              "      <th></th>\n",
              "    </tr>\n",
              "  </thead>\n",
              "  <tbody>\n",
              "    <tr>\n",
              "      <th>168252</th>\n",
              "      <td>145</td>\n",
              "    </tr>\n",
              "    <tr>\n",
              "      <th>166405</th>\n",
              "      <td>122</td>\n",
              "    </tr>\n",
              "    <tr>\n",
              "      <th>166582</th>\n",
              "      <td>118</td>\n",
              "    </tr>\n",
              "    <tr>\n",
              "      <th>166782</th>\n",
              "      <td>117</td>\n",
              "    </tr>\n",
              "    <tr>\n",
              "      <th>166658</th>\n",
              "      <td>111</td>\n",
              "    </tr>\n",
              "    <tr>\n",
              "      <th>166983</th>\n",
              "      <td>96</td>\n",
              "    </tr>\n",
              "    <tr>\n",
              "      <th>166916</th>\n",
              "      <td>92</td>\n",
              "    </tr>\n",
              "    <tr>\n",
              "      <th>166541</th>\n",
              "      <td>89</td>\n",
              "    </tr>\n",
              "    <tr>\n",
              "      <th>166485</th>\n",
              "      <td>89</td>\n",
              "    </tr>\n",
              "    <tr>\n",
              "      <th>166520</th>\n",
              "      <td>86</td>\n",
              "    </tr>\n",
              "  </tbody>\n",
              "</table>\n",
              "</div>\n",
              "      <button class=\"colab-df-convert\" onclick=\"convertToInteractive('df-743b2cfa-8f0f-4b4a-bc8e-db21315e4dc4')\"\n",
              "              title=\"Convert this dataframe to an interactive table.\"\n",
              "              style=\"display:none;\">\n",
              "        \n",
              "  <svg xmlns=\"http://www.w3.org/2000/svg\" height=\"24px\"viewBox=\"0 0 24 24\"\n",
              "       width=\"24px\">\n",
              "    <path d=\"M0 0h24v24H0V0z\" fill=\"none\"/>\n",
              "    <path d=\"M18.56 5.44l.94 2.06.94-2.06 2.06-.94-2.06-.94-.94-2.06-.94 2.06-2.06.94zm-11 1L8.5 8.5l.94-2.06 2.06-.94-2.06-.94L8.5 2.5l-.94 2.06-2.06.94zm10 10l.94 2.06.94-2.06 2.06-.94-2.06-.94-.94-2.06-.94 2.06-2.06.94z\"/><path d=\"M17.41 7.96l-1.37-1.37c-.4-.4-.92-.59-1.43-.59-.52 0-1.04.2-1.43.59L10.3 9.45l-7.72 7.72c-.78.78-.78 2.05 0 2.83L4 21.41c.39.39.9.59 1.41.59.51 0 1.02-.2 1.41-.59l7.78-7.78 2.81-2.81c.8-.78.8-2.07 0-2.86zM5.41 20L4 18.59l7.72-7.72 1.47 1.35L5.41 20z\"/>\n",
              "  </svg>\n",
              "      </button>\n",
              "      \n",
              "  <style>\n",
              "    .colab-df-container {\n",
              "      display:flex;\n",
              "      flex-wrap:wrap;\n",
              "      gap: 12px;\n",
              "    }\n",
              "\n",
              "    .colab-df-convert {\n",
              "      background-color: #E8F0FE;\n",
              "      border: none;\n",
              "      border-radius: 50%;\n",
              "      cursor: pointer;\n",
              "      display: none;\n",
              "      fill: #1967D2;\n",
              "      height: 32px;\n",
              "      padding: 0 0 0 0;\n",
              "      width: 32px;\n",
              "    }\n",
              "\n",
              "    .colab-df-convert:hover {\n",
              "      background-color: #E2EBFA;\n",
              "      box-shadow: 0px 1px 2px rgba(60, 64, 67, 0.3), 0px 1px 3px 1px rgba(60, 64, 67, 0.15);\n",
              "      fill: #174EA6;\n",
              "    }\n",
              "\n",
              "    [theme=dark] .colab-df-convert {\n",
              "      background-color: #3B4455;\n",
              "      fill: #D2E3FC;\n",
              "    }\n",
              "\n",
              "    [theme=dark] .colab-df-convert:hover {\n",
              "      background-color: #434B5C;\n",
              "      box-shadow: 0px 1px 3px 1px rgba(0, 0, 0, 0.15);\n",
              "      filter: drop-shadow(0px 1px 2px rgba(0, 0, 0, 0.3));\n",
              "      fill: #FFFFFF;\n",
              "    }\n",
              "  </style>\n",
              "\n",
              "      <script>\n",
              "        const buttonEl =\n",
              "          document.querySelector('#df-743b2cfa-8f0f-4b4a-bc8e-db21315e4dc4 button.colab-df-convert');\n",
              "        buttonEl.style.display =\n",
              "          google.colab.kernel.accessAllowed ? 'block' : 'none';\n",
              "\n",
              "        async function convertToInteractive(key) {\n",
              "          const element = document.querySelector('#df-743b2cfa-8f0f-4b4a-bc8e-db21315e4dc4');\n",
              "          const dataTable =\n",
              "            await google.colab.kernel.invokeFunction('convertToInteractive',\n",
              "                                                     [key], {});\n",
              "          if (!dataTable) return;\n",
              "\n",
              "          const docLinkHtml = 'Like what you see? Visit the ' +\n",
              "            '<a target=\"_blank\" href=https://colab.research.google.com/notebooks/data_table.ipynb>data table notebook</a>'\n",
              "            + ' to learn more about interactive tables.';\n",
              "          element.innerHTML = '';\n",
              "          dataTable['output_type'] = 'display_data';\n",
              "          await google.colab.output.renderOutput(dataTable, element);\n",
              "          const docLink = document.createElement('div');\n",
              "          docLink.innerHTML = docLinkHtml;\n",
              "          element.appendChild(docLink);\n",
              "        }\n",
              "      </script>\n",
              "    </div>\n",
              "  </div>\n",
              "  "
            ]
          },
          "metadata": {},
          "execution_count": 19
        }
      ],
      "source": [
        "tel_nul.groupby('user_id').agg({'calls_count':'count'}).sort_values(by='calls_count', ascending=False).head(10)"
      ]
    },
    {
      "cell_type": "markdown",
      "metadata": {
        "id": "wJQsmU3LVlmn"
      },
      "source": [
        "Как мы видим почти всегда это пропущенные входящие звонки. Проверим долю входящих и долю пропущенных звонков в этой выборке"
      ]
    },
    {
      "cell_type": "code",
      "execution_count": null,
      "metadata": {
        "colab": {
          "base_uri": "https://localhost:8080/"
        },
        "id": "7vH7pYHTVUWw",
        "outputId": "fd398be1-8cc1-45f3-a14d-92be28240cde"
      },
      "outputs": [
        {
          "output_type": "execute_result",
          "data": {
            "text/plain": [
              "0.9850709740577582"
            ]
          },
          "metadata": {},
          "execution_count": 20
        }
      ],
      "source": [
        "tel_nul['is_missed_call'].mean()"
      ]
    },
    {
      "cell_type": "code",
      "execution_count": null,
      "metadata": {
        "colab": {
          "base_uri": "https://localhost:8080/"
        },
        "id": "oxgvR7JuVM7x",
        "outputId": "a2ddb381-8971-41b5-dc61-3b0bd36a56ab"
      },
      "outputs": [
        {
          "output_type": "execute_result",
          "data": {
            "text/plain": [
              "0.9755261869799314"
            ]
          },
          "metadata": {},
          "execution_count": 21
        }
      ],
      "source": [
        "tel_nul['direction'].mean()"
      ]
    },
    {
      "cell_type": "markdown",
      "metadata": {
        "id": "tq3GfuqQV4_J"
      },
      "source": [
        "Мы видим, что из этих 8 тыс строк 98% пропущенные вызовы и 97% входящие. \n",
        "\n",
        "Вероятнее всего это вызовы в кол-центрах в нерабочее время, которые не относятся никакому оператору и не должны были быть обработаны. \n",
        "\n",
        "Логично будет их не брать в исследование, чтобы они не влияли на общую статистику по клиентам и операторам.\n",
        "\n",
        "Удалим строки в которых оператор не установлен"
      ]
    },
    {
      "cell_type": "code",
      "execution_count": null,
      "metadata": {
        "id": "1JUuU0dQZBAn"
      },
      "outputs": [],
      "source": [
        "tel_data.dropna(subset = ['operator_id'], inplace=True)"
      ]
    },
    {
      "cell_type": "code",
      "execution_count": null,
      "metadata": {
        "id": "mvLK333ZbMEo"
      },
      "outputs": [],
      "source": [
        "tel_data['operator_id'] = tel_data['operator_id'].astype('int64')"
      ]
    },
    {
      "cell_type": "code",
      "execution_count": null,
      "metadata": {
        "colab": {
          "base_uri": "https://localhost:8080/"
        },
        "id": "aXuNsaEsZgxx",
        "outputId": "ddff0fae-b587-4f94-f566-aaadebe7142d"
      },
      "outputs": [
        {
          "output_type": "stream",
          "name": "stdout",
          "text": [
            "<class 'pandas.core.frame.DataFrame'>\n",
            "Int64Index: 45730 entries, 1 to 53900\n",
            "Data columns (total 9 columns):\n",
            " #   Column               Non-Null Count  Dtype         \n",
            "---  ------               --------------  -----         \n",
            " 0   user_id              45730 non-null  int64         \n",
            " 1   date                 45730 non-null  datetime64[ns]\n",
            " 2   direction            45730 non-null  int8          \n",
            " 3   internal             45670 non-null  object        \n",
            " 4   operator_id          45730 non-null  int64         \n",
            " 5   is_missed_call       45730 non-null  bool          \n",
            " 6   calls_count          45730 non-null  int64         \n",
            " 7   call_duration        45730 non-null  int64         \n",
            " 8   total_call_duration  45730 non-null  int64         \n",
            "dtypes: bool(1), datetime64[ns](1), int64(5), int8(1), object(1)\n",
            "memory usage: 2.9+ MB\n"
          ]
        }
      ],
      "source": [
        "tel_data.info()"
      ]
    },
    {
      "cell_type": "markdown",
      "metadata": {
        "id": "pVZ-no1fZurE"
      },
      "source": [
        "Остались еще пропуски в столбце internal. Выведем несколько строк с пропущенными значениями"
      ]
    },
    {
      "cell_type": "code",
      "execution_count": null,
      "metadata": {
        "colab": {
          "base_uri": "https://localhost:8080/",
          "height": 1000
        },
        "id": "IEr5-_dvYAQx",
        "outputId": "08b5e762-f4c2-4bda-cf89-8ee4dd172717"
      },
      "outputs": [
        {
          "output_type": "execute_result",
          "data": {
            "text/plain": [
              "       user_id       date  direction internal  operator_id  is_missed_call  \\\n",
              "1924    166406 2019-09-02          1      NaN       879898           False   \n",
              "6210    166541 2019-09-26          1      NaN       908960           False   \n",
              "6216    166541 2019-09-26          1      NaN       908958           False   \n",
              "7528    166604 2019-11-01          1      NaN       893402           False   \n",
              "8650    166658 2019-09-24          1      NaN       890404           False   \n",
              "9080    166658 2019-10-15          1      NaN       890404           False   \n",
              "16180   166916 2019-10-01          1      NaN       906396           False   \n",
              "16304   166916 2019-10-07          1      NaN       906406           False   \n",
              "16569   166916 2019-10-23          1      NaN       906400           False   \n",
              "18647   166983 2019-09-02          1      NaN       901880           False   \n",
              "19497   166983 2019-11-14          1      NaN       901880           False   \n",
              "19970   166997 2019-09-21          1      NaN       903312           False   \n",
              "20078   166997 2019-10-01          1      NaN       905432           False   \n",
              "20168   166997 2019-10-13          1      NaN       903312           False   \n",
              "21716   167035 2019-11-17          1      NaN       923526           False   \n",
              "23183   167078 2019-11-13          1      NaN       935348           False   \n",
              "23822   167109 2019-09-25          1      NaN       906294           False   \n",
              "29569   167246 2019-10-18          1      NaN       908082           False   \n",
              "29571   167246 2019-10-18          1      NaN       908082           False   \n",
              "29741   167264 2019-10-14          1      NaN       919554           False   \n",
              "29887   167264 2019-11-15          1      NaN       919552           False   \n",
              "29912   167264 2019-11-21          1      NaN       919552           False   \n",
              "29985   167272 2019-10-09          1      NaN       910018           False   \n",
              "29989   167272 2019-10-09          1      NaN       912684           False   \n",
              "29991   167272 2019-10-09          1      NaN       912684           False   \n",
              "30249   167286 2019-10-31          1      NaN       910540           False   \n",
              "32590   167466 2019-11-26          1      NaN       921818           False   \n",
              "35102   167521 2019-11-15          1      NaN       919790           False   \n",
              "35110   167521 2019-11-15          1      NaN       919790           False   \n",
              "35117   167521 2019-11-16          1      NaN       919790           False   \n",
              "35728   167534 2019-10-16          1      NaN       929332           False   \n",
              "36466   167626 2019-09-27          1      NaN       919204           False   \n",
              "36590   167626 2019-09-30          1      NaN       919206           False   \n",
              "36607   167626 2019-09-30          1      NaN       919164           False   \n",
              "36673   167626 2019-10-01          1      NaN       919204           False   \n",
              "36828   167626 2019-10-03          1      NaN       919164           False   \n",
              "37964   167650 2019-10-01          1      NaN       921318           False   \n",
              "38069   167650 2019-10-14          1      NaN       921318           False   \n",
              "38099   167650 2019-10-17          1      NaN       921318           False   \n",
              "38122   167650 2019-10-19          1      NaN       931458           False   \n",
              "38274   167650 2019-11-02          1      NaN       921318           False   \n",
              "38527   167650 2019-11-26          1      NaN       931458           False   \n",
              "40602   167827 2019-10-21          1      NaN       929424           False   \n",
              "41111   167828 2019-11-18          1      NaN       940430           False   \n",
              "41378   167852 2019-10-23          1      NaN       932798           False   \n",
              "41385   167852 2019-10-25          1      NaN       932798           False   \n",
              "41392   167852 2019-10-25          1      NaN       932798           False   \n",
              "41400   167852 2019-10-31          1      NaN       932798           False   \n",
              "41462   167870 2019-11-06          1      NaN       936110           False   \n",
              "43094   167977 2019-11-14          1      NaN       944222           False   \n",
              "43100   167977 2019-11-14          1      NaN       944220           False   \n",
              "43102   167977 2019-11-14          1      NaN       944220           False   \n",
              "43256   167977 2019-11-25          1      NaN       944216           False   \n",
              "43287   167977 2019-11-27          1      NaN       944220           False   \n",
              "44352   168041 2019-11-06          1      NaN       936514           False   \n",
              "46012   168091 2019-11-13          1      NaN       958460            True   \n",
              "50718   168252 2019-11-22          1      NaN       940658           False   \n",
              "51021   168253 2019-11-15          1      NaN       952948           False   \n",
              "51505   168307 2019-11-01          1      NaN       945046           False   \n",
              "53799   168598 2019-11-22          1      NaN       958394           False   \n",
              "\n",
              "       calls_count  call_duration  total_call_duration  \n",
              "1924             1              2                    9  \n",
              "6210             1            393                  423  \n",
              "6216             2            547                  612  \n",
              "7528             1             94                  117  \n",
              "8650             1            150                  157  \n",
              "9080             1             51                   57  \n",
              "16180            1            100                  117  \n",
              "16304            3            378                  461  \n",
              "16569            1             81                  110  \n",
              "18647            1            119                  127  \n",
              "19497            1            208                  210  \n",
              "19970            1             91                  107  \n",
              "20078            1            159                  164  \n",
              "20168            1             78                   82  \n",
              "21716            1             68                   77  \n",
              "23183            2             73                   84  \n",
              "23822            1             23                   27  \n",
              "29569            1              7                   21  \n",
              "29571            1              7                   21  \n",
              "29741            1            202                  243  \n",
              "29887            1            125                  158  \n",
              "29912            1             55                   80  \n",
              "29985            1            115                  135  \n",
              "29989            1            123                  175  \n",
              "29991            1            123                  175  \n",
              "30249            1             11                   30  \n",
              "32590            1             15                   81  \n",
              "35102            1             64                  104  \n",
              "35110            1             64                  104  \n",
              "35117            1             65                  105  \n",
              "35728            1              5                   18  \n",
              "36466            1             10                   15  \n",
              "36590            1             15                   19  \n",
              "36607            1             39                   43  \n",
              "36673            1             32                   36  \n",
              "36828            1             19                   25  \n",
              "37964            1            124                  131  \n",
              "38069            1            136                  145  \n",
              "38099            1            109                  116  \n",
              "38122            1             44                   57  \n",
              "38274            1             90                   99  \n",
              "38527            1             94                  101  \n",
              "40602            1             13                   14  \n",
              "41111            1            363                  364  \n",
              "41378            1             90                  100  \n",
              "41385            1             28                   39  \n",
              "41392            1             28                   39  \n",
              "41400            1             81                   90  \n",
              "41462            1             31                   45  \n",
              "43094            1            960                  973  \n",
              "43100            1              5                   19  \n",
              "43102            1              5                   19  \n",
              "43256            1            206                  230  \n",
              "43287            1            144                  177  \n",
              "44352            1              1                   24  \n",
              "46012            1             85                  136  \n",
              "50718            1             20                   27  \n",
              "51021            2             61                   63  \n",
              "51505            1            745                  748  \n",
              "53799            1             11                   17  "
            ],
            "text/html": [
              "\n",
              "  <div id=\"df-d141cf03-7f2c-4b19-a753-4253b4a40429\">\n",
              "    <div class=\"colab-df-container\">\n",
              "      <div>\n",
              "<style scoped>\n",
              "    .dataframe tbody tr th:only-of-type {\n",
              "        vertical-align: middle;\n",
              "    }\n",
              "\n",
              "    .dataframe tbody tr th {\n",
              "        vertical-align: top;\n",
              "    }\n",
              "\n",
              "    .dataframe thead th {\n",
              "        text-align: right;\n",
              "    }\n",
              "</style>\n",
              "<table border=\"1\" class=\"dataframe\">\n",
              "  <thead>\n",
              "    <tr style=\"text-align: right;\">\n",
              "      <th></th>\n",
              "      <th>user_id</th>\n",
              "      <th>date</th>\n",
              "      <th>direction</th>\n",
              "      <th>internal</th>\n",
              "      <th>operator_id</th>\n",
              "      <th>is_missed_call</th>\n",
              "      <th>calls_count</th>\n",
              "      <th>call_duration</th>\n",
              "      <th>total_call_duration</th>\n",
              "    </tr>\n",
              "  </thead>\n",
              "  <tbody>\n",
              "    <tr>\n",
              "      <th>1924</th>\n",
              "      <td>166406</td>\n",
              "      <td>2019-09-02</td>\n",
              "      <td>1</td>\n",
              "      <td>NaN</td>\n",
              "      <td>879898</td>\n",
              "      <td>False</td>\n",
              "      <td>1</td>\n",
              "      <td>2</td>\n",
              "      <td>9</td>\n",
              "    </tr>\n",
              "    <tr>\n",
              "      <th>6210</th>\n",
              "      <td>166541</td>\n",
              "      <td>2019-09-26</td>\n",
              "      <td>1</td>\n",
              "      <td>NaN</td>\n",
              "      <td>908960</td>\n",
              "      <td>False</td>\n",
              "      <td>1</td>\n",
              "      <td>393</td>\n",
              "      <td>423</td>\n",
              "    </tr>\n",
              "    <tr>\n",
              "      <th>6216</th>\n",
              "      <td>166541</td>\n",
              "      <td>2019-09-26</td>\n",
              "      <td>1</td>\n",
              "      <td>NaN</td>\n",
              "      <td>908958</td>\n",
              "      <td>False</td>\n",
              "      <td>2</td>\n",
              "      <td>547</td>\n",
              "      <td>612</td>\n",
              "    </tr>\n",
              "    <tr>\n",
              "      <th>7528</th>\n",
              "      <td>166604</td>\n",
              "      <td>2019-11-01</td>\n",
              "      <td>1</td>\n",
              "      <td>NaN</td>\n",
              "      <td>893402</td>\n",
              "      <td>False</td>\n",
              "      <td>1</td>\n",
              "      <td>94</td>\n",
              "      <td>117</td>\n",
              "    </tr>\n",
              "    <tr>\n",
              "      <th>8650</th>\n",
              "      <td>166658</td>\n",
              "      <td>2019-09-24</td>\n",
              "      <td>1</td>\n",
              "      <td>NaN</td>\n",
              "      <td>890404</td>\n",
              "      <td>False</td>\n",
              "      <td>1</td>\n",
              "      <td>150</td>\n",
              "      <td>157</td>\n",
              "    </tr>\n",
              "    <tr>\n",
              "      <th>9080</th>\n",
              "      <td>166658</td>\n",
              "      <td>2019-10-15</td>\n",
              "      <td>1</td>\n",
              "      <td>NaN</td>\n",
              "      <td>890404</td>\n",
              "      <td>False</td>\n",
              "      <td>1</td>\n",
              "      <td>51</td>\n",
              "      <td>57</td>\n",
              "    </tr>\n",
              "    <tr>\n",
              "      <th>16180</th>\n",
              "      <td>166916</td>\n",
              "      <td>2019-10-01</td>\n",
              "      <td>1</td>\n",
              "      <td>NaN</td>\n",
              "      <td>906396</td>\n",
              "      <td>False</td>\n",
              "      <td>1</td>\n",
              "      <td>100</td>\n",
              "      <td>117</td>\n",
              "    </tr>\n",
              "    <tr>\n",
              "      <th>16304</th>\n",
              "      <td>166916</td>\n",
              "      <td>2019-10-07</td>\n",
              "      <td>1</td>\n",
              "      <td>NaN</td>\n",
              "      <td>906406</td>\n",
              "      <td>False</td>\n",
              "      <td>3</td>\n",
              "      <td>378</td>\n",
              "      <td>461</td>\n",
              "    </tr>\n",
              "    <tr>\n",
              "      <th>16569</th>\n",
              "      <td>166916</td>\n",
              "      <td>2019-10-23</td>\n",
              "      <td>1</td>\n",
              "      <td>NaN</td>\n",
              "      <td>906400</td>\n",
              "      <td>False</td>\n",
              "      <td>1</td>\n",
              "      <td>81</td>\n",
              "      <td>110</td>\n",
              "    </tr>\n",
              "    <tr>\n",
              "      <th>18647</th>\n",
              "      <td>166983</td>\n",
              "      <td>2019-09-02</td>\n",
              "      <td>1</td>\n",
              "      <td>NaN</td>\n",
              "      <td>901880</td>\n",
              "      <td>False</td>\n",
              "      <td>1</td>\n",
              "      <td>119</td>\n",
              "      <td>127</td>\n",
              "    </tr>\n",
              "    <tr>\n",
              "      <th>19497</th>\n",
              "      <td>166983</td>\n",
              "      <td>2019-11-14</td>\n",
              "      <td>1</td>\n",
              "      <td>NaN</td>\n",
              "      <td>901880</td>\n",
              "      <td>False</td>\n",
              "      <td>1</td>\n",
              "      <td>208</td>\n",
              "      <td>210</td>\n",
              "    </tr>\n",
              "    <tr>\n",
              "      <th>19970</th>\n",
              "      <td>166997</td>\n",
              "      <td>2019-09-21</td>\n",
              "      <td>1</td>\n",
              "      <td>NaN</td>\n",
              "      <td>903312</td>\n",
              "      <td>False</td>\n",
              "      <td>1</td>\n",
              "      <td>91</td>\n",
              "      <td>107</td>\n",
              "    </tr>\n",
              "    <tr>\n",
              "      <th>20078</th>\n",
              "      <td>166997</td>\n",
              "      <td>2019-10-01</td>\n",
              "      <td>1</td>\n",
              "      <td>NaN</td>\n",
              "      <td>905432</td>\n",
              "      <td>False</td>\n",
              "      <td>1</td>\n",
              "      <td>159</td>\n",
              "      <td>164</td>\n",
              "    </tr>\n",
              "    <tr>\n",
              "      <th>20168</th>\n",
              "      <td>166997</td>\n",
              "      <td>2019-10-13</td>\n",
              "      <td>1</td>\n",
              "      <td>NaN</td>\n",
              "      <td>903312</td>\n",
              "      <td>False</td>\n",
              "      <td>1</td>\n",
              "      <td>78</td>\n",
              "      <td>82</td>\n",
              "    </tr>\n",
              "    <tr>\n",
              "      <th>21716</th>\n",
              "      <td>167035</td>\n",
              "      <td>2019-11-17</td>\n",
              "      <td>1</td>\n",
              "      <td>NaN</td>\n",
              "      <td>923526</td>\n",
              "      <td>False</td>\n",
              "      <td>1</td>\n",
              "      <td>68</td>\n",
              "      <td>77</td>\n",
              "    </tr>\n",
              "    <tr>\n",
              "      <th>23183</th>\n",
              "      <td>167078</td>\n",
              "      <td>2019-11-13</td>\n",
              "      <td>1</td>\n",
              "      <td>NaN</td>\n",
              "      <td>935348</td>\n",
              "      <td>False</td>\n",
              "      <td>2</td>\n",
              "      <td>73</td>\n",
              "      <td>84</td>\n",
              "    </tr>\n",
              "    <tr>\n",
              "      <th>23822</th>\n",
              "      <td>167109</td>\n",
              "      <td>2019-09-25</td>\n",
              "      <td>1</td>\n",
              "      <td>NaN</td>\n",
              "      <td>906294</td>\n",
              "      <td>False</td>\n",
              "      <td>1</td>\n",
              "      <td>23</td>\n",
              "      <td>27</td>\n",
              "    </tr>\n",
              "    <tr>\n",
              "      <th>29569</th>\n",
              "      <td>167246</td>\n",
              "      <td>2019-10-18</td>\n",
              "      <td>1</td>\n",
              "      <td>NaN</td>\n",
              "      <td>908082</td>\n",
              "      <td>False</td>\n",
              "      <td>1</td>\n",
              "      <td>7</td>\n",
              "      <td>21</td>\n",
              "    </tr>\n",
              "    <tr>\n",
              "      <th>29571</th>\n",
              "      <td>167246</td>\n",
              "      <td>2019-10-18</td>\n",
              "      <td>1</td>\n",
              "      <td>NaN</td>\n",
              "      <td>908082</td>\n",
              "      <td>False</td>\n",
              "      <td>1</td>\n",
              "      <td>7</td>\n",
              "      <td>21</td>\n",
              "    </tr>\n",
              "    <tr>\n",
              "      <th>29741</th>\n",
              "      <td>167264</td>\n",
              "      <td>2019-10-14</td>\n",
              "      <td>1</td>\n",
              "      <td>NaN</td>\n",
              "      <td>919554</td>\n",
              "      <td>False</td>\n",
              "      <td>1</td>\n",
              "      <td>202</td>\n",
              "      <td>243</td>\n",
              "    </tr>\n",
              "    <tr>\n",
              "      <th>29887</th>\n",
              "      <td>167264</td>\n",
              "      <td>2019-11-15</td>\n",
              "      <td>1</td>\n",
              "      <td>NaN</td>\n",
              "      <td>919552</td>\n",
              "      <td>False</td>\n",
              "      <td>1</td>\n",
              "      <td>125</td>\n",
              "      <td>158</td>\n",
              "    </tr>\n",
              "    <tr>\n",
              "      <th>29912</th>\n",
              "      <td>167264</td>\n",
              "      <td>2019-11-21</td>\n",
              "      <td>1</td>\n",
              "      <td>NaN</td>\n",
              "      <td>919552</td>\n",
              "      <td>False</td>\n",
              "      <td>1</td>\n",
              "      <td>55</td>\n",
              "      <td>80</td>\n",
              "    </tr>\n",
              "    <tr>\n",
              "      <th>29985</th>\n",
              "      <td>167272</td>\n",
              "      <td>2019-10-09</td>\n",
              "      <td>1</td>\n",
              "      <td>NaN</td>\n",
              "      <td>910018</td>\n",
              "      <td>False</td>\n",
              "      <td>1</td>\n",
              "      <td>115</td>\n",
              "      <td>135</td>\n",
              "    </tr>\n",
              "    <tr>\n",
              "      <th>29989</th>\n",
              "      <td>167272</td>\n",
              "      <td>2019-10-09</td>\n",
              "      <td>1</td>\n",
              "      <td>NaN</td>\n",
              "      <td>912684</td>\n",
              "      <td>False</td>\n",
              "      <td>1</td>\n",
              "      <td>123</td>\n",
              "      <td>175</td>\n",
              "    </tr>\n",
              "    <tr>\n",
              "      <th>29991</th>\n",
              "      <td>167272</td>\n",
              "      <td>2019-10-09</td>\n",
              "      <td>1</td>\n",
              "      <td>NaN</td>\n",
              "      <td>912684</td>\n",
              "      <td>False</td>\n",
              "      <td>1</td>\n",
              "      <td>123</td>\n",
              "      <td>175</td>\n",
              "    </tr>\n",
              "    <tr>\n",
              "      <th>30249</th>\n",
              "      <td>167286</td>\n",
              "      <td>2019-10-31</td>\n",
              "      <td>1</td>\n",
              "      <td>NaN</td>\n",
              "      <td>910540</td>\n",
              "      <td>False</td>\n",
              "      <td>1</td>\n",
              "      <td>11</td>\n",
              "      <td>30</td>\n",
              "    </tr>\n",
              "    <tr>\n",
              "      <th>32590</th>\n",
              "      <td>167466</td>\n",
              "      <td>2019-11-26</td>\n",
              "      <td>1</td>\n",
              "      <td>NaN</td>\n",
              "      <td>921818</td>\n",
              "      <td>False</td>\n",
              "      <td>1</td>\n",
              "      <td>15</td>\n",
              "      <td>81</td>\n",
              "    </tr>\n",
              "    <tr>\n",
              "      <th>35102</th>\n",
              "      <td>167521</td>\n",
              "      <td>2019-11-15</td>\n",
              "      <td>1</td>\n",
              "      <td>NaN</td>\n",
              "      <td>919790</td>\n",
              "      <td>False</td>\n",
              "      <td>1</td>\n",
              "      <td>64</td>\n",
              "      <td>104</td>\n",
              "    </tr>\n",
              "    <tr>\n",
              "      <th>35110</th>\n",
              "      <td>167521</td>\n",
              "      <td>2019-11-15</td>\n",
              "      <td>1</td>\n",
              "      <td>NaN</td>\n",
              "      <td>919790</td>\n",
              "      <td>False</td>\n",
              "      <td>1</td>\n",
              "      <td>64</td>\n",
              "      <td>104</td>\n",
              "    </tr>\n",
              "    <tr>\n",
              "      <th>35117</th>\n",
              "      <td>167521</td>\n",
              "      <td>2019-11-16</td>\n",
              "      <td>1</td>\n",
              "      <td>NaN</td>\n",
              "      <td>919790</td>\n",
              "      <td>False</td>\n",
              "      <td>1</td>\n",
              "      <td>65</td>\n",
              "      <td>105</td>\n",
              "    </tr>\n",
              "    <tr>\n",
              "      <th>35728</th>\n",
              "      <td>167534</td>\n",
              "      <td>2019-10-16</td>\n",
              "      <td>1</td>\n",
              "      <td>NaN</td>\n",
              "      <td>929332</td>\n",
              "      <td>False</td>\n",
              "      <td>1</td>\n",
              "      <td>5</td>\n",
              "      <td>18</td>\n",
              "    </tr>\n",
              "    <tr>\n",
              "      <th>36466</th>\n",
              "      <td>167626</td>\n",
              "      <td>2019-09-27</td>\n",
              "      <td>1</td>\n",
              "      <td>NaN</td>\n",
              "      <td>919204</td>\n",
              "      <td>False</td>\n",
              "      <td>1</td>\n",
              "      <td>10</td>\n",
              "      <td>15</td>\n",
              "    </tr>\n",
              "    <tr>\n",
              "      <th>36590</th>\n",
              "      <td>167626</td>\n",
              "      <td>2019-09-30</td>\n",
              "      <td>1</td>\n",
              "      <td>NaN</td>\n",
              "      <td>919206</td>\n",
              "      <td>False</td>\n",
              "      <td>1</td>\n",
              "      <td>15</td>\n",
              "      <td>19</td>\n",
              "    </tr>\n",
              "    <tr>\n",
              "      <th>36607</th>\n",
              "      <td>167626</td>\n",
              "      <td>2019-09-30</td>\n",
              "      <td>1</td>\n",
              "      <td>NaN</td>\n",
              "      <td>919164</td>\n",
              "      <td>False</td>\n",
              "      <td>1</td>\n",
              "      <td>39</td>\n",
              "      <td>43</td>\n",
              "    </tr>\n",
              "    <tr>\n",
              "      <th>36673</th>\n",
              "      <td>167626</td>\n",
              "      <td>2019-10-01</td>\n",
              "      <td>1</td>\n",
              "      <td>NaN</td>\n",
              "      <td>919204</td>\n",
              "      <td>False</td>\n",
              "      <td>1</td>\n",
              "      <td>32</td>\n",
              "      <td>36</td>\n",
              "    </tr>\n",
              "    <tr>\n",
              "      <th>36828</th>\n",
              "      <td>167626</td>\n",
              "      <td>2019-10-03</td>\n",
              "      <td>1</td>\n",
              "      <td>NaN</td>\n",
              "      <td>919164</td>\n",
              "      <td>False</td>\n",
              "      <td>1</td>\n",
              "      <td>19</td>\n",
              "      <td>25</td>\n",
              "    </tr>\n",
              "    <tr>\n",
              "      <th>37964</th>\n",
              "      <td>167650</td>\n",
              "      <td>2019-10-01</td>\n",
              "      <td>1</td>\n",
              "      <td>NaN</td>\n",
              "      <td>921318</td>\n",
              "      <td>False</td>\n",
              "      <td>1</td>\n",
              "      <td>124</td>\n",
              "      <td>131</td>\n",
              "    </tr>\n",
              "    <tr>\n",
              "      <th>38069</th>\n",
              "      <td>167650</td>\n",
              "      <td>2019-10-14</td>\n",
              "      <td>1</td>\n",
              "      <td>NaN</td>\n",
              "      <td>921318</td>\n",
              "      <td>False</td>\n",
              "      <td>1</td>\n",
              "      <td>136</td>\n",
              "      <td>145</td>\n",
              "    </tr>\n",
              "    <tr>\n",
              "      <th>38099</th>\n",
              "      <td>167650</td>\n",
              "      <td>2019-10-17</td>\n",
              "      <td>1</td>\n",
              "      <td>NaN</td>\n",
              "      <td>921318</td>\n",
              "      <td>False</td>\n",
              "      <td>1</td>\n",
              "      <td>109</td>\n",
              "      <td>116</td>\n",
              "    </tr>\n",
              "    <tr>\n",
              "      <th>38122</th>\n",
              "      <td>167650</td>\n",
              "      <td>2019-10-19</td>\n",
              "      <td>1</td>\n",
              "      <td>NaN</td>\n",
              "      <td>931458</td>\n",
              "      <td>False</td>\n",
              "      <td>1</td>\n",
              "      <td>44</td>\n",
              "      <td>57</td>\n",
              "    </tr>\n",
              "    <tr>\n",
              "      <th>38274</th>\n",
              "      <td>167650</td>\n",
              "      <td>2019-11-02</td>\n",
              "      <td>1</td>\n",
              "      <td>NaN</td>\n",
              "      <td>921318</td>\n",
              "      <td>False</td>\n",
              "      <td>1</td>\n",
              "      <td>90</td>\n",
              "      <td>99</td>\n",
              "    </tr>\n",
              "    <tr>\n",
              "      <th>38527</th>\n",
              "      <td>167650</td>\n",
              "      <td>2019-11-26</td>\n",
              "      <td>1</td>\n",
              "      <td>NaN</td>\n",
              "      <td>931458</td>\n",
              "      <td>False</td>\n",
              "      <td>1</td>\n",
              "      <td>94</td>\n",
              "      <td>101</td>\n",
              "    </tr>\n",
              "    <tr>\n",
              "      <th>40602</th>\n",
              "      <td>167827</td>\n",
              "      <td>2019-10-21</td>\n",
              "      <td>1</td>\n",
              "      <td>NaN</td>\n",
              "      <td>929424</td>\n",
              "      <td>False</td>\n",
              "      <td>1</td>\n",
              "      <td>13</td>\n",
              "      <td>14</td>\n",
              "    </tr>\n",
              "    <tr>\n",
              "      <th>41111</th>\n",
              "      <td>167828</td>\n",
              "      <td>2019-11-18</td>\n",
              "      <td>1</td>\n",
              "      <td>NaN</td>\n",
              "      <td>940430</td>\n",
              "      <td>False</td>\n",
              "      <td>1</td>\n",
              "      <td>363</td>\n",
              "      <td>364</td>\n",
              "    </tr>\n",
              "    <tr>\n",
              "      <th>41378</th>\n",
              "      <td>167852</td>\n",
              "      <td>2019-10-23</td>\n",
              "      <td>1</td>\n",
              "      <td>NaN</td>\n",
              "      <td>932798</td>\n",
              "      <td>False</td>\n",
              "      <td>1</td>\n",
              "      <td>90</td>\n",
              "      <td>100</td>\n",
              "    </tr>\n",
              "    <tr>\n",
              "      <th>41385</th>\n",
              "      <td>167852</td>\n",
              "      <td>2019-10-25</td>\n",
              "      <td>1</td>\n",
              "      <td>NaN</td>\n",
              "      <td>932798</td>\n",
              "      <td>False</td>\n",
              "      <td>1</td>\n",
              "      <td>28</td>\n",
              "      <td>39</td>\n",
              "    </tr>\n",
              "    <tr>\n",
              "      <th>41392</th>\n",
              "      <td>167852</td>\n",
              "      <td>2019-10-25</td>\n",
              "      <td>1</td>\n",
              "      <td>NaN</td>\n",
              "      <td>932798</td>\n",
              "      <td>False</td>\n",
              "      <td>1</td>\n",
              "      <td>28</td>\n",
              "      <td>39</td>\n",
              "    </tr>\n",
              "    <tr>\n",
              "      <th>41400</th>\n",
              "      <td>167852</td>\n",
              "      <td>2019-10-31</td>\n",
              "      <td>1</td>\n",
              "      <td>NaN</td>\n",
              "      <td>932798</td>\n",
              "      <td>False</td>\n",
              "      <td>1</td>\n",
              "      <td>81</td>\n",
              "      <td>90</td>\n",
              "    </tr>\n",
              "    <tr>\n",
              "      <th>41462</th>\n",
              "      <td>167870</td>\n",
              "      <td>2019-11-06</td>\n",
              "      <td>1</td>\n",
              "      <td>NaN</td>\n",
              "      <td>936110</td>\n",
              "      <td>False</td>\n",
              "      <td>1</td>\n",
              "      <td>31</td>\n",
              "      <td>45</td>\n",
              "    </tr>\n",
              "    <tr>\n",
              "      <th>43094</th>\n",
              "      <td>167977</td>\n",
              "      <td>2019-11-14</td>\n",
              "      <td>1</td>\n",
              "      <td>NaN</td>\n",
              "      <td>944222</td>\n",
              "      <td>False</td>\n",
              "      <td>1</td>\n",
              "      <td>960</td>\n",
              "      <td>973</td>\n",
              "    </tr>\n",
              "    <tr>\n",
              "      <th>43100</th>\n",
              "      <td>167977</td>\n",
              "      <td>2019-11-14</td>\n",
              "      <td>1</td>\n",
              "      <td>NaN</td>\n",
              "      <td>944220</td>\n",
              "      <td>False</td>\n",
              "      <td>1</td>\n",
              "      <td>5</td>\n",
              "      <td>19</td>\n",
              "    </tr>\n",
              "    <tr>\n",
              "      <th>43102</th>\n",
              "      <td>167977</td>\n",
              "      <td>2019-11-14</td>\n",
              "      <td>1</td>\n",
              "      <td>NaN</td>\n",
              "      <td>944220</td>\n",
              "      <td>False</td>\n",
              "      <td>1</td>\n",
              "      <td>5</td>\n",
              "      <td>19</td>\n",
              "    </tr>\n",
              "    <tr>\n",
              "      <th>43256</th>\n",
              "      <td>167977</td>\n",
              "      <td>2019-11-25</td>\n",
              "      <td>1</td>\n",
              "      <td>NaN</td>\n",
              "      <td>944216</td>\n",
              "      <td>False</td>\n",
              "      <td>1</td>\n",
              "      <td>206</td>\n",
              "      <td>230</td>\n",
              "    </tr>\n",
              "    <tr>\n",
              "      <th>43287</th>\n",
              "      <td>167977</td>\n",
              "      <td>2019-11-27</td>\n",
              "      <td>1</td>\n",
              "      <td>NaN</td>\n",
              "      <td>944220</td>\n",
              "      <td>False</td>\n",
              "      <td>1</td>\n",
              "      <td>144</td>\n",
              "      <td>177</td>\n",
              "    </tr>\n",
              "    <tr>\n",
              "      <th>44352</th>\n",
              "      <td>168041</td>\n",
              "      <td>2019-11-06</td>\n",
              "      <td>1</td>\n",
              "      <td>NaN</td>\n",
              "      <td>936514</td>\n",
              "      <td>False</td>\n",
              "      <td>1</td>\n",
              "      <td>1</td>\n",
              "      <td>24</td>\n",
              "    </tr>\n",
              "    <tr>\n",
              "      <th>46012</th>\n",
              "      <td>168091</td>\n",
              "      <td>2019-11-13</td>\n",
              "      <td>1</td>\n",
              "      <td>NaN</td>\n",
              "      <td>958460</td>\n",
              "      <td>True</td>\n",
              "      <td>1</td>\n",
              "      <td>85</td>\n",
              "      <td>136</td>\n",
              "    </tr>\n",
              "    <tr>\n",
              "      <th>50718</th>\n",
              "      <td>168252</td>\n",
              "      <td>2019-11-22</td>\n",
              "      <td>1</td>\n",
              "      <td>NaN</td>\n",
              "      <td>940658</td>\n",
              "      <td>False</td>\n",
              "      <td>1</td>\n",
              "      <td>20</td>\n",
              "      <td>27</td>\n",
              "    </tr>\n",
              "    <tr>\n",
              "      <th>51021</th>\n",
              "      <td>168253</td>\n",
              "      <td>2019-11-15</td>\n",
              "      <td>1</td>\n",
              "      <td>NaN</td>\n",
              "      <td>952948</td>\n",
              "      <td>False</td>\n",
              "      <td>2</td>\n",
              "      <td>61</td>\n",
              "      <td>63</td>\n",
              "    </tr>\n",
              "    <tr>\n",
              "      <th>51505</th>\n",
              "      <td>168307</td>\n",
              "      <td>2019-11-01</td>\n",
              "      <td>1</td>\n",
              "      <td>NaN</td>\n",
              "      <td>945046</td>\n",
              "      <td>False</td>\n",
              "      <td>1</td>\n",
              "      <td>745</td>\n",
              "      <td>748</td>\n",
              "    </tr>\n",
              "    <tr>\n",
              "      <th>53799</th>\n",
              "      <td>168598</td>\n",
              "      <td>2019-11-22</td>\n",
              "      <td>1</td>\n",
              "      <td>NaN</td>\n",
              "      <td>958394</td>\n",
              "      <td>False</td>\n",
              "      <td>1</td>\n",
              "      <td>11</td>\n",
              "      <td>17</td>\n",
              "    </tr>\n",
              "  </tbody>\n",
              "</table>\n",
              "</div>\n",
              "      <button class=\"colab-df-convert\" onclick=\"convertToInteractive('df-d141cf03-7f2c-4b19-a753-4253b4a40429')\"\n",
              "              title=\"Convert this dataframe to an interactive table.\"\n",
              "              style=\"display:none;\">\n",
              "        \n",
              "  <svg xmlns=\"http://www.w3.org/2000/svg\" height=\"24px\"viewBox=\"0 0 24 24\"\n",
              "       width=\"24px\">\n",
              "    <path d=\"M0 0h24v24H0V0z\" fill=\"none\"/>\n",
              "    <path d=\"M18.56 5.44l.94 2.06.94-2.06 2.06-.94-2.06-.94-.94-2.06-.94 2.06-2.06.94zm-11 1L8.5 8.5l.94-2.06 2.06-.94-2.06-.94L8.5 2.5l-.94 2.06-2.06.94zm10 10l.94 2.06.94-2.06 2.06-.94-2.06-.94-.94-2.06-.94 2.06-2.06.94z\"/><path d=\"M17.41 7.96l-1.37-1.37c-.4-.4-.92-.59-1.43-.59-.52 0-1.04.2-1.43.59L10.3 9.45l-7.72 7.72c-.78.78-.78 2.05 0 2.83L4 21.41c.39.39.9.59 1.41.59.51 0 1.02-.2 1.41-.59l7.78-7.78 2.81-2.81c.8-.78.8-2.07 0-2.86zM5.41 20L4 18.59l7.72-7.72 1.47 1.35L5.41 20z\"/>\n",
              "  </svg>\n",
              "      </button>\n",
              "      \n",
              "  <style>\n",
              "    .colab-df-container {\n",
              "      display:flex;\n",
              "      flex-wrap:wrap;\n",
              "      gap: 12px;\n",
              "    }\n",
              "\n",
              "    .colab-df-convert {\n",
              "      background-color: #E8F0FE;\n",
              "      border: none;\n",
              "      border-radius: 50%;\n",
              "      cursor: pointer;\n",
              "      display: none;\n",
              "      fill: #1967D2;\n",
              "      height: 32px;\n",
              "      padding: 0 0 0 0;\n",
              "      width: 32px;\n",
              "    }\n",
              "\n",
              "    .colab-df-convert:hover {\n",
              "      background-color: #E2EBFA;\n",
              "      box-shadow: 0px 1px 2px rgba(60, 64, 67, 0.3), 0px 1px 3px 1px rgba(60, 64, 67, 0.15);\n",
              "      fill: #174EA6;\n",
              "    }\n",
              "\n",
              "    [theme=dark] .colab-df-convert {\n",
              "      background-color: #3B4455;\n",
              "      fill: #D2E3FC;\n",
              "    }\n",
              "\n",
              "    [theme=dark] .colab-df-convert:hover {\n",
              "      background-color: #434B5C;\n",
              "      box-shadow: 0px 1px 3px 1px rgba(0, 0, 0, 0.15);\n",
              "      filter: drop-shadow(0px 1px 2px rgba(0, 0, 0, 0.3));\n",
              "      fill: #FFFFFF;\n",
              "    }\n",
              "  </style>\n",
              "\n",
              "      <script>\n",
              "        const buttonEl =\n",
              "          document.querySelector('#df-d141cf03-7f2c-4b19-a753-4253b4a40429 button.colab-df-convert');\n",
              "        buttonEl.style.display =\n",
              "          google.colab.kernel.accessAllowed ? 'block' : 'none';\n",
              "\n",
              "        async function convertToInteractive(key) {\n",
              "          const element = document.querySelector('#df-d141cf03-7f2c-4b19-a753-4253b4a40429');\n",
              "          const dataTable =\n",
              "            await google.colab.kernel.invokeFunction('convertToInteractive',\n",
              "                                                     [key], {});\n",
              "          if (!dataTable) return;\n",
              "\n",
              "          const docLinkHtml = 'Like what you see? Visit the ' +\n",
              "            '<a target=\"_blank\" href=https://colab.research.google.com/notebooks/data_table.ipynb>data table notebook</a>'\n",
              "            + ' to learn more about interactive tables.';\n",
              "          element.innerHTML = '';\n",
              "          dataTable['output_type'] = 'display_data';\n",
              "          await google.colab.output.renderOutput(dataTable, element);\n",
              "          const docLink = document.createElement('div');\n",
              "          docLink.innerHTML = docLinkHtml;\n",
              "          element.appendChild(docLink);\n",
              "        }\n",
              "      </script>\n",
              "    </div>\n",
              "  </div>\n",
              "  "
            ]
          },
          "metadata": {},
          "execution_count": 25
        }
      ],
      "source": [
        "tel_data[tel_data['internal'].isnull() == True]"
      ]
    },
    {
      "cell_type": "markdown",
      "metadata": {
        "id": "_e1cR8Vncumt"
      },
      "source": [
        "Выглядят как обычные звонки, не пропущенные, есть продолжительность и ожидание. Их не много, но терять данные не хочется. \n",
        "\n",
        "Мы выяснили, что внутренние и внешние звонки одинаково важны для статистики, т.к. в любом случае на другом конце провода клиент, внутренние это звонки, когда один оператор переключает на другого. \n",
        "\n",
        "Заменим их на внутренние звонки, возможно сбой в определении откуда звонок происходит при переключении между линиями. "
      ]
    },
    {
      "cell_type": "code",
      "execution_count": null,
      "metadata": {
        "id": "QdtCPTiljegt"
      },
      "outputs": [],
      "source": [
        "tel_data['internal'] = tel_data['internal'].fillna(1)\n"
      ]
    },
    {
      "cell_type": "markdown",
      "metadata": {
        "id": "6FTNmySMbWUT"
      },
      "source": [
        "### Проверим явные дубликаты"
      ]
    },
    {
      "cell_type": "code",
      "execution_count": null,
      "metadata": {
        "colab": {
          "base_uri": "https://localhost:8080/"
        },
        "id": "4fOqJ-ojbe9I",
        "outputId": "a22e5248-5d44-423f-f7cb-785277a138de"
      },
      "outputs": [
        {
          "output_type": "execute_result",
          "data": {
            "text/plain": [
              "4184"
            ]
          },
          "metadata": {},
          "execution_count": 27
        }
      ],
      "source": [
        "tel_data.duplicated().sum()"
      ]
    },
    {
      "cell_type": "code",
      "execution_count": null,
      "metadata": {
        "colab": {
          "base_uri": "https://localhost:8080/",
          "height": 423
        },
        "id": "1Ka7Zcd4fknf",
        "outputId": "ee42c797-5f96-44ae-ee96-1c02f735c3fc"
      },
      "outputs": [
        {
          "output_type": "execute_result",
          "data": {
            "text/plain": [
              "       user_id       date  direction internal  operator_id  is_missed_call  \\\n",
              "6       166377 2019-08-05          0    False       880020            True   \n",
              "8       166377 2019-08-05          0    False       880020            True   \n",
              "43      166377 2019-08-14          0    False       880026           False   \n",
              "44      166377 2019-08-14          0    False       880026           False   \n",
              "46      166377 2019-08-15          0    False       880026           False   \n",
              "...        ...        ...        ...      ...          ...             ...   \n",
              "53874   168601 2019-11-26          1    False       952914           False   \n",
              "53883   168603 2019-11-20          0    False       959118            True   \n",
              "53885   168603 2019-11-20          0    False       959118            True   \n",
              "53899   168606 2019-11-15          0     True       957922           False   \n",
              "53900   168606 2019-11-15          0     True       957922           False   \n",
              "\n",
              "       calls_count  call_duration  total_call_duration  \n",
              "6                8              0                   50  \n",
              "8                8              0                   50  \n",
              "43              10           1567                 1654  \n",
              "44              10           1567                 1654  \n",
              "46              11           1413                 1473  \n",
              "...            ...            ...                  ...  \n",
              "53874            4            539                  562  \n",
              "53883            3              0                   89  \n",
              "53885            3              0                   89  \n",
              "53899            4           3130                 3190  \n",
              "53900            4           3130                 3190  \n",
              "\n",
              "[8368 rows x 9 columns]"
            ],
            "text/html": [
              "\n",
              "  <div id=\"df-ad33cd3f-4915-4dc9-8eef-8a7a904a1295\">\n",
              "    <div class=\"colab-df-container\">\n",
              "      <div>\n",
              "<style scoped>\n",
              "    .dataframe tbody tr th:only-of-type {\n",
              "        vertical-align: middle;\n",
              "    }\n",
              "\n",
              "    .dataframe tbody tr th {\n",
              "        vertical-align: top;\n",
              "    }\n",
              "\n",
              "    .dataframe thead th {\n",
              "        text-align: right;\n",
              "    }\n",
              "</style>\n",
              "<table border=\"1\" class=\"dataframe\">\n",
              "  <thead>\n",
              "    <tr style=\"text-align: right;\">\n",
              "      <th></th>\n",
              "      <th>user_id</th>\n",
              "      <th>date</th>\n",
              "      <th>direction</th>\n",
              "      <th>internal</th>\n",
              "      <th>operator_id</th>\n",
              "      <th>is_missed_call</th>\n",
              "      <th>calls_count</th>\n",
              "      <th>call_duration</th>\n",
              "      <th>total_call_duration</th>\n",
              "    </tr>\n",
              "  </thead>\n",
              "  <tbody>\n",
              "    <tr>\n",
              "      <th>6</th>\n",
              "      <td>166377</td>\n",
              "      <td>2019-08-05</td>\n",
              "      <td>0</td>\n",
              "      <td>False</td>\n",
              "      <td>880020</td>\n",
              "      <td>True</td>\n",
              "      <td>8</td>\n",
              "      <td>0</td>\n",
              "      <td>50</td>\n",
              "    </tr>\n",
              "    <tr>\n",
              "      <th>8</th>\n",
              "      <td>166377</td>\n",
              "      <td>2019-08-05</td>\n",
              "      <td>0</td>\n",
              "      <td>False</td>\n",
              "      <td>880020</td>\n",
              "      <td>True</td>\n",
              "      <td>8</td>\n",
              "      <td>0</td>\n",
              "      <td>50</td>\n",
              "    </tr>\n",
              "    <tr>\n",
              "      <th>43</th>\n",
              "      <td>166377</td>\n",
              "      <td>2019-08-14</td>\n",
              "      <td>0</td>\n",
              "      <td>False</td>\n",
              "      <td>880026</td>\n",
              "      <td>False</td>\n",
              "      <td>10</td>\n",
              "      <td>1567</td>\n",
              "      <td>1654</td>\n",
              "    </tr>\n",
              "    <tr>\n",
              "      <th>44</th>\n",
              "      <td>166377</td>\n",
              "      <td>2019-08-14</td>\n",
              "      <td>0</td>\n",
              "      <td>False</td>\n",
              "      <td>880026</td>\n",
              "      <td>False</td>\n",
              "      <td>10</td>\n",
              "      <td>1567</td>\n",
              "      <td>1654</td>\n",
              "    </tr>\n",
              "    <tr>\n",
              "      <th>46</th>\n",
              "      <td>166377</td>\n",
              "      <td>2019-08-15</td>\n",
              "      <td>0</td>\n",
              "      <td>False</td>\n",
              "      <td>880026</td>\n",
              "      <td>False</td>\n",
              "      <td>11</td>\n",
              "      <td>1413</td>\n",
              "      <td>1473</td>\n",
              "    </tr>\n",
              "    <tr>\n",
              "      <th>...</th>\n",
              "      <td>...</td>\n",
              "      <td>...</td>\n",
              "      <td>...</td>\n",
              "      <td>...</td>\n",
              "      <td>...</td>\n",
              "      <td>...</td>\n",
              "      <td>...</td>\n",
              "      <td>...</td>\n",
              "      <td>...</td>\n",
              "    </tr>\n",
              "    <tr>\n",
              "      <th>53874</th>\n",
              "      <td>168601</td>\n",
              "      <td>2019-11-26</td>\n",
              "      <td>1</td>\n",
              "      <td>False</td>\n",
              "      <td>952914</td>\n",
              "      <td>False</td>\n",
              "      <td>4</td>\n",
              "      <td>539</td>\n",
              "      <td>562</td>\n",
              "    </tr>\n",
              "    <tr>\n",
              "      <th>53883</th>\n",
              "      <td>168603</td>\n",
              "      <td>2019-11-20</td>\n",
              "      <td>0</td>\n",
              "      <td>False</td>\n",
              "      <td>959118</td>\n",
              "      <td>True</td>\n",
              "      <td>3</td>\n",
              "      <td>0</td>\n",
              "      <td>89</td>\n",
              "    </tr>\n",
              "    <tr>\n",
              "      <th>53885</th>\n",
              "      <td>168603</td>\n",
              "      <td>2019-11-20</td>\n",
              "      <td>0</td>\n",
              "      <td>False</td>\n",
              "      <td>959118</td>\n",
              "      <td>True</td>\n",
              "      <td>3</td>\n",
              "      <td>0</td>\n",
              "      <td>89</td>\n",
              "    </tr>\n",
              "    <tr>\n",
              "      <th>53899</th>\n",
              "      <td>168606</td>\n",
              "      <td>2019-11-15</td>\n",
              "      <td>0</td>\n",
              "      <td>True</td>\n",
              "      <td>957922</td>\n",
              "      <td>False</td>\n",
              "      <td>4</td>\n",
              "      <td>3130</td>\n",
              "      <td>3190</td>\n",
              "    </tr>\n",
              "    <tr>\n",
              "      <th>53900</th>\n",
              "      <td>168606</td>\n",
              "      <td>2019-11-15</td>\n",
              "      <td>0</td>\n",
              "      <td>True</td>\n",
              "      <td>957922</td>\n",
              "      <td>False</td>\n",
              "      <td>4</td>\n",
              "      <td>3130</td>\n",
              "      <td>3190</td>\n",
              "    </tr>\n",
              "  </tbody>\n",
              "</table>\n",
              "<p>8368 rows × 9 columns</p>\n",
              "</div>\n",
              "      <button class=\"colab-df-convert\" onclick=\"convertToInteractive('df-ad33cd3f-4915-4dc9-8eef-8a7a904a1295')\"\n",
              "              title=\"Convert this dataframe to an interactive table.\"\n",
              "              style=\"display:none;\">\n",
              "        \n",
              "  <svg xmlns=\"http://www.w3.org/2000/svg\" height=\"24px\"viewBox=\"0 0 24 24\"\n",
              "       width=\"24px\">\n",
              "    <path d=\"M0 0h24v24H0V0z\" fill=\"none\"/>\n",
              "    <path d=\"M18.56 5.44l.94 2.06.94-2.06 2.06-.94-2.06-.94-.94-2.06-.94 2.06-2.06.94zm-11 1L8.5 8.5l.94-2.06 2.06-.94-2.06-.94L8.5 2.5l-.94 2.06-2.06.94zm10 10l.94 2.06.94-2.06 2.06-.94-2.06-.94-.94-2.06-.94 2.06-2.06.94z\"/><path d=\"M17.41 7.96l-1.37-1.37c-.4-.4-.92-.59-1.43-.59-.52 0-1.04.2-1.43.59L10.3 9.45l-7.72 7.72c-.78.78-.78 2.05 0 2.83L4 21.41c.39.39.9.59 1.41.59.51 0 1.02-.2 1.41-.59l7.78-7.78 2.81-2.81c.8-.78.8-2.07 0-2.86zM5.41 20L4 18.59l7.72-7.72 1.47 1.35L5.41 20z\"/>\n",
              "  </svg>\n",
              "      </button>\n",
              "      \n",
              "  <style>\n",
              "    .colab-df-container {\n",
              "      display:flex;\n",
              "      flex-wrap:wrap;\n",
              "      gap: 12px;\n",
              "    }\n",
              "\n",
              "    .colab-df-convert {\n",
              "      background-color: #E8F0FE;\n",
              "      border: none;\n",
              "      border-radius: 50%;\n",
              "      cursor: pointer;\n",
              "      display: none;\n",
              "      fill: #1967D2;\n",
              "      height: 32px;\n",
              "      padding: 0 0 0 0;\n",
              "      width: 32px;\n",
              "    }\n",
              "\n",
              "    .colab-df-convert:hover {\n",
              "      background-color: #E2EBFA;\n",
              "      box-shadow: 0px 1px 2px rgba(60, 64, 67, 0.3), 0px 1px 3px 1px rgba(60, 64, 67, 0.15);\n",
              "      fill: #174EA6;\n",
              "    }\n",
              "\n",
              "    [theme=dark] .colab-df-convert {\n",
              "      background-color: #3B4455;\n",
              "      fill: #D2E3FC;\n",
              "    }\n",
              "\n",
              "    [theme=dark] .colab-df-convert:hover {\n",
              "      background-color: #434B5C;\n",
              "      box-shadow: 0px 1px 3px 1px rgba(0, 0, 0, 0.15);\n",
              "      filter: drop-shadow(0px 1px 2px rgba(0, 0, 0, 0.3));\n",
              "      fill: #FFFFFF;\n",
              "    }\n",
              "  </style>\n",
              "\n",
              "      <script>\n",
              "        const buttonEl =\n",
              "          document.querySelector('#df-ad33cd3f-4915-4dc9-8eef-8a7a904a1295 button.colab-df-convert');\n",
              "        buttonEl.style.display =\n",
              "          google.colab.kernel.accessAllowed ? 'block' : 'none';\n",
              "\n",
              "        async function convertToInteractive(key) {\n",
              "          const element = document.querySelector('#df-ad33cd3f-4915-4dc9-8eef-8a7a904a1295');\n",
              "          const dataTable =\n",
              "            await google.colab.kernel.invokeFunction('convertToInteractive',\n",
              "                                                     [key], {});\n",
              "          if (!dataTable) return;\n",
              "\n",
              "          const docLinkHtml = 'Like what you see? Visit the ' +\n",
              "            '<a target=\"_blank\" href=https://colab.research.google.com/notebooks/data_table.ipynb>data table notebook</a>'\n",
              "            + ' to learn more about interactive tables.';\n",
              "          element.innerHTML = '';\n",
              "          dataTable['output_type'] = 'display_data';\n",
              "          await google.colab.output.renderOutput(dataTable, element);\n",
              "          const docLink = document.createElement('div');\n",
              "          docLink.innerHTML = docLinkHtml;\n",
              "          element.appendChild(docLink);\n",
              "        }\n",
              "      </script>\n",
              "    </div>\n",
              "  </div>\n",
              "  "
            ]
          },
          "metadata": {},
          "execution_count": 28
        }
      ],
      "source": [
        "tel_data[tel_data.duplicated(keep=False)]"
      ]
    },
    {
      "cell_type": "markdown",
      "metadata": {
        "id": "LdeZCMoPhofS"
      },
      "source": [
        "Это полные дубликаты, информация в строках разная: входящие, исходящие, пропущенные и нет, разные клиенты, разные операторы. По какой-то причине в базе задвоились 4184 строки. \n",
        "\n",
        "Удалим эти дубликаты"
      ]
    },
    {
      "cell_type": "code",
      "execution_count": null,
      "metadata": {
        "id": "htfBTCRtb5nw"
      },
      "outputs": [],
      "source": [
        "tel_data = tel_data.drop_duplicates()"
      ]
    },
    {
      "cell_type": "code",
      "execution_count": null,
      "metadata": {
        "colab": {
          "base_uri": "https://localhost:8080/"
        },
        "id": "19LewTBOiVqt",
        "outputId": "6d425185-1f79-4de4-ef73-4ea6f2aeb9c0"
      },
      "outputs": [
        {
          "output_type": "stream",
          "name": "stdout",
          "text": [
            "<class 'pandas.core.frame.DataFrame'>\n",
            "Int64Index: 41546 entries, 1 to 53899\n",
            "Data columns (total 9 columns):\n",
            " #   Column               Non-Null Count  Dtype         \n",
            "---  ------               --------------  -----         \n",
            " 0   user_id              41546 non-null  int64         \n",
            " 1   date                 41546 non-null  datetime64[ns]\n",
            " 2   direction            41546 non-null  int8          \n",
            " 3   internal             41546 non-null  object        \n",
            " 4   operator_id          41546 non-null  int64         \n",
            " 5   is_missed_call       41546 non-null  bool          \n",
            " 6   calls_count          41546 non-null  int64         \n",
            " 7   call_duration        41546 non-null  int64         \n",
            " 8   total_call_duration  41546 non-null  int64         \n",
            "dtypes: bool(1), datetime64[ns](1), int64(5), int8(1), object(1)\n",
            "memory usage: 2.6+ MB\n"
          ]
        }
      ],
      "source": [
        "tel_data.info()"
      ]
    },
    {
      "cell_type": "markdown",
      "metadata": {
        "id": "mElalLeQktis"
      },
      "source": [
        "### Исследуем данные на аномалии"
      ]
    },
    {
      "cell_type": "code",
      "execution_count": null,
      "metadata": {
        "colab": {
          "base_uri": "https://localhost:8080/",
          "height": 300
        },
        "id": "gBZJX3z4lWxk",
        "outputId": "ab4ae078-4a1b-49b3-f444-e20aa5330745"
      },
      "outputs": [
        {
          "output_type": "execute_result",
          "data": {
            "text/plain": [
              "             user_id     direction    operator_id   calls_count  \\\n",
              "count   41546.000000  41546.000000   41546.000000  41546.000000   \n",
              "mean   167301.311992      0.306480  916523.315409     16.900424   \n",
              "std       600.418838      0.461037   21230.041008     59.749373   \n",
              "min    166377.000000      0.000000  879896.000000      1.000000   \n",
              "25%    166782.000000      0.000000  900790.500000      1.000000   \n",
              "50%    167175.000000      0.000000  913938.000000      4.000000   \n",
              "75%    167827.000000      1.000000  937708.000000     13.000000   \n",
              "max    168606.000000      1.000000  973286.000000   4817.000000   \n",
              "\n",
              "       call_duration  total_call_duration  \n",
              "count   41546.000000         41546.000000  \n",
              "mean     1009.769172          1321.592813  \n",
              "std      4064.106117          4785.978633  \n",
              "min         0.000000             0.000000  \n",
              "25%         0.000000            67.000000  \n",
              "50%       106.000000           288.000000  \n",
              "75%       770.000000          1104.000000  \n",
              "max    144395.000000        166155.000000  "
            ],
            "text/html": [
              "\n",
              "  <div id=\"df-9432519c-ab5f-432d-8909-00a3bf9166db\">\n",
              "    <div class=\"colab-df-container\">\n",
              "      <div>\n",
              "<style scoped>\n",
              "    .dataframe tbody tr th:only-of-type {\n",
              "        vertical-align: middle;\n",
              "    }\n",
              "\n",
              "    .dataframe tbody tr th {\n",
              "        vertical-align: top;\n",
              "    }\n",
              "\n",
              "    .dataframe thead th {\n",
              "        text-align: right;\n",
              "    }\n",
              "</style>\n",
              "<table border=\"1\" class=\"dataframe\">\n",
              "  <thead>\n",
              "    <tr style=\"text-align: right;\">\n",
              "      <th></th>\n",
              "      <th>user_id</th>\n",
              "      <th>direction</th>\n",
              "      <th>operator_id</th>\n",
              "      <th>calls_count</th>\n",
              "      <th>call_duration</th>\n",
              "      <th>total_call_duration</th>\n",
              "    </tr>\n",
              "  </thead>\n",
              "  <tbody>\n",
              "    <tr>\n",
              "      <th>count</th>\n",
              "      <td>41546.000000</td>\n",
              "      <td>41546.000000</td>\n",
              "      <td>41546.000000</td>\n",
              "      <td>41546.000000</td>\n",
              "      <td>41546.000000</td>\n",
              "      <td>41546.000000</td>\n",
              "    </tr>\n",
              "    <tr>\n",
              "      <th>mean</th>\n",
              "      <td>167301.311992</td>\n",
              "      <td>0.306480</td>\n",
              "      <td>916523.315409</td>\n",
              "      <td>16.900424</td>\n",
              "      <td>1009.769172</td>\n",
              "      <td>1321.592813</td>\n",
              "    </tr>\n",
              "    <tr>\n",
              "      <th>std</th>\n",
              "      <td>600.418838</td>\n",
              "      <td>0.461037</td>\n",
              "      <td>21230.041008</td>\n",
              "      <td>59.749373</td>\n",
              "      <td>4064.106117</td>\n",
              "      <td>4785.978633</td>\n",
              "    </tr>\n",
              "    <tr>\n",
              "      <th>min</th>\n",
              "      <td>166377.000000</td>\n",
              "      <td>0.000000</td>\n",
              "      <td>879896.000000</td>\n",
              "      <td>1.000000</td>\n",
              "      <td>0.000000</td>\n",
              "      <td>0.000000</td>\n",
              "    </tr>\n",
              "    <tr>\n",
              "      <th>25%</th>\n",
              "      <td>166782.000000</td>\n",
              "      <td>0.000000</td>\n",
              "      <td>900790.500000</td>\n",
              "      <td>1.000000</td>\n",
              "      <td>0.000000</td>\n",
              "      <td>67.000000</td>\n",
              "    </tr>\n",
              "    <tr>\n",
              "      <th>50%</th>\n",
              "      <td>167175.000000</td>\n",
              "      <td>0.000000</td>\n",
              "      <td>913938.000000</td>\n",
              "      <td>4.000000</td>\n",
              "      <td>106.000000</td>\n",
              "      <td>288.000000</td>\n",
              "    </tr>\n",
              "    <tr>\n",
              "      <th>75%</th>\n",
              "      <td>167827.000000</td>\n",
              "      <td>1.000000</td>\n",
              "      <td>937708.000000</td>\n",
              "      <td>13.000000</td>\n",
              "      <td>770.000000</td>\n",
              "      <td>1104.000000</td>\n",
              "    </tr>\n",
              "    <tr>\n",
              "      <th>max</th>\n",
              "      <td>168606.000000</td>\n",
              "      <td>1.000000</td>\n",
              "      <td>973286.000000</td>\n",
              "      <td>4817.000000</td>\n",
              "      <td>144395.000000</td>\n",
              "      <td>166155.000000</td>\n",
              "    </tr>\n",
              "  </tbody>\n",
              "</table>\n",
              "</div>\n",
              "      <button class=\"colab-df-convert\" onclick=\"convertToInteractive('df-9432519c-ab5f-432d-8909-00a3bf9166db')\"\n",
              "              title=\"Convert this dataframe to an interactive table.\"\n",
              "              style=\"display:none;\">\n",
              "        \n",
              "  <svg xmlns=\"http://www.w3.org/2000/svg\" height=\"24px\"viewBox=\"0 0 24 24\"\n",
              "       width=\"24px\">\n",
              "    <path d=\"M0 0h24v24H0V0z\" fill=\"none\"/>\n",
              "    <path d=\"M18.56 5.44l.94 2.06.94-2.06 2.06-.94-2.06-.94-.94-2.06-.94 2.06-2.06.94zm-11 1L8.5 8.5l.94-2.06 2.06-.94-2.06-.94L8.5 2.5l-.94 2.06-2.06.94zm10 10l.94 2.06.94-2.06 2.06-.94-2.06-.94-.94-2.06-.94 2.06-2.06.94z\"/><path d=\"M17.41 7.96l-1.37-1.37c-.4-.4-.92-.59-1.43-.59-.52 0-1.04.2-1.43.59L10.3 9.45l-7.72 7.72c-.78.78-.78 2.05 0 2.83L4 21.41c.39.39.9.59 1.41.59.51 0 1.02-.2 1.41-.59l7.78-7.78 2.81-2.81c.8-.78.8-2.07 0-2.86zM5.41 20L4 18.59l7.72-7.72 1.47 1.35L5.41 20z\"/>\n",
              "  </svg>\n",
              "      </button>\n",
              "      \n",
              "  <style>\n",
              "    .colab-df-container {\n",
              "      display:flex;\n",
              "      flex-wrap:wrap;\n",
              "      gap: 12px;\n",
              "    }\n",
              "\n",
              "    .colab-df-convert {\n",
              "      background-color: #E8F0FE;\n",
              "      border: none;\n",
              "      border-radius: 50%;\n",
              "      cursor: pointer;\n",
              "      display: none;\n",
              "      fill: #1967D2;\n",
              "      height: 32px;\n",
              "      padding: 0 0 0 0;\n",
              "      width: 32px;\n",
              "    }\n",
              "\n",
              "    .colab-df-convert:hover {\n",
              "      background-color: #E2EBFA;\n",
              "      box-shadow: 0px 1px 2px rgba(60, 64, 67, 0.3), 0px 1px 3px 1px rgba(60, 64, 67, 0.15);\n",
              "      fill: #174EA6;\n",
              "    }\n",
              "\n",
              "    [theme=dark] .colab-df-convert {\n",
              "      background-color: #3B4455;\n",
              "      fill: #D2E3FC;\n",
              "    }\n",
              "\n",
              "    [theme=dark] .colab-df-convert:hover {\n",
              "      background-color: #434B5C;\n",
              "      box-shadow: 0px 1px 3px 1px rgba(0, 0, 0, 0.15);\n",
              "      filter: drop-shadow(0px 1px 2px rgba(0, 0, 0, 0.3));\n",
              "      fill: #FFFFFF;\n",
              "    }\n",
              "  </style>\n",
              "\n",
              "      <script>\n",
              "        const buttonEl =\n",
              "          document.querySelector('#df-9432519c-ab5f-432d-8909-00a3bf9166db button.colab-df-convert');\n",
              "        buttonEl.style.display =\n",
              "          google.colab.kernel.accessAllowed ? 'block' : 'none';\n",
              "\n",
              "        async function convertToInteractive(key) {\n",
              "          const element = document.querySelector('#df-9432519c-ab5f-432d-8909-00a3bf9166db');\n",
              "          const dataTable =\n",
              "            await google.colab.kernel.invokeFunction('convertToInteractive',\n",
              "                                                     [key], {});\n",
              "          if (!dataTable) return;\n",
              "\n",
              "          const docLinkHtml = 'Like what you see? Visit the ' +\n",
              "            '<a target=\"_blank\" href=https://colab.research.google.com/notebooks/data_table.ipynb>data table notebook</a>'\n",
              "            + ' to learn more about interactive tables.';\n",
              "          element.innerHTML = '';\n",
              "          dataTable['output_type'] = 'display_data';\n",
              "          await google.colab.output.renderOutput(dataTable, element);\n",
              "          const docLink = document.createElement('div');\n",
              "          docLink.innerHTML = docLinkHtml;\n",
              "          element.appendChild(docLink);\n",
              "        }\n",
              "      </script>\n",
              "    </div>\n",
              "  </div>\n",
              "  "
            ]
          },
          "metadata": {},
          "execution_count": 31
        }
      ],
      "source": [
        "tel_data.describe()"
      ]
    },
    {
      "cell_type": "markdown",
      "metadata": {
        "id": "Jm0xcd-glVlH"
      },
      "source": [
        "Вызывает сомнение самое большое количество звонков 4817, которое совершил какой-то оператор. "
      ]
    },
    {
      "cell_type": "code",
      "execution_count": null,
      "metadata": {
        "colab": {
          "base_uri": "https://localhost:8080/",
          "height": 81
        },
        "id": "1IYnFsEUlmWW",
        "outputId": "4d6a5b78-415d-4457-b1d9-a08dcf159816"
      },
      "outputs": [
        {
          "output_type": "execute_result",
          "data": {
            "text/plain": [
              "       user_id       date  direction internal  operator_id  is_missed_call  \\\n",
              "40733   167827 2019-11-11          0    False       929428            True   \n",
              "\n",
              "       calls_count  call_duration  total_call_duration  \n",
              "40733         4817              0                 5529  "
            ],
            "text/html": [
              "\n",
              "  <div id=\"df-f7ad411e-5e11-482b-bfd3-411f2e1a8387\">\n",
              "    <div class=\"colab-df-container\">\n",
              "      <div>\n",
              "<style scoped>\n",
              "    .dataframe tbody tr th:only-of-type {\n",
              "        vertical-align: middle;\n",
              "    }\n",
              "\n",
              "    .dataframe tbody tr th {\n",
              "        vertical-align: top;\n",
              "    }\n",
              "\n",
              "    .dataframe thead th {\n",
              "        text-align: right;\n",
              "    }\n",
              "</style>\n",
              "<table border=\"1\" class=\"dataframe\">\n",
              "  <thead>\n",
              "    <tr style=\"text-align: right;\">\n",
              "      <th></th>\n",
              "      <th>user_id</th>\n",
              "      <th>date</th>\n",
              "      <th>direction</th>\n",
              "      <th>internal</th>\n",
              "      <th>operator_id</th>\n",
              "      <th>is_missed_call</th>\n",
              "      <th>calls_count</th>\n",
              "      <th>call_duration</th>\n",
              "      <th>total_call_duration</th>\n",
              "    </tr>\n",
              "  </thead>\n",
              "  <tbody>\n",
              "    <tr>\n",
              "      <th>40733</th>\n",
              "      <td>167827</td>\n",
              "      <td>2019-11-11</td>\n",
              "      <td>0</td>\n",
              "      <td>False</td>\n",
              "      <td>929428</td>\n",
              "      <td>True</td>\n",
              "      <td>4817</td>\n",
              "      <td>0</td>\n",
              "      <td>5529</td>\n",
              "    </tr>\n",
              "  </tbody>\n",
              "</table>\n",
              "</div>\n",
              "      <button class=\"colab-df-convert\" onclick=\"convertToInteractive('df-f7ad411e-5e11-482b-bfd3-411f2e1a8387')\"\n",
              "              title=\"Convert this dataframe to an interactive table.\"\n",
              "              style=\"display:none;\">\n",
              "        \n",
              "  <svg xmlns=\"http://www.w3.org/2000/svg\" height=\"24px\"viewBox=\"0 0 24 24\"\n",
              "       width=\"24px\">\n",
              "    <path d=\"M0 0h24v24H0V0z\" fill=\"none\"/>\n",
              "    <path d=\"M18.56 5.44l.94 2.06.94-2.06 2.06-.94-2.06-.94-.94-2.06-.94 2.06-2.06.94zm-11 1L8.5 8.5l.94-2.06 2.06-.94-2.06-.94L8.5 2.5l-.94 2.06-2.06.94zm10 10l.94 2.06.94-2.06 2.06-.94-2.06-.94-.94-2.06-.94 2.06-2.06.94z\"/><path d=\"M17.41 7.96l-1.37-1.37c-.4-.4-.92-.59-1.43-.59-.52 0-1.04.2-1.43.59L10.3 9.45l-7.72 7.72c-.78.78-.78 2.05 0 2.83L4 21.41c.39.39.9.59 1.41.59.51 0 1.02-.2 1.41-.59l7.78-7.78 2.81-2.81c.8-.78.8-2.07 0-2.86zM5.41 20L4 18.59l7.72-7.72 1.47 1.35L5.41 20z\"/>\n",
              "  </svg>\n",
              "      </button>\n",
              "      \n",
              "  <style>\n",
              "    .colab-df-container {\n",
              "      display:flex;\n",
              "      flex-wrap:wrap;\n",
              "      gap: 12px;\n",
              "    }\n",
              "\n",
              "    .colab-df-convert {\n",
              "      background-color: #E8F0FE;\n",
              "      border: none;\n",
              "      border-radius: 50%;\n",
              "      cursor: pointer;\n",
              "      display: none;\n",
              "      fill: #1967D2;\n",
              "      height: 32px;\n",
              "      padding: 0 0 0 0;\n",
              "      width: 32px;\n",
              "    }\n",
              "\n",
              "    .colab-df-convert:hover {\n",
              "      background-color: #E2EBFA;\n",
              "      box-shadow: 0px 1px 2px rgba(60, 64, 67, 0.3), 0px 1px 3px 1px rgba(60, 64, 67, 0.15);\n",
              "      fill: #174EA6;\n",
              "    }\n",
              "\n",
              "    [theme=dark] .colab-df-convert {\n",
              "      background-color: #3B4455;\n",
              "      fill: #D2E3FC;\n",
              "    }\n",
              "\n",
              "    [theme=dark] .colab-df-convert:hover {\n",
              "      background-color: #434B5C;\n",
              "      box-shadow: 0px 1px 3px 1px rgba(0, 0, 0, 0.15);\n",
              "      filter: drop-shadow(0px 1px 2px rgba(0, 0, 0, 0.3));\n",
              "      fill: #FFFFFF;\n",
              "    }\n",
              "  </style>\n",
              "\n",
              "      <script>\n",
              "        const buttonEl =\n",
              "          document.querySelector('#df-f7ad411e-5e11-482b-bfd3-411f2e1a8387 button.colab-df-convert');\n",
              "        buttonEl.style.display =\n",
              "          google.colab.kernel.accessAllowed ? 'block' : 'none';\n",
              "\n",
              "        async function convertToInteractive(key) {\n",
              "          const element = document.querySelector('#df-f7ad411e-5e11-482b-bfd3-411f2e1a8387');\n",
              "          const dataTable =\n",
              "            await google.colab.kernel.invokeFunction('convertToInteractive',\n",
              "                                                     [key], {});\n",
              "          if (!dataTable) return;\n",
              "\n",
              "          const docLinkHtml = 'Like what you see? Visit the ' +\n",
              "            '<a target=\"_blank\" href=https://colab.research.google.com/notebooks/data_table.ipynb>data table notebook</a>'\n",
              "            + ' to learn more about interactive tables.';\n",
              "          element.innerHTML = '';\n",
              "          dataTable['output_type'] = 'display_data';\n",
              "          await google.colab.output.renderOutput(dataTable, element);\n",
              "          const docLink = document.createElement('div');\n",
              "          docLink.innerHTML = docLinkHtml;\n",
              "          element.appendChild(docLink);\n",
              "        }\n",
              "      </script>\n",
              "    </div>\n",
              "  </div>\n",
              "  "
            ]
          },
          "metadata": {},
          "execution_count": 32
        }
      ],
      "source": [
        "tel_data.query('calls_count == 4817')"
      ]
    },
    {
      "cell_type": "markdown",
      "metadata": {
        "id": "QDWoYKanlrft"
      },
      "source": [
        "Это были исходящие звонки, продолжительность разговора по ним 0, общая продолжительность 5529. Если считать, что время измеряется в минутах, то это 92 часа. Такого не может быть в рамках 1 суток, знгачит время измеряется в данном файле в секундах. Значит время ожидания по каждому звонку 1-2 секунды. Скорее всего это накручено какой-то программой, которая набирала номер и сбрасывала его. Нужно сообщить клиенту о таком операторе похоже на мошенничество, особенно если оплата у оператора проходит по количеству совершенных звонков. "
      ]
    },
    {
      "cell_type": "markdown",
      "metadata": {
        "id": "3Jipu9IwmOkI"
      },
      "source": [
        "В целом если предположить, что рабочий день у операторов не больше 12 часов, то больше 1440 звонков (2 звонка в минуту) совершить мало вероятно, посмотрим есть ли еще такие операторы"
      ]
    },
    {
      "cell_type": "code",
      "execution_count": null,
      "metadata": {
        "colab": {
          "base_uri": "https://localhost:8080/",
          "height": 206
        },
        "id": "A38L7YmtmW2Z",
        "outputId": "be3adfbf-ca10-448c-8793-00a0142cb961"
      },
      "outputs": [
        {
          "output_type": "execute_result",
          "data": {
            "text/plain": [
              "       user_id       date  direction internal  operator_id  is_missed_call  \\\n",
              "6984    166582 2019-10-01          0    False       885876           False   \n",
              "40671   167827 2019-10-31          0    False       929428            True   \n",
              "40680   167827 2019-11-01          0    False       929428            True   \n",
              "40690   167827 2019-11-05          0    False       929428            True   \n",
              "40733   167827 2019-11-11          0    False       929428            True   \n",
              "\n",
              "       calls_count  call_duration  total_call_duration  \n",
              "6984          1480          86910               113843  \n",
              "40671         2614              0                45312  \n",
              "40680         1529              0                28017  \n",
              "40690         1533              0                27889  \n",
              "40733         4817              0                 5529  "
            ],
            "text/html": [
              "\n",
              "  <div id=\"df-06a75e1a-cef6-4d46-9a02-a8a94d1e13ad\">\n",
              "    <div class=\"colab-df-container\">\n",
              "      <div>\n",
              "<style scoped>\n",
              "    .dataframe tbody tr th:only-of-type {\n",
              "        vertical-align: middle;\n",
              "    }\n",
              "\n",
              "    .dataframe tbody tr th {\n",
              "        vertical-align: top;\n",
              "    }\n",
              "\n",
              "    .dataframe thead th {\n",
              "        text-align: right;\n",
              "    }\n",
              "</style>\n",
              "<table border=\"1\" class=\"dataframe\">\n",
              "  <thead>\n",
              "    <tr style=\"text-align: right;\">\n",
              "      <th></th>\n",
              "      <th>user_id</th>\n",
              "      <th>date</th>\n",
              "      <th>direction</th>\n",
              "      <th>internal</th>\n",
              "      <th>operator_id</th>\n",
              "      <th>is_missed_call</th>\n",
              "      <th>calls_count</th>\n",
              "      <th>call_duration</th>\n",
              "      <th>total_call_duration</th>\n",
              "    </tr>\n",
              "  </thead>\n",
              "  <tbody>\n",
              "    <tr>\n",
              "      <th>6984</th>\n",
              "      <td>166582</td>\n",
              "      <td>2019-10-01</td>\n",
              "      <td>0</td>\n",
              "      <td>False</td>\n",
              "      <td>885876</td>\n",
              "      <td>False</td>\n",
              "      <td>1480</td>\n",
              "      <td>86910</td>\n",
              "      <td>113843</td>\n",
              "    </tr>\n",
              "    <tr>\n",
              "      <th>40671</th>\n",
              "      <td>167827</td>\n",
              "      <td>2019-10-31</td>\n",
              "      <td>0</td>\n",
              "      <td>False</td>\n",
              "      <td>929428</td>\n",
              "      <td>True</td>\n",
              "      <td>2614</td>\n",
              "      <td>0</td>\n",
              "      <td>45312</td>\n",
              "    </tr>\n",
              "    <tr>\n",
              "      <th>40680</th>\n",
              "      <td>167827</td>\n",
              "      <td>2019-11-01</td>\n",
              "      <td>0</td>\n",
              "      <td>False</td>\n",
              "      <td>929428</td>\n",
              "      <td>True</td>\n",
              "      <td>1529</td>\n",
              "      <td>0</td>\n",
              "      <td>28017</td>\n",
              "    </tr>\n",
              "    <tr>\n",
              "      <th>40690</th>\n",
              "      <td>167827</td>\n",
              "      <td>2019-11-05</td>\n",
              "      <td>0</td>\n",
              "      <td>False</td>\n",
              "      <td>929428</td>\n",
              "      <td>True</td>\n",
              "      <td>1533</td>\n",
              "      <td>0</td>\n",
              "      <td>27889</td>\n",
              "    </tr>\n",
              "    <tr>\n",
              "      <th>40733</th>\n",
              "      <td>167827</td>\n",
              "      <td>2019-11-11</td>\n",
              "      <td>0</td>\n",
              "      <td>False</td>\n",
              "      <td>929428</td>\n",
              "      <td>True</td>\n",
              "      <td>4817</td>\n",
              "      <td>0</td>\n",
              "      <td>5529</td>\n",
              "    </tr>\n",
              "  </tbody>\n",
              "</table>\n",
              "</div>\n",
              "      <button class=\"colab-df-convert\" onclick=\"convertToInteractive('df-06a75e1a-cef6-4d46-9a02-a8a94d1e13ad')\"\n",
              "              title=\"Convert this dataframe to an interactive table.\"\n",
              "              style=\"display:none;\">\n",
              "        \n",
              "  <svg xmlns=\"http://www.w3.org/2000/svg\" height=\"24px\"viewBox=\"0 0 24 24\"\n",
              "       width=\"24px\">\n",
              "    <path d=\"M0 0h24v24H0V0z\" fill=\"none\"/>\n",
              "    <path d=\"M18.56 5.44l.94 2.06.94-2.06 2.06-.94-2.06-.94-.94-2.06-.94 2.06-2.06.94zm-11 1L8.5 8.5l.94-2.06 2.06-.94-2.06-.94L8.5 2.5l-.94 2.06-2.06.94zm10 10l.94 2.06.94-2.06 2.06-.94-2.06-.94-.94-2.06-.94 2.06-2.06.94z\"/><path d=\"M17.41 7.96l-1.37-1.37c-.4-.4-.92-.59-1.43-.59-.52 0-1.04.2-1.43.59L10.3 9.45l-7.72 7.72c-.78.78-.78 2.05 0 2.83L4 21.41c.39.39.9.59 1.41.59.51 0 1.02-.2 1.41-.59l7.78-7.78 2.81-2.81c.8-.78.8-2.07 0-2.86zM5.41 20L4 18.59l7.72-7.72 1.47 1.35L5.41 20z\"/>\n",
              "  </svg>\n",
              "      </button>\n",
              "      \n",
              "  <style>\n",
              "    .colab-df-container {\n",
              "      display:flex;\n",
              "      flex-wrap:wrap;\n",
              "      gap: 12px;\n",
              "    }\n",
              "\n",
              "    .colab-df-convert {\n",
              "      background-color: #E8F0FE;\n",
              "      border: none;\n",
              "      border-radius: 50%;\n",
              "      cursor: pointer;\n",
              "      display: none;\n",
              "      fill: #1967D2;\n",
              "      height: 32px;\n",
              "      padding: 0 0 0 0;\n",
              "      width: 32px;\n",
              "    }\n",
              "\n",
              "    .colab-df-convert:hover {\n",
              "      background-color: #E2EBFA;\n",
              "      box-shadow: 0px 1px 2px rgba(60, 64, 67, 0.3), 0px 1px 3px 1px rgba(60, 64, 67, 0.15);\n",
              "      fill: #174EA6;\n",
              "    }\n",
              "\n",
              "    [theme=dark] .colab-df-convert {\n",
              "      background-color: #3B4455;\n",
              "      fill: #D2E3FC;\n",
              "    }\n",
              "\n",
              "    [theme=dark] .colab-df-convert:hover {\n",
              "      background-color: #434B5C;\n",
              "      box-shadow: 0px 1px 3px 1px rgba(0, 0, 0, 0.15);\n",
              "      filter: drop-shadow(0px 1px 2px rgba(0, 0, 0, 0.3));\n",
              "      fill: #FFFFFF;\n",
              "    }\n",
              "  </style>\n",
              "\n",
              "      <script>\n",
              "        const buttonEl =\n",
              "          document.querySelector('#df-06a75e1a-cef6-4d46-9a02-a8a94d1e13ad button.colab-df-convert');\n",
              "        buttonEl.style.display =\n",
              "          google.colab.kernel.accessAllowed ? 'block' : 'none';\n",
              "\n",
              "        async function convertToInteractive(key) {\n",
              "          const element = document.querySelector('#df-06a75e1a-cef6-4d46-9a02-a8a94d1e13ad');\n",
              "          const dataTable =\n",
              "            await google.colab.kernel.invokeFunction('convertToInteractive',\n",
              "                                                     [key], {});\n",
              "          if (!dataTable) return;\n",
              "\n",
              "          const docLinkHtml = 'Like what you see? Visit the ' +\n",
              "            '<a target=\"_blank\" href=https://colab.research.google.com/notebooks/data_table.ipynb>data table notebook</a>'\n",
              "            + ' to learn more about interactive tables.';\n",
              "          element.innerHTML = '';\n",
              "          dataTable['output_type'] = 'display_data';\n",
              "          await google.colab.output.renderOutput(dataTable, element);\n",
              "          const docLink = document.createElement('div');\n",
              "          docLink.innerHTML = docLinkHtml;\n",
              "          element.appendChild(docLink);\n",
              "        }\n",
              "      </script>\n",
              "    </div>\n",
              "  </div>\n",
              "  "
            ]
          },
          "metadata": {},
          "execution_count": 33
        }
      ],
      "source": [
        "tel_data.query('calls_count > 1440')"
      ]
    },
    {
      "cell_type": "markdown",
      "metadata": {
        "id": "DFEpvuv_nurK"
      },
      "source": [
        "У этого же оператора есть еще 3 таких дня с большим количеством звонков с нулевой продолжительностью разговора. \n",
        "\n",
        "Также есть оператор 885876, у него звонки похожи на настоящие, их чуть больше 1440, но есть продолжительность разговора, в среднем 58 секунд на звонок. "
      ]
    },
    {
      "cell_type": "markdown",
      "metadata": {
        "id": "1i-KNE4LqxdI"
      },
      "source": [
        "Посмотрим на другие дни оператора 929428"
      ]
    },
    {
      "cell_type": "code",
      "execution_count": null,
      "metadata": {
        "colab": {
          "base_uri": "https://localhost:8080/",
          "height": 676
        },
        "id": "TWdGG2_xntpp",
        "outputId": "f769dfa9-5be1-4d1d-e271-ef6c7c48c30d"
      },
      "outputs": [
        {
          "output_type": "execute_result",
          "data": {
            "text/plain": [
              "       user_id       date  direction internal  operator_id  is_missed_call  \\\n",
              "40733   167827 2019-11-11          0    False       929428            True   \n",
              "40671   167827 2019-10-31          0    False       929428            True   \n",
              "40690   167827 2019-11-05          0    False       929428            True   \n",
              "40680   167827 2019-11-01          0    False       929428            True   \n",
              "40708   167827 2019-11-07          0    False       929428            True   \n",
              "40701   167827 2019-11-06          0    False       929428            True   \n",
              "40718   167827 2019-11-08          0    False       929428            True   \n",
              "40656   167827 2019-10-29          0    False       929428            True   \n",
              "40661   167827 2019-10-30          0    False       929428            True   \n",
              "40646   167827 2019-10-28          0    False       929428            True   \n",
              "40630   167827 2019-10-25          0    False       929428            True   \n",
              "40629   167827 2019-10-24          0    False       929428            True   \n",
              "40573   167827 2019-10-17          0    False       929428            True   \n",
              "40721   167827 2019-11-09          0    False       929428            True   \n",
              "40559   167827 2019-10-16          0    False       929428            True   \n",
              "40756   167827 2019-11-16          0    False       929428            True   \n",
              "40617   167827 2019-10-23          0    False       929428            True   \n",
              "40632   167827 2019-10-25          0    False       929428           False   \n",
              "40683   167827 2019-11-01          0    False       929428           False   \n",
              "40713   167827 2019-11-08          0    False       929428           False   \n",
              "\n",
              "       calls_count  call_duration  total_call_duration  \n",
              "40733         4817              0                 5529  \n",
              "40671         2614              0                45312  \n",
              "40690         1533              0                27889  \n",
              "40680         1529              0                28017  \n",
              "40708         1365              0                24450  \n",
              "40701         1045              0                18978  \n",
              "40718          685              0                12423  \n",
              "40656          593              0                10177  \n",
              "40661          437              0                 8370  \n",
              "40646          383              0                 8752  \n",
              "40630          360              0                 8116  \n",
              "40629          359              0                 7588  \n",
              "40573          351              0                 8032  \n",
              "40721          338              0                 7150  \n",
              "40559          303              0                 7114  \n",
              "40756          293              0                 7011  \n",
              "40617          288              0                 6634  \n",
              "40632          273          22270                27204  \n",
              "40683          273          14584                19081  \n",
              "40713          241          13101                17201  "
            ],
            "text/html": [
              "\n",
              "  <div id=\"df-97b8c58a-5d42-496d-a49d-bc566b43604b\">\n",
              "    <div class=\"colab-df-container\">\n",
              "      <div>\n",
              "<style scoped>\n",
              "    .dataframe tbody tr th:only-of-type {\n",
              "        vertical-align: middle;\n",
              "    }\n",
              "\n",
              "    .dataframe tbody tr th {\n",
              "        vertical-align: top;\n",
              "    }\n",
              "\n",
              "    .dataframe thead th {\n",
              "        text-align: right;\n",
              "    }\n",
              "</style>\n",
              "<table border=\"1\" class=\"dataframe\">\n",
              "  <thead>\n",
              "    <tr style=\"text-align: right;\">\n",
              "      <th></th>\n",
              "      <th>user_id</th>\n",
              "      <th>date</th>\n",
              "      <th>direction</th>\n",
              "      <th>internal</th>\n",
              "      <th>operator_id</th>\n",
              "      <th>is_missed_call</th>\n",
              "      <th>calls_count</th>\n",
              "      <th>call_duration</th>\n",
              "      <th>total_call_duration</th>\n",
              "    </tr>\n",
              "  </thead>\n",
              "  <tbody>\n",
              "    <tr>\n",
              "      <th>40733</th>\n",
              "      <td>167827</td>\n",
              "      <td>2019-11-11</td>\n",
              "      <td>0</td>\n",
              "      <td>False</td>\n",
              "      <td>929428</td>\n",
              "      <td>True</td>\n",
              "      <td>4817</td>\n",
              "      <td>0</td>\n",
              "      <td>5529</td>\n",
              "    </tr>\n",
              "    <tr>\n",
              "      <th>40671</th>\n",
              "      <td>167827</td>\n",
              "      <td>2019-10-31</td>\n",
              "      <td>0</td>\n",
              "      <td>False</td>\n",
              "      <td>929428</td>\n",
              "      <td>True</td>\n",
              "      <td>2614</td>\n",
              "      <td>0</td>\n",
              "      <td>45312</td>\n",
              "    </tr>\n",
              "    <tr>\n",
              "      <th>40690</th>\n",
              "      <td>167827</td>\n",
              "      <td>2019-11-05</td>\n",
              "      <td>0</td>\n",
              "      <td>False</td>\n",
              "      <td>929428</td>\n",
              "      <td>True</td>\n",
              "      <td>1533</td>\n",
              "      <td>0</td>\n",
              "      <td>27889</td>\n",
              "    </tr>\n",
              "    <tr>\n",
              "      <th>40680</th>\n",
              "      <td>167827</td>\n",
              "      <td>2019-11-01</td>\n",
              "      <td>0</td>\n",
              "      <td>False</td>\n",
              "      <td>929428</td>\n",
              "      <td>True</td>\n",
              "      <td>1529</td>\n",
              "      <td>0</td>\n",
              "      <td>28017</td>\n",
              "    </tr>\n",
              "    <tr>\n",
              "      <th>40708</th>\n",
              "      <td>167827</td>\n",
              "      <td>2019-11-07</td>\n",
              "      <td>0</td>\n",
              "      <td>False</td>\n",
              "      <td>929428</td>\n",
              "      <td>True</td>\n",
              "      <td>1365</td>\n",
              "      <td>0</td>\n",
              "      <td>24450</td>\n",
              "    </tr>\n",
              "    <tr>\n",
              "      <th>40701</th>\n",
              "      <td>167827</td>\n",
              "      <td>2019-11-06</td>\n",
              "      <td>0</td>\n",
              "      <td>False</td>\n",
              "      <td>929428</td>\n",
              "      <td>True</td>\n",
              "      <td>1045</td>\n",
              "      <td>0</td>\n",
              "      <td>18978</td>\n",
              "    </tr>\n",
              "    <tr>\n",
              "      <th>40718</th>\n",
              "      <td>167827</td>\n",
              "      <td>2019-11-08</td>\n",
              "      <td>0</td>\n",
              "      <td>False</td>\n",
              "      <td>929428</td>\n",
              "      <td>True</td>\n",
              "      <td>685</td>\n",
              "      <td>0</td>\n",
              "      <td>12423</td>\n",
              "    </tr>\n",
              "    <tr>\n",
              "      <th>40656</th>\n",
              "      <td>167827</td>\n",
              "      <td>2019-10-29</td>\n",
              "      <td>0</td>\n",
              "      <td>False</td>\n",
              "      <td>929428</td>\n",
              "      <td>True</td>\n",
              "      <td>593</td>\n",
              "      <td>0</td>\n",
              "      <td>10177</td>\n",
              "    </tr>\n",
              "    <tr>\n",
              "      <th>40661</th>\n",
              "      <td>167827</td>\n",
              "      <td>2019-10-30</td>\n",
              "      <td>0</td>\n",
              "      <td>False</td>\n",
              "      <td>929428</td>\n",
              "      <td>True</td>\n",
              "      <td>437</td>\n",
              "      <td>0</td>\n",
              "      <td>8370</td>\n",
              "    </tr>\n",
              "    <tr>\n",
              "      <th>40646</th>\n",
              "      <td>167827</td>\n",
              "      <td>2019-10-28</td>\n",
              "      <td>0</td>\n",
              "      <td>False</td>\n",
              "      <td>929428</td>\n",
              "      <td>True</td>\n",
              "      <td>383</td>\n",
              "      <td>0</td>\n",
              "      <td>8752</td>\n",
              "    </tr>\n",
              "    <tr>\n",
              "      <th>40630</th>\n",
              "      <td>167827</td>\n",
              "      <td>2019-10-25</td>\n",
              "      <td>0</td>\n",
              "      <td>False</td>\n",
              "      <td>929428</td>\n",
              "      <td>True</td>\n",
              "      <td>360</td>\n",
              "      <td>0</td>\n",
              "      <td>8116</td>\n",
              "    </tr>\n",
              "    <tr>\n",
              "      <th>40629</th>\n",
              "      <td>167827</td>\n",
              "      <td>2019-10-24</td>\n",
              "      <td>0</td>\n",
              "      <td>False</td>\n",
              "      <td>929428</td>\n",
              "      <td>True</td>\n",
              "      <td>359</td>\n",
              "      <td>0</td>\n",
              "      <td>7588</td>\n",
              "    </tr>\n",
              "    <tr>\n",
              "      <th>40573</th>\n",
              "      <td>167827</td>\n",
              "      <td>2019-10-17</td>\n",
              "      <td>0</td>\n",
              "      <td>False</td>\n",
              "      <td>929428</td>\n",
              "      <td>True</td>\n",
              "      <td>351</td>\n",
              "      <td>0</td>\n",
              "      <td>8032</td>\n",
              "    </tr>\n",
              "    <tr>\n",
              "      <th>40721</th>\n",
              "      <td>167827</td>\n",
              "      <td>2019-11-09</td>\n",
              "      <td>0</td>\n",
              "      <td>False</td>\n",
              "      <td>929428</td>\n",
              "      <td>True</td>\n",
              "      <td>338</td>\n",
              "      <td>0</td>\n",
              "      <td>7150</td>\n",
              "    </tr>\n",
              "    <tr>\n",
              "      <th>40559</th>\n",
              "      <td>167827</td>\n",
              "      <td>2019-10-16</td>\n",
              "      <td>0</td>\n",
              "      <td>False</td>\n",
              "      <td>929428</td>\n",
              "      <td>True</td>\n",
              "      <td>303</td>\n",
              "      <td>0</td>\n",
              "      <td>7114</td>\n",
              "    </tr>\n",
              "    <tr>\n",
              "      <th>40756</th>\n",
              "      <td>167827</td>\n",
              "      <td>2019-11-16</td>\n",
              "      <td>0</td>\n",
              "      <td>False</td>\n",
              "      <td>929428</td>\n",
              "      <td>True</td>\n",
              "      <td>293</td>\n",
              "      <td>0</td>\n",
              "      <td>7011</td>\n",
              "    </tr>\n",
              "    <tr>\n",
              "      <th>40617</th>\n",
              "      <td>167827</td>\n",
              "      <td>2019-10-23</td>\n",
              "      <td>0</td>\n",
              "      <td>False</td>\n",
              "      <td>929428</td>\n",
              "      <td>True</td>\n",
              "      <td>288</td>\n",
              "      <td>0</td>\n",
              "      <td>6634</td>\n",
              "    </tr>\n",
              "    <tr>\n",
              "      <th>40632</th>\n",
              "      <td>167827</td>\n",
              "      <td>2019-10-25</td>\n",
              "      <td>0</td>\n",
              "      <td>False</td>\n",
              "      <td>929428</td>\n",
              "      <td>False</td>\n",
              "      <td>273</td>\n",
              "      <td>22270</td>\n",
              "      <td>27204</td>\n",
              "    </tr>\n",
              "    <tr>\n",
              "      <th>40683</th>\n",
              "      <td>167827</td>\n",
              "      <td>2019-11-01</td>\n",
              "      <td>0</td>\n",
              "      <td>False</td>\n",
              "      <td>929428</td>\n",
              "      <td>False</td>\n",
              "      <td>273</td>\n",
              "      <td>14584</td>\n",
              "      <td>19081</td>\n",
              "    </tr>\n",
              "    <tr>\n",
              "      <th>40713</th>\n",
              "      <td>167827</td>\n",
              "      <td>2019-11-08</td>\n",
              "      <td>0</td>\n",
              "      <td>False</td>\n",
              "      <td>929428</td>\n",
              "      <td>False</td>\n",
              "      <td>241</td>\n",
              "      <td>13101</td>\n",
              "      <td>17201</td>\n",
              "    </tr>\n",
              "  </tbody>\n",
              "</table>\n",
              "</div>\n",
              "      <button class=\"colab-df-convert\" onclick=\"convertToInteractive('df-97b8c58a-5d42-496d-a49d-bc566b43604b')\"\n",
              "              title=\"Convert this dataframe to an interactive table.\"\n",
              "              style=\"display:none;\">\n",
              "        \n",
              "  <svg xmlns=\"http://www.w3.org/2000/svg\" height=\"24px\"viewBox=\"0 0 24 24\"\n",
              "       width=\"24px\">\n",
              "    <path d=\"M0 0h24v24H0V0z\" fill=\"none\"/>\n",
              "    <path d=\"M18.56 5.44l.94 2.06.94-2.06 2.06-.94-2.06-.94-.94-2.06-.94 2.06-2.06.94zm-11 1L8.5 8.5l.94-2.06 2.06-.94-2.06-.94L8.5 2.5l-.94 2.06-2.06.94zm10 10l.94 2.06.94-2.06 2.06-.94-2.06-.94-.94-2.06-.94 2.06-2.06.94z\"/><path d=\"M17.41 7.96l-1.37-1.37c-.4-.4-.92-.59-1.43-.59-.52 0-1.04.2-1.43.59L10.3 9.45l-7.72 7.72c-.78.78-.78 2.05 0 2.83L4 21.41c.39.39.9.59 1.41.59.51 0 1.02-.2 1.41-.59l7.78-7.78 2.81-2.81c.8-.78.8-2.07 0-2.86zM5.41 20L4 18.59l7.72-7.72 1.47 1.35L5.41 20z\"/>\n",
              "  </svg>\n",
              "      </button>\n",
              "      \n",
              "  <style>\n",
              "    .colab-df-container {\n",
              "      display:flex;\n",
              "      flex-wrap:wrap;\n",
              "      gap: 12px;\n",
              "    }\n",
              "\n",
              "    .colab-df-convert {\n",
              "      background-color: #E8F0FE;\n",
              "      border: none;\n",
              "      border-radius: 50%;\n",
              "      cursor: pointer;\n",
              "      display: none;\n",
              "      fill: #1967D2;\n",
              "      height: 32px;\n",
              "      padding: 0 0 0 0;\n",
              "      width: 32px;\n",
              "    }\n",
              "\n",
              "    .colab-df-convert:hover {\n",
              "      background-color: #E2EBFA;\n",
              "      box-shadow: 0px 1px 2px rgba(60, 64, 67, 0.3), 0px 1px 3px 1px rgba(60, 64, 67, 0.15);\n",
              "      fill: #174EA6;\n",
              "    }\n",
              "\n",
              "    [theme=dark] .colab-df-convert {\n",
              "      background-color: #3B4455;\n",
              "      fill: #D2E3FC;\n",
              "    }\n",
              "\n",
              "    [theme=dark] .colab-df-convert:hover {\n",
              "      background-color: #434B5C;\n",
              "      box-shadow: 0px 1px 3px 1px rgba(0, 0, 0, 0.15);\n",
              "      filter: drop-shadow(0px 1px 2px rgba(0, 0, 0, 0.3));\n",
              "      fill: #FFFFFF;\n",
              "    }\n",
              "  </style>\n",
              "\n",
              "      <script>\n",
              "        const buttonEl =\n",
              "          document.querySelector('#df-97b8c58a-5d42-496d-a49d-bc566b43604b button.colab-df-convert');\n",
              "        buttonEl.style.display =\n",
              "          google.colab.kernel.accessAllowed ? 'block' : 'none';\n",
              "\n",
              "        async function convertToInteractive(key) {\n",
              "          const element = document.querySelector('#df-97b8c58a-5d42-496d-a49d-bc566b43604b');\n",
              "          const dataTable =\n",
              "            await google.colab.kernel.invokeFunction('convertToInteractive',\n",
              "                                                     [key], {});\n",
              "          if (!dataTable) return;\n",
              "\n",
              "          const docLinkHtml = 'Like what you see? Visit the ' +\n",
              "            '<a target=\"_blank\" href=https://colab.research.google.com/notebooks/data_table.ipynb>data table notebook</a>'\n",
              "            + ' to learn more about interactive tables.';\n",
              "          element.innerHTML = '';\n",
              "          dataTable['output_type'] = 'display_data';\n",
              "          await google.colab.output.renderOutput(dataTable, element);\n",
              "          const docLink = document.createElement('div');\n",
              "          docLink.innerHTML = docLinkHtml;\n",
              "          element.appendChild(docLink);\n",
              "        }\n",
              "      </script>\n",
              "    </div>\n",
              "  </div>\n",
              "  "
            ]
          },
          "metadata": {},
          "execution_count": 34
        }
      ],
      "source": [
        "tel_data.query('operator_id == 929428').sort_values(by='calls_count', ascending = False).head(20)"
      ]
    },
    {
      "cell_type": "markdown",
      "metadata": {
        "id": "D-vdKRGfrYq-"
      },
      "source": [
        "17 дней у оператора такие же, много звонков с 0 временем разговора. Правда ожидание уже побольше. "
      ]
    },
    {
      "cell_type": "code",
      "execution_count": null,
      "metadata": {
        "colab": {
          "base_uri": "https://localhost:8080/"
        },
        "id": "Tj4xPTq0r3Pv",
        "outputId": "6584b896-1084-4606-b074-3a45f4557d13"
      },
      "outputs": [
        {
          "output_type": "execute_result",
          "data": {
            "text/plain": [
              "array([929424, 929426, 929428])"
            ]
          },
          "metadata": {},
          "execution_count": 35
        }
      ],
      "source": [
        "tel_data.query('user_id == 167827')['operator_id'].unique()"
      ]
    },
    {
      "cell_type": "markdown",
      "metadata": {
        "id": "UgEJyZq3sLBA"
      },
      "source": [
        "У этого клиента не один оператор, есть еще 2. "
      ]
    },
    {
      "cell_type": "code",
      "execution_count": null,
      "metadata": {
        "colab": {
          "base_uri": "https://localhost:8080/",
          "height": 206
        },
        "id": "61bYuBlDsVQx",
        "outputId": "09d08148-5a25-487e-a1ec-fad7e93b24e3"
      },
      "outputs": [
        {
          "output_type": "execute_result",
          "data": {
            "text/plain": [
              "       user_id       date  direction internal  operator_id  is_missed_call  \\\n",
              "40520   167827 2019-10-10          0    False       929424           False   \n",
              "40527   167827 2019-10-11          0    False       929424           False   \n",
              "40523   167827 2019-10-11          0    False       929424            True   \n",
              "40514   167827 2019-10-10          0    False       929424            True   \n",
              "40546   167827 2019-10-14          0    False       929424            True   \n",
              "\n",
              "       calls_count  call_duration  total_call_duration  \n",
              "40520          970          41344                52466  \n",
              "40527          538          26153                32481  \n",
              "40523          498              0                 9794  \n",
              "40514          495              0                10489  \n",
              "40546          252              0                 5387  "
            ],
            "text/html": [
              "\n",
              "  <div id=\"df-5091b2a6-0e5e-48e4-a4ee-dc1fae28aed7\">\n",
              "    <div class=\"colab-df-container\">\n",
              "      <div>\n",
              "<style scoped>\n",
              "    .dataframe tbody tr th:only-of-type {\n",
              "        vertical-align: middle;\n",
              "    }\n",
              "\n",
              "    .dataframe tbody tr th {\n",
              "        vertical-align: top;\n",
              "    }\n",
              "\n",
              "    .dataframe thead th {\n",
              "        text-align: right;\n",
              "    }\n",
              "</style>\n",
              "<table border=\"1\" class=\"dataframe\">\n",
              "  <thead>\n",
              "    <tr style=\"text-align: right;\">\n",
              "      <th></th>\n",
              "      <th>user_id</th>\n",
              "      <th>date</th>\n",
              "      <th>direction</th>\n",
              "      <th>internal</th>\n",
              "      <th>operator_id</th>\n",
              "      <th>is_missed_call</th>\n",
              "      <th>calls_count</th>\n",
              "      <th>call_duration</th>\n",
              "      <th>total_call_duration</th>\n",
              "    </tr>\n",
              "  </thead>\n",
              "  <tbody>\n",
              "    <tr>\n",
              "      <th>40520</th>\n",
              "      <td>167827</td>\n",
              "      <td>2019-10-10</td>\n",
              "      <td>0</td>\n",
              "      <td>False</td>\n",
              "      <td>929424</td>\n",
              "      <td>False</td>\n",
              "      <td>970</td>\n",
              "      <td>41344</td>\n",
              "      <td>52466</td>\n",
              "    </tr>\n",
              "    <tr>\n",
              "      <th>40527</th>\n",
              "      <td>167827</td>\n",
              "      <td>2019-10-11</td>\n",
              "      <td>0</td>\n",
              "      <td>False</td>\n",
              "      <td>929424</td>\n",
              "      <td>False</td>\n",
              "      <td>538</td>\n",
              "      <td>26153</td>\n",
              "      <td>32481</td>\n",
              "    </tr>\n",
              "    <tr>\n",
              "      <th>40523</th>\n",
              "      <td>167827</td>\n",
              "      <td>2019-10-11</td>\n",
              "      <td>0</td>\n",
              "      <td>False</td>\n",
              "      <td>929424</td>\n",
              "      <td>True</td>\n",
              "      <td>498</td>\n",
              "      <td>0</td>\n",
              "      <td>9794</td>\n",
              "    </tr>\n",
              "    <tr>\n",
              "      <th>40514</th>\n",
              "      <td>167827</td>\n",
              "      <td>2019-10-10</td>\n",
              "      <td>0</td>\n",
              "      <td>False</td>\n",
              "      <td>929424</td>\n",
              "      <td>True</td>\n",
              "      <td>495</td>\n",
              "      <td>0</td>\n",
              "      <td>10489</td>\n",
              "    </tr>\n",
              "    <tr>\n",
              "      <th>40546</th>\n",
              "      <td>167827</td>\n",
              "      <td>2019-10-14</td>\n",
              "      <td>0</td>\n",
              "      <td>False</td>\n",
              "      <td>929424</td>\n",
              "      <td>True</td>\n",
              "      <td>252</td>\n",
              "      <td>0</td>\n",
              "      <td>5387</td>\n",
              "    </tr>\n",
              "  </tbody>\n",
              "</table>\n",
              "</div>\n",
              "      <button class=\"colab-df-convert\" onclick=\"convertToInteractive('df-5091b2a6-0e5e-48e4-a4ee-dc1fae28aed7')\"\n",
              "              title=\"Convert this dataframe to an interactive table.\"\n",
              "              style=\"display:none;\">\n",
              "        \n",
              "  <svg xmlns=\"http://www.w3.org/2000/svg\" height=\"24px\"viewBox=\"0 0 24 24\"\n",
              "       width=\"24px\">\n",
              "    <path d=\"M0 0h24v24H0V0z\" fill=\"none\"/>\n",
              "    <path d=\"M18.56 5.44l.94 2.06.94-2.06 2.06-.94-2.06-.94-.94-2.06-.94 2.06-2.06.94zm-11 1L8.5 8.5l.94-2.06 2.06-.94-2.06-.94L8.5 2.5l-.94 2.06-2.06.94zm10 10l.94 2.06.94-2.06 2.06-.94-2.06-.94-.94-2.06-.94 2.06-2.06.94z\"/><path d=\"M17.41 7.96l-1.37-1.37c-.4-.4-.92-.59-1.43-.59-.52 0-1.04.2-1.43.59L10.3 9.45l-7.72 7.72c-.78.78-.78 2.05 0 2.83L4 21.41c.39.39.9.59 1.41.59.51 0 1.02-.2 1.41-.59l7.78-7.78 2.81-2.81c.8-.78.8-2.07 0-2.86zM5.41 20L4 18.59l7.72-7.72 1.47 1.35L5.41 20z\"/>\n",
              "  </svg>\n",
              "      </button>\n",
              "      \n",
              "  <style>\n",
              "    .colab-df-container {\n",
              "      display:flex;\n",
              "      flex-wrap:wrap;\n",
              "      gap: 12px;\n",
              "    }\n",
              "\n",
              "    .colab-df-convert {\n",
              "      background-color: #E8F0FE;\n",
              "      border: none;\n",
              "      border-radius: 50%;\n",
              "      cursor: pointer;\n",
              "      display: none;\n",
              "      fill: #1967D2;\n",
              "      height: 32px;\n",
              "      padding: 0 0 0 0;\n",
              "      width: 32px;\n",
              "    }\n",
              "\n",
              "    .colab-df-convert:hover {\n",
              "      background-color: #E2EBFA;\n",
              "      box-shadow: 0px 1px 2px rgba(60, 64, 67, 0.3), 0px 1px 3px 1px rgba(60, 64, 67, 0.15);\n",
              "      fill: #174EA6;\n",
              "    }\n",
              "\n",
              "    [theme=dark] .colab-df-convert {\n",
              "      background-color: #3B4455;\n",
              "      fill: #D2E3FC;\n",
              "    }\n",
              "\n",
              "    [theme=dark] .colab-df-convert:hover {\n",
              "      background-color: #434B5C;\n",
              "      box-shadow: 0px 1px 3px 1px rgba(0, 0, 0, 0.15);\n",
              "      filter: drop-shadow(0px 1px 2px rgba(0, 0, 0, 0.3));\n",
              "      fill: #FFFFFF;\n",
              "    }\n",
              "  </style>\n",
              "\n",
              "      <script>\n",
              "        const buttonEl =\n",
              "          document.querySelector('#df-5091b2a6-0e5e-48e4-a4ee-dc1fae28aed7 button.colab-df-convert');\n",
              "        buttonEl.style.display =\n",
              "          google.colab.kernel.accessAllowed ? 'block' : 'none';\n",
              "\n",
              "        async function convertToInteractive(key) {\n",
              "          const element = document.querySelector('#df-5091b2a6-0e5e-48e4-a4ee-dc1fae28aed7');\n",
              "          const dataTable =\n",
              "            await google.colab.kernel.invokeFunction('convertToInteractive',\n",
              "                                                     [key], {});\n",
              "          if (!dataTable) return;\n",
              "\n",
              "          const docLinkHtml = 'Like what you see? Visit the ' +\n",
              "            '<a target=\"_blank\" href=https://colab.research.google.com/notebooks/data_table.ipynb>data table notebook</a>'\n",
              "            + ' to learn more about interactive tables.';\n",
              "          element.innerHTML = '';\n",
              "          dataTable['output_type'] = 'display_data';\n",
              "          await google.colab.output.renderOutput(dataTable, element);\n",
              "          const docLink = document.createElement('div');\n",
              "          docLink.innerHTML = docLinkHtml;\n",
              "          element.appendChild(docLink);\n",
              "        }\n",
              "      </script>\n",
              "    </div>\n",
              "  </div>\n",
              "  "
            ]
          },
          "metadata": {},
          "execution_count": 36
        }
      ],
      "source": [
        "tel_data.query('operator_id == 929424').sort_values(by='calls_count', ascending = False).head()"
      ]
    },
    {
      "cell_type": "code",
      "execution_count": null,
      "metadata": {
        "colab": {
          "base_uri": "https://localhost:8080/",
          "height": 206
        },
        "id": "I6_4qDVcsiDi",
        "outputId": "7e751863-9730-490e-8b57-578e86c615ac"
      },
      "outputs": [
        {
          "output_type": "execute_result",
          "data": {
            "text/plain": [
              "       user_id       date  direction internal  operator_id  is_missed_call  \\\n",
              "40792   167827 2019-11-22          0    False       929426            True   \n",
              "40521   167827 2019-10-11          0    False       929426           False   \n",
              "40784   167827 2019-11-21          0    False       929426            True   \n",
              "40825   167827 2019-11-27          0    False       929426            True   \n",
              "40820   167827 2019-11-27          0    False       929426           False   \n",
              "\n",
              "       calls_count  call_duration  total_call_duration  \n",
              "40792         1020              0                16942  \n",
              "40521          570          22503                29276  \n",
              "40784          507              0                 8475  \n",
              "40825          499              0                11784  \n",
              "40820          441          20560                28432  "
            ],
            "text/html": [
              "\n",
              "  <div id=\"df-4a93aa80-7594-4cfb-9e65-5223fe05507f\">\n",
              "    <div class=\"colab-df-container\">\n",
              "      <div>\n",
              "<style scoped>\n",
              "    .dataframe tbody tr th:only-of-type {\n",
              "        vertical-align: middle;\n",
              "    }\n",
              "\n",
              "    .dataframe tbody tr th {\n",
              "        vertical-align: top;\n",
              "    }\n",
              "\n",
              "    .dataframe thead th {\n",
              "        text-align: right;\n",
              "    }\n",
              "</style>\n",
              "<table border=\"1\" class=\"dataframe\">\n",
              "  <thead>\n",
              "    <tr style=\"text-align: right;\">\n",
              "      <th></th>\n",
              "      <th>user_id</th>\n",
              "      <th>date</th>\n",
              "      <th>direction</th>\n",
              "      <th>internal</th>\n",
              "      <th>operator_id</th>\n",
              "      <th>is_missed_call</th>\n",
              "      <th>calls_count</th>\n",
              "      <th>call_duration</th>\n",
              "      <th>total_call_duration</th>\n",
              "    </tr>\n",
              "  </thead>\n",
              "  <tbody>\n",
              "    <tr>\n",
              "      <th>40792</th>\n",
              "      <td>167827</td>\n",
              "      <td>2019-11-22</td>\n",
              "      <td>0</td>\n",
              "      <td>False</td>\n",
              "      <td>929426</td>\n",
              "      <td>True</td>\n",
              "      <td>1020</td>\n",
              "      <td>0</td>\n",
              "      <td>16942</td>\n",
              "    </tr>\n",
              "    <tr>\n",
              "      <th>40521</th>\n",
              "      <td>167827</td>\n",
              "      <td>2019-10-11</td>\n",
              "      <td>0</td>\n",
              "      <td>False</td>\n",
              "      <td>929426</td>\n",
              "      <td>False</td>\n",
              "      <td>570</td>\n",
              "      <td>22503</td>\n",
              "      <td>29276</td>\n",
              "    </tr>\n",
              "    <tr>\n",
              "      <th>40784</th>\n",
              "      <td>167827</td>\n",
              "      <td>2019-11-21</td>\n",
              "      <td>0</td>\n",
              "      <td>False</td>\n",
              "      <td>929426</td>\n",
              "      <td>True</td>\n",
              "      <td>507</td>\n",
              "      <td>0</td>\n",
              "      <td>8475</td>\n",
              "    </tr>\n",
              "    <tr>\n",
              "      <th>40825</th>\n",
              "      <td>167827</td>\n",
              "      <td>2019-11-27</td>\n",
              "      <td>0</td>\n",
              "      <td>False</td>\n",
              "      <td>929426</td>\n",
              "      <td>True</td>\n",
              "      <td>499</td>\n",
              "      <td>0</td>\n",
              "      <td>11784</td>\n",
              "    </tr>\n",
              "    <tr>\n",
              "      <th>40820</th>\n",
              "      <td>167827</td>\n",
              "      <td>2019-11-27</td>\n",
              "      <td>0</td>\n",
              "      <td>False</td>\n",
              "      <td>929426</td>\n",
              "      <td>False</td>\n",
              "      <td>441</td>\n",
              "      <td>20560</td>\n",
              "      <td>28432</td>\n",
              "    </tr>\n",
              "  </tbody>\n",
              "</table>\n",
              "</div>\n",
              "      <button class=\"colab-df-convert\" onclick=\"convertToInteractive('df-4a93aa80-7594-4cfb-9e65-5223fe05507f')\"\n",
              "              title=\"Convert this dataframe to an interactive table.\"\n",
              "              style=\"display:none;\">\n",
              "        \n",
              "  <svg xmlns=\"http://www.w3.org/2000/svg\" height=\"24px\"viewBox=\"0 0 24 24\"\n",
              "       width=\"24px\">\n",
              "    <path d=\"M0 0h24v24H0V0z\" fill=\"none\"/>\n",
              "    <path d=\"M18.56 5.44l.94 2.06.94-2.06 2.06-.94-2.06-.94-.94-2.06-.94 2.06-2.06.94zm-11 1L8.5 8.5l.94-2.06 2.06-.94-2.06-.94L8.5 2.5l-.94 2.06-2.06.94zm10 10l.94 2.06.94-2.06 2.06-.94-2.06-.94-.94-2.06-.94 2.06-2.06.94z\"/><path d=\"M17.41 7.96l-1.37-1.37c-.4-.4-.92-.59-1.43-.59-.52 0-1.04.2-1.43.59L10.3 9.45l-7.72 7.72c-.78.78-.78 2.05 0 2.83L4 21.41c.39.39.9.59 1.41.59.51 0 1.02-.2 1.41-.59l7.78-7.78 2.81-2.81c.8-.78.8-2.07 0-2.86zM5.41 20L4 18.59l7.72-7.72 1.47 1.35L5.41 20z\"/>\n",
              "  </svg>\n",
              "      </button>\n",
              "      \n",
              "  <style>\n",
              "    .colab-df-container {\n",
              "      display:flex;\n",
              "      flex-wrap:wrap;\n",
              "      gap: 12px;\n",
              "    }\n",
              "\n",
              "    .colab-df-convert {\n",
              "      background-color: #E8F0FE;\n",
              "      border: none;\n",
              "      border-radius: 50%;\n",
              "      cursor: pointer;\n",
              "      display: none;\n",
              "      fill: #1967D2;\n",
              "      height: 32px;\n",
              "      padding: 0 0 0 0;\n",
              "      width: 32px;\n",
              "    }\n",
              "\n",
              "    .colab-df-convert:hover {\n",
              "      background-color: #E2EBFA;\n",
              "      box-shadow: 0px 1px 2px rgba(60, 64, 67, 0.3), 0px 1px 3px 1px rgba(60, 64, 67, 0.15);\n",
              "      fill: #174EA6;\n",
              "    }\n",
              "\n",
              "    [theme=dark] .colab-df-convert {\n",
              "      background-color: #3B4455;\n",
              "      fill: #D2E3FC;\n",
              "    }\n",
              "\n",
              "    [theme=dark] .colab-df-convert:hover {\n",
              "      background-color: #434B5C;\n",
              "      box-shadow: 0px 1px 3px 1px rgba(0, 0, 0, 0.15);\n",
              "      filter: drop-shadow(0px 1px 2px rgba(0, 0, 0, 0.3));\n",
              "      fill: #FFFFFF;\n",
              "    }\n",
              "  </style>\n",
              "\n",
              "      <script>\n",
              "        const buttonEl =\n",
              "          document.querySelector('#df-4a93aa80-7594-4cfb-9e65-5223fe05507f button.colab-df-convert');\n",
              "        buttonEl.style.display =\n",
              "          google.colab.kernel.accessAllowed ? 'block' : 'none';\n",
              "\n",
              "        async function convertToInteractive(key) {\n",
              "          const element = document.querySelector('#df-4a93aa80-7594-4cfb-9e65-5223fe05507f');\n",
              "          const dataTable =\n",
              "            await google.colab.kernel.invokeFunction('convertToInteractive',\n",
              "                                                     [key], {});\n",
              "          if (!dataTable) return;\n",
              "\n",
              "          const docLinkHtml = 'Like what you see? Visit the ' +\n",
              "            '<a target=\"_blank\" href=https://colab.research.google.com/notebooks/data_table.ipynb>data table notebook</a>'\n",
              "            + ' to learn more about interactive tables.';\n",
              "          element.innerHTML = '';\n",
              "          dataTable['output_type'] = 'display_data';\n",
              "          await google.colab.output.renderOutput(dataTable, element);\n",
              "          const docLink = document.createElement('div');\n",
              "          docLink.innerHTML = docLinkHtml;\n",
              "          element.appendChild(docLink);\n",
              "        }\n",
              "      </script>\n",
              "    </div>\n",
              "  </div>\n",
              "  "
            ]
          },
          "metadata": {},
          "execution_count": 37
        }
      ],
      "source": [
        "tel_data.query('operator_id == 929426').sort_values(by='calls_count', ascending = False).head()"
      ]
    },
    {
      "cell_type": "markdown",
      "metadata": {
        "id": "dw8I6Kcxt7XU"
      },
      "source": [
        "Удалять эти данные не будем, порекомендуем сообщить о нем клиенту"
      ]
    },
    {
      "cell_type": "markdown",
      "metadata": {
        "id": "BL1bciZwsnsU"
      },
      "source": [
        "Сделаем срез по пропущенным звонкам, есть ли среди них звонки с продолжительностью разговора  > 1 (одна секунда это сброс звонка и тогда он считается пропущенным)"
      ]
    },
    {
      "cell_type": "code",
      "execution_count": null,
      "metadata": {
        "colab": {
          "base_uri": "https://localhost:8080/",
          "height": 423
        },
        "id": "GWNKD_sCsnsU",
        "outputId": "1eb9a6e7-fe76-4892-99f3-10f33819fc48"
      },
      "outputs": [
        {
          "output_type": "execute_result",
          "data": {
            "text/plain": [
              "       user_id       date  direction internal  operator_id  is_missed_call  \\\n",
              "1606    166405 2019-11-19          1    False       939478            True   \n",
              "2283    166407 2019-09-23          1    False       888534            True   \n",
              "2956    166485 2019-09-09          1    False       887276            True   \n",
              "3376    166485 2019-10-31          1    False       887276            True   \n",
              "3975    166503 2019-08-12          1     True       884408            True   \n",
              "...        ...        ...        ...      ...          ...             ...   \n",
              "51488   168307 2019-10-30          1    False       945052            True   \n",
              "51577   168336 2019-10-30          1    False       948756            True   \n",
              "51664   168336 2019-11-12          1    False       947304            True   \n",
              "51693   168336 2019-11-15          1    False       947304            True   \n",
              "51853   168336 2019-11-27          1    False       958416            True   \n",
              "\n",
              "       calls_count  call_duration  total_call_duration  \n",
              "1606             1            165                  173  \n",
              "2283             1            133                  156  \n",
              "2956             1             31                   44  \n",
              "3376             1             79                  123  \n",
              "3975             1             38                   69  \n",
              "...            ...            ...                  ...  \n",
              "51488            2             56                   70  \n",
              "51577            1             50                   58  \n",
              "51664            1             69                   72  \n",
              "51693            1             46                   49  \n",
              "51853            1             40                   65  \n",
              "\n",
              "[192 rows x 9 columns]"
            ],
            "text/html": [
              "\n",
              "  <div id=\"df-9a50f88d-d5bf-400d-a70d-01f3fd20c751\">\n",
              "    <div class=\"colab-df-container\">\n",
              "      <div>\n",
              "<style scoped>\n",
              "    .dataframe tbody tr th:only-of-type {\n",
              "        vertical-align: middle;\n",
              "    }\n",
              "\n",
              "    .dataframe tbody tr th {\n",
              "        vertical-align: top;\n",
              "    }\n",
              "\n",
              "    .dataframe thead th {\n",
              "        text-align: right;\n",
              "    }\n",
              "</style>\n",
              "<table border=\"1\" class=\"dataframe\">\n",
              "  <thead>\n",
              "    <tr style=\"text-align: right;\">\n",
              "      <th></th>\n",
              "      <th>user_id</th>\n",
              "      <th>date</th>\n",
              "      <th>direction</th>\n",
              "      <th>internal</th>\n",
              "      <th>operator_id</th>\n",
              "      <th>is_missed_call</th>\n",
              "      <th>calls_count</th>\n",
              "      <th>call_duration</th>\n",
              "      <th>total_call_duration</th>\n",
              "    </tr>\n",
              "  </thead>\n",
              "  <tbody>\n",
              "    <tr>\n",
              "      <th>1606</th>\n",
              "      <td>166405</td>\n",
              "      <td>2019-11-19</td>\n",
              "      <td>1</td>\n",
              "      <td>False</td>\n",
              "      <td>939478</td>\n",
              "      <td>True</td>\n",
              "      <td>1</td>\n",
              "      <td>165</td>\n",
              "      <td>173</td>\n",
              "    </tr>\n",
              "    <tr>\n",
              "      <th>2283</th>\n",
              "      <td>166407</td>\n",
              "      <td>2019-09-23</td>\n",
              "      <td>1</td>\n",
              "      <td>False</td>\n",
              "      <td>888534</td>\n",
              "      <td>True</td>\n",
              "      <td>1</td>\n",
              "      <td>133</td>\n",
              "      <td>156</td>\n",
              "    </tr>\n",
              "    <tr>\n",
              "      <th>2956</th>\n",
              "      <td>166485</td>\n",
              "      <td>2019-09-09</td>\n",
              "      <td>1</td>\n",
              "      <td>False</td>\n",
              "      <td>887276</td>\n",
              "      <td>True</td>\n",
              "      <td>1</td>\n",
              "      <td>31</td>\n",
              "      <td>44</td>\n",
              "    </tr>\n",
              "    <tr>\n",
              "      <th>3376</th>\n",
              "      <td>166485</td>\n",
              "      <td>2019-10-31</td>\n",
              "      <td>1</td>\n",
              "      <td>False</td>\n",
              "      <td>887276</td>\n",
              "      <td>True</td>\n",
              "      <td>1</td>\n",
              "      <td>79</td>\n",
              "      <td>123</td>\n",
              "    </tr>\n",
              "    <tr>\n",
              "      <th>3975</th>\n",
              "      <td>166503</td>\n",
              "      <td>2019-08-12</td>\n",
              "      <td>1</td>\n",
              "      <td>True</td>\n",
              "      <td>884408</td>\n",
              "      <td>True</td>\n",
              "      <td>1</td>\n",
              "      <td>38</td>\n",
              "      <td>69</td>\n",
              "    </tr>\n",
              "    <tr>\n",
              "      <th>...</th>\n",
              "      <td>...</td>\n",
              "      <td>...</td>\n",
              "      <td>...</td>\n",
              "      <td>...</td>\n",
              "      <td>...</td>\n",
              "      <td>...</td>\n",
              "      <td>...</td>\n",
              "      <td>...</td>\n",
              "      <td>...</td>\n",
              "    </tr>\n",
              "    <tr>\n",
              "      <th>51488</th>\n",
              "      <td>168307</td>\n",
              "      <td>2019-10-30</td>\n",
              "      <td>1</td>\n",
              "      <td>False</td>\n",
              "      <td>945052</td>\n",
              "      <td>True</td>\n",
              "      <td>2</td>\n",
              "      <td>56</td>\n",
              "      <td>70</td>\n",
              "    </tr>\n",
              "    <tr>\n",
              "      <th>51577</th>\n",
              "      <td>168336</td>\n",
              "      <td>2019-10-30</td>\n",
              "      <td>1</td>\n",
              "      <td>False</td>\n",
              "      <td>948756</td>\n",
              "      <td>True</td>\n",
              "      <td>1</td>\n",
              "      <td>50</td>\n",
              "      <td>58</td>\n",
              "    </tr>\n",
              "    <tr>\n",
              "      <th>51664</th>\n",
              "      <td>168336</td>\n",
              "      <td>2019-11-12</td>\n",
              "      <td>1</td>\n",
              "      <td>False</td>\n",
              "      <td>947304</td>\n",
              "      <td>True</td>\n",
              "      <td>1</td>\n",
              "      <td>69</td>\n",
              "      <td>72</td>\n",
              "    </tr>\n",
              "    <tr>\n",
              "      <th>51693</th>\n",
              "      <td>168336</td>\n",
              "      <td>2019-11-15</td>\n",
              "      <td>1</td>\n",
              "      <td>False</td>\n",
              "      <td>947304</td>\n",
              "      <td>True</td>\n",
              "      <td>1</td>\n",
              "      <td>46</td>\n",
              "      <td>49</td>\n",
              "    </tr>\n",
              "    <tr>\n",
              "      <th>51853</th>\n",
              "      <td>168336</td>\n",
              "      <td>2019-11-27</td>\n",
              "      <td>1</td>\n",
              "      <td>False</td>\n",
              "      <td>958416</td>\n",
              "      <td>True</td>\n",
              "      <td>1</td>\n",
              "      <td>40</td>\n",
              "      <td>65</td>\n",
              "    </tr>\n",
              "  </tbody>\n",
              "</table>\n",
              "<p>192 rows × 9 columns</p>\n",
              "</div>\n",
              "      <button class=\"colab-df-convert\" onclick=\"convertToInteractive('df-9a50f88d-d5bf-400d-a70d-01f3fd20c751')\"\n",
              "              title=\"Convert this dataframe to an interactive table.\"\n",
              "              style=\"display:none;\">\n",
              "        \n",
              "  <svg xmlns=\"http://www.w3.org/2000/svg\" height=\"24px\"viewBox=\"0 0 24 24\"\n",
              "       width=\"24px\">\n",
              "    <path d=\"M0 0h24v24H0V0z\" fill=\"none\"/>\n",
              "    <path d=\"M18.56 5.44l.94 2.06.94-2.06 2.06-.94-2.06-.94-.94-2.06-.94 2.06-2.06.94zm-11 1L8.5 8.5l.94-2.06 2.06-.94-2.06-.94L8.5 2.5l-.94 2.06-2.06.94zm10 10l.94 2.06.94-2.06 2.06-.94-2.06-.94-.94-2.06-.94 2.06-2.06.94z\"/><path d=\"M17.41 7.96l-1.37-1.37c-.4-.4-.92-.59-1.43-.59-.52 0-1.04.2-1.43.59L10.3 9.45l-7.72 7.72c-.78.78-.78 2.05 0 2.83L4 21.41c.39.39.9.59 1.41.59.51 0 1.02-.2 1.41-.59l7.78-7.78 2.81-2.81c.8-.78.8-2.07 0-2.86zM5.41 20L4 18.59l7.72-7.72 1.47 1.35L5.41 20z\"/>\n",
              "  </svg>\n",
              "      </button>\n",
              "      \n",
              "  <style>\n",
              "    .colab-df-container {\n",
              "      display:flex;\n",
              "      flex-wrap:wrap;\n",
              "      gap: 12px;\n",
              "    }\n",
              "\n",
              "    .colab-df-convert {\n",
              "      background-color: #E8F0FE;\n",
              "      border: none;\n",
              "      border-radius: 50%;\n",
              "      cursor: pointer;\n",
              "      display: none;\n",
              "      fill: #1967D2;\n",
              "      height: 32px;\n",
              "      padding: 0 0 0 0;\n",
              "      width: 32px;\n",
              "    }\n",
              "\n",
              "    .colab-df-convert:hover {\n",
              "      background-color: #E2EBFA;\n",
              "      box-shadow: 0px 1px 2px rgba(60, 64, 67, 0.3), 0px 1px 3px 1px rgba(60, 64, 67, 0.15);\n",
              "      fill: #174EA6;\n",
              "    }\n",
              "\n",
              "    [theme=dark] .colab-df-convert {\n",
              "      background-color: #3B4455;\n",
              "      fill: #D2E3FC;\n",
              "    }\n",
              "\n",
              "    [theme=dark] .colab-df-convert:hover {\n",
              "      background-color: #434B5C;\n",
              "      box-shadow: 0px 1px 3px 1px rgba(0, 0, 0, 0.15);\n",
              "      filter: drop-shadow(0px 1px 2px rgba(0, 0, 0, 0.3));\n",
              "      fill: #FFFFFF;\n",
              "    }\n",
              "  </style>\n",
              "\n",
              "      <script>\n",
              "        const buttonEl =\n",
              "          document.querySelector('#df-9a50f88d-d5bf-400d-a70d-01f3fd20c751 button.colab-df-convert');\n",
              "        buttonEl.style.display =\n",
              "          google.colab.kernel.accessAllowed ? 'block' : 'none';\n",
              "\n",
              "        async function convertToInteractive(key) {\n",
              "          const element = document.querySelector('#df-9a50f88d-d5bf-400d-a70d-01f3fd20c751');\n",
              "          const dataTable =\n",
              "            await google.colab.kernel.invokeFunction('convertToInteractive',\n",
              "                                                     [key], {});\n",
              "          if (!dataTable) return;\n",
              "\n",
              "          const docLinkHtml = 'Like what you see? Visit the ' +\n",
              "            '<a target=\"_blank\" href=https://colab.research.google.com/notebooks/data_table.ipynb>data table notebook</a>'\n",
              "            + ' to learn more about interactive tables.';\n",
              "          element.innerHTML = '';\n",
              "          dataTable['output_type'] = 'display_data';\n",
              "          await google.colab.output.renderOutput(dataTable, element);\n",
              "          const docLink = document.createElement('div');\n",
              "          docLink.innerHTML = docLinkHtml;\n",
              "          element.appendChild(docLink);\n",
              "        }\n",
              "      </script>\n",
              "    </div>\n",
              "  </div>\n",
              "  "
            ]
          },
          "metadata": {},
          "execution_count": 38
        }
      ],
      "source": [
        "tel_data.query('is_missed_call == True and call_duration > 1')"
      ]
    },
    {
      "cell_type": "markdown",
      "metadata": {
        "id": "cScLH43RsnsV"
      },
      "source": [
        "192 таких звонков, не понятно почему эти звонки отмечены как пропущенные, возможно разговора не было, а в это время попала запись автоответчика."
      ]
    },
    {
      "cell_type": "markdown",
      "metadata": {
        "id": "s2jYyRanjnjx"
      },
      "source": [
        "**Вывод по разделу:**\n",
        "\n",
        "Мы провели предобработку данных:\n",
        "- изменили типы данных,\n",
        "- преобразовали данные в более удобный формат,\n",
        "- обработали пропущенные значения,\n",
        "- удалили дубликаты\n",
        "- выявили аномальные значения"
      ]
    },
    {
      "cell_type": "markdown",
      "metadata": {
        "id": "6CM2v5BxsnsW"
      },
      "source": [
        "В целом данные собираются правильно, но есть несколько проблем:\n",
        "\n",
        "\n",
        "1.   Пропуски в столбце с оператором.  Они вероятне всего возникли из-за звонков, когда оператооров нет на линии и звонок не прикреплялся к конкретному оператору. У нас есть id клиетов у которых много таких звонков, думаю для них это важная информация. У клиентов 168252, 166405, 166582, 166782, 166658 более 100 таких пропущенных звонков\n",
        "2.   Дубликатов 9,15% от всех данных. Нужно выяснить по какой причине почти 10% данных задвоилось в базе, возможно при агрегировании по датам, клиентам или при слиянии из разных баз. Возможно ли, что под одним оператором работате несколько человек?\n",
        "3. У клиента 167827 есть оператор с аномально большим количеством звонков, возможно использует для прозвона какие-то программы.\n",
        "4. Также есть звонки, которые в базе отмечены как пропущенные, но по которым продолжительность разговора больше 1 сек. Не понятно где ошибка, в обозначении, что они пропущенны или в том, что во время звонка попадают, например, сообщения автоатветчика?"
      ]
    },
    {
      "cell_type": "markdown",
      "metadata": {
        "id": "dwhEqmHKEo1O"
      },
      "source": [
        "## Исследовательский анализ данных"
      ]
    },
    {
      "cell_type": "markdown",
      "metadata": {
        "id": "hdKEhmbDE15u"
      },
      "source": [
        "### Категоризация клиентов"
      ]
    },
    {
      "cell_type": "code",
      "execution_count": null,
      "metadata": {
        "colab": {
          "base_uri": "https://localhost:8080/"
        },
        "id": "30e0H31gQueS",
        "outputId": "dfc4b58f-2170-4e14-aa64-911fc91012c3"
      },
      "outputs": [
        {
          "output_type": "execute_result",
          "data": {
            "text/plain": [
              "290"
            ]
          },
          "metadata": {},
          "execution_count": 39
        }
      ],
      "source": [
        "tel_data.user_id.nunique()"
      ]
    },
    {
      "cell_type": "markdown",
      "metadata": {
        "id": "zP949NjPXnwi"
      },
      "source": [
        "Уникальных клиентов у нас 290"
      ]
    },
    {
      "cell_type": "code",
      "execution_count": null,
      "metadata": {
        "colab": {
          "base_uri": "https://localhost:8080/"
        },
        "id": "AKoZ_hKfReSl",
        "outputId": "4cc5ea62-89d9-4d58-bacb-21209efa54cc"
      },
      "outputs": [
        {
          "output_type": "execute_result",
          "data": {
            "text/plain": [
              "1092"
            ]
          },
          "metadata": {},
          "execution_count": 40
        }
      ],
      "source": [
        "tel_data.operator_id.nunique()"
      ]
    },
    {
      "cell_type": "markdown",
      "metadata": {
        "id": "6hvyXV9xXqwc"
      },
      "source": [
        "Уникальных операторов - 1092"
      ]
    },
    {
      "cell_type": "markdown",
      "metadata": {
        "id": "lhfehZQSH05c"
      },
      "source": [
        "#### Категоризация по количеству операторов"
      ]
    },
    {
      "cell_type": "markdown",
      "metadata": {
        "id": "mpp9ZAm0bDyC"
      },
      "source": [
        "Проверим как распределяются операторы по клиентам. "
      ]
    },
    {
      "cell_type": "code",
      "execution_count": null,
      "metadata": {
        "colab": {
          "base_uri": "https://localhost:8080/",
          "height": 283
        },
        "id": "Rwhb5q6ats7J",
        "outputId": "8b690873-b5e1-40c2-82e3-438d020eea0c"
      },
      "outputs": [
        {
          "output_type": "execute_result",
          "data": {
            "text/plain": [
              "<matplotlib.axes._subplots.AxesSubplot at 0x7efcd8fbd390>"
            ]
          },
          "metadata": {},
          "execution_count": 41
        },
        {
          "output_type": "display_data",
          "data": {
            "text/plain": [
              "<Figure size 432x288 with 1 Axes>"
            ],
            "image/png": "[encoded data removed]"
          },
          "metadata": {
            "needs_background": "light"
          }
        }
      ],
      "source": [
        "user_tel = tel_data.groupby('user_id').agg({'operator_id':'nunique'}).reset_index()\n",
        "user_tel.operator_id.hist(bins=100)"
      ]
    },
    {
      "cell_type": "markdown",
      "metadata": {
        "id": "2ynJ4ZdbMKbC"
      },
      "source": [
        "Видно по графику, что у нас преобладают небольшие компании, в которых 1-4 оператора. "
      ]
    },
    {
      "cell_type": "code",
      "execution_count": null,
      "metadata": {
        "colab": {
          "base_uri": "https://localhost:8080/"
        },
        "id": "lQzpuVLaGUjB",
        "outputId": "8d4bc0c7-d79f-48d1-b3fd-cac871bd8126"
      },
      "outputs": [
        {
          "output_type": "execute_result",
          "data": {
            "text/plain": [
              "user_id        60\n",
              "operator_id    60\n",
              "dtype: int64"
            ]
          },
          "metadata": {},
          "execution_count": 42
        }
      ],
      "source": [
        "user_tel.query('operator_id > 4').count()"
      ]
    },
    {
      "cell_type": "markdown",
      "metadata": {
        "id": "0ETWQiPCMbyG"
      },
      "source": [
        "Больше 4 операторов только у 60 клиентов. Это примерно 20% от общего числа. Таким образом, деление на крупные и мелкие кол центры образует не равные группы.\n",
        "\n"
      ]
    },
    {
      "cell_type": "markdown",
      "metadata": {
        "id": "jksajjpbILae"
      },
      "source": [
        "#### Категоризация по тарифам"
      ]
    },
    {
      "cell_type": "markdown",
      "metadata": {
        "id": "z9TsVXQoIQTk"
      },
      "source": [
        "Объединим таблицы по user_id"
      ]
    },
    {
      "cell_type": "code",
      "execution_count": null,
      "metadata": {
        "id": "jxBvbrZiy9BJ"
      },
      "outputs": [],
      "source": [
        "tel = pd.merge(tel_data, tel_cl, how='left')"
      ]
    },
    {
      "cell_type": "code",
      "execution_count": null,
      "metadata": {
        "colab": {
          "base_uri": "https://localhost:8080/"
        },
        "id": "7L5gBVQV12Xi",
        "outputId": "e697c06c-4e27-4635-ab9d-5db63c10fdc3"
      },
      "outputs": [
        {
          "output_type": "stream",
          "name": "stdout",
          "text": [
            "<class 'pandas.core.frame.DataFrame'>\n",
            "Int64Index: 41546 entries, 0 to 41545\n",
            "Data columns (total 11 columns):\n",
            " #   Column               Non-Null Count  Dtype         \n",
            "---  ------               --------------  -----         \n",
            " 0   user_id              41546 non-null  int64         \n",
            " 1   date                 41546 non-null  datetime64[ns]\n",
            " 2   direction            41546 non-null  int8          \n",
            " 3   internal             41546 non-null  object        \n",
            " 4   operator_id          41546 non-null  int64         \n",
            " 5   is_missed_call       41546 non-null  bool          \n",
            " 6   calls_count          41546 non-null  int64         \n",
            " 7   call_duration        41546 non-null  int64         \n",
            " 8   total_call_duration  41546 non-null  int64         \n",
            " 9   tariff_plan          41546 non-null  object        \n",
            " 10  date_start           41546 non-null  datetime64[ns]\n",
            "dtypes: bool(1), datetime64[ns](2), int64(5), int8(1), object(2)\n",
            "memory usage: 3.2+ MB\n"
          ]
        }
      ],
      "source": [
        "tel.info()"
      ]
    },
    {
      "cell_type": "code",
      "execution_count": null,
      "metadata": {
        "colab": {
          "base_uri": "https://localhost:8080/",
          "height": 357
        },
        "id": "-htKnkxb2EoF",
        "outputId": "86be05ba-62ff-4366-8454-adff22a04a37"
      },
      "outputs": [
        {
          "output_type": "execute_result",
          "data": {
            "text/plain": [
              "       user_id       date  direction internal  operator_id  is_missed_call  \\\n",
              "25340   167487 2019-10-13          0    False       914240            True   \n",
              "11573   166896 2019-11-11          1    False       895574           False   \n",
              "13855   166974 2019-09-05          0    False       900354            True   \n",
              "2833    166485 2019-11-22          0    False       907174            True   \n",
              "21059   167176 2019-09-13          1    False       907952           False   \n",
              "\n",
              "       calls_count  call_duration  total_call_duration tariff_plan date_start  \n",
              "25340            9              0                  101           B 2019-09-18  \n",
              "11573            1            192                  207           A 2019-08-23  \n",
              "13855            3              0                   50           C 2019-08-27  \n",
              "2833            12              0                  264           B 2019-08-06  \n",
              "21059            1             48                   66           B 2019-09-05  "
            ],
            "text/html": [
              "\n",
              "  <div id=\"df-5fefe0b4-3410-4dde-a262-b666d3da6653\">\n",
              "    <div class=\"colab-df-container\">\n",
              "      <div>\n",
              "<style scoped>\n",
              "    .dataframe tbody tr th:only-of-type {\n",
              "        vertical-align: middle;\n",
              "    }\n",
              "\n",
              "    .dataframe tbody tr th {\n",
              "        vertical-align: top;\n",
              "    }\n",
              "\n",
              "    .dataframe thead th {\n",
              "        text-align: right;\n",
              "    }\n",
              "</style>\n",
              "<table border=\"1\" class=\"dataframe\">\n",
              "  <thead>\n",
              "    <tr style=\"text-align: right;\">\n",
              "      <th></th>\n",
              "      <th>user_id</th>\n",
              "      <th>date</th>\n",
              "      <th>direction</th>\n",
              "      <th>internal</th>\n",
              "      <th>operator_id</th>\n",
              "      <th>is_missed_call</th>\n",
              "      <th>calls_count</th>\n",
              "      <th>call_duration</th>\n",
              "      <th>total_call_duration</th>\n",
              "      <th>tariff_plan</th>\n",
              "      <th>date_start</th>\n",
              "    </tr>\n",
              "  </thead>\n",
              "  <tbody>\n",
              "    <tr>\n",
              "      <th>25340</th>\n",
              "      <td>167487</td>\n",
              "      <td>2019-10-13</td>\n",
              "      <td>0</td>\n",
              "      <td>False</td>\n",
              "      <td>914240</td>\n",
              "      <td>True</td>\n",
              "      <td>9</td>\n",
              "      <td>0</td>\n",
              "      <td>101</td>\n",
              "      <td>B</td>\n",
              "      <td>2019-09-18</td>\n",
              "    </tr>\n",
              "    <tr>\n",
              "      <th>11573</th>\n",
              "      <td>166896</td>\n",
              "      <td>2019-11-11</td>\n",
              "      <td>1</td>\n",
              "      <td>False</td>\n",
              "      <td>895574</td>\n",
              "      <td>False</td>\n",
              "      <td>1</td>\n",
              "      <td>192</td>\n",
              "      <td>207</td>\n",
              "      <td>A</td>\n",
              "      <td>2019-08-23</td>\n",
              "    </tr>\n",
              "    <tr>\n",
              "      <th>13855</th>\n",
              "      <td>166974</td>\n",
              "      <td>2019-09-05</td>\n",
              "      <td>0</td>\n",
              "      <td>False</td>\n",
              "      <td>900354</td>\n",
              "      <td>True</td>\n",
              "      <td>3</td>\n",
              "      <td>0</td>\n",
              "      <td>50</td>\n",
              "      <td>C</td>\n",
              "      <td>2019-08-27</td>\n",
              "    </tr>\n",
              "    <tr>\n",
              "      <th>2833</th>\n",
              "      <td>166485</td>\n",
              "      <td>2019-11-22</td>\n",
              "      <td>0</td>\n",
              "      <td>False</td>\n",
              "      <td>907174</td>\n",
              "      <td>True</td>\n",
              "      <td>12</td>\n",
              "      <td>0</td>\n",
              "      <td>264</td>\n",
              "      <td>B</td>\n",
              "      <td>2019-08-06</td>\n",
              "    </tr>\n",
              "    <tr>\n",
              "      <th>21059</th>\n",
              "      <td>167176</td>\n",
              "      <td>2019-09-13</td>\n",
              "      <td>1</td>\n",
              "      <td>False</td>\n",
              "      <td>907952</td>\n",
              "      <td>False</td>\n",
              "      <td>1</td>\n",
              "      <td>48</td>\n",
              "      <td>66</td>\n",
              "      <td>B</td>\n",
              "      <td>2019-09-05</td>\n",
              "    </tr>\n",
              "  </tbody>\n",
              "</table>\n",
              "</div>\n",
              "      <button class=\"colab-df-convert\" onclick=\"convertToInteractive('df-5fefe0b4-3410-4dde-a262-b666d3da6653')\"\n",
              "              title=\"Convert this dataframe to an interactive table.\"\n",
              "              style=\"display:none;\">\n",
              "        \n",
              "  <svg xmlns=\"http://www.w3.org/2000/svg\" height=\"24px\"viewBox=\"0 0 24 24\"\n",
              "       width=\"24px\">\n",
              "    <path d=\"M0 0h24v24H0V0z\" fill=\"none\"/>\n",
              "    <path d=\"M18.56 5.44l.94 2.06.94-2.06 2.06-.94-2.06-.94-.94-2.06-.94 2.06-2.06.94zm-11 1L8.5 8.5l.94-2.06 2.06-.94-2.06-.94L8.5 2.5l-.94 2.06-2.06.94zm10 10l.94 2.06.94-2.06 2.06-.94-2.06-.94-.94-2.06-.94 2.06-2.06.94z\"/><path d=\"M17.41 7.96l-1.37-1.37c-.4-.4-.92-.59-1.43-.59-.52 0-1.04.2-1.43.59L10.3 9.45l-7.72 7.72c-.78.78-.78 2.05 0 2.83L4 21.41c.39.39.9.59 1.41.59.51 0 1.02-.2 1.41-.59l7.78-7.78 2.81-2.81c.8-.78.8-2.07 0-2.86zM5.41 20L4 18.59l7.72-7.72 1.47 1.35L5.41 20z\"/>\n",
              "  </svg>\n",
              "      </button>\n",
              "      \n",
              "  <style>\n",
              "    .colab-df-container {\n",
              "      display:flex;\n",
              "      flex-wrap:wrap;\n",
              "      gap: 12px;\n",
              "    }\n",
              "\n",
              "    .colab-df-convert {\n",
              "      background-color: #E8F0FE;\n",
              "      border: none;\n",
              "      border-radius: 50%;\n",
              "      cursor: pointer;\n",
              "      display: none;\n",
              "      fill: #1967D2;\n",
              "      height: 32px;\n",
              "      padding: 0 0 0 0;\n",
              "      width: 32px;\n",
              "    }\n",
              "\n",
              "    .colab-df-convert:hover {\n",
              "      background-color: #E2EBFA;\n",
              "      box-shadow: 0px 1px 2px rgba(60, 64, 67, 0.3), 0px 1px 3px 1px rgba(60, 64, 67, 0.15);\n",
              "      fill: #174EA6;\n",
              "    }\n",
              "\n",
              "    [theme=dark] .colab-df-convert {\n",
              "      background-color: #3B4455;\n",
              "      fill: #D2E3FC;\n",
              "    }\n",
              "\n",
              "    [theme=dark] .colab-df-convert:hover {\n",
              "      background-color: #434B5C;\n",
              "      box-shadow: 0px 1px 3px 1px rgba(0, 0, 0, 0.15);\n",
              "      filter: drop-shadow(0px 1px 2px rgba(0, 0, 0, 0.3));\n",
              "      fill: #FFFFFF;\n",
              "    }\n",
              "  </style>\n",
              "\n",
              "      <script>\n",
              "        const buttonEl =\n",
              "          document.querySelector('#df-5fefe0b4-3410-4dde-a262-b666d3da6653 button.colab-df-convert');\n",
              "        buttonEl.style.display =\n",
              "          google.colab.kernel.accessAllowed ? 'block' : 'none';\n",
              "\n",
              "        async function convertToInteractive(key) {\n",
              "          const element = document.querySelector('#df-5fefe0b4-3410-4dde-a262-b666d3da6653');\n",
              "          const dataTable =\n",
              "            await google.colab.kernel.invokeFunction('convertToInteractive',\n",
              "                                                     [key], {});\n",
              "          if (!dataTable) return;\n",
              "\n",
              "          const docLinkHtml = 'Like what you see? Visit the ' +\n",
              "            '<a target=\"_blank\" href=https://colab.research.google.com/notebooks/data_table.ipynb>data table notebook</a>'\n",
              "            + ' to learn more about interactive tables.';\n",
              "          element.innerHTML = '';\n",
              "          dataTable['output_type'] = 'display_data';\n",
              "          await google.colab.output.renderOutput(dataTable, element);\n",
              "          const docLink = document.createElement('div');\n",
              "          docLink.innerHTML = docLinkHtml;\n",
              "          element.appendChild(docLink);\n",
              "        }\n",
              "      </script>\n",
              "    </div>\n",
              "  </div>\n",
              "  "
            ]
          },
          "metadata": {},
          "execution_count": 45
        }
      ],
      "source": [
        "tel.sample(5)"
      ]
    },
    {
      "cell_type": "code",
      "execution_count": null,
      "metadata": {
        "colab": {
          "base_uri": "https://localhost:8080/",
          "height": 175
        },
        "id": "92RU3OUaA2n8",
        "outputId": "42136e8f-5f50-4461-87b1-a0392951fc4d"
      },
      "outputs": [
        {
          "output_type": "execute_result",
          "data": {
            "text/plain": [
              "             user_id\n",
              "tariff_plan         \n",
              "A                 32\n",
              "B                101\n",
              "C                157"
            ],
            "text/html": [
              "\n",
              "  <div id=\"df-cab9f072-676d-424f-8457-82a02227f4b7\">\n",
              "    <div class=\"colab-df-container\">\n",
              "      <div>\n",
              "<style scoped>\n",
              "    .dataframe tbody tr th:only-of-type {\n",
              "        vertical-align: middle;\n",
              "    }\n",
              "\n",
              "    .dataframe tbody tr th {\n",
              "        vertical-align: top;\n",
              "    }\n",
              "\n",
              "    .dataframe thead th {\n",
              "        text-align: right;\n",
              "    }\n",
              "</style>\n",
              "<table border=\"1\" class=\"dataframe\">\n",
              "  <thead>\n",
              "    <tr style=\"text-align: right;\">\n",
              "      <th></th>\n",
              "      <th>user_id</th>\n",
              "    </tr>\n",
              "    <tr>\n",
              "      <th>tariff_plan</th>\n",
              "      <th></th>\n",
              "    </tr>\n",
              "  </thead>\n",
              "  <tbody>\n",
              "    <tr>\n",
              "      <th>A</th>\n",
              "      <td>32</td>\n",
              "    </tr>\n",
              "    <tr>\n",
              "      <th>B</th>\n",
              "      <td>101</td>\n",
              "    </tr>\n",
              "    <tr>\n",
              "      <th>C</th>\n",
              "      <td>157</td>\n",
              "    </tr>\n",
              "  </tbody>\n",
              "</table>\n",
              "</div>\n",
              "      <button class=\"colab-df-convert\" onclick=\"convertToInteractive('df-cab9f072-676d-424f-8457-82a02227f4b7')\"\n",
              "              title=\"Convert this dataframe to an interactive table.\"\n",
              "              style=\"display:none;\">\n",
              "        \n",
              "  <svg xmlns=\"http://www.w3.org/2000/svg\" height=\"24px\"viewBox=\"0 0 24 24\"\n",
              "       width=\"24px\">\n",
              "    <path d=\"M0 0h24v24H0V0z\" fill=\"none\"/>\n",
              "    <path d=\"M18.56 5.44l.94 2.06.94-2.06 2.06-.94-2.06-.94-.94-2.06-.94 2.06-2.06.94zm-11 1L8.5 8.5l.94-2.06 2.06-.94-2.06-.94L8.5 2.5l-.94 2.06-2.06.94zm10 10l.94 2.06.94-2.06 2.06-.94-2.06-.94-.94-2.06-.94 2.06-2.06.94z\"/><path d=\"M17.41 7.96l-1.37-1.37c-.4-.4-.92-.59-1.43-.59-.52 0-1.04.2-1.43.59L10.3 9.45l-7.72 7.72c-.78.78-.78 2.05 0 2.83L4 21.41c.39.39.9.59 1.41.59.51 0 1.02-.2 1.41-.59l7.78-7.78 2.81-2.81c.8-.78.8-2.07 0-2.86zM5.41 20L4 18.59l7.72-7.72 1.47 1.35L5.41 20z\"/>\n",
              "  </svg>\n",
              "      </button>\n",
              "      \n",
              "  <style>\n",
              "    .colab-df-container {\n",
              "      display:flex;\n",
              "      flex-wrap:wrap;\n",
              "      gap: 12px;\n",
              "    }\n",
              "\n",
              "    .colab-df-convert {\n",
              "      background-color: #E8F0FE;\n",
              "      border: none;\n",
              "      border-radius: 50%;\n",
              "      cursor: pointer;\n",
              "      display: none;\n",
              "      fill: #1967D2;\n",
              "      height: 32px;\n",
              "      padding: 0 0 0 0;\n",
              "      width: 32px;\n",
              "    }\n",
              "\n",
              "    .colab-df-convert:hover {\n",
              "      background-color: #E2EBFA;\n",
              "      box-shadow: 0px 1px 2px rgba(60, 64, 67, 0.3), 0px 1px 3px 1px rgba(60, 64, 67, 0.15);\n",
              "      fill: #174EA6;\n",
              "    }\n",
              "\n",
              "    [theme=dark] .colab-df-convert {\n",
              "      background-color: #3B4455;\n",
              "      fill: #D2E3FC;\n",
              "    }\n",
              "\n",
              "    [theme=dark] .colab-df-convert:hover {\n",
              "      background-color: #434B5C;\n",
              "      box-shadow: 0px 1px 3px 1px rgba(0, 0, 0, 0.15);\n",
              "      filter: drop-shadow(0px 1px 2px rgba(0, 0, 0, 0.3));\n",
              "      fill: #FFFFFF;\n",
              "    }\n",
              "  </style>\n",
              "\n",
              "      <script>\n",
              "        const buttonEl =\n",
              "          document.querySelector('#df-cab9f072-676d-424f-8457-82a02227f4b7 button.colab-df-convert');\n",
              "        buttonEl.style.display =\n",
              "          google.colab.kernel.accessAllowed ? 'block' : 'none';\n",
              "\n",
              "        async function convertToInteractive(key) {\n",
              "          const element = document.querySelector('#df-cab9f072-676d-424f-8457-82a02227f4b7');\n",
              "          const dataTable =\n",
              "            await google.colab.kernel.invokeFunction('convertToInteractive',\n",
              "                                                     [key], {});\n",
              "          if (!dataTable) return;\n",
              "\n",
              "          const docLinkHtml = 'Like what you see? Visit the ' +\n",
              "            '<a target=\"_blank\" href=https://colab.research.google.com/notebooks/data_table.ipynb>data table notebook</a>'\n",
              "            + ' to learn more about interactive tables.';\n",
              "          element.innerHTML = '';\n",
              "          dataTable['output_type'] = 'display_data';\n",
              "          await google.colab.output.renderOutput(dataTable, element);\n",
              "          const docLink = document.createElement('div');\n",
              "          docLink.innerHTML = docLinkHtml;\n",
              "          element.appendChild(docLink);\n",
              "        }\n",
              "      </script>\n",
              "    </div>\n",
              "  </div>\n",
              "  "
            ]
          },
          "metadata": {},
          "execution_count": 46
        }
      ],
      "source": [
        "user_tar = tel.groupby('tariff_plan').agg({'user_id':'nunique'})\n",
        "user_tar"
      ]
    },
    {
      "cell_type": "markdown",
      "metadata": {
        "id": "mIAGxt3_0Iy8"
      },
      "source": [
        "По параметру тариф все клиенты распределяются также неравномерно, клиетов тарифа С больше, чем остальных"
      ]
    },
    {
      "cell_type": "markdown",
      "metadata": {
        "id": "5al03TVLBq1-"
      },
      "source": [
        "#### Категоризация по специализации (обзвоны или прием звонков)"
      ]
    },
    {
      "cell_type": "markdown",
      "metadata": {
        "id": "UkpdskD9KLHS"
      },
      "source": [
        "Сформируем сводную таблицу, в которой будет видно долю исходящих звонков. "
      ]
    },
    {
      "cell_type": "code",
      "execution_count": null,
      "metadata": {
        "colab": {
          "base_uri": "https://localhost:8080/",
          "height": 237
        },
        "id": "Sk5JFMHNgZ7r",
        "outputId": "4e8bd898-67e4-4c8f-c12c-18f3227de9e1"
      },
      "outputs": [
        {
          "output_type": "execute_result",
          "data": {
            "text/plain": [
              "          out    in  days  percent_out\n",
              "user_id                               \n",
              "166377   4952   102    83         98.0\n",
              "166391      1     6     4         14.0\n",
              "166392      0   102    41          0.0\n",
              "166399      0    11     9          0.0\n",
              "166405   9825  2191    97         82.0"
            ],
            "text/html": [
              "\n",
              "  <div id=\"df-443bc4d7-b6ae-4a31-a41c-647ff5aa396c\">\n",
              "    <div class=\"colab-df-container\">\n",
              "      <div>\n",
              "<style scoped>\n",
              "    .dataframe tbody tr th:only-of-type {\n",
              "        vertical-align: middle;\n",
              "    }\n",
              "\n",
              "    .dataframe tbody tr th {\n",
              "        vertical-align: top;\n",
              "    }\n",
              "\n",
              "    .dataframe thead th {\n",
              "        text-align: right;\n",
              "    }\n",
              "</style>\n",
              "<table border=\"1\" class=\"dataframe\">\n",
              "  <thead>\n",
              "    <tr style=\"text-align: right;\">\n",
              "      <th></th>\n",
              "      <th>out</th>\n",
              "      <th>in</th>\n",
              "      <th>days</th>\n",
              "      <th>percent_out</th>\n",
              "    </tr>\n",
              "    <tr>\n",
              "      <th>user_id</th>\n",
              "      <th></th>\n",
              "      <th></th>\n",
              "      <th></th>\n",
              "      <th></th>\n",
              "    </tr>\n",
              "  </thead>\n",
              "  <tbody>\n",
              "    <tr>\n",
              "      <th>166377</th>\n",
              "      <td>4952</td>\n",
              "      <td>102</td>\n",
              "      <td>83</td>\n",
              "      <td>98.0</td>\n",
              "    </tr>\n",
              "    <tr>\n",
              "      <th>166391</th>\n",
              "      <td>1</td>\n",
              "      <td>6</td>\n",
              "      <td>4</td>\n",
              "      <td>14.0</td>\n",
              "    </tr>\n",
              "    <tr>\n",
              "      <th>166392</th>\n",
              "      <td>0</td>\n",
              "      <td>102</td>\n",
              "      <td>41</td>\n",
              "      <td>0.0</td>\n",
              "    </tr>\n",
              "    <tr>\n",
              "      <th>166399</th>\n",
              "      <td>0</td>\n",
              "      <td>11</td>\n",
              "      <td>9</td>\n",
              "      <td>0.0</td>\n",
              "    </tr>\n",
              "    <tr>\n",
              "      <th>166405</th>\n",
              "      <td>9825</td>\n",
              "      <td>2191</td>\n",
              "      <td>97</td>\n",
              "      <td>82.0</td>\n",
              "    </tr>\n",
              "  </tbody>\n",
              "</table>\n",
              "</div>\n",
              "      <button class=\"colab-df-convert\" onclick=\"convertToInteractive('df-443bc4d7-b6ae-4a31-a41c-647ff5aa396c')\"\n",
              "              title=\"Convert this dataframe to an interactive table.\"\n",
              "              style=\"display:none;\">\n",
              "        \n",
              "  <svg xmlns=\"http://www.w3.org/2000/svg\" height=\"24px\"viewBox=\"0 0 24 24\"\n",
              "       width=\"24px\">\n",
              "    <path d=\"M0 0h24v24H0V0z\" fill=\"none\"/>\n",
              "    <path d=\"M18.56 5.44l.94 2.06.94-2.06 2.06-.94-2.06-.94-.94-2.06-.94 2.06-2.06.94zm-11 1L8.5 8.5l.94-2.06 2.06-.94-2.06-.94L8.5 2.5l-.94 2.06-2.06.94zm10 10l.94 2.06.94-2.06 2.06-.94-2.06-.94-.94-2.06-.94 2.06-2.06.94z\"/><path d=\"M17.41 7.96l-1.37-1.37c-.4-.4-.92-.59-1.43-.59-.52 0-1.04.2-1.43.59L10.3 9.45l-7.72 7.72c-.78.78-.78 2.05 0 2.83L4 21.41c.39.39.9.59 1.41.59.51 0 1.02-.2 1.41-.59l7.78-7.78 2.81-2.81c.8-.78.8-2.07 0-2.86zM5.41 20L4 18.59l7.72-7.72 1.47 1.35L5.41 20z\"/>\n",
              "  </svg>\n",
              "      </button>\n",
              "      \n",
              "  <style>\n",
              "    .colab-df-container {\n",
              "      display:flex;\n",
              "      flex-wrap:wrap;\n",
              "      gap: 12px;\n",
              "    }\n",
              "\n",
              "    .colab-df-convert {\n",
              "      background-color: #E8F0FE;\n",
              "      border: none;\n",
              "      border-radius: 50%;\n",
              "      cursor: pointer;\n",
              "      display: none;\n",
              "      fill: #1967D2;\n",
              "      height: 32px;\n",
              "      padding: 0 0 0 0;\n",
              "      width: 32px;\n",
              "    }\n",
              "\n",
              "    .colab-df-convert:hover {\n",
              "      background-color: #E2EBFA;\n",
              "      box-shadow: 0px 1px 2px rgba(60, 64, 67, 0.3), 0px 1px 3px 1px rgba(60, 64, 67, 0.15);\n",
              "      fill: #174EA6;\n",
              "    }\n",
              "\n",
              "    [theme=dark] .colab-df-convert {\n",
              "      background-color: #3B4455;\n",
              "      fill: #D2E3FC;\n",
              "    }\n",
              "\n",
              "    [theme=dark] .colab-df-convert:hover {\n",
              "      background-color: #434B5C;\n",
              "      box-shadow: 0px 1px 3px 1px rgba(0, 0, 0, 0.15);\n",
              "      filter: drop-shadow(0px 1px 2px rgba(0, 0, 0, 0.3));\n",
              "      fill: #FFFFFF;\n",
              "    }\n",
              "  </style>\n",
              "\n",
              "      <script>\n",
              "        const buttonEl =\n",
              "          document.querySelector('#df-443bc4d7-b6ae-4a31-a41c-647ff5aa396c button.colab-df-convert');\n",
              "        buttonEl.style.display =\n",
              "          google.colab.kernel.accessAllowed ? 'block' : 'none';\n",
              "\n",
              "        async function convertToInteractive(key) {\n",
              "          const element = document.querySelector('#df-443bc4d7-b6ae-4a31-a41c-647ff5aa396c');\n",
              "          const dataTable =\n",
              "            await google.colab.kernel.invokeFunction('convertToInteractive',\n",
              "                                                     [key], {});\n",
              "          if (!dataTable) return;\n",
              "\n",
              "          const docLinkHtml = 'Like what you see? Visit the ' +\n",
              "            '<a target=\"_blank\" href=https://colab.research.google.com/notebooks/data_table.ipynb>data table notebook</a>'\n",
              "            + ' to learn more about interactive tables.';\n",
              "          element.innerHTML = '';\n",
              "          dataTable['output_type'] = 'display_data';\n",
              "          await google.colab.output.renderOutput(dataTable, element);\n",
              "          const docLink = document.createElement('div');\n",
              "          docLink.innerHTML = docLinkHtml;\n",
              "          element.appendChild(docLink);\n",
              "        }\n",
              "      </script>\n",
              "    </div>\n",
              "  </div>\n",
              "  "
            ]
          },
          "metadata": {},
          "execution_count": 47
        }
      ],
      "source": [
        "tel_dir = pd.pivot_table(tel, index=['user_id'],columns=['direction'],\n",
        "               values=['calls_count'], aggfunc=['sum'],fill_value=0)\n",
        "\n",
        "tel_dir['date'] = pd.pivot_table(tel, index=['user_id'],\n",
        "               values=['date'], aggfunc=['nunique'])\n",
        "\n",
        "tel_dir.reset_index()\n",
        "\n",
        "tel_dir.columns= [ 'out', 'in', 'days']\n",
        "tel_dir['percent_out'] = round(tel_dir['out']/(tel_dir['out'] + tel_dir['in']) * 100)\n",
        "\n",
        "tel_dir.head()"
      ]
    },
    {
      "cell_type": "markdown",
      "metadata": {
        "id": "mq5XqrN3oHGO"
      },
      "source": [
        "Выберем клиентов, которые специализируются на обзвонах. Соответсвенно доля исходящих звонков у них должна быть  50% Или больше"
      ]
    },
    {
      "cell_type": "code",
      "execution_count": null,
      "metadata": {
        "colab": {
          "base_uri": "https://localhost:8080/",
          "height": 455
        },
        "id": "UfFbJsGblIUV",
        "outputId": "9eb1f569-d770-49d2-941b-4e97cbafaa50"
      },
      "outputs": [
        {
          "output_type": "execute_result",
          "data": {
            "text/plain": [
              "           out  in  days  percent_out\n",
              "user_id                              \n",
              "167113       1   1     1         50.0\n",
              "167543       9   9     9         50.0\n",
              "167263       8   8     9         50.0\n",
              "168500       2   2     3         50.0\n",
              "167246      77  74    42         51.0\n",
              "...        ...  ..   ...          ...\n",
              "167645     679   0    12        100.0\n",
              "167716     733   0    52        100.0\n",
              "168018   12325   0    25        100.0\n",
              "167011    3003   0    19        100.0\n",
              "167288       3   0     1        100.0\n",
              "\n",
              "[169 rows x 4 columns]"
            ],
            "text/html": [
              "\n",
              "  <div id=\"df-23597997-e888-46b2-bde0-735f640b2ba6\">\n",
              "    <div class=\"colab-df-container\">\n",
              "      <div>\n",
              "<style scoped>\n",
              "    .dataframe tbody tr th:only-of-type {\n",
              "        vertical-align: middle;\n",
              "    }\n",
              "\n",
              "    .dataframe tbody tr th {\n",
              "        vertical-align: top;\n",
              "    }\n",
              "\n",
              "    .dataframe thead th {\n",
              "        text-align: right;\n",
              "    }\n",
              "</style>\n",
              "<table border=\"1\" class=\"dataframe\">\n",
              "  <thead>\n",
              "    <tr style=\"text-align: right;\">\n",
              "      <th></th>\n",
              "      <th>out</th>\n",
              "      <th>in</th>\n",
              "      <th>days</th>\n",
              "      <th>percent_out</th>\n",
              "    </tr>\n",
              "    <tr>\n",
              "      <th>user_id</th>\n",
              "      <th></th>\n",
              "      <th></th>\n",
              "      <th></th>\n",
              "      <th></th>\n",
              "    </tr>\n",
              "  </thead>\n",
              "  <tbody>\n",
              "    <tr>\n",
              "      <th>167113</th>\n",
              "      <td>1</td>\n",
              "      <td>1</td>\n",
              "      <td>1</td>\n",
              "      <td>50.0</td>\n",
              "    </tr>\n",
              "    <tr>\n",
              "      <th>167543</th>\n",
              "      <td>9</td>\n",
              "      <td>9</td>\n",
              "      <td>9</td>\n",
              "      <td>50.0</td>\n",
              "    </tr>\n",
              "    <tr>\n",
              "      <th>167263</th>\n",
              "      <td>8</td>\n",
              "      <td>8</td>\n",
              "      <td>9</td>\n",
              "      <td>50.0</td>\n",
              "    </tr>\n",
              "    <tr>\n",
              "      <th>168500</th>\n",
              "      <td>2</td>\n",
              "      <td>2</td>\n",
              "      <td>3</td>\n",
              "      <td>50.0</td>\n",
              "    </tr>\n",
              "    <tr>\n",
              "      <th>167246</th>\n",
              "      <td>77</td>\n",
              "      <td>74</td>\n",
              "      <td>42</td>\n",
              "      <td>51.0</td>\n",
              "    </tr>\n",
              "    <tr>\n",
              "      <th>...</th>\n",
              "      <td>...</td>\n",
              "      <td>...</td>\n",
              "      <td>...</td>\n",
              "      <td>...</td>\n",
              "    </tr>\n",
              "    <tr>\n",
              "      <th>167645</th>\n",
              "      <td>679</td>\n",
              "      <td>0</td>\n",
              "      <td>12</td>\n",
              "      <td>100.0</td>\n",
              "    </tr>\n",
              "    <tr>\n",
              "      <th>167716</th>\n",
              "      <td>733</td>\n",
              "      <td>0</td>\n",
              "      <td>52</td>\n",
              "      <td>100.0</td>\n",
              "    </tr>\n",
              "    <tr>\n",
              "      <th>168018</th>\n",
              "      <td>12325</td>\n",
              "      <td>0</td>\n",
              "      <td>25</td>\n",
              "      <td>100.0</td>\n",
              "    </tr>\n",
              "    <tr>\n",
              "      <th>167011</th>\n",
              "      <td>3003</td>\n",
              "      <td>0</td>\n",
              "      <td>19</td>\n",
              "      <td>100.0</td>\n",
              "    </tr>\n",
              "    <tr>\n",
              "      <th>167288</th>\n",
              "      <td>3</td>\n",
              "      <td>0</td>\n",
              "      <td>1</td>\n",
              "      <td>100.0</td>\n",
              "    </tr>\n",
              "  </tbody>\n",
              "</table>\n",
              "<p>169 rows × 4 columns</p>\n",
              "</div>\n",
              "      <button class=\"colab-df-convert\" onclick=\"convertToInteractive('df-23597997-e888-46b2-bde0-735f640b2ba6')\"\n",
              "              title=\"Convert this dataframe to an interactive table.\"\n",
              "              style=\"display:none;\">\n",
              "        \n",
              "  <svg xmlns=\"http://www.w3.org/2000/svg\" height=\"24px\"viewBox=\"0 0 24 24\"\n",
              "       width=\"24px\">\n",
              "    <path d=\"M0 0h24v24H0V0z\" fill=\"none\"/>\n",
              "    <path d=\"M18.56 5.44l.94 2.06.94-2.06 2.06-.94-2.06-.94-.94-2.06-.94 2.06-2.06.94zm-11 1L8.5 8.5l.94-2.06 2.06-.94-2.06-.94L8.5 2.5l-.94 2.06-2.06.94zm10 10l.94 2.06.94-2.06 2.06-.94-2.06-.94-.94-2.06-.94 2.06-2.06.94z\"/><path d=\"M17.41 7.96l-1.37-1.37c-.4-.4-.92-.59-1.43-.59-.52 0-1.04.2-1.43.59L10.3 9.45l-7.72 7.72c-.78.78-.78 2.05 0 2.83L4 21.41c.39.39.9.59 1.41.59.51 0 1.02-.2 1.41-.59l7.78-7.78 2.81-2.81c.8-.78.8-2.07 0-2.86zM5.41 20L4 18.59l7.72-7.72 1.47 1.35L5.41 20z\"/>\n",
              "  </svg>\n",
              "      </button>\n",
              "      \n",
              "  <style>\n",
              "    .colab-df-container {\n",
              "      display:flex;\n",
              "      flex-wrap:wrap;\n",
              "      gap: 12px;\n",
              "    }\n",
              "\n",
              "    .colab-df-convert {\n",
              "      background-color: #E8F0FE;\n",
              "      border: none;\n",
              "      border-radius: 50%;\n",
              "      cursor: pointer;\n",
              "      display: none;\n",
              "      fill: #1967D2;\n",
              "      height: 32px;\n",
              "      padding: 0 0 0 0;\n",
              "      width: 32px;\n",
              "    }\n",
              "\n",
              "    .colab-df-convert:hover {\n",
              "      background-color: #E2EBFA;\n",
              "      box-shadow: 0px 1px 2px rgba(60, 64, 67, 0.3), 0px 1px 3px 1px rgba(60, 64, 67, 0.15);\n",
              "      fill: #174EA6;\n",
              "    }\n",
              "\n",
              "    [theme=dark] .colab-df-convert {\n",
              "      background-color: #3B4455;\n",
              "      fill: #D2E3FC;\n",
              "    }\n",
              "\n",
              "    [theme=dark] .colab-df-convert:hover {\n",
              "      background-color: #434B5C;\n",
              "      box-shadow: 0px 1px 3px 1px rgba(0, 0, 0, 0.15);\n",
              "      filter: drop-shadow(0px 1px 2px rgba(0, 0, 0, 0.3));\n",
              "      fill: #FFFFFF;\n",
              "    }\n",
              "  </style>\n",
              "\n",
              "      <script>\n",
              "        const buttonEl =\n",
              "          document.querySelector('#df-23597997-e888-46b2-bde0-735f640b2ba6 button.colab-df-convert');\n",
              "        buttonEl.style.display =\n",
              "          google.colab.kernel.accessAllowed ? 'block' : 'none';\n",
              "\n",
              "        async function convertToInteractive(key) {\n",
              "          const element = document.querySelector('#df-23597997-e888-46b2-bde0-735f640b2ba6');\n",
              "          const dataTable =\n",
              "            await google.colab.kernel.invokeFunction('convertToInteractive',\n",
              "                                                     [key], {});\n",
              "          if (!dataTable) return;\n",
              "\n",
              "          const docLinkHtml = 'Like what you see? Visit the ' +\n",
              "            '<a target=\"_blank\" href=https://colab.research.google.com/notebooks/data_table.ipynb>data table notebook</a>'\n",
              "            + ' to learn more about interactive tables.';\n",
              "          element.innerHTML = '';\n",
              "          dataTable['output_type'] = 'display_data';\n",
              "          await google.colab.output.renderOutput(dataTable, element);\n",
              "          const docLink = document.createElement('div');\n",
              "          docLink.innerHTML = docLinkHtml;\n",
              "          element.appendChild(docLink);\n",
              "        }\n",
              "      </script>\n",
              "    </div>\n",
              "  </div>\n",
              "  "
            ]
          },
          "metadata": {},
          "execution_count": 48
        }
      ],
      "source": [
        "tel_out = tel_dir.query('percent_out > 49')\n",
        "tel_out.sort_values(by = 'percent_out')"
      ]
    },
    {
      "cell_type": "markdown",
      "metadata": {
        "id": "4hnlZ9cQuf3J"
      },
      "source": [
        "Добавим "
      ]
    },
    {
      "cell_type": "code",
      "execution_count": null,
      "metadata": {
        "colab": {
          "base_uri": "https://localhost:8080/",
          "height": 455
        },
        "id": "OwOHc2rvOrJd",
        "outputId": "647088fa-ba26-4774-b176-544e10cac7a2"
      },
      "outputs": [
        {
          "output_type": "execute_result",
          "data": {
            "text/plain": [
              "         out    in  days  percent_out\n",
              "user_id                              \n",
              "168598     0    22    10          0.0\n",
              "167474     0     5     3          0.0\n",
              "167402     0   144    49          0.0\n",
              "167286     0   168    58          0.0\n",
              "167277     0    11     8          0.0\n",
              "...      ...   ...   ...          ...\n",
              "168275   110   141    17         44.0\n",
              "167969    47    58    14         45.0\n",
              "167977   971  1110    37         47.0\n",
              "167994    23    26    12         47.0\n",
              "167016   862   958    35         47.0\n",
              "\n",
              "[121 rows x 4 columns]"
            ],
            "text/html": [
              "\n",
              "  <div id=\"df-def85de9-d6c2-4c2a-a760-f28522c5d5ef\">\n",
              "    <div class=\"colab-df-container\">\n",
              "      <div>\n",
              "<style scoped>\n",
              "    .dataframe tbody tr th:only-of-type {\n",
              "        vertical-align: middle;\n",
              "    }\n",
              "\n",
              "    .dataframe tbody tr th {\n",
              "        vertical-align: top;\n",
              "    }\n",
              "\n",
              "    .dataframe thead th {\n",
              "        text-align: right;\n",
              "    }\n",
              "</style>\n",
              "<table border=\"1\" class=\"dataframe\">\n",
              "  <thead>\n",
              "    <tr style=\"text-align: right;\">\n",
              "      <th></th>\n",
              "      <th>out</th>\n",
              "      <th>in</th>\n",
              "      <th>days</th>\n",
              "      <th>percent_out</th>\n",
              "    </tr>\n",
              "    <tr>\n",
              "      <th>user_id</th>\n",
              "      <th></th>\n",
              "      <th></th>\n",
              "      <th></th>\n",
              "      <th></th>\n",
              "    </tr>\n",
              "  </thead>\n",
              "  <tbody>\n",
              "    <tr>\n",
              "      <th>168598</th>\n",
              "      <td>0</td>\n",
              "      <td>22</td>\n",
              "      <td>10</td>\n",
              "      <td>0.0</td>\n",
              "    </tr>\n",
              "    <tr>\n",
              "      <th>167474</th>\n",
              "      <td>0</td>\n",
              "      <td>5</td>\n",
              "      <td>3</td>\n",
              "      <td>0.0</td>\n",
              "    </tr>\n",
              "    <tr>\n",
              "      <th>167402</th>\n",
              "      <td>0</td>\n",
              "      <td>144</td>\n",
              "      <td>49</td>\n",
              "      <td>0.0</td>\n",
              "    </tr>\n",
              "    <tr>\n",
              "      <th>167286</th>\n",
              "      <td>0</td>\n",
              "      <td>168</td>\n",
              "      <td>58</td>\n",
              "      <td>0.0</td>\n",
              "    </tr>\n",
              "    <tr>\n",
              "      <th>167277</th>\n",
              "      <td>0</td>\n",
              "      <td>11</td>\n",
              "      <td>8</td>\n",
              "      <td>0.0</td>\n",
              "    </tr>\n",
              "    <tr>\n",
              "      <th>...</th>\n",
              "      <td>...</td>\n",
              "      <td>...</td>\n",
              "      <td>...</td>\n",
              "      <td>...</td>\n",
              "    </tr>\n",
              "    <tr>\n",
              "      <th>168275</th>\n",
              "      <td>110</td>\n",
              "      <td>141</td>\n",
              "      <td>17</td>\n",
              "      <td>44.0</td>\n",
              "    </tr>\n",
              "    <tr>\n",
              "      <th>167969</th>\n",
              "      <td>47</td>\n",
              "      <td>58</td>\n",
              "      <td>14</td>\n",
              "      <td>45.0</td>\n",
              "    </tr>\n",
              "    <tr>\n",
              "      <th>167977</th>\n",
              "      <td>971</td>\n",
              "      <td>1110</td>\n",
              "      <td>37</td>\n",
              "      <td>47.0</td>\n",
              "    </tr>\n",
              "    <tr>\n",
              "      <th>167994</th>\n",
              "      <td>23</td>\n",
              "      <td>26</td>\n",
              "      <td>12</td>\n",
              "      <td>47.0</td>\n",
              "    </tr>\n",
              "    <tr>\n",
              "      <th>167016</th>\n",
              "      <td>862</td>\n",
              "      <td>958</td>\n",
              "      <td>35</td>\n",
              "      <td>47.0</td>\n",
              "    </tr>\n",
              "  </tbody>\n",
              "</table>\n",
              "<p>121 rows × 4 columns</p>\n",
              "</div>\n",
              "      <button class=\"colab-df-convert\" onclick=\"convertToInteractive('df-def85de9-d6c2-4c2a-a760-f28522c5d5ef')\"\n",
              "              title=\"Convert this dataframe to an interactive table.\"\n",
              "              style=\"display:none;\">\n",
              "        \n",
              "  <svg xmlns=\"http://www.w3.org/2000/svg\" height=\"24px\"viewBox=\"0 0 24 24\"\n",
              "       width=\"24px\">\n",
              "    <path d=\"M0 0h24v24H0V0z\" fill=\"none\"/>\n",
              "    <path d=\"M18.56 5.44l.94 2.06.94-2.06 2.06-.94-2.06-.94-.94-2.06-.94 2.06-2.06.94zm-11 1L8.5 8.5l.94-2.06 2.06-.94-2.06-.94L8.5 2.5l-.94 2.06-2.06.94zm10 10l.94 2.06.94-2.06 2.06-.94-2.06-.94-.94-2.06-.94 2.06-2.06.94z\"/><path d=\"M17.41 7.96l-1.37-1.37c-.4-.4-.92-.59-1.43-.59-.52 0-1.04.2-1.43.59L10.3 9.45l-7.72 7.72c-.78.78-.78 2.05 0 2.83L4 21.41c.39.39.9.59 1.41.59.51 0 1.02-.2 1.41-.59l7.78-7.78 2.81-2.81c.8-.78.8-2.07 0-2.86zM5.41 20L4 18.59l7.72-7.72 1.47 1.35L5.41 20z\"/>\n",
              "  </svg>\n",
              "      </button>\n",
              "      \n",
              "  <style>\n",
              "    .colab-df-container {\n",
              "      display:flex;\n",
              "      flex-wrap:wrap;\n",
              "      gap: 12px;\n",
              "    }\n",
              "\n",
              "    .colab-df-convert {\n",
              "      background-color: #E8F0FE;\n",
              "      border: none;\n",
              "      border-radius: 50%;\n",
              "      cursor: pointer;\n",
              "      display: none;\n",
              "      fill: #1967D2;\n",
              "      height: 32px;\n",
              "      padding: 0 0 0 0;\n",
              "      width: 32px;\n",
              "    }\n",
              "\n",
              "    .colab-df-convert:hover {\n",
              "      background-color: #E2EBFA;\n",
              "      box-shadow: 0px 1px 2px rgba(60, 64, 67, 0.3), 0px 1px 3px 1px rgba(60, 64, 67, 0.15);\n",
              "      fill: #174EA6;\n",
              "    }\n",
              "\n",
              "    [theme=dark] .colab-df-convert {\n",
              "      background-color: #3B4455;\n",
              "      fill: #D2E3FC;\n",
              "    }\n",
              "\n",
              "    [theme=dark] .colab-df-convert:hover {\n",
              "      background-color: #434B5C;\n",
              "      box-shadow: 0px 1px 3px 1px rgba(0, 0, 0, 0.15);\n",
              "      filter: drop-shadow(0px 1px 2px rgba(0, 0, 0, 0.3));\n",
              "      fill: #FFFFFF;\n",
              "    }\n",
              "  </style>\n",
              "\n",
              "      <script>\n",
              "        const buttonEl =\n",
              "          document.querySelector('#df-def85de9-d6c2-4c2a-a760-f28522c5d5ef button.colab-df-convert');\n",
              "        buttonEl.style.display =\n",
              "          google.colab.kernel.accessAllowed ? 'block' : 'none';\n",
              "\n",
              "        async function convertToInteractive(key) {\n",
              "          const element = document.querySelector('#df-def85de9-d6c2-4c2a-a760-f28522c5d5ef');\n",
              "          const dataTable =\n",
              "            await google.colab.kernel.invokeFunction('convertToInteractive',\n",
              "                                                     [key], {});\n",
              "          if (!dataTable) return;\n",
              "\n",
              "          const docLinkHtml = 'Like what you see? Visit the ' +\n",
              "            '<a target=\"_blank\" href=https://colab.research.google.com/notebooks/data_table.ipynb>data table notebook</a>'\n",
              "            + ' to learn more about interactive tables.';\n",
              "          element.innerHTML = '';\n",
              "          dataTable['output_type'] = 'display_data';\n",
              "          await google.colab.output.renderOutput(dataTable, element);\n",
              "          const docLink = document.createElement('div');\n",
              "          docLink.innerHTML = docLinkHtml;\n",
              "          element.appendChild(docLink);\n",
              "        }\n",
              "      </script>\n",
              "    </div>\n",
              "  </div>\n",
              "  "
            ]
          },
          "metadata": {},
          "execution_count": 49
        }
      ],
      "source": [
        "tel_in = tel_dir.query('percent_out < 50')\n",
        "tel_in.sort_values(by = 'percent_out')"
      ]
    },
    {
      "cell_type": "markdown",
      "metadata": {
        "id": "W0X632uSBqyz"
      },
      "source": [
        "Группы получились примерно равные по количеству\n",
        "\n",
        "Конечно, клиентов с 50% исходящих звонков трудно считать специализирующимися на обзвонах, но это нужно нам для анализа имеющейся информации. "
      ]
    },
    {
      "cell_type": "markdown",
      "metadata": {
        "id": "fLxLvMOEbiWU"
      },
      "source": [
        "В дальнейшем будет создан дашборд, в котором клиенты сами смогут определять какие признаки эффективности своих операторов они хотят выбрать и какие пороги эффективности установить."
      ]
    },
    {
      "cell_type": "markdown",
      "metadata": {
        "id": "ErfNZSx-1C5l"
      },
      "source": [
        "**Выводы по разделу:** мы использовали три различных вида категоризации клиентов. Примерно равные группы получились при распределении по специализации"
      ]
    },
    {
      "cell_type": "markdown",
      "metadata": {
        "id": "Jw576T8tBqou"
      },
      "source": [
        "### Изучим количество пропущенных входящих вызовов и определим неэффективных операторов "
      ]
    },
    {
      "cell_type": "markdown",
      "metadata": {
        "id": "Vb7X9wHFoYe7"
      },
      "source": [
        "Показатель CAR: call abandonment rate — показатель необработанных вызовов.  Он измеряет количество звонков, во время которых клиент положил трубку, не дождавшись ответа. Индустриальный стандарт — 5–8 % (Источник: https://www.cossa.ru/special/business-processes/276786/?ysclid=l4jt0sf2on196552777) \n",
        "\n",
        "Расчитаем CAR для наших данных"
      ]
    },
    {
      "cell_type": "markdown",
      "metadata": {
        "id": "JKo6Oa3IqCoE"
      },
      "source": [
        "Сделаем срез данных, в котором будут только входящие звонки"
      ]
    },
    {
      "cell_type": "code",
      "execution_count": null,
      "metadata": {
        "id": "5QymvploqIBn"
      },
      "outputs": [],
      "source": [
        "operator_in = tel.query('direction == 1')"
      ]
    },
    {
      "cell_type": "markdown",
      "metadata": {
        "id": "mglOwIVhBqlZ"
      },
      "source": [
        "Сформируем сводную таблицу, в которой будут сгрупированы данные по операторам и посчитаны входящие звонки, пропущенные и нет"
      ]
    },
    {
      "cell_type": "code",
      "execution_count": null,
      "metadata": {
        "colab": {
          "base_uri": "https://localhost:8080/",
          "height": 269
        },
        "id": "eSsU7Yk3k6_z",
        "outputId": "76d9c012-e167-456f-e3b9-fa333735e899"
      },
      "outputs": [
        {
          "output_type": "execute_result",
          "data": {
            "text/plain": [
              "               operator_id         sum     \n",
              "                           calls_count     \n",
              "is_missed_call                   False True\n",
              "0                   879896          58    0\n",
              "1                   879898         104    0\n",
              "2                   880020           7    0\n",
              "3                   880022           8    0\n",
              "4                   880026          24    0"
            ],
            "text/html": [
              "\n",
              "  <div id=\"df-23cb6534-c8ac-42ed-84d5-8d0b5a010ec3\">\n",
              "    <div class=\"colab-df-container\">\n",
              "      <div>\n",
              "<style scoped>\n",
              "    .dataframe tbody tr th:only-of-type {\n",
              "        vertical-align: middle;\n",
              "    }\n",
              "\n",
              "    .dataframe tbody tr th {\n",
              "        vertical-align: top;\n",
              "    }\n",
              "\n",
              "    .dataframe thead tr th {\n",
              "        text-align: left;\n",
              "    }\n",
              "</style>\n",
              "<table border=\"1\" class=\"dataframe\">\n",
              "  <thead>\n",
              "    <tr>\n",
              "      <th></th>\n",
              "      <th>operator_id</th>\n",
              "      <th colspan=\"2\" halign=\"left\">sum</th>\n",
              "    </tr>\n",
              "    <tr>\n",
              "      <th></th>\n",
              "      <th></th>\n",
              "      <th colspan=\"2\" halign=\"left\">calls_count</th>\n",
              "    </tr>\n",
              "    <tr>\n",
              "      <th>is_missed_call</th>\n",
              "      <th></th>\n",
              "      <th>False</th>\n",
              "      <th>True</th>\n",
              "    </tr>\n",
              "  </thead>\n",
              "  <tbody>\n",
              "    <tr>\n",
              "      <th>0</th>\n",
              "      <td>879896</td>\n",
              "      <td>58</td>\n",
              "      <td>0</td>\n",
              "    </tr>\n",
              "    <tr>\n",
              "      <th>1</th>\n",
              "      <td>879898</td>\n",
              "      <td>104</td>\n",
              "      <td>0</td>\n",
              "    </tr>\n",
              "    <tr>\n",
              "      <th>2</th>\n",
              "      <td>880020</td>\n",
              "      <td>7</td>\n",
              "      <td>0</td>\n",
              "    </tr>\n",
              "    <tr>\n",
              "      <th>3</th>\n",
              "      <td>880022</td>\n",
              "      <td>8</td>\n",
              "      <td>0</td>\n",
              "    </tr>\n",
              "    <tr>\n",
              "      <th>4</th>\n",
              "      <td>880026</td>\n",
              "      <td>24</td>\n",
              "      <td>0</td>\n",
              "    </tr>\n",
              "  </tbody>\n",
              "</table>\n",
              "</div>\n",
              "      <button class=\"colab-df-convert\" onclick=\"convertToInteractive('df-23cb6534-c8ac-42ed-84d5-8d0b5a010ec3')\"\n",
              "              title=\"Convert this dataframe to an interactive table.\"\n",
              "              style=\"display:none;\">\n",
              "        \n",
              "  <svg xmlns=\"http://www.w3.org/2000/svg\" height=\"24px\"viewBox=\"0 0 24 24\"\n",
              "       width=\"24px\">\n",
              "    <path d=\"M0 0h24v24H0V0z\" fill=\"none\"/>\n",
              "    <path d=\"M18.56 5.44l.94 2.06.94-2.06 2.06-.94-2.06-.94-.94-2.06-.94 2.06-2.06.94zm-11 1L8.5 8.5l.94-2.06 2.06-.94-2.06-.94L8.5 2.5l-.94 2.06-2.06.94zm10 10l.94 2.06.94-2.06 2.06-.94-2.06-.94-.94-2.06-.94 2.06-2.06.94z\"/><path d=\"M17.41 7.96l-1.37-1.37c-.4-.4-.92-.59-1.43-.59-.52 0-1.04.2-1.43.59L10.3 9.45l-7.72 7.72c-.78.78-.78 2.05 0 2.83L4 21.41c.39.39.9.59 1.41.59.51 0 1.02-.2 1.41-.59l7.78-7.78 2.81-2.81c.8-.78.8-2.07 0-2.86zM5.41 20L4 18.59l7.72-7.72 1.47 1.35L5.41 20z\"/>\n",
              "  </svg>\n",
              "      </button>\n",
              "      \n",
              "  <style>\n",
              "    .colab-df-container {\n",
              "      display:flex;\n",
              "      flex-wrap:wrap;\n",
              "      gap: 12px;\n",
              "    }\n",
              "\n",
              "    .colab-df-convert {\n",
              "      background-color: #E8F0FE;\n",
              "      border: none;\n",
              "      border-radius: 50%;\n",
              "      cursor: pointer;\n",
              "      display: none;\n",
              "      fill: #1967D2;\n",
              "      height: 32px;\n",
              "      padding: 0 0 0 0;\n",
              "      width: 32px;\n",
              "    }\n",
              "\n",
              "    .colab-df-convert:hover {\n",
              "      background-color: #E2EBFA;\n",
              "      box-shadow: 0px 1px 2px rgba(60, 64, 67, 0.3), 0px 1px 3px 1px rgba(60, 64, 67, 0.15);\n",
              "      fill: #174EA6;\n",
              "    }\n",
              "\n",
              "    [theme=dark] .colab-df-convert {\n",
              "      background-color: #3B4455;\n",
              "      fill: #D2E3FC;\n",
              "    }\n",
              "\n",
              "    [theme=dark] .colab-df-convert:hover {\n",
              "      background-color: #434B5C;\n",
              "      box-shadow: 0px 1px 3px 1px rgba(0, 0, 0, 0.15);\n",
              "      filter: drop-shadow(0px 1px 2px rgba(0, 0, 0, 0.3));\n",
              "      fill: #FFFFFF;\n",
              "    }\n",
              "  </style>\n",
              "\n",
              "      <script>\n",
              "        const buttonEl =\n",
              "          document.querySelector('#df-23cb6534-c8ac-42ed-84d5-8d0b5a010ec3 button.colab-df-convert');\n",
              "        buttonEl.style.display =\n",
              "          google.colab.kernel.accessAllowed ? 'block' : 'none';\n",
              "\n",
              "        async function convertToInteractive(key) {\n",
              "          const element = document.querySelector('#df-23cb6534-c8ac-42ed-84d5-8d0b5a010ec3');\n",
              "          const dataTable =\n",
              "            await google.colab.kernel.invokeFunction('convertToInteractive',\n",
              "                                                     [key], {});\n",
              "          if (!dataTable) return;\n",
              "\n",
              "          const docLinkHtml = 'Like what you see? Visit the ' +\n",
              "            '<a target=\"_blank\" href=https://colab.research.google.com/notebooks/data_table.ipynb>data table notebook</a>'\n",
              "            + ' to learn more about interactive tables.';\n",
              "          element.innerHTML = '';\n",
              "          dataTable['output_type'] = 'display_data';\n",
              "          await google.colab.output.renderOutput(dataTable, element);\n",
              "          const docLink = document.createElement('div');\n",
              "          docLink.innerHTML = docLinkHtml;\n",
              "          element.appendChild(docLink);\n",
              "        }\n",
              "      </script>\n",
              "    </div>\n",
              "  </div>\n",
              "  "
            ]
          },
          "metadata": {},
          "execution_count": 51
        }
      ],
      "source": [
        "operator_car = pd.pivot_table(operator_in, index=['operator_id'],columns=['is_missed_call'],\n",
        "               values=['calls_count'], aggfunc=['sum'],fill_value=0).reset_index()\n",
        "\n",
        "operator_car.head()"
      ]
    },
    {
      "cell_type": "markdown",
      "metadata": {
        "id": "AZEZOIlZuu3j"
      },
      "source": [
        "Переименуем колонки и добавим колонку с процентом пропущенных вызовов от всех входящих у данного оператора"
      ]
    },
    {
      "cell_type": "code",
      "execution_count": null,
      "metadata": {
        "colab": {
          "base_uri": "https://localhost:8080/",
          "height": 206
        },
        "id": "Z_xkFte5k7tT",
        "outputId": "43f714c6-625e-4387-a826-b71a166f0720"
      },
      "outputs": [
        {
          "output_type": "execute_result",
          "data": {
            "text/plain": [
              "     operator_id  received  missed  percent_missed\n",
              "131       900458         1       0             0.0\n",
              "276       911214         2       0             0.0\n",
              "519       937862       122       0             0.0\n",
              "507       937762        95       1             1.0\n",
              "299       914636         3       0             0.0"
            ],
            "text/html": [
              "\n",
              "  <div id=\"df-88236e77-3335-4a4a-aec0-85568cf088fd\">\n",
              "    <div class=\"colab-df-container\">\n",
              "      <div>\n",
              "<style scoped>\n",
              "    .dataframe tbody tr th:only-of-type {\n",
              "        vertical-align: middle;\n",
              "    }\n",
              "\n",
              "    .dataframe tbody tr th {\n",
              "        vertical-align: top;\n",
              "    }\n",
              "\n",
              "    .dataframe thead th {\n",
              "        text-align: right;\n",
              "    }\n",
              "</style>\n",
              "<table border=\"1\" class=\"dataframe\">\n",
              "  <thead>\n",
              "    <tr style=\"text-align: right;\">\n",
              "      <th></th>\n",
              "      <th>operator_id</th>\n",
              "      <th>received</th>\n",
              "      <th>missed</th>\n",
              "      <th>percent_missed</th>\n",
              "    </tr>\n",
              "  </thead>\n",
              "  <tbody>\n",
              "    <tr>\n",
              "      <th>131</th>\n",
              "      <td>900458</td>\n",
              "      <td>1</td>\n",
              "      <td>0</td>\n",
              "      <td>0.0</td>\n",
              "    </tr>\n",
              "    <tr>\n",
              "      <th>276</th>\n",
              "      <td>911214</td>\n",
              "      <td>2</td>\n",
              "      <td>0</td>\n",
              "      <td>0.0</td>\n",
              "    </tr>\n",
              "    <tr>\n",
              "      <th>519</th>\n",
              "      <td>937862</td>\n",
              "      <td>122</td>\n",
              "      <td>0</td>\n",
              "      <td>0.0</td>\n",
              "    </tr>\n",
              "    <tr>\n",
              "      <th>507</th>\n",
              "      <td>937762</td>\n",
              "      <td>95</td>\n",
              "      <td>1</td>\n",
              "      <td>1.0</td>\n",
              "    </tr>\n",
              "    <tr>\n",
              "      <th>299</th>\n",
              "      <td>914636</td>\n",
              "      <td>3</td>\n",
              "      <td>0</td>\n",
              "      <td>0.0</td>\n",
              "    </tr>\n",
              "  </tbody>\n",
              "</table>\n",
              "</div>\n",
              "      <button class=\"colab-df-convert\" onclick=\"convertToInteractive('df-88236e77-3335-4a4a-aec0-85568cf088fd')\"\n",
              "              title=\"Convert this dataframe to an interactive table.\"\n",
              "              style=\"display:none;\">\n",
              "        \n",
              "  <svg xmlns=\"http://www.w3.org/2000/svg\" height=\"24px\"viewBox=\"0 0 24 24\"\n",
              "       width=\"24px\">\n",
              "    <path d=\"M0 0h24v24H0V0z\" fill=\"none\"/>\n",
              "    <path d=\"M18.56 5.44l.94 2.06.94-2.06 2.06-.94-2.06-.94-.94-2.06-.94 2.06-2.06.94zm-11 1L8.5 8.5l.94-2.06 2.06-.94-2.06-.94L8.5 2.5l-.94 2.06-2.06.94zm10 10l.94 2.06.94-2.06 2.06-.94-2.06-.94-.94-2.06-.94 2.06-2.06.94z\"/><path d=\"M17.41 7.96l-1.37-1.37c-.4-.4-.92-.59-1.43-.59-.52 0-1.04.2-1.43.59L10.3 9.45l-7.72 7.72c-.78.78-.78 2.05 0 2.83L4 21.41c.39.39.9.59 1.41.59.51 0 1.02-.2 1.41-.59l7.78-7.78 2.81-2.81c.8-.78.8-2.07 0-2.86zM5.41 20L4 18.59l7.72-7.72 1.47 1.35L5.41 20z\"/>\n",
              "  </svg>\n",
              "      </button>\n",
              "      \n",
              "  <style>\n",
              "    .colab-df-container {\n",
              "      display:flex;\n",
              "      flex-wrap:wrap;\n",
              "      gap: 12px;\n",
              "    }\n",
              "\n",
              "    .colab-df-convert {\n",
              "      background-color: #E8F0FE;\n",
              "      border: none;\n",
              "      border-radius: 50%;\n",
              "      cursor: pointer;\n",
              "      display: none;\n",
              "      fill: #1967D2;\n",
              "      height: 32px;\n",
              "      padding: 0 0 0 0;\n",
              "      width: 32px;\n",
              "    }\n",
              "\n",
              "    .colab-df-convert:hover {\n",
              "      background-color: #E2EBFA;\n",
              "      box-shadow: 0px 1px 2px rgba(60, 64, 67, 0.3), 0px 1px 3px 1px rgba(60, 64, 67, 0.15);\n",
              "      fill: #174EA6;\n",
              "    }\n",
              "\n",
              "    [theme=dark] .colab-df-convert {\n",
              "      background-color: #3B4455;\n",
              "      fill: #D2E3FC;\n",
              "    }\n",
              "\n",
              "    [theme=dark] .colab-df-convert:hover {\n",
              "      background-color: #434B5C;\n",
              "      box-shadow: 0px 1px 3px 1px rgba(0, 0, 0, 0.15);\n",
              "      filter: drop-shadow(0px 1px 2px rgba(0, 0, 0, 0.3));\n",
              "      fill: #FFFFFF;\n",
              "    }\n",
              "  </style>\n",
              "\n",
              "      <script>\n",
              "        const buttonEl =\n",
              "          document.querySelector('#df-88236e77-3335-4a4a-aec0-85568cf088fd button.colab-df-convert');\n",
              "        buttonEl.style.display =\n",
              "          google.colab.kernel.accessAllowed ? 'block' : 'none';\n",
              "\n",
              "        async function convertToInteractive(key) {\n",
              "          const element = document.querySelector('#df-88236e77-3335-4a4a-aec0-85568cf088fd');\n",
              "          const dataTable =\n",
              "            await google.colab.kernel.invokeFunction('convertToInteractive',\n",
              "                                                     [key], {});\n",
              "          if (!dataTable) return;\n",
              "\n",
              "          const docLinkHtml = 'Like what you see? Visit the ' +\n",
              "            '<a target=\"_blank\" href=https://colab.research.google.com/notebooks/data_table.ipynb>data table notebook</a>'\n",
              "            + ' to learn more about interactive tables.';\n",
              "          element.innerHTML = '';\n",
              "          dataTable['output_type'] = 'display_data';\n",
              "          await google.colab.output.renderOutput(dataTable, element);\n",
              "          const docLink = document.createElement('div');\n",
              "          docLink.innerHTML = docLinkHtml;\n",
              "          element.appendChild(docLink);\n",
              "        }\n",
              "      </script>\n",
              "    </div>\n",
              "  </div>\n",
              "  "
            ]
          },
          "metadata": {},
          "execution_count": 52
        }
      ],
      "source": [
        "operator_car.columns= ['operator_id', 'received', 'missed']\n",
        "operator_car['percent_missed'] = round(operator_car['missed']/(operator_car['received'] + operator_car['missed']) * 100)\n",
        "operator_car.sample(5)"
      ]
    },
    {
      "cell_type": "markdown",
      "metadata": {
        "id": "pWXugcjyxVLd"
      },
      "source": [
        "Построим график распределения процентного соотношения пропущенных вызовов"
      ]
    },
    {
      "cell_type": "code",
      "execution_count": null,
      "metadata": {
        "colab": {
          "base_uri": "https://localhost:8080/",
          "height": 265
        },
        "id": "tcYbZ0__xwy3",
        "outputId": "d2d63675-4700-4902-8812-7062410a04d2"
      },
      "outputs": [
        {
          "output_type": "display_data",
          "data": {
            "text/plain": [
              "<Figure size 432x288 with 1 Axes>"
            ],
            "image/png": "[encoded data removed]"
          },
          "metadata": {
            "needs_background": "light"
          }
        }
      ],
      "source": [
        "operator_car.percent_missed.hist(bins=100);"
      ]
    },
    {
      "cell_type": "markdown",
      "metadata": {
        "id": "k5v4uegryjTM"
      },
      "source": [
        "У большей части операторов этот процент равен 0. Посмотрим сколько операторов являтся неэффективными при пороге 8% "
      ]
    },
    {
      "cell_type": "code",
      "execution_count": null,
      "metadata": {
        "colab": {
          "base_uri": "https://localhost:8080/"
        },
        "id": "Otigg7pEk7qe",
        "outputId": "d4db71d1-8d6e-44c9-f253-8a4bdf63fb72"
      },
      "outputs": [
        {
          "output_type": "execute_result",
          "data": {
            "text/plain": [
              "43"
            ]
          },
          "metadata": {},
          "execution_count": 54
        }
      ],
      "source": [
        "operator_car_8 = operator_car.query('percent_missed > 8') \n",
        "operator_car_8.operator_id.count() "
      ]
    },
    {
      "cell_type": "markdown",
      "metadata": {
        "id": "ttq_jLiVy_PM"
      },
      "source": [
        "Посмотрим сколько операторов являтся неэффективными при пороге 5%"
      ]
    },
    {
      "cell_type": "code",
      "execution_count": null,
      "metadata": {
        "colab": {
          "base_uri": "https://localhost:8080/"
        },
        "id": "hoJuIDC9k7nU",
        "outputId": "982e7601-0eec-4f8a-eb3f-57f0b7f666a3"
      },
      "outputs": [
        {
          "output_type": "execute_result",
          "data": {
            "text/plain": [
              "60"
            ]
          },
          "metadata": {},
          "execution_count": 55
        }
      ],
      "source": [
        "operator_car_5 = operator_car.query('percent_missed > 5')\n",
        "operator_car_5.operator_id.count() "
      ]
    },
    {
      "cell_type": "markdown",
      "metadata": {
        "id": "8Y8hLGa4zQOF"
      },
      "source": [
        "Таким образом мы выявили неэффективных операторов по первому критерию: много пропущенных входящих звонков, предлагаю взять порог 5%, так мы сможем большему количеству клиентов показать, что у них есть операторы, которые пропускают довольно большое количество звонков. В дальнейшем же сам клиент сможет устанавливать порог значений, который будет для него являтся показательным. \n",
        "\n",
        "Чтобы в дашборде, в котором будет возможность отфильтровывать для клиента его неэффективных операторов (по тем порогам, которые он сам задаст), нужно добавить колонку с процентом пропущенных вызовов в основной датасет."
      ]
    },
    {
      "cell_type": "code",
      "execution_count": null,
      "metadata": {
        "colab": {
          "base_uri": "https://localhost:8080/",
          "height": 357
        },
        "id": "uO72ss6nk7kI",
        "outputId": "6c1d1ac8-464c-40af-ab7a-fe3401b904fa"
      },
      "outputs": [
        {
          "output_type": "execute_result",
          "data": {
            "text/plain": [
              "   user_id       date  direction internal  operator_id  is_missed_call  \\\n",
              "0   166377 2019-08-05          0     True       880022            True   \n",
              "1   166377 2019-08-05          0     True       880020            True   \n",
              "2   166377 2019-08-05          0     True       880020           False   \n",
              "3   166377 2019-08-05          0    False       880022            True   \n",
              "4   166377 2019-08-05          0    False       880020           False   \n",
              "\n",
              "   calls_count  call_duration  total_call_duration tariff_plan date_start  \\\n",
              "0            3              0                    5           B 2019-08-01   \n",
              "1            1              0                    1           B 2019-08-01   \n",
              "2            1             10                   18           B 2019-08-01   \n",
              "3            3              0                   25           B 2019-08-01   \n",
              "4            2              3                   29           B 2019-08-01   \n",
              "\n",
              "   received  missed  percent_missed  \n",
              "0       8.0     0.0             0.0  \n",
              "1       7.0     0.0             0.0  \n",
              "2       7.0     0.0             0.0  \n",
              "3       8.0     0.0             0.0  \n",
              "4       7.0     0.0             0.0  "
            ],
            "text/html": [
              "\n",
              "  <div id=\"df-298cfdbd-2e35-4b50-bd2f-16559dfbef65\">\n",
              "    <div class=\"colab-df-container\">\n",
              "      <div>\n",
              "<style scoped>\n",
              "    .dataframe tbody tr th:only-of-type {\n",
              "        vertical-align: middle;\n",
              "    }\n",
              "\n",
              "    .dataframe tbody tr th {\n",
              "        vertical-align: top;\n",
              "    }\n",
              "\n",
              "    .dataframe thead th {\n",
              "        text-align: right;\n",
              "    }\n",
              "</style>\n",
              "<table border=\"1\" class=\"dataframe\">\n",
              "  <thead>\n",
              "    <tr style=\"text-align: right;\">\n",
              "      <th></th>\n",
              "      <th>user_id</th>\n",
              "      <th>date</th>\n",
              "      <th>direction</th>\n",
              "      <th>internal</th>\n",
              "      <th>operator_id</th>\n",
              "      <th>is_missed_call</th>\n",
              "      <th>calls_count</th>\n",
              "      <th>call_duration</th>\n",
              "      <th>total_call_duration</th>\n",
              "      <th>tariff_plan</th>\n",
              "      <th>date_start</th>\n",
              "      <th>received</th>\n",
              "      <th>missed</th>\n",
              "      <th>percent_missed</th>\n",
              "    </tr>\n",
              "  </thead>\n",
              "  <tbody>\n",
              "    <tr>\n",
              "      <th>0</th>\n",
              "      <td>166377</td>\n",
              "      <td>2019-08-05</td>\n",
              "      <td>0</td>\n",
              "      <td>True</td>\n",
              "      <td>880022</td>\n",
              "      <td>True</td>\n",
              "      <td>3</td>\n",
              "      <td>0</td>\n",
              "      <td>5</td>\n",
              "      <td>B</td>\n",
              "      <td>2019-08-01</td>\n",
              "      <td>8.0</td>\n",
              "      <td>0.0</td>\n",
              "      <td>0.0</td>\n",
              "    </tr>\n",
              "    <tr>\n",
              "      <th>1</th>\n",
              "      <td>166377</td>\n",
              "      <td>2019-08-05</td>\n",
              "      <td>0</td>\n",
              "      <td>True</td>\n",
              "      <td>880020</td>\n",
              "      <td>True</td>\n",
              "      <td>1</td>\n",
              "      <td>0</td>\n",
              "      <td>1</td>\n",
              "      <td>B</td>\n",
              "      <td>2019-08-01</td>\n",
              "      <td>7.0</td>\n",
              "      <td>0.0</td>\n",
              "      <td>0.0</td>\n",
              "    </tr>\n",
              "    <tr>\n",
              "      <th>2</th>\n",
              "      <td>166377</td>\n",
              "      <td>2019-08-05</td>\n",
              "      <td>0</td>\n",
              "      <td>True</td>\n",
              "      <td>880020</td>\n",
              "      <td>False</td>\n",
              "      <td>1</td>\n",
              "      <td>10</td>\n",
              "      <td>18</td>\n",
              "      <td>B</td>\n",
              "      <td>2019-08-01</td>\n",
              "      <td>7.0</td>\n",
              "      <td>0.0</td>\n",
              "      <td>0.0</td>\n",
              "    </tr>\n",
              "    <tr>\n",
              "      <th>3</th>\n",
              "      <td>166377</td>\n",
              "      <td>2019-08-05</td>\n",
              "      <td>0</td>\n",
              "      <td>False</td>\n",
              "      <td>880022</td>\n",
              "      <td>True</td>\n",
              "      <td>3</td>\n",
              "      <td>0</td>\n",
              "      <td>25</td>\n",
              "      <td>B</td>\n",
              "      <td>2019-08-01</td>\n",
              "      <td>8.0</td>\n",
              "      <td>0.0</td>\n",
              "      <td>0.0</td>\n",
              "    </tr>\n",
              "    <tr>\n",
              "      <th>4</th>\n",
              "      <td>166377</td>\n",
              "      <td>2019-08-05</td>\n",
              "      <td>0</td>\n",
              "      <td>False</td>\n",
              "      <td>880020</td>\n",
              "      <td>False</td>\n",
              "      <td>2</td>\n",
              "      <td>3</td>\n",
              "      <td>29</td>\n",
              "      <td>B</td>\n",
              "      <td>2019-08-01</td>\n",
              "      <td>7.0</td>\n",
              "      <td>0.0</td>\n",
              "      <td>0.0</td>\n",
              "    </tr>\n",
              "  </tbody>\n",
              "</table>\n",
              "</div>\n",
              "      <button class=\"colab-df-convert\" onclick=\"convertToInteractive('df-298cfdbd-2e35-4b50-bd2f-16559dfbef65')\"\n",
              "              title=\"Convert this dataframe to an interactive table.\"\n",
              "              style=\"display:none;\">\n",
              "        \n",
              "  <svg xmlns=\"http://www.w3.org/2000/svg\" height=\"24px\"viewBox=\"0 0 24 24\"\n",
              "       width=\"24px\">\n",
              "    <path d=\"M0 0h24v24H0V0z\" fill=\"none\"/>\n",
              "    <path d=\"M18.56 5.44l.94 2.06.94-2.06 2.06-.94-2.06-.94-.94-2.06-.94 2.06-2.06.94zm-11 1L8.5 8.5l.94-2.06 2.06-.94-2.06-.94L8.5 2.5l-.94 2.06-2.06.94zm10 10l.94 2.06.94-2.06 2.06-.94-2.06-.94-.94-2.06-.94 2.06-2.06.94z\"/><path d=\"M17.41 7.96l-1.37-1.37c-.4-.4-.92-.59-1.43-.59-.52 0-1.04.2-1.43.59L10.3 9.45l-7.72 7.72c-.78.78-.78 2.05 0 2.83L4 21.41c.39.39.9.59 1.41.59.51 0 1.02-.2 1.41-.59l7.78-7.78 2.81-2.81c.8-.78.8-2.07 0-2.86zM5.41 20L4 18.59l7.72-7.72 1.47 1.35L5.41 20z\"/>\n",
              "  </svg>\n",
              "      </button>\n",
              "      \n",
              "  <style>\n",
              "    .colab-df-container {\n",
              "      display:flex;\n",
              "      flex-wrap:wrap;\n",
              "      gap: 12px;\n",
              "    }\n",
              "\n",
              "    .colab-df-convert {\n",
              "      background-color: #E8F0FE;\n",
              "      border: none;\n",
              "      border-radius: 50%;\n",
              "      cursor: pointer;\n",
              "      display: none;\n",
              "      fill: #1967D2;\n",
              "      height: 32px;\n",
              "      padding: 0 0 0 0;\n",
              "      width: 32px;\n",
              "    }\n",
              "\n",
              "    .colab-df-convert:hover {\n",
              "      background-color: #E2EBFA;\n",
              "      box-shadow: 0px 1px 2px rgba(60, 64, 67, 0.3), 0px 1px 3px 1px rgba(60, 64, 67, 0.15);\n",
              "      fill: #174EA6;\n",
              "    }\n",
              "\n",
              "    [theme=dark] .colab-df-convert {\n",
              "      background-color: #3B4455;\n",
              "      fill: #D2E3FC;\n",
              "    }\n",
              "\n",
              "    [theme=dark] .colab-df-convert:hover {\n",
              "      background-color: #434B5C;\n",
              "      box-shadow: 0px 1px 3px 1px rgba(0, 0, 0, 0.15);\n",
              "      filter: drop-shadow(0px 1px 2px rgba(0, 0, 0, 0.3));\n",
              "      fill: #FFFFFF;\n",
              "    }\n",
              "  </style>\n",
              "\n",
              "      <script>\n",
              "        const buttonEl =\n",
              "          document.querySelector('#df-298cfdbd-2e35-4b50-bd2f-16559dfbef65 button.colab-df-convert');\n",
              "        buttonEl.style.display =\n",
              "          google.colab.kernel.accessAllowed ? 'block' : 'none';\n",
              "\n",
              "        async function convertToInteractive(key) {\n",
              "          const element = document.querySelector('#df-298cfdbd-2e35-4b50-bd2f-16559dfbef65');\n",
              "          const dataTable =\n",
              "            await google.colab.kernel.invokeFunction('convertToInteractive',\n",
              "                                                     [key], {});\n",
              "          if (!dataTable) return;\n",
              "\n",
              "          const docLinkHtml = 'Like what you see? Visit the ' +\n",
              "            '<a target=\"_blank\" href=https://colab.research.google.com/notebooks/data_table.ipynb>data table notebook</a>'\n",
              "            + ' to learn more about interactive tables.';\n",
              "          element.innerHTML = '';\n",
              "          dataTable['output_type'] = 'display_data';\n",
              "          await google.colab.output.renderOutput(dataTable, element);\n",
              "          const docLink = document.createElement('div');\n",
              "          docLink.innerHTML = docLinkHtml;\n",
              "          element.appendChild(docLink);\n",
              "        }\n",
              "      </script>\n",
              "    </div>\n",
              "  </div>\n",
              "  "
            ]
          },
          "metadata": {},
          "execution_count": 56
        }
      ],
      "source": [
        "tel = tel.merge(operator_car, on=[\"operator_id\"], how='left')\n",
        "tel.head()"
      ]
    },
    {
      "cell_type": "markdown",
      "metadata": {
        "id": "ZQb8DVqHcOJZ"
      },
      "source": [
        "### Изучим среднее время ожидания ответа при входящих внешних вызовах"
      ]
    },
    {
      "cell_type": "markdown",
      "metadata": {
        "id": "lamhZmVSfYST"
      },
      "source": [
        "Параметр SL: service level — уровень обслуживания. \n",
        "\n",
        "Традиционно уровень сервиса считается хорошим, если 80% клиентов дожидаются ответа на звонок в течение 20 секунд. Некоторые колл-центры поднимают планку — ответ на 90% звонков за 15 секунд.  (Источник: https://www.cossa.ru/special/business-processes/276786/?ysclid=l4jt0sf2on196552777)\n",
        "\n",
        "Изучим имеющиеся у нас данные. У нас нет данных по каждому отдельному звонку и мы не сможем посчитать количество звонков, где ожидание больше или меньше 20 секунд. Есть только общие данные за 1 день, поэтому рассчитаем среднее время ожиания ответа по каждому опертору."
      ]
    },
    {
      "cell_type": "markdown",
      "metadata": {
        "id": "ANjHNIWloGyA"
      },
      "source": [
        "Срез данных, в котором только входящие звонки у нас уже есть - operator_in\n",
        "Добавим в него колонку среднее ожидание ответа (из колонки total_call_duration вычесть колонку call_duration разделить на calls_count) "
      ]
    },
    {
      "cell_type": "code",
      "execution_count": null,
      "metadata": {
        "colab": {
          "base_uri": "https://localhost:8080/",
          "height": 466
        },
        "id": "vdrKit1Uc9KU",
        "outputId": "7480a65f-338e-419a-ba5f-c2b27bb54487"
      },
      "outputs": [
        {
          "output_type": "stream",
          "name": "stderr",
          "text": [
            "/usr/local/lib/python3.7/dist-packages/ipykernel_launcher.py:1: SettingWithCopyWarning: \n",
            "A value is trying to be set on a copy of a slice from a DataFrame.\n",
            "Try using .loc[row_indexer,col_indexer] = value instead\n",
            "\n",
            "See the caveats in the documentation: https://pandas.pydata.org/pandas-docs/stable/user_guide/indexing.html#returning-a-view-versus-a-copy\n",
            "  \"\"\"Entry point for launching an IPython kernel.\n"
          ]
        },
        {
          "output_type": "execute_result",
          "data": {
            "text/plain": [
              "    user_id       date  direction internal  operator_id  is_missed_call  \\\n",
              "21   166377 2019-08-12          1    False       880028           False   \n",
              "26   166377 2019-08-13          1    False       880028           False   \n",
              "29   166377 2019-08-14          1    False       880026           False   \n",
              "30   166377 2019-08-14          1    False       880028           False   \n",
              "38   166377 2019-08-15          1    False       880028           False   \n",
              "\n",
              "    calls_count  call_duration  total_call_duration tariff_plan date_start  \\\n",
              "21            1            407                  411           B 2019-08-01   \n",
              "26            1             88                  102           B 2019-08-01   \n",
              "29            2            197                  218           B 2019-08-01   \n",
              "30            1             33                   37           B 2019-08-01   \n",
              "38            1             23                   27           B 2019-08-01   \n",
              "\n",
              "    wait_time  \n",
              "21        4.0  \n",
              "26       14.0  \n",
              "29       10.5  \n",
              "30        4.0  \n",
              "38        4.0  "
            ],
            "text/html": [
              "\n",
              "  <div id=\"df-63789942-714f-40e3-ac9c-94d73d1dc6d5\">\n",
              "    <div class=\"colab-df-container\">\n",
              "      <div>\n",
              "<style scoped>\n",
              "    .dataframe tbody tr th:only-of-type {\n",
              "        vertical-align: middle;\n",
              "    }\n",
              "\n",
              "    .dataframe tbody tr th {\n",
              "        vertical-align: top;\n",
              "    }\n",
              "\n",
              "    .dataframe thead th {\n",
              "        text-align: right;\n",
              "    }\n",
              "</style>\n",
              "<table border=\"1\" class=\"dataframe\">\n",
              "  <thead>\n",
              "    <tr style=\"text-align: right;\">\n",
              "      <th></th>\n",
              "      <th>user_id</th>\n",
              "      <th>date</th>\n",
              "      <th>direction</th>\n",
              "      <th>internal</th>\n",
              "      <th>operator_id</th>\n",
              "      <th>is_missed_call</th>\n",
              "      <th>calls_count</th>\n",
              "      <th>call_duration</th>\n",
              "      <th>total_call_duration</th>\n",
              "      <th>tariff_plan</th>\n",
              "      <th>date_start</th>\n",
              "      <th>wait_time</th>\n",
              "    </tr>\n",
              "  </thead>\n",
              "  <tbody>\n",
              "    <tr>\n",
              "      <th>21</th>\n",
              "      <td>166377</td>\n",
              "      <td>2019-08-12</td>\n",
              "      <td>1</td>\n",
              "      <td>False</td>\n",
              "      <td>880028</td>\n",
              "      <td>False</td>\n",
              "      <td>1</td>\n",
              "      <td>407</td>\n",
              "      <td>411</td>\n",
              "      <td>B</td>\n",
              "      <td>2019-08-01</td>\n",
              "      <td>4.0</td>\n",
              "    </tr>\n",
              "    <tr>\n",
              "      <th>26</th>\n",
              "      <td>166377</td>\n",
              "      <td>2019-08-13</td>\n",
              "      <td>1</td>\n",
              "      <td>False</td>\n",
              "      <td>880028</td>\n",
              "      <td>False</td>\n",
              "      <td>1</td>\n",
              "      <td>88</td>\n",
              "      <td>102</td>\n",
              "      <td>B</td>\n",
              "      <td>2019-08-01</td>\n",
              "      <td>14.0</td>\n",
              "    </tr>\n",
              "    <tr>\n",
              "      <th>29</th>\n",
              "      <td>166377</td>\n",
              "      <td>2019-08-14</td>\n",
              "      <td>1</td>\n",
              "      <td>False</td>\n",
              "      <td>880026</td>\n",
              "      <td>False</td>\n",
              "      <td>2</td>\n",
              "      <td>197</td>\n",
              "      <td>218</td>\n",
              "      <td>B</td>\n",
              "      <td>2019-08-01</td>\n",
              "      <td>10.5</td>\n",
              "    </tr>\n",
              "    <tr>\n",
              "      <th>30</th>\n",
              "      <td>166377</td>\n",
              "      <td>2019-08-14</td>\n",
              "      <td>1</td>\n",
              "      <td>False</td>\n",
              "      <td>880028</td>\n",
              "      <td>False</td>\n",
              "      <td>1</td>\n",
              "      <td>33</td>\n",
              "      <td>37</td>\n",
              "      <td>B</td>\n",
              "      <td>2019-08-01</td>\n",
              "      <td>4.0</td>\n",
              "    </tr>\n",
              "    <tr>\n",
              "      <th>38</th>\n",
              "      <td>166377</td>\n",
              "      <td>2019-08-15</td>\n",
              "      <td>1</td>\n",
              "      <td>False</td>\n",
              "      <td>880028</td>\n",
              "      <td>False</td>\n",
              "      <td>1</td>\n",
              "      <td>23</td>\n",
              "      <td>27</td>\n",
              "      <td>B</td>\n",
              "      <td>2019-08-01</td>\n",
              "      <td>4.0</td>\n",
              "    </tr>\n",
              "  </tbody>\n",
              "</table>\n",
              "</div>\n",
              "      <button class=\"colab-df-convert\" onclick=\"convertToInteractive('df-63789942-714f-40e3-ac9c-94d73d1dc6d5')\"\n",
              "              title=\"Convert this dataframe to an interactive table.\"\n",
              "              style=\"display:none;\">\n",
              "        \n",
              "  <svg xmlns=\"http://www.w3.org/2000/svg\" height=\"24px\"viewBox=\"0 0 24 24\"\n",
              "       width=\"24px\">\n",
              "    <path d=\"M0 0h24v24H0V0z\" fill=\"none\"/>\n",
              "    <path d=\"M18.56 5.44l.94 2.06.94-2.06 2.06-.94-2.06-.94-.94-2.06-.94 2.06-2.06.94zm-11 1L8.5 8.5l.94-2.06 2.06-.94-2.06-.94L8.5 2.5l-.94 2.06-2.06.94zm10 10l.94 2.06.94-2.06 2.06-.94-2.06-.94-.94-2.06-.94 2.06-2.06.94z\"/><path d=\"M17.41 7.96l-1.37-1.37c-.4-.4-.92-.59-1.43-.59-.52 0-1.04.2-1.43.59L10.3 9.45l-7.72 7.72c-.78.78-.78 2.05 0 2.83L4 21.41c.39.39.9.59 1.41.59.51 0 1.02-.2 1.41-.59l7.78-7.78 2.81-2.81c.8-.78.8-2.07 0-2.86zM5.41 20L4 18.59l7.72-7.72 1.47 1.35L5.41 20z\"/>\n",
              "  </svg>\n",
              "      </button>\n",
              "      \n",
              "  <style>\n",
              "    .colab-df-container {\n",
              "      display:flex;\n",
              "      flex-wrap:wrap;\n",
              "      gap: 12px;\n",
              "    }\n",
              "\n",
              "    .colab-df-convert {\n",
              "      background-color: #E8F0FE;\n",
              "      border: none;\n",
              "      border-radius: 50%;\n",
              "      cursor: pointer;\n",
              "      display: none;\n",
              "      fill: #1967D2;\n",
              "      height: 32px;\n",
              "      padding: 0 0 0 0;\n",
              "      width: 32px;\n",
              "    }\n",
              "\n",
              "    .colab-df-convert:hover {\n",
              "      background-color: #E2EBFA;\n",
              "      box-shadow: 0px 1px 2px rgba(60, 64, 67, 0.3), 0px 1px 3px 1px rgba(60, 64, 67, 0.15);\n",
              "      fill: #174EA6;\n",
              "    }\n",
              "\n",
              "    [theme=dark] .colab-df-convert {\n",
              "      background-color: #3B4455;\n",
              "      fill: #D2E3FC;\n",
              "    }\n",
              "\n",
              "    [theme=dark] .colab-df-convert:hover {\n",
              "      background-color: #434B5C;\n",
              "      box-shadow: 0px 1px 3px 1px rgba(0, 0, 0, 0.15);\n",
              "      filter: drop-shadow(0px 1px 2px rgba(0, 0, 0, 0.3));\n",
              "      fill: #FFFFFF;\n",
              "    }\n",
              "  </style>\n",
              "\n",
              "      <script>\n",
              "        const buttonEl =\n",
              "          document.querySelector('#df-63789942-714f-40e3-ac9c-94d73d1dc6d5 button.colab-df-convert');\n",
              "        buttonEl.style.display =\n",
              "          google.colab.kernel.accessAllowed ? 'block' : 'none';\n",
              "\n",
              "        async function convertToInteractive(key) {\n",
              "          const element = document.querySelector('#df-63789942-714f-40e3-ac9c-94d73d1dc6d5');\n",
              "          const dataTable =\n",
              "            await google.colab.kernel.invokeFunction('convertToInteractive',\n",
              "                                                     [key], {});\n",
              "          if (!dataTable) return;\n",
              "\n",
              "          const docLinkHtml = 'Like what you see? Visit the ' +\n",
              "            '<a target=\"_blank\" href=https://colab.research.google.com/notebooks/data_table.ipynb>data table notebook</a>'\n",
              "            + ' to learn more about interactive tables.';\n",
              "          element.innerHTML = '';\n",
              "          dataTable['output_type'] = 'display_data';\n",
              "          await google.colab.output.renderOutput(dataTable, element);\n",
              "          const docLink = document.createElement('div');\n",
              "          docLink.innerHTML = docLinkHtml;\n",
              "          element.appendChild(docLink);\n",
              "        }\n",
              "      </script>\n",
              "    </div>\n",
              "  </div>\n",
              "  "
            ]
          },
          "metadata": {},
          "execution_count": 57
        }
      ],
      "source": [
        "operator_in['wait_time'] = (operator_in['total_call_duration']- operator_in['call_duration'])/operator_in['calls_count']\n",
        "operator_in.head()"
      ]
    },
    {
      "cell_type": "markdown",
      "metadata": {
        "id": "7YkqjuR8eKjx"
      },
      "source": [
        "Сгруппируем срез по операторам и рассчитаем среднее время ожидания при входящих вызовах"
      ]
    },
    {
      "cell_type": "code",
      "execution_count": null,
      "metadata": {
        "colab": {
          "base_uri": "https://localhost:8080/",
          "height": 206
        },
        "id": "g3HOPBfweAWC",
        "outputId": "6f07dd54-6adf-49b3-fa27-4a3aab38e753"
      },
      "outputs": [
        {
          "output_type": "execute_result",
          "data": {
            "text/plain": [
              "   operator_id  wait_time\n",
              "0       879896      13.40\n",
              "1       879898      14.08\n",
              "2       880020       7.71\n",
              "3       880022      14.00\n",
              "4       880026       5.94"
            ],
            "text/html": [
              "\n",
              "  <div id=\"df-8fb09a10-2c73-49f6-bb57-de27ec543165\">\n",
              "    <div class=\"colab-df-container\">\n",
              "      <div>\n",
              "<style scoped>\n",
              "    .dataframe tbody tr th:only-of-type {\n",
              "        vertical-align: middle;\n",
              "    }\n",
              "\n",
              "    .dataframe tbody tr th {\n",
              "        vertical-align: top;\n",
              "    }\n",
              "\n",
              "    .dataframe thead th {\n",
              "        text-align: right;\n",
              "    }\n",
              "</style>\n",
              "<table border=\"1\" class=\"dataframe\">\n",
              "  <thead>\n",
              "    <tr style=\"text-align: right;\">\n",
              "      <th></th>\n",
              "      <th>operator_id</th>\n",
              "      <th>wait_time</th>\n",
              "    </tr>\n",
              "  </thead>\n",
              "  <tbody>\n",
              "    <tr>\n",
              "      <th>0</th>\n",
              "      <td>879896</td>\n",
              "      <td>13.40</td>\n",
              "    </tr>\n",
              "    <tr>\n",
              "      <th>1</th>\n",
              "      <td>879898</td>\n",
              "      <td>14.08</td>\n",
              "    </tr>\n",
              "    <tr>\n",
              "      <th>2</th>\n",
              "      <td>880020</td>\n",
              "      <td>7.71</td>\n",
              "    </tr>\n",
              "    <tr>\n",
              "      <th>3</th>\n",
              "      <td>880022</td>\n",
              "      <td>14.00</td>\n",
              "    </tr>\n",
              "    <tr>\n",
              "      <th>4</th>\n",
              "      <td>880026</td>\n",
              "      <td>5.94</td>\n",
              "    </tr>\n",
              "  </tbody>\n",
              "</table>\n",
              "</div>\n",
              "      <button class=\"colab-df-convert\" onclick=\"convertToInteractive('df-8fb09a10-2c73-49f6-bb57-de27ec543165')\"\n",
              "              title=\"Convert this dataframe to an interactive table.\"\n",
              "              style=\"display:none;\">\n",
              "        \n",
              "  <svg xmlns=\"http://www.w3.org/2000/svg\" height=\"24px\"viewBox=\"0 0 24 24\"\n",
              "       width=\"24px\">\n",
              "    <path d=\"M0 0h24v24H0V0z\" fill=\"none\"/>\n",
              "    <path d=\"M18.56 5.44l.94 2.06.94-2.06 2.06-.94-2.06-.94-.94-2.06-.94 2.06-2.06.94zm-11 1L8.5 8.5l.94-2.06 2.06-.94-2.06-.94L8.5 2.5l-.94 2.06-2.06.94zm10 10l.94 2.06.94-2.06 2.06-.94-2.06-.94-.94-2.06-.94 2.06-2.06.94z\"/><path d=\"M17.41 7.96l-1.37-1.37c-.4-.4-.92-.59-1.43-.59-.52 0-1.04.2-1.43.59L10.3 9.45l-7.72 7.72c-.78.78-.78 2.05 0 2.83L4 21.41c.39.39.9.59 1.41.59.51 0 1.02-.2 1.41-.59l7.78-7.78 2.81-2.81c.8-.78.8-2.07 0-2.86zM5.41 20L4 18.59l7.72-7.72 1.47 1.35L5.41 20z\"/>\n",
              "  </svg>\n",
              "      </button>\n",
              "      \n",
              "  <style>\n",
              "    .colab-df-container {\n",
              "      display:flex;\n",
              "      flex-wrap:wrap;\n",
              "      gap: 12px;\n",
              "    }\n",
              "\n",
              "    .colab-df-convert {\n",
              "      background-color: #E8F0FE;\n",
              "      border: none;\n",
              "      border-radius: 50%;\n",
              "      cursor: pointer;\n",
              "      display: none;\n",
              "      fill: #1967D2;\n",
              "      height: 32px;\n",
              "      padding: 0 0 0 0;\n",
              "      width: 32px;\n",
              "    }\n",
              "\n",
              "    .colab-df-convert:hover {\n",
              "      background-color: #E2EBFA;\n",
              "      box-shadow: 0px 1px 2px rgba(60, 64, 67, 0.3), 0px 1px 3px 1px rgba(60, 64, 67, 0.15);\n",
              "      fill: #174EA6;\n",
              "    }\n",
              "\n",
              "    [theme=dark] .colab-df-convert {\n",
              "      background-color: #3B4455;\n",
              "      fill: #D2E3FC;\n",
              "    }\n",
              "\n",
              "    [theme=dark] .colab-df-convert:hover {\n",
              "      background-color: #434B5C;\n",
              "      box-shadow: 0px 1px 3px 1px rgba(0, 0, 0, 0.15);\n",
              "      filter: drop-shadow(0px 1px 2px rgba(0, 0, 0, 0.3));\n",
              "      fill: #FFFFFF;\n",
              "    }\n",
              "  </style>\n",
              "\n",
              "      <script>\n",
              "        const buttonEl =\n",
              "          document.querySelector('#df-8fb09a10-2c73-49f6-bb57-de27ec543165 button.colab-df-convert');\n",
              "        buttonEl.style.display =\n",
              "          google.colab.kernel.accessAllowed ? 'block' : 'none';\n",
              "\n",
              "        async function convertToInteractive(key) {\n",
              "          const element = document.querySelector('#df-8fb09a10-2c73-49f6-bb57-de27ec543165');\n",
              "          const dataTable =\n",
              "            await google.colab.kernel.invokeFunction('convertToInteractive',\n",
              "                                                     [key], {});\n",
              "          if (!dataTable) return;\n",
              "\n",
              "          const docLinkHtml = 'Like what you see? Visit the ' +\n",
              "            '<a target=\"_blank\" href=https://colab.research.google.com/notebooks/data_table.ipynb>data table notebook</a>'\n",
              "            + ' to learn more about interactive tables.';\n",
              "          element.innerHTML = '';\n",
              "          dataTable['output_type'] = 'display_data';\n",
              "          await google.colab.output.renderOutput(dataTable, element);\n",
              "          const docLink = document.createElement('div');\n",
              "          docLink.innerHTML = docLinkHtml;\n",
              "          element.appendChild(docLink);\n",
              "        }\n",
              "      </script>\n",
              "    </div>\n",
              "  </div>\n",
              "  "
            ]
          },
          "metadata": {},
          "execution_count": 58
        }
      ],
      "source": [
        "avg_wait_time = operator_in.groupby('operator_id').agg({'wait_time':'mean'}).reset_index()\n",
        "avg_wait_time['wait_time'] = round(avg_wait_time['wait_time'],2)\n",
        "avg_wait_time.head()"
      ]
    },
    {
      "cell_type": "code",
      "execution_count": null,
      "metadata": {
        "colab": {
          "base_uri": "https://localhost:8080/",
          "height": 265
        },
        "id": "M8M8H6XofEIS",
        "outputId": "62fb7c22-3416-4ea0-cb48-b8da55034852"
      },
      "outputs": [
        {
          "output_type": "display_data",
          "data": {
            "text/plain": [
              "<Figure size 432x288 with 1 Axes>"
            ],
            "image/png": "[encoded data removed]"
          },
          "metadata": {
            "needs_background": "light"
          }
        }
      ],
      "source": [
        "avg_wait_time['wait_time'].hist(bins = 100);"
      ]
    },
    {
      "cell_type": "markdown",
      "metadata": {
        "id": "0JO0Fz5VfsTu"
      },
      "source": [
        "У большей части операторов среднее время ответа не превышает 20 секунд. Но есть и очень длительное. \n",
        "\n",
        "Посчитаем сколько операторов неэффективны, если задать порог среднего времени ожидания в 20 секунд."
      ]
    },
    {
      "cell_type": "code",
      "execution_count": null,
      "metadata": {
        "colab": {
          "base_uri": "https://localhost:8080/",
          "height": 423
        },
        "id": "MBYlL03WgkGN",
        "outputId": "93e8c7e4-0055-402c-bed0-da4be8efd3ee"
      },
      "outputs": [
        {
          "output_type": "execute_result",
          "data": {
            "text/plain": [
              "     operator_id  wait_time\n",
              "6         882476      31.67\n",
              "7         882478      22.25\n",
              "11        882688      42.65\n",
              "12        882690      40.17\n",
              "16        884408      28.01\n",
              "..           ...        ...\n",
              "745       970244      40.50\n",
              "746       970252      25.00\n",
              "747       970254      40.33\n",
              "751       972412      25.00\n",
              "753       973286      44.00\n",
              "\n",
              "[229 rows x 2 columns]"
            ],
            "text/html": [
              "\n",
              "  <div id=\"df-7e57853d-cd6b-428e-a741-fb6807a0385d\">\n",
              "    <div class=\"colab-df-container\">\n",
              "      <div>\n",
              "<style scoped>\n",
              "    .dataframe tbody tr th:only-of-type {\n",
              "        vertical-align: middle;\n",
              "    }\n",
              "\n",
              "    .dataframe tbody tr th {\n",
              "        vertical-align: top;\n",
              "    }\n",
              "\n",
              "    .dataframe thead th {\n",
              "        text-align: right;\n",
              "    }\n",
              "</style>\n",
              "<table border=\"1\" class=\"dataframe\">\n",
              "  <thead>\n",
              "    <tr style=\"text-align: right;\">\n",
              "      <th></th>\n",
              "      <th>operator_id</th>\n",
              "      <th>wait_time</th>\n",
              "    </tr>\n",
              "  </thead>\n",
              "  <tbody>\n",
              "    <tr>\n",
              "      <th>6</th>\n",
              "      <td>882476</td>\n",
              "      <td>31.67</td>\n",
              "    </tr>\n",
              "    <tr>\n",
              "      <th>7</th>\n",
              "      <td>882478</td>\n",
              "      <td>22.25</td>\n",
              "    </tr>\n",
              "    <tr>\n",
              "      <th>11</th>\n",
              "      <td>882688</td>\n",
              "      <td>42.65</td>\n",
              "    </tr>\n",
              "    <tr>\n",
              "      <th>12</th>\n",
              "      <td>882690</td>\n",
              "      <td>40.17</td>\n",
              "    </tr>\n",
              "    <tr>\n",
              "      <th>16</th>\n",
              "      <td>884408</td>\n",
              "      <td>28.01</td>\n",
              "    </tr>\n",
              "    <tr>\n",
              "      <th>...</th>\n",
              "      <td>...</td>\n",
              "      <td>...</td>\n",
              "    </tr>\n",
              "    <tr>\n",
              "      <th>745</th>\n",
              "      <td>970244</td>\n",
              "      <td>40.50</td>\n",
              "    </tr>\n",
              "    <tr>\n",
              "      <th>746</th>\n",
              "      <td>970252</td>\n",
              "      <td>25.00</td>\n",
              "    </tr>\n",
              "    <tr>\n",
              "      <th>747</th>\n",
              "      <td>970254</td>\n",
              "      <td>40.33</td>\n",
              "    </tr>\n",
              "    <tr>\n",
              "      <th>751</th>\n",
              "      <td>972412</td>\n",
              "      <td>25.00</td>\n",
              "    </tr>\n",
              "    <tr>\n",
              "      <th>753</th>\n",
              "      <td>973286</td>\n",
              "      <td>44.00</td>\n",
              "    </tr>\n",
              "  </tbody>\n",
              "</table>\n",
              "<p>229 rows × 2 columns</p>\n",
              "</div>\n",
              "      <button class=\"colab-df-convert\" onclick=\"convertToInteractive('df-7e57853d-cd6b-428e-a741-fb6807a0385d')\"\n",
              "              title=\"Convert this dataframe to an interactive table.\"\n",
              "              style=\"display:none;\">\n",
              "        \n",
              "  <svg xmlns=\"http://www.w3.org/2000/svg\" height=\"24px\"viewBox=\"0 0 24 24\"\n",
              "       width=\"24px\">\n",
              "    <path d=\"M0 0h24v24H0V0z\" fill=\"none\"/>\n",
              "    <path d=\"M18.56 5.44l.94 2.06.94-2.06 2.06-.94-2.06-.94-.94-2.06-.94 2.06-2.06.94zm-11 1L8.5 8.5l.94-2.06 2.06-.94-2.06-.94L8.5 2.5l-.94 2.06-2.06.94zm10 10l.94 2.06.94-2.06 2.06-.94-2.06-.94-.94-2.06-.94 2.06-2.06.94z\"/><path d=\"M17.41 7.96l-1.37-1.37c-.4-.4-.92-.59-1.43-.59-.52 0-1.04.2-1.43.59L10.3 9.45l-7.72 7.72c-.78.78-.78 2.05 0 2.83L4 21.41c.39.39.9.59 1.41.59.51 0 1.02-.2 1.41-.59l7.78-7.78 2.81-2.81c.8-.78.8-2.07 0-2.86zM5.41 20L4 18.59l7.72-7.72 1.47 1.35L5.41 20z\"/>\n",
              "  </svg>\n",
              "      </button>\n",
              "      \n",
              "  <style>\n",
              "    .colab-df-container {\n",
              "      display:flex;\n",
              "      flex-wrap:wrap;\n",
              "      gap: 12px;\n",
              "    }\n",
              "\n",
              "    .colab-df-convert {\n",
              "      background-color: #E8F0FE;\n",
              "      border: none;\n",
              "      border-radius: 50%;\n",
              "      cursor: pointer;\n",
              "      display: none;\n",
              "      fill: #1967D2;\n",
              "      height: 32px;\n",
              "      padding: 0 0 0 0;\n",
              "      width: 32px;\n",
              "    }\n",
              "\n",
              "    .colab-df-convert:hover {\n",
              "      background-color: #E2EBFA;\n",
              "      box-shadow: 0px 1px 2px rgba(60, 64, 67, 0.3), 0px 1px 3px 1px rgba(60, 64, 67, 0.15);\n",
              "      fill: #174EA6;\n",
              "    }\n",
              "\n",
              "    [theme=dark] .colab-df-convert {\n",
              "      background-color: #3B4455;\n",
              "      fill: #D2E3FC;\n",
              "    }\n",
              "\n",
              "    [theme=dark] .colab-df-convert:hover {\n",
              "      background-color: #434B5C;\n",
              "      box-shadow: 0px 1px 3px 1px rgba(0, 0, 0, 0.15);\n",
              "      filter: drop-shadow(0px 1px 2px rgba(0, 0, 0, 0.3));\n",
              "      fill: #FFFFFF;\n",
              "    }\n",
              "  </style>\n",
              "\n",
              "      <script>\n",
              "        const buttonEl =\n",
              "          document.querySelector('#df-7e57853d-cd6b-428e-a741-fb6807a0385d button.colab-df-convert');\n",
              "        buttonEl.style.display =\n",
              "          google.colab.kernel.accessAllowed ? 'block' : 'none';\n",
              "\n",
              "        async function convertToInteractive(key) {\n",
              "          const element = document.querySelector('#df-7e57853d-cd6b-428e-a741-fb6807a0385d');\n",
              "          const dataTable =\n",
              "            await google.colab.kernel.invokeFunction('convertToInteractive',\n",
              "                                                     [key], {});\n",
              "          if (!dataTable) return;\n",
              "\n",
              "          const docLinkHtml = 'Like what you see? Visit the ' +\n",
              "            '<a target=\"_blank\" href=https://colab.research.google.com/notebooks/data_table.ipynb>data table notebook</a>'\n",
              "            + ' to learn more about interactive tables.';\n",
              "          element.innerHTML = '';\n",
              "          dataTable['output_type'] = 'display_data';\n",
              "          await google.colab.output.renderOutput(dataTable, element);\n",
              "          const docLink = document.createElement('div');\n",
              "          docLink.innerHTML = docLinkHtml;\n",
              "          element.appendChild(docLink);\n",
              "        }\n",
              "      </script>\n",
              "    </div>\n",
              "  </div>\n",
              "  "
            ]
          },
          "metadata": {},
          "execution_count": 60
        }
      ],
      "source": [
        "inefficient_1 = avg_wait_time[avg_wait_time['wait_time'] > 20]\n",
        "inefficient_1"
      ]
    },
    {
      "cell_type": "markdown",
      "metadata": {
        "id": "ZC-mwBxsmSYS"
      },
      "source": [
        "У 229 операторов среднее время ответа выше 20 секунд. \n",
        "\n",
        "Будем считать это неэффективным. Возможно на линии не хватает операторов или сами операторы не торопятся снять трубку, в любом случае это нужная информация для наших клиентов. \n",
        "\n",
        "Также в дашборде можно предложить им опцию выбора среднего времени ожидания входящего звонка при котором оператор будет считаться неэффективным.\n",
        "\n",
        "Для этого добавим среднее время ожидания в в основной датасет."
      ]
    },
    {
      "cell_type": "code",
      "execution_count": null,
      "metadata": {
        "colab": {
          "base_uri": "https://localhost:8080/",
          "height": 661
        },
        "id": "uzALnluxkA_q",
        "outputId": "1e0dcf99-cdad-44ae-a759-e8eb87f3a5e3"
      },
      "outputs": [
        {
          "output_type": "execute_result",
          "data": {
            "text/plain": [
              "       user_id       date  direction internal  operator_id  is_missed_call  \\\n",
              "0       166377 2019-08-05          0     True       880022            True   \n",
              "1       166377 2019-08-05          0     True       880020            True   \n",
              "2       166377 2019-08-05          0     True       880020           False   \n",
              "3       166377 2019-08-05          0    False       880022            True   \n",
              "4       166377 2019-08-05          0    False       880020           False   \n",
              "...        ...        ...        ...      ...          ...             ...   \n",
              "41541   168606 2019-11-09          0    False       957922           False   \n",
              "41542   168606 2019-11-10          0     True       957922           False   \n",
              "41543   168606 2019-11-10          0     True       957922            True   \n",
              "41544   168606 2019-11-11          0     True       957922           False   \n",
              "41545   168606 2019-11-15          0     True       957922           False   \n",
              "\n",
              "       calls_count  call_duration  total_call_duration tariff_plan date_start  \\\n",
              "0                3              0                    5           B 2019-08-01   \n",
              "1                1              0                    1           B 2019-08-01   \n",
              "2                1             10                   18           B 2019-08-01   \n",
              "3                3              0                   25           B 2019-08-01   \n",
              "4                2              3                   29           B 2019-08-01   \n",
              "...            ...            ...                  ...         ...        ...   \n",
              "41541            4            551                  593           C 2019-10-31   \n",
              "41542            1              0                   25           C 2019-10-31   \n",
              "41543            1              0                   38           C 2019-10-31   \n",
              "41544            2            479                  501           C 2019-10-31   \n",
              "41545            4           3130                 3190           C 2019-10-31   \n",
              "\n",
              "       received  missed  percent_missed  wait_time  \n",
              "0           8.0     0.0             0.0      14.00  \n",
              "1           7.0     0.0             0.0       7.71  \n",
              "2           7.0     0.0             0.0       7.71  \n",
              "3           8.0     0.0             0.0      14.00  \n",
              "4           7.0     0.0             0.0       7.71  \n",
              "...         ...     ...             ...        ...  \n",
              "41541       2.0     1.0            33.0       8.25  \n",
              "41542       2.0     1.0            33.0       8.25  \n",
              "41543       2.0     1.0            33.0       8.25  \n",
              "41544       2.0     1.0            33.0       8.25  \n",
              "41545       2.0     1.0            33.0       8.25  \n",
              "\n",
              "[41546 rows x 15 columns]"
            ],
            "text/html": [
              "\n",
              "  <div id=\"df-115fcd3a-bc34-41b2-a8a0-38518a23ffdd\">\n",
              "    <div class=\"colab-df-container\">\n",
              "      <div>\n",
              "<style scoped>\n",
              "    .dataframe tbody tr th:only-of-type {\n",
              "        vertical-align: middle;\n",
              "    }\n",
              "\n",
              "    .dataframe tbody tr th {\n",
              "        vertical-align: top;\n",
              "    }\n",
              "\n",
              "    .dataframe thead th {\n",
              "        text-align: right;\n",
              "    }\n",
              "</style>\n",
              "<table border=\"1\" class=\"dataframe\">\n",
              "  <thead>\n",
              "    <tr style=\"text-align: right;\">\n",
              "      <th></th>\n",
              "      <th>user_id</th>\n",
              "      <th>date</th>\n",
              "      <th>direction</th>\n",
              "      <th>internal</th>\n",
              "      <th>operator_id</th>\n",
              "      <th>is_missed_call</th>\n",
              "      <th>calls_count</th>\n",
              "      <th>call_duration</th>\n",
              "      <th>total_call_duration</th>\n",
              "      <th>tariff_plan</th>\n",
              "      <th>date_start</th>\n",
              "      <th>received</th>\n",
              "      <th>missed</th>\n",
              "      <th>percent_missed</th>\n",
              "      <th>wait_time</th>\n",
              "    </tr>\n",
              "  </thead>\n",
              "  <tbody>\n",
              "    <tr>\n",
              "      <th>0</th>\n",
              "      <td>166377</td>\n",
              "      <td>2019-08-05</td>\n",
              "      <td>0</td>\n",
              "      <td>True</td>\n",
              "      <td>880022</td>\n",
              "      <td>True</td>\n",
              "      <td>3</td>\n",
              "      <td>0</td>\n",
              "      <td>5</td>\n",
              "      <td>B</td>\n",
              "      <td>2019-08-01</td>\n",
              "      <td>8.0</td>\n",
              "      <td>0.0</td>\n",
              "      <td>0.0</td>\n",
              "      <td>14.00</td>\n",
              "    </tr>\n",
              "    <tr>\n",
              "      <th>1</th>\n",
              "      <td>166377</td>\n",
              "      <td>2019-08-05</td>\n",
              "      <td>0</td>\n",
              "      <td>True</td>\n",
              "      <td>880020</td>\n",
              "      <td>True</td>\n",
              "      <td>1</td>\n",
              "      <td>0</td>\n",
              "      <td>1</td>\n",
              "      <td>B</td>\n",
              "      <td>2019-08-01</td>\n",
              "      <td>7.0</td>\n",
              "      <td>0.0</td>\n",
              "      <td>0.0</td>\n",
              "      <td>7.71</td>\n",
              "    </tr>\n",
              "    <tr>\n",
              "      <th>2</th>\n",
              "      <td>166377</td>\n",
              "      <td>2019-08-05</td>\n",
              "      <td>0</td>\n",
              "      <td>True</td>\n",
              "      <td>880020</td>\n",
              "      <td>False</td>\n",
              "      <td>1</td>\n",
              "      <td>10</td>\n",
              "      <td>18</td>\n",
              "      <td>B</td>\n",
              "      <td>2019-08-01</td>\n",
              "      <td>7.0</td>\n",
              "      <td>0.0</td>\n",
              "      <td>0.0</td>\n",
              "      <td>7.71</td>\n",
              "    </tr>\n",
              "    <tr>\n",
              "      <th>3</th>\n",
              "      <td>166377</td>\n",
              "      <td>2019-08-05</td>\n",
              "      <td>0</td>\n",
              "      <td>False</td>\n",
              "      <td>880022</td>\n",
              "      <td>True</td>\n",
              "      <td>3</td>\n",
              "      <td>0</td>\n",
              "      <td>25</td>\n",
              "      <td>B</td>\n",
              "      <td>2019-08-01</td>\n",
              "      <td>8.0</td>\n",
              "      <td>0.0</td>\n",
              "      <td>0.0</td>\n",
              "      <td>14.00</td>\n",
              "    </tr>\n",
              "    <tr>\n",
              "      <th>4</th>\n",
              "      <td>166377</td>\n",
              "      <td>2019-08-05</td>\n",
              "      <td>0</td>\n",
              "      <td>False</td>\n",
              "      <td>880020</td>\n",
              "      <td>False</td>\n",
              "      <td>2</td>\n",
              "      <td>3</td>\n",
              "      <td>29</td>\n",
              "      <td>B</td>\n",
              "      <td>2019-08-01</td>\n",
              "      <td>7.0</td>\n",
              "      <td>0.0</td>\n",
              "      <td>0.0</td>\n",
              "      <td>7.71</td>\n",
              "    </tr>\n",
              "    <tr>\n",
              "      <th>...</th>\n",
              "      <td>...</td>\n",
              "      <td>...</td>\n",
              "      <td>...</td>\n",
              "      <td>...</td>\n",
              "      <td>...</td>\n",
              "      <td>...</td>\n",
              "      <td>...</td>\n",
              "      <td>...</td>\n",
              "      <td>...</td>\n",
              "      <td>...</td>\n",
              "      <td>...</td>\n",
              "      <td>...</td>\n",
              "      <td>...</td>\n",
              "      <td>...</td>\n",
              "      <td>...</td>\n",
              "    </tr>\n",
              "    <tr>\n",
              "      <th>41541</th>\n",
              "      <td>168606</td>\n",
              "      <td>2019-11-09</td>\n",
              "      <td>0</td>\n",
              "      <td>False</td>\n",
              "      <td>957922</td>\n",
              "      <td>False</td>\n",
              "      <td>4</td>\n",
              "      <td>551</td>\n",
              "      <td>593</td>\n",
              "      <td>C</td>\n",
              "      <td>2019-10-31</td>\n",
              "      <td>2.0</td>\n",
              "      <td>1.0</td>\n",
              "      <td>33.0</td>\n",
              "      <td>8.25</td>\n",
              "    </tr>\n",
              "    <tr>\n",
              "      <th>41542</th>\n",
              "      <td>168606</td>\n",
              "      <td>2019-11-10</td>\n",
              "      <td>0</td>\n",
              "      <td>True</td>\n",
              "      <td>957922</td>\n",
              "      <td>False</td>\n",
              "      <td>1</td>\n",
              "      <td>0</td>\n",
              "      <td>25</td>\n",
              "      <td>C</td>\n",
              "      <td>2019-10-31</td>\n",
              "      <td>2.0</td>\n",
              "      <td>1.0</td>\n",
              "      <td>33.0</td>\n",
              "      <td>8.25</td>\n",
              "    </tr>\n",
              "    <tr>\n",
              "      <th>41543</th>\n",
              "      <td>168606</td>\n",
              "      <td>2019-11-10</td>\n",
              "      <td>0</td>\n",
              "      <td>True</td>\n",
              "      <td>957922</td>\n",
              "      <td>True</td>\n",
              "      <td>1</td>\n",
              "      <td>0</td>\n",
              "      <td>38</td>\n",
              "      <td>C</td>\n",
              "      <td>2019-10-31</td>\n",
              "      <td>2.0</td>\n",
              "      <td>1.0</td>\n",
              "      <td>33.0</td>\n",
              "      <td>8.25</td>\n",
              "    </tr>\n",
              "    <tr>\n",
              "      <th>41544</th>\n",
              "      <td>168606</td>\n",
              "      <td>2019-11-11</td>\n",
              "      <td>0</td>\n",
              "      <td>True</td>\n",
              "      <td>957922</td>\n",
              "      <td>False</td>\n",
              "      <td>2</td>\n",
              "      <td>479</td>\n",
              "      <td>501</td>\n",
              "      <td>C</td>\n",
              "      <td>2019-10-31</td>\n",
              "      <td>2.0</td>\n",
              "      <td>1.0</td>\n",
              "      <td>33.0</td>\n",
              "      <td>8.25</td>\n",
              "    </tr>\n",
              "    <tr>\n",
              "      <th>41545</th>\n",
              "      <td>168606</td>\n",
              "      <td>2019-11-15</td>\n",
              "      <td>0</td>\n",
              "      <td>True</td>\n",
              "      <td>957922</td>\n",
              "      <td>False</td>\n",
              "      <td>4</td>\n",
              "      <td>3130</td>\n",
              "      <td>3190</td>\n",
              "      <td>C</td>\n",
              "      <td>2019-10-31</td>\n",
              "      <td>2.0</td>\n",
              "      <td>1.0</td>\n",
              "      <td>33.0</td>\n",
              "      <td>8.25</td>\n",
              "    </tr>\n",
              "  </tbody>\n",
              "</table>\n",
              "<p>41546 rows × 15 columns</p>\n",
              "</div>\n",
              "      <button class=\"colab-df-convert\" onclick=\"convertToInteractive('df-115fcd3a-bc34-41b2-a8a0-38518a23ffdd')\"\n",
              "              title=\"Convert this dataframe to an interactive table.\"\n",
              "              style=\"display:none;\">\n",
              "        \n",
              "  <svg xmlns=\"http://www.w3.org/2000/svg\" height=\"24px\"viewBox=\"0 0 24 24\"\n",
              "       width=\"24px\">\n",
              "    <path d=\"M0 0h24v24H0V0z\" fill=\"none\"/>\n",
              "    <path d=\"M18.56 5.44l.94 2.06.94-2.06 2.06-.94-2.06-.94-.94-2.06-.94 2.06-2.06.94zm-11 1L8.5 8.5l.94-2.06 2.06-.94-2.06-.94L8.5 2.5l-.94 2.06-2.06.94zm10 10l.94 2.06.94-2.06 2.06-.94-2.06-.94-.94-2.06-.94 2.06-2.06.94z\"/><path d=\"M17.41 7.96l-1.37-1.37c-.4-.4-.92-.59-1.43-.59-.52 0-1.04.2-1.43.59L10.3 9.45l-7.72 7.72c-.78.78-.78 2.05 0 2.83L4 21.41c.39.39.9.59 1.41.59.51 0 1.02-.2 1.41-.59l7.78-7.78 2.81-2.81c.8-.78.8-2.07 0-2.86zM5.41 20L4 18.59l7.72-7.72 1.47 1.35L5.41 20z\"/>\n",
              "  </svg>\n",
              "      </button>\n",
              "      \n",
              "  <style>\n",
              "    .colab-df-container {\n",
              "      display:flex;\n",
              "      flex-wrap:wrap;\n",
              "      gap: 12px;\n",
              "    }\n",
              "\n",
              "    .colab-df-convert {\n",
              "      background-color: #E8F0FE;\n",
              "      border: none;\n",
              "      border-radius: 50%;\n",
              "      cursor: pointer;\n",
              "      display: none;\n",
              "      fill: #1967D2;\n",
              "      height: 32px;\n",
              "      padding: 0 0 0 0;\n",
              "      width: 32px;\n",
              "    }\n",
              "\n",
              "    .colab-df-convert:hover {\n",
              "      background-color: #E2EBFA;\n",
              "      box-shadow: 0px 1px 2px rgba(60, 64, 67, 0.3), 0px 1px 3px 1px rgba(60, 64, 67, 0.15);\n",
              "      fill: #174EA6;\n",
              "    }\n",
              "\n",
              "    [theme=dark] .colab-df-convert {\n",
              "      background-color: #3B4455;\n",
              "      fill: #D2E3FC;\n",
              "    }\n",
              "\n",
              "    [theme=dark] .colab-df-convert:hover {\n",
              "      background-color: #434B5C;\n",
              "      box-shadow: 0px 1px 3px 1px rgba(0, 0, 0, 0.15);\n",
              "      filter: drop-shadow(0px 1px 2px rgba(0, 0, 0, 0.3));\n",
              "      fill: #FFFFFF;\n",
              "    }\n",
              "  </style>\n",
              "\n",
              "      <script>\n",
              "        const buttonEl =\n",
              "          document.querySelector('#df-115fcd3a-bc34-41b2-a8a0-38518a23ffdd button.colab-df-convert');\n",
              "        buttonEl.style.display =\n",
              "          google.colab.kernel.accessAllowed ? 'block' : 'none';\n",
              "\n",
              "        async function convertToInteractive(key) {\n",
              "          const element = document.querySelector('#df-115fcd3a-bc34-41b2-a8a0-38518a23ffdd');\n",
              "          const dataTable =\n",
              "            await google.colab.kernel.invokeFunction('convertToInteractive',\n",
              "                                                     [key], {});\n",
              "          if (!dataTable) return;\n",
              "\n",
              "          const docLinkHtml = 'Like what you see? Visit the ' +\n",
              "            '<a target=\"_blank\" href=https://colab.research.google.com/notebooks/data_table.ipynb>data table notebook</a>'\n",
              "            + ' to learn more about interactive tables.';\n",
              "          element.innerHTML = '';\n",
              "          dataTable['output_type'] = 'display_data';\n",
              "          await google.colab.output.renderOutput(dataTable, element);\n",
              "          const docLink = document.createElement('div');\n",
              "          docLink.innerHTML = docLinkHtml;\n",
              "          element.appendChild(docLink);\n",
              "        }\n",
              "      </script>\n",
              "    </div>\n",
              "  </div>\n",
              "  "
            ]
          },
          "metadata": {},
          "execution_count": 61
        }
      ],
      "source": [
        "tel = tel.merge(avg_wait_time, on=[\"operator_id\"], how='left')\n",
        "tel"
      ]
    },
    {
      "cell_type": "markdown",
      "metadata": {
        "id": "jjrSoLrCrsai"
      },
      "source": [
        "### Изучим среднее количество обработанных исходящих вызовов"
      ]
    },
    {
      "cell_type": "markdown",
      "metadata": {
        "id": "KrFJriVOkAzq"
      },
      "source": [
        "Есть разные мнения сколько звонков должен совершать оператор - на исходящей линии хороший продажник совершает в среднем от 100-120 звонков (зависит от средней длительности разговора по проекту) Источник: https://www.voiptime.net/ru/call-center-work-standarts_ru.html\n",
        "\n",
        "Среднее кол-во звонков в день которое должен совершать оператор = 144\n",
        "(18 звонков в час.) Источник: https://calldirect.ru/skolko-zvonkov-dolzhen-delat-operator-koll-czentra/\n",
        "\n",
        "Изучим наши данные"
      ]
    },
    {
      "cell_type": "markdown",
      "metadata": {
        "id": "fa7l1cO0El2l"
      },
      "source": [
        "Сформируем таблицу по операторам, которые специализируются на обзвонах"
      ]
    },
    {
      "cell_type": "code",
      "execution_count": null,
      "metadata": {
        "colab": {
          "base_uri": "https://localhost:8080/",
          "height": 237
        },
        "id": "UKRD_ZAlEAtp",
        "outputId": "720b4b77-9331-445b-e5ce-facc9bdfebdf"
      },
      "outputs": [
        {
          "output_type": "execute_result",
          "data": {
            "text/plain": [
              "              out   in  days  percent_out\n",
              "operator_id                              \n",
              "879896        872   58    50         94.0\n",
              "879898       7209  104    84         99.0\n",
              "880020         38    7    14         84.0\n",
              "880022        189    8    42         96.0\n",
              "880026       2208   24    77         99.0"
            ],
            "text/html": [
              "\n",
              "  <div id=\"df-81e3c0b9-81fd-450c-befd-3617f07a9127\">\n",
              "    <div class=\"colab-df-container\">\n",
              "      <div>\n",
              "<style scoped>\n",
              "    .dataframe tbody tr th:only-of-type {\n",
              "        vertical-align: middle;\n",
              "    }\n",
              "\n",
              "    .dataframe tbody tr th {\n",
              "        vertical-align: top;\n",
              "    }\n",
              "\n",
              "    .dataframe thead th {\n",
              "        text-align: right;\n",
              "    }\n",
              "</style>\n",
              "<table border=\"1\" class=\"dataframe\">\n",
              "  <thead>\n",
              "    <tr style=\"text-align: right;\">\n",
              "      <th></th>\n",
              "      <th>out</th>\n",
              "      <th>in</th>\n",
              "      <th>days</th>\n",
              "      <th>percent_out</th>\n",
              "    </tr>\n",
              "    <tr>\n",
              "      <th>operator_id</th>\n",
              "      <th></th>\n",
              "      <th></th>\n",
              "      <th></th>\n",
              "      <th></th>\n",
              "    </tr>\n",
              "  </thead>\n",
              "  <tbody>\n",
              "    <tr>\n",
              "      <th>879896</th>\n",
              "      <td>872</td>\n",
              "      <td>58</td>\n",
              "      <td>50</td>\n",
              "      <td>94.0</td>\n",
              "    </tr>\n",
              "    <tr>\n",
              "      <th>879898</th>\n",
              "      <td>7209</td>\n",
              "      <td>104</td>\n",
              "      <td>84</td>\n",
              "      <td>99.0</td>\n",
              "    </tr>\n",
              "    <tr>\n",
              "      <th>880020</th>\n",
              "      <td>38</td>\n",
              "      <td>7</td>\n",
              "      <td>14</td>\n",
              "      <td>84.0</td>\n",
              "    </tr>\n",
              "    <tr>\n",
              "      <th>880022</th>\n",
              "      <td>189</td>\n",
              "      <td>8</td>\n",
              "      <td>42</td>\n",
              "      <td>96.0</td>\n",
              "    </tr>\n",
              "    <tr>\n",
              "      <th>880026</th>\n",
              "      <td>2208</td>\n",
              "      <td>24</td>\n",
              "      <td>77</td>\n",
              "      <td>99.0</td>\n",
              "    </tr>\n",
              "  </tbody>\n",
              "</table>\n",
              "</div>\n",
              "      <button class=\"colab-df-convert\" onclick=\"convertToInteractive('df-81e3c0b9-81fd-450c-befd-3617f07a9127')\"\n",
              "              title=\"Convert this dataframe to an interactive table.\"\n",
              "              style=\"display:none;\">\n",
              "        \n",
              "  <svg xmlns=\"http://www.w3.org/2000/svg\" height=\"24px\"viewBox=\"0 0 24 24\"\n",
              "       width=\"24px\">\n",
              "    <path d=\"M0 0h24v24H0V0z\" fill=\"none\"/>\n",
              "    <path d=\"M18.56 5.44l.94 2.06.94-2.06 2.06-.94-2.06-.94-.94-2.06-.94 2.06-2.06.94zm-11 1L8.5 8.5l.94-2.06 2.06-.94-2.06-.94L8.5 2.5l-.94 2.06-2.06.94zm10 10l.94 2.06.94-2.06 2.06-.94-2.06-.94-.94-2.06-.94 2.06-2.06.94z\"/><path d=\"M17.41 7.96l-1.37-1.37c-.4-.4-.92-.59-1.43-.59-.52 0-1.04.2-1.43.59L10.3 9.45l-7.72 7.72c-.78.78-.78 2.05 0 2.83L4 21.41c.39.39.9.59 1.41.59.51 0 1.02-.2 1.41-.59l7.78-7.78 2.81-2.81c.8-.78.8-2.07 0-2.86zM5.41 20L4 18.59l7.72-7.72 1.47 1.35L5.41 20z\"/>\n",
              "  </svg>\n",
              "      </button>\n",
              "      \n",
              "  <style>\n",
              "    .colab-df-container {\n",
              "      display:flex;\n",
              "      flex-wrap:wrap;\n",
              "      gap: 12px;\n",
              "    }\n",
              "\n",
              "    .colab-df-convert {\n",
              "      background-color: #E8F0FE;\n",
              "      border: none;\n",
              "      border-radius: 50%;\n",
              "      cursor: pointer;\n",
              "      display: none;\n",
              "      fill: #1967D2;\n",
              "      height: 32px;\n",
              "      padding: 0 0 0 0;\n",
              "      width: 32px;\n",
              "    }\n",
              "\n",
              "    .colab-df-convert:hover {\n",
              "      background-color: #E2EBFA;\n",
              "      box-shadow: 0px 1px 2px rgba(60, 64, 67, 0.3), 0px 1px 3px 1px rgba(60, 64, 67, 0.15);\n",
              "      fill: #174EA6;\n",
              "    }\n",
              "\n",
              "    [theme=dark] .colab-df-convert {\n",
              "      background-color: #3B4455;\n",
              "      fill: #D2E3FC;\n",
              "    }\n",
              "\n",
              "    [theme=dark] .colab-df-convert:hover {\n",
              "      background-color: #434B5C;\n",
              "      box-shadow: 0px 1px 3px 1px rgba(0, 0, 0, 0.15);\n",
              "      filter: drop-shadow(0px 1px 2px rgba(0, 0, 0, 0.3));\n",
              "      fill: #FFFFFF;\n",
              "    }\n",
              "  </style>\n",
              "\n",
              "      <script>\n",
              "        const buttonEl =\n",
              "          document.querySelector('#df-81e3c0b9-81fd-450c-befd-3617f07a9127 button.colab-df-convert');\n",
              "        buttonEl.style.display =\n",
              "          google.colab.kernel.accessAllowed ? 'block' : 'none';\n",
              "\n",
              "        async function convertToInteractive(key) {\n",
              "          const element = document.querySelector('#df-81e3c0b9-81fd-450c-befd-3617f07a9127');\n",
              "          const dataTable =\n",
              "            await google.colab.kernel.invokeFunction('convertToInteractive',\n",
              "                                                     [key], {});\n",
              "          if (!dataTable) return;\n",
              "\n",
              "          const docLinkHtml = 'Like what you see? Visit the ' +\n",
              "            '<a target=\"_blank\" href=https://colab.research.google.com/notebooks/data_table.ipynb>data table notebook</a>'\n",
              "            + ' to learn more about interactive tables.';\n",
              "          element.innerHTML = '';\n",
              "          dataTable['output_type'] = 'display_data';\n",
              "          await google.colab.output.renderOutput(dataTable, element);\n",
              "          const docLink = document.createElement('div');\n",
              "          docLink.innerHTML = docLinkHtml;\n",
              "          element.appendChild(docLink);\n",
              "        }\n",
              "      </script>\n",
              "    </div>\n",
              "  </div>\n",
              "  "
            ]
          },
          "metadata": {},
          "execution_count": 62
        }
      ],
      "source": [
        "oper_dir = pd.pivot_table(tel, index=['operator_id'],columns=['direction'],\n",
        "               values=['calls_count'], aggfunc=['sum'],fill_value=0)\n",
        "\n",
        "oper_dir['date'] = pd.pivot_table(tel, index=['operator_id'],\n",
        "               values=['date'], aggfunc=['nunique'])\n",
        "\n",
        "oper_dir.reset_index()\n",
        "\n",
        "oper_dir.columns= [ 'out', 'in', 'days']\n",
        "oper_dir['percent_out'] = round(oper_dir['out']/(oper_dir['out'] + oper_dir['in']) * 100)\n",
        "\n",
        "oper_dir.head()"
      ]
    },
    {
      "cell_type": "code",
      "execution_count": null,
      "metadata": {
        "id": "DECEMU_WEvSt"
      },
      "outputs": [],
      "source": [
        "oper_out = oper_dir.query('percent_out >=50')"
      ]
    },
    {
      "cell_type": "code",
      "execution_count": null,
      "metadata": {
        "colab": {
          "base_uri": "https://localhost:8080/"
        },
        "id": "LnOV6eZ0tkuW",
        "outputId": "80a4f155-18ed-440e-82b0-de2be02c8e08"
      },
      "outputs": [
        {
          "output_type": "stream",
          "name": "stderr",
          "text": [
            "/usr/local/lib/python3.7/dist-packages/ipykernel_launcher.py:1: SettingWithCopyWarning: \n",
            "A value is trying to be set on a copy of a slice from a DataFrame.\n",
            "Try using .loc[row_indexer,col_indexer] = value instead\n",
            "\n",
            "See the caveats in the documentation: https://pandas.pydata.org/pandas-docs/stable/user_guide/indexing.html#returning-a-view-versus-a-copy\n",
            "  \"\"\"Entry point for launching an IPython kernel.\n",
            "/usr/local/lib/python3.7/dist-packages/ipykernel_launcher.py:2: SettingWithCopyWarning: \n",
            "A value is trying to be set on a copy of a slice from a DataFrame.\n",
            "Try using .loc[row_indexer,col_indexer] = value instead\n",
            "\n",
            "See the caveats in the documentation: https://pandas.pydata.org/pandas-docs/stable/user_guide/indexing.html#returning-a-view-versus-a-copy\n",
            "  \n"
          ]
        }
      ],
      "source": [
        "oper_out['avg_out'] = oper_out['out']/oper_out['days']\n",
        "oper_out['avg_out'] = round (oper_out['avg_out'],2)\n"
      ]
    },
    {
      "cell_type": "code",
      "execution_count": null,
      "metadata": {
        "colab": {
          "base_uri": "https://localhost:8080/",
          "height": 455
        },
        "id": "SUOYt8HfxTuT",
        "outputId": "f7d27c07-8edc-471b-937c-78b2517c0a3c"
      },
      "outputs": [
        {
          "output_type": "execute_result",
          "data": {
            "text/plain": [
              "               out    in  days  percent_out  avg_out\n",
              "operator_id                                         \n",
              "930510           2     2     4         50.0     0.50\n",
              "940610           1     1     2         50.0     0.50\n",
              "954318           1     1     2         50.0     0.50\n",
              "952196           2     2     3         50.0     0.67\n",
              "896018           9     8    13         53.0     0.69\n",
              "...            ...   ...   ...          ...      ...\n",
              "885876       58437   992    97         98.0   602.44\n",
              "929428       23754     0    33        100.0   719.82\n",
              "885890       58977  1244    80         98.0   737.21\n",
              "908640       14239     0    19        100.0   749.42\n",
              "925922       19603   418    24         98.0   816.79\n",
              "\n",
              "[752 rows x 5 columns]"
            ],
            "text/html": [
              "\n",
              "  <div id=\"df-42b1e3a7-5163-410d-81c9-9693302c30f7\">\n",
              "    <div class=\"colab-df-container\">\n",
              "      <div>\n",
              "<style scoped>\n",
              "    .dataframe tbody tr th:only-of-type {\n",
              "        vertical-align: middle;\n",
              "    }\n",
              "\n",
              "    .dataframe tbody tr th {\n",
              "        vertical-align: top;\n",
              "    }\n",
              "\n",
              "    .dataframe thead th {\n",
              "        text-align: right;\n",
              "    }\n",
              "</style>\n",
              "<table border=\"1\" class=\"dataframe\">\n",
              "  <thead>\n",
              "    <tr style=\"text-align: right;\">\n",
              "      <th></th>\n",
              "      <th>out</th>\n",
              "      <th>in</th>\n",
              "      <th>days</th>\n",
              "      <th>percent_out</th>\n",
              "      <th>avg_out</th>\n",
              "    </tr>\n",
              "    <tr>\n",
              "      <th>operator_id</th>\n",
              "      <th></th>\n",
              "      <th></th>\n",
              "      <th></th>\n",
              "      <th></th>\n",
              "      <th></th>\n",
              "    </tr>\n",
              "  </thead>\n",
              "  <tbody>\n",
              "    <tr>\n",
              "      <th>930510</th>\n",
              "      <td>2</td>\n",
              "      <td>2</td>\n",
              "      <td>4</td>\n",
              "      <td>50.0</td>\n",
              "      <td>0.50</td>\n",
              "    </tr>\n",
              "    <tr>\n",
              "      <th>940610</th>\n",
              "      <td>1</td>\n",
              "      <td>1</td>\n",
              "      <td>2</td>\n",
              "      <td>50.0</td>\n",
              "      <td>0.50</td>\n",
              "    </tr>\n",
              "    <tr>\n",
              "      <th>954318</th>\n",
              "      <td>1</td>\n",
              "      <td>1</td>\n",
              "      <td>2</td>\n",
              "      <td>50.0</td>\n",
              "      <td>0.50</td>\n",
              "    </tr>\n",
              "    <tr>\n",
              "      <th>952196</th>\n",
              "      <td>2</td>\n",
              "      <td>2</td>\n",
              "      <td>3</td>\n",
              "      <td>50.0</td>\n",
              "      <td>0.67</td>\n",
              "    </tr>\n",
              "    <tr>\n",
              "      <th>896018</th>\n",
              "      <td>9</td>\n",
              "      <td>8</td>\n",
              "      <td>13</td>\n",
              "      <td>53.0</td>\n",
              "      <td>0.69</td>\n",
              "    </tr>\n",
              "    <tr>\n",
              "      <th>...</th>\n",
              "      <td>...</td>\n",
              "      <td>...</td>\n",
              "      <td>...</td>\n",
              "      <td>...</td>\n",
              "      <td>...</td>\n",
              "    </tr>\n",
              "    <tr>\n",
              "      <th>885876</th>\n",
              "      <td>58437</td>\n",
              "      <td>992</td>\n",
              "      <td>97</td>\n",
              "      <td>98.0</td>\n",
              "      <td>602.44</td>\n",
              "    </tr>\n",
              "    <tr>\n",
              "      <th>929428</th>\n",
              "      <td>23754</td>\n",
              "      <td>0</td>\n",
              "      <td>33</td>\n",
              "      <td>100.0</td>\n",
              "      <td>719.82</td>\n",
              "    </tr>\n",
              "    <tr>\n",
              "      <th>885890</th>\n",
              "      <td>58977</td>\n",
              "      <td>1244</td>\n",
              "      <td>80</td>\n",
              "      <td>98.0</td>\n",
              "      <td>737.21</td>\n",
              "    </tr>\n",
              "    <tr>\n",
              "      <th>908640</th>\n",
              "      <td>14239</td>\n",
              "      <td>0</td>\n",
              "      <td>19</td>\n",
              "      <td>100.0</td>\n",
              "      <td>749.42</td>\n",
              "    </tr>\n",
              "    <tr>\n",
              "      <th>925922</th>\n",
              "      <td>19603</td>\n",
              "      <td>418</td>\n",
              "      <td>24</td>\n",
              "      <td>98.0</td>\n",
              "      <td>816.79</td>\n",
              "    </tr>\n",
              "  </tbody>\n",
              "</table>\n",
              "<p>752 rows × 5 columns</p>\n",
              "</div>\n",
              "      <button class=\"colab-df-convert\" onclick=\"convertToInteractive('df-42b1e3a7-5163-410d-81c9-9693302c30f7')\"\n",
              "              title=\"Convert this dataframe to an interactive table.\"\n",
              "              style=\"display:none;\">\n",
              "        \n",
              "  <svg xmlns=\"http://www.w3.org/2000/svg\" height=\"24px\"viewBox=\"0 0 24 24\"\n",
              "       width=\"24px\">\n",
              "    <path d=\"M0 0h24v24H0V0z\" fill=\"none\"/>\n",
              "    <path d=\"M18.56 5.44l.94 2.06.94-2.06 2.06-.94-2.06-.94-.94-2.06-.94 2.06-2.06.94zm-11 1L8.5 8.5l.94-2.06 2.06-.94-2.06-.94L8.5 2.5l-.94 2.06-2.06.94zm10 10l.94 2.06.94-2.06 2.06-.94-2.06-.94-.94-2.06-.94 2.06-2.06.94z\"/><path d=\"M17.41 7.96l-1.37-1.37c-.4-.4-.92-.59-1.43-.59-.52 0-1.04.2-1.43.59L10.3 9.45l-7.72 7.72c-.78.78-.78 2.05 0 2.83L4 21.41c.39.39.9.59 1.41.59.51 0 1.02-.2 1.41-.59l7.78-7.78 2.81-2.81c.8-.78.8-2.07 0-2.86zM5.41 20L4 18.59l7.72-7.72 1.47 1.35L5.41 20z\"/>\n",
              "  </svg>\n",
              "      </button>\n",
              "      \n",
              "  <style>\n",
              "    .colab-df-container {\n",
              "      display:flex;\n",
              "      flex-wrap:wrap;\n",
              "      gap: 12px;\n",
              "    }\n",
              "\n",
              "    .colab-df-convert {\n",
              "      background-color: #E8F0FE;\n",
              "      border: none;\n",
              "      border-radius: 50%;\n",
              "      cursor: pointer;\n",
              "      display: none;\n",
              "      fill: #1967D2;\n",
              "      height: 32px;\n",
              "      padding: 0 0 0 0;\n",
              "      width: 32px;\n",
              "    }\n",
              "\n",
              "    .colab-df-convert:hover {\n",
              "      background-color: #E2EBFA;\n",
              "      box-shadow: 0px 1px 2px rgba(60, 64, 67, 0.3), 0px 1px 3px 1px rgba(60, 64, 67, 0.15);\n",
              "      fill: #174EA6;\n",
              "    }\n",
              "\n",
              "    [theme=dark] .colab-df-convert {\n",
              "      background-color: #3B4455;\n",
              "      fill: #D2E3FC;\n",
              "    }\n",
              "\n",
              "    [theme=dark] .colab-df-convert:hover {\n",
              "      background-color: #434B5C;\n",
              "      box-shadow: 0px 1px 3px 1px rgba(0, 0, 0, 0.15);\n",
              "      filter: drop-shadow(0px 1px 2px rgba(0, 0, 0, 0.3));\n",
              "      fill: #FFFFFF;\n",
              "    }\n",
              "  </style>\n",
              "\n",
              "      <script>\n",
              "        const buttonEl =\n",
              "          document.querySelector('#df-42b1e3a7-5163-410d-81c9-9693302c30f7 button.colab-df-convert');\n",
              "        buttonEl.style.display =\n",
              "          google.colab.kernel.accessAllowed ? 'block' : 'none';\n",
              "\n",
              "        async function convertToInteractive(key) {\n",
              "          const element = document.querySelector('#df-42b1e3a7-5163-410d-81c9-9693302c30f7');\n",
              "          const dataTable =\n",
              "            await google.colab.kernel.invokeFunction('convertToInteractive',\n",
              "                                                     [key], {});\n",
              "          if (!dataTable) return;\n",
              "\n",
              "          const docLinkHtml = 'Like what you see? Visit the ' +\n",
              "            '<a target=\"_blank\" href=https://colab.research.google.com/notebooks/data_table.ipynb>data table notebook</a>'\n",
              "            + ' to learn more about interactive tables.';\n",
              "          element.innerHTML = '';\n",
              "          dataTable['output_type'] = 'display_data';\n",
              "          await google.colab.output.renderOutput(dataTable, element);\n",
              "          const docLink = document.createElement('div');\n",
              "          docLink.innerHTML = docLinkHtml;\n",
              "          element.appendChild(docLink);\n",
              "        }\n",
              "      </script>\n",
              "    </div>\n",
              "  </div>\n",
              "  "
            ]
          },
          "metadata": {},
          "execution_count": 65
        }
      ],
      "source": [
        "oper_out.sort_values(by = 'avg_out' )"
      ]
    },
    {
      "cell_type": "code",
      "execution_count": null,
      "metadata": {
        "colab": {
          "base_uri": "https://localhost:8080/",
          "height": 287
        },
        "id": "xaalaTlMxc1U",
        "outputId": "2c1af0c8-c726-4fef-e115-9c71fbf47278"
      },
      "outputs": [
        {
          "output_type": "execute_result",
          "data": {
            "text/plain": [
              "<matplotlib.axes._subplots.AxesSubplot at 0x7efcd8f84950>"
            ]
          },
          "metadata": {},
          "execution_count": 66
        },
        {
          "output_type": "display_data",
          "data": {
            "text/plain": [
              "<Figure size 432x288 with 1 Axes>"
            ],
            "image/png": "[encoded data removed]"
          },
          "metadata": {
            "needs_background": "light"
          }
        }
      ],
      "source": [
        "oper_out['avg_out'].hist(bins = 50)"
      ]
    },
    {
      "cell_type": "markdown",
      "metadata": {
        "id": "QmDCbJsMyQtT"
      },
      "source": [
        "Мы видим по распределению, что у большей части операторов меньше 100 звонков в день. У половины операторов меньше 10 звонков в день. Возникают сомнения, что эти операторы специализируются на обзвоне, хотя доля исходящих у них более 50%, но количество звонков очень маленькое"
      ]
    },
    {
      "cell_type": "code",
      "execution_count": null,
      "metadata": {
        "colab": {
          "base_uri": "https://localhost:8080/"
        },
        "id": "ENHdKjePzZz3",
        "outputId": "a246998c-802f-4196-aeff-6602e205cec4"
      },
      "outputs": [
        {
          "output_type": "execute_result",
          "data": {
            "text/plain": [
              "out            394\n",
              "in             394\n",
              "days           394\n",
              "percent_out    394\n",
              "avg_out        394\n",
              "dtype: int64"
            ]
          },
          "metadata": {},
          "execution_count": 67
        }
      ],
      "source": [
        "oper_out.query('avg_out < 10').count()"
      ]
    },
    {
      "cell_type": "code",
      "execution_count": null,
      "metadata": {
        "colab": {
          "base_uri": "https://localhost:8080/"
        },
        "id": "SBkOJsLWyAq5",
        "outputId": "00fec0f2-8641-4d2e-f80c-a2484089627a"
      },
      "outputs": [
        {
          "output_type": "execute_result",
          "data": {
            "text/plain": [
              "out            74\n",
              "in             74\n",
              "days           74\n",
              "percent_out    74\n",
              "avg_out        74\n",
              "dtype: int64"
            ]
          },
          "metadata": {},
          "execution_count": 68
        }
      ],
      "source": [
        "oper_out.query('avg_out > 100').count()"
      ]
    },
    {
      "cell_type": "markdown",
      "metadata": {
        "id": "p-CEZWgAGTrJ"
      },
      "source": [
        "Только у 74 операторов более 100 звонков в день"
      ]
    },
    {
      "cell_type": "markdown",
      "metadata": {
        "id": "S8J6DW08kAwi"
      },
      "source": [
        "Этот признак неэффективности необходимо доработать прежде чем вносить в новую функциональность. Провести опрос среди действующих клиентов: специализируются ли они на обзвоне и существует ли норма по количеству исходящих вызовов для  операторов. "
      ]
    },
    {
      "cell_type": "markdown",
      "metadata": {
        "id": "Zlczz6oJ0oEW"
      },
      "source": [
        "### Изучим среднее время разговора по входящим звонкам"
      ]
    },
    {
      "cell_type": "markdown",
      "metadata": {
        "id": "oRq3INDBy7Je"
      },
      "source": [
        "Также нашим клиентам можно предложить выявление неэффективных операторов, которые слишком долго обрабатывают входящие вызовы, значит, он недостаточно хорошо разбирается в продукте и ему приходится искать ответы на вопросы клиента. Кроме того, если беседа превышает стандартное время, собирается очередь звонков и рушатся другие важные показатели.\n",
        "\n",
        "Параметр AHT: average handling time — время обработки обращения (Индустриальный стандарт АНТ — от 4 до 6 минут.) Источник https://www.cossa.ru/special/business-processes/276786/?ysclid=l4jt0sf2on196552777"
      ]
    },
    {
      "cell_type": "markdown",
      "metadata": {
        "id": "xzAvW-KHC_3g"
      },
      "source": [
        "Срез данных, в котором только входящие звонки у нас уже есть - operator_in Добавим в него колонку среднее время звонка (колонку call_duration разделить на колонку calls_count и разделить на 60, чтобы перевести в минуты)"
      ]
    },
    {
      "cell_type": "code",
      "execution_count": null,
      "metadata": {
        "colab": {
          "base_uri": "https://localhost:8080/",
          "height": 357
        },
        "id": "2KQSas9y6Sc1",
        "outputId": "22e5dbae-0c73-4910-c73f-39719a6ac3b5"
      },
      "outputs": [
        {
          "output_type": "execute_result",
          "data": {
            "text/plain": [
              "       user_id       date  direction internal  operator_id  is_missed_call  \\\n",
              "38835   168252 2019-11-06          1    False       940616           False   \n",
              "5209    166582 2019-09-03          1    False       885890           False   \n",
              "32055   167888 2019-11-26          1    False       928888           False   \n",
              "17362   167071 2019-10-25          1    False       913942           False   \n",
              "39742   168315 2019-11-19          1    False       952734           False   \n",
              "\n",
              "       calls_count  call_duration  total_call_duration tariff_plan date_start  \\\n",
              "38835           25           2194                 2406           A 2019-10-17   \n",
              "5209            24           1988                 2196           A 2019-08-09   \n",
              "32055            7           1151                 1208           C 2019-10-04   \n",
              "17362           31           2848                 3204           B 2019-08-30   \n",
              "39742            7           1588                 1595           B 2019-10-21   \n",
              "\n",
              "       wait_time   aht  \n",
              "38835   8.480000  1.46  \n",
              "5209    8.666667  1.38  \n",
              "32055   8.142857  2.74  \n",
              "17362  11.483871  1.53  \n",
              "39742   1.000000  3.78  "
            ],
            "text/html": [
              "\n",
              "  <div id=\"df-bf007d7b-331f-4cdf-90fb-b3250337a8a8\">\n",
              "    <div class=\"colab-df-container\">\n",
              "      <div>\n",
              "<style scoped>\n",
              "    .dataframe tbody tr th:only-of-type {\n",
              "        vertical-align: middle;\n",
              "    }\n",
              "\n",
              "    .dataframe tbody tr th {\n",
              "        vertical-align: top;\n",
              "    }\n",
              "\n",
              "    .dataframe thead th {\n",
              "        text-align: right;\n",
              "    }\n",
              "</style>\n",
              "<table border=\"1\" class=\"dataframe\">\n",
              "  <thead>\n",
              "    <tr style=\"text-align: right;\">\n",
              "      <th></th>\n",
              "      <th>user_id</th>\n",
              "      <th>date</th>\n",
              "      <th>direction</th>\n",
              "      <th>internal</th>\n",
              "      <th>operator_id</th>\n",
              "      <th>is_missed_call</th>\n",
              "      <th>calls_count</th>\n",
              "      <th>call_duration</th>\n",
              "      <th>total_call_duration</th>\n",
              "      <th>tariff_plan</th>\n",
              "      <th>date_start</th>\n",
              "      <th>wait_time</th>\n",
              "      <th>aht</th>\n",
              "    </tr>\n",
              "  </thead>\n",
              "  <tbody>\n",
              "    <tr>\n",
              "      <th>38835</th>\n",
              "      <td>168252</td>\n",
              "      <td>2019-11-06</td>\n",
              "      <td>1</td>\n",
              "      <td>False</td>\n",
              "      <td>940616</td>\n",
              "      <td>False</td>\n",
              "      <td>25</td>\n",
              "      <td>2194</td>\n",
              "      <td>2406</td>\n",
              "      <td>A</td>\n",
              "      <td>2019-10-17</td>\n",
              "      <td>8.480000</td>\n",
              "      <td>1.46</td>\n",
              "    </tr>\n",
              "    <tr>\n",
              "      <th>5209</th>\n",
              "      <td>166582</td>\n",
              "      <td>2019-09-03</td>\n",
              "      <td>1</td>\n",
              "      <td>False</td>\n",
              "      <td>885890</td>\n",
              "      <td>False</td>\n",
              "      <td>24</td>\n",
              "      <td>1988</td>\n",
              "      <td>2196</td>\n",
              "      <td>A</td>\n",
              "      <td>2019-08-09</td>\n",
              "      <td>8.666667</td>\n",
              "      <td>1.38</td>\n",
              "    </tr>\n",
              "    <tr>\n",
              "      <th>32055</th>\n",
              "      <td>167888</td>\n",
              "      <td>2019-11-26</td>\n",
              "      <td>1</td>\n",
              "      <td>False</td>\n",
              "      <td>928888</td>\n",
              "      <td>False</td>\n",
              "      <td>7</td>\n",
              "      <td>1151</td>\n",
              "      <td>1208</td>\n",
              "      <td>C</td>\n",
              "      <td>2019-10-04</td>\n",
              "      <td>8.142857</td>\n",
              "      <td>2.74</td>\n",
              "    </tr>\n",
              "    <tr>\n",
              "      <th>17362</th>\n",
              "      <td>167071</td>\n",
              "      <td>2019-10-25</td>\n",
              "      <td>1</td>\n",
              "      <td>False</td>\n",
              "      <td>913942</td>\n",
              "      <td>False</td>\n",
              "      <td>31</td>\n",
              "      <td>2848</td>\n",
              "      <td>3204</td>\n",
              "      <td>B</td>\n",
              "      <td>2019-08-30</td>\n",
              "      <td>11.483871</td>\n",
              "      <td>1.53</td>\n",
              "    </tr>\n",
              "    <tr>\n",
              "      <th>39742</th>\n",
              "      <td>168315</td>\n",
              "      <td>2019-11-19</td>\n",
              "      <td>1</td>\n",
              "      <td>False</td>\n",
              "      <td>952734</td>\n",
              "      <td>False</td>\n",
              "      <td>7</td>\n",
              "      <td>1588</td>\n",
              "      <td>1595</td>\n",
              "      <td>B</td>\n",
              "      <td>2019-10-21</td>\n",
              "      <td>1.000000</td>\n",
              "      <td>3.78</td>\n",
              "    </tr>\n",
              "  </tbody>\n",
              "</table>\n",
              "</div>\n",
              "      <button class=\"colab-df-convert\" onclick=\"convertToInteractive('df-bf007d7b-331f-4cdf-90fb-b3250337a8a8')\"\n",
              "              title=\"Convert this dataframe to an interactive table.\"\n",
              "              style=\"display:none;\">\n",
              "        \n",
              "  <svg xmlns=\"http://www.w3.org/2000/svg\" height=\"24px\"viewBox=\"0 0 24 24\"\n",
              "       width=\"24px\">\n",
              "    <path d=\"M0 0h24v24H0V0z\" fill=\"none\"/>\n",
              "    <path d=\"M18.56 5.44l.94 2.06.94-2.06 2.06-.94-2.06-.94-.94-2.06-.94 2.06-2.06.94zm-11 1L8.5 8.5l.94-2.06 2.06-.94-2.06-.94L8.5 2.5l-.94 2.06-2.06.94zm10 10l.94 2.06.94-2.06 2.06-.94-2.06-.94-.94-2.06-.94 2.06-2.06.94z\"/><path d=\"M17.41 7.96l-1.37-1.37c-.4-.4-.92-.59-1.43-.59-.52 0-1.04.2-1.43.59L10.3 9.45l-7.72 7.72c-.78.78-.78 2.05 0 2.83L4 21.41c.39.39.9.59 1.41.59.51 0 1.02-.2 1.41-.59l7.78-7.78 2.81-2.81c.8-.78.8-2.07 0-2.86zM5.41 20L4 18.59l7.72-7.72 1.47 1.35L5.41 20z\"/>\n",
              "  </svg>\n",
              "      </button>\n",
              "      \n",
              "  <style>\n",
              "    .colab-df-container {\n",
              "      display:flex;\n",
              "      flex-wrap:wrap;\n",
              "      gap: 12px;\n",
              "    }\n",
              "\n",
              "    .colab-df-convert {\n",
              "      background-color: #E8F0FE;\n",
              "      border: none;\n",
              "      border-radius: 50%;\n",
              "      cursor: pointer;\n",
              "      display: none;\n",
              "      fill: #1967D2;\n",
              "      height: 32px;\n",
              "      padding: 0 0 0 0;\n",
              "      width: 32px;\n",
              "    }\n",
              "\n",
              "    .colab-df-convert:hover {\n",
              "      background-color: #E2EBFA;\n",
              "      box-shadow: 0px 1px 2px rgba(60, 64, 67, 0.3), 0px 1px 3px 1px rgba(60, 64, 67, 0.15);\n",
              "      fill: #174EA6;\n",
              "    }\n",
              "\n",
              "    [theme=dark] .colab-df-convert {\n",
              "      background-color: #3B4455;\n",
              "      fill: #D2E3FC;\n",
              "    }\n",
              "\n",
              "    [theme=dark] .colab-df-convert:hover {\n",
              "      background-color: #434B5C;\n",
              "      box-shadow: 0px 1px 3px 1px rgba(0, 0, 0, 0.15);\n",
              "      filter: drop-shadow(0px 1px 2px rgba(0, 0, 0, 0.3));\n",
              "      fill: #FFFFFF;\n",
              "    }\n",
              "  </style>\n",
              "\n",
              "      <script>\n",
              "        const buttonEl =\n",
              "          document.querySelector('#df-bf007d7b-331f-4cdf-90fb-b3250337a8a8 button.colab-df-convert');\n",
              "        buttonEl.style.display =\n",
              "          google.colab.kernel.accessAllowed ? 'block' : 'none';\n",
              "\n",
              "        async function convertToInteractive(key) {\n",
              "          const element = document.querySelector('#df-bf007d7b-331f-4cdf-90fb-b3250337a8a8');\n",
              "          const dataTable =\n",
              "            await google.colab.kernel.invokeFunction('convertToInteractive',\n",
              "                                                     [key], {});\n",
              "          if (!dataTable) return;\n",
              "\n",
              "          const docLinkHtml = 'Like what you see? Visit the ' +\n",
              "            '<a target=\"_blank\" href=https://colab.research.google.com/notebooks/data_table.ipynb>data table notebook</a>'\n",
              "            + ' to learn more about interactive tables.';\n",
              "          element.innerHTML = '';\n",
              "          dataTable['output_type'] = 'display_data';\n",
              "          await google.colab.output.renderOutput(dataTable, element);\n",
              "          const docLink = document.createElement('div');\n",
              "          docLink.innerHTML = docLinkHtml;\n",
              "          element.appendChild(docLink);\n",
              "        }\n",
              "      </script>\n",
              "    </div>\n",
              "  </div>\n",
              "  "
            ]
          },
          "metadata": {},
          "execution_count": 69
        }
      ],
      "source": [
        "operator_in['aht'] = round((operator_in['call_duration']/operator_in['calls_count']/60),2)\n",
        "operator_in.sample(5)"
      ]
    },
    {
      "cell_type": "markdown",
      "metadata": {
        "id": "-n1SIknVnUFV"
      },
      "source": [
        "Сгруппируем срез по операторам и рассчитаем среднее время разговора при входящих вызовах"
      ]
    },
    {
      "cell_type": "code",
      "execution_count": null,
      "metadata": {
        "colab": {
          "base_uri": "https://localhost:8080/",
          "height": 206
        },
        "id": "qYWFP_93nZBA",
        "outputId": "90b7e6af-1002-45ec-f0c7-c55af1adf363"
      },
      "outputs": [
        {
          "output_type": "execute_result",
          "data": {
            "text/plain": [
              "   operator_id   aht\n",
              "0       879896  2.48\n",
              "1       879898  1.09\n",
              "2       880020  0.71\n",
              "3       880022  1.07\n",
              "4       880026  0.95"
            ],
            "text/html": [
              "\n",
              "  <div id=\"df-f4c7c39f-7c27-49ba-94c5-955230a32dc6\">\n",
              "    <div class=\"colab-df-container\">\n",
              "      <div>\n",
              "<style scoped>\n",
              "    .dataframe tbody tr th:only-of-type {\n",
              "        vertical-align: middle;\n",
              "    }\n",
              "\n",
              "    .dataframe tbody tr th {\n",
              "        vertical-align: top;\n",
              "    }\n",
              "\n",
              "    .dataframe thead th {\n",
              "        text-align: right;\n",
              "    }\n",
              "</style>\n",
              "<table border=\"1\" class=\"dataframe\">\n",
              "  <thead>\n",
              "    <tr style=\"text-align: right;\">\n",
              "      <th></th>\n",
              "      <th>operator_id</th>\n",
              "      <th>aht</th>\n",
              "    </tr>\n",
              "  </thead>\n",
              "  <tbody>\n",
              "    <tr>\n",
              "      <th>0</th>\n",
              "      <td>879896</td>\n",
              "      <td>2.48</td>\n",
              "    </tr>\n",
              "    <tr>\n",
              "      <th>1</th>\n",
              "      <td>879898</td>\n",
              "      <td>1.09</td>\n",
              "    </tr>\n",
              "    <tr>\n",
              "      <th>2</th>\n",
              "      <td>880020</td>\n",
              "      <td>0.71</td>\n",
              "    </tr>\n",
              "    <tr>\n",
              "      <th>3</th>\n",
              "      <td>880022</td>\n",
              "      <td>1.07</td>\n",
              "    </tr>\n",
              "    <tr>\n",
              "      <th>4</th>\n",
              "      <td>880026</td>\n",
              "      <td>0.95</td>\n",
              "    </tr>\n",
              "  </tbody>\n",
              "</table>\n",
              "</div>\n",
              "      <button class=\"colab-df-convert\" onclick=\"convertToInteractive('df-f4c7c39f-7c27-49ba-94c5-955230a32dc6')\"\n",
              "              title=\"Convert this dataframe to an interactive table.\"\n",
              "              style=\"display:none;\">\n",
              "        \n",
              "  <svg xmlns=\"http://www.w3.org/2000/svg\" height=\"24px\"viewBox=\"0 0 24 24\"\n",
              "       width=\"24px\">\n",
              "    <path d=\"M0 0h24v24H0V0z\" fill=\"none\"/>\n",
              "    <path d=\"M18.56 5.44l.94 2.06.94-2.06 2.06-.94-2.06-.94-.94-2.06-.94 2.06-2.06.94zm-11 1L8.5 8.5l.94-2.06 2.06-.94-2.06-.94L8.5 2.5l-.94 2.06-2.06.94zm10 10l.94 2.06.94-2.06 2.06-.94-2.06-.94-.94-2.06-.94 2.06-2.06.94z\"/><path d=\"M17.41 7.96l-1.37-1.37c-.4-.4-.92-.59-1.43-.59-.52 0-1.04.2-1.43.59L10.3 9.45l-7.72 7.72c-.78.78-.78 2.05 0 2.83L4 21.41c.39.39.9.59 1.41.59.51 0 1.02-.2 1.41-.59l7.78-7.78 2.81-2.81c.8-.78.8-2.07 0-2.86zM5.41 20L4 18.59l7.72-7.72 1.47 1.35L5.41 20z\"/>\n",
              "  </svg>\n",
              "      </button>\n",
              "      \n",
              "  <style>\n",
              "    .colab-df-container {\n",
              "      display:flex;\n",
              "      flex-wrap:wrap;\n",
              "      gap: 12px;\n",
              "    }\n",
              "\n",
              "    .colab-df-convert {\n",
              "      background-color: #E8F0FE;\n",
              "      border: none;\n",
              "      border-radius: 50%;\n",
              "      cursor: pointer;\n",
              "      display: none;\n",
              "      fill: #1967D2;\n",
              "      height: 32px;\n",
              "      padding: 0 0 0 0;\n",
              "      width: 32px;\n",
              "    }\n",
              "\n",
              "    .colab-df-convert:hover {\n",
              "      background-color: #E2EBFA;\n",
              "      box-shadow: 0px 1px 2px rgba(60, 64, 67, 0.3), 0px 1px 3px 1px rgba(60, 64, 67, 0.15);\n",
              "      fill: #174EA6;\n",
              "    }\n",
              "\n",
              "    [theme=dark] .colab-df-convert {\n",
              "      background-color: #3B4455;\n",
              "      fill: #D2E3FC;\n",
              "    }\n",
              "\n",
              "    [theme=dark] .colab-df-convert:hover {\n",
              "      background-color: #434B5C;\n",
              "      box-shadow: 0px 1px 3px 1px rgba(0, 0, 0, 0.15);\n",
              "      filter: drop-shadow(0px 1px 2px rgba(0, 0, 0, 0.3));\n",
              "      fill: #FFFFFF;\n",
              "    }\n",
              "  </style>\n",
              "\n",
              "      <script>\n",
              "        const buttonEl =\n",
              "          document.querySelector('#df-f4c7c39f-7c27-49ba-94c5-955230a32dc6 button.colab-df-convert');\n",
              "        buttonEl.style.display =\n",
              "          google.colab.kernel.accessAllowed ? 'block' : 'none';\n",
              "\n",
              "        async function convertToInteractive(key) {\n",
              "          const element = document.querySelector('#df-f4c7c39f-7c27-49ba-94c5-955230a32dc6');\n",
              "          const dataTable =\n",
              "            await google.colab.kernel.invokeFunction('convertToInteractive',\n",
              "                                                     [key], {});\n",
              "          if (!dataTable) return;\n",
              "\n",
              "          const docLinkHtml = 'Like what you see? Visit the ' +\n",
              "            '<a target=\"_blank\" href=https://colab.research.google.com/notebooks/data_table.ipynb>data table notebook</a>'\n",
              "            + ' to learn more about interactive tables.';\n",
              "          element.innerHTML = '';\n",
              "          dataTable['output_type'] = 'display_data';\n",
              "          await google.colab.output.renderOutput(dataTable, element);\n",
              "          const docLink = document.createElement('div');\n",
              "          docLink.innerHTML = docLinkHtml;\n",
              "          element.appendChild(docLink);\n",
              "        }\n",
              "      </script>\n",
              "    </div>\n",
              "  </div>\n",
              "  "
            ]
          },
          "metadata": {},
          "execution_count": 70
        }
      ],
      "source": [
        "avg_aht = operator_in.groupby('operator_id').agg({'aht':'mean'}).reset_index()\n",
        "avg_aht['aht'] = round(avg_aht['aht'],2)\n",
        "avg_aht.head()"
      ]
    },
    {
      "cell_type": "markdown",
      "metadata": {
        "id": "y_9iXebp03lx"
      },
      "source": [
        "Изучим распределение среднего времени звонка\n"
      ]
    },
    {
      "cell_type": "code",
      "execution_count": null,
      "metadata": {
        "colab": {
          "base_uri": "https://localhost:8080/",
          "height": 283
        },
        "id": "XXBXGO-eE_Aw",
        "outputId": "fcc07322-e80c-4562-a9d9-beba16778b69"
      },
      "outputs": [
        {
          "output_type": "execute_result",
          "data": {
            "text/plain": [
              "<matplotlib.axes._subplots.AxesSubplot at 0x7efcd8ff3390>"
            ]
          },
          "metadata": {},
          "execution_count": 71
        },
        {
          "output_type": "display_data",
          "data": {
            "text/plain": [
              "<Figure size 432x288 with 1 Axes>"
            ],
            "image/png": "[encoded data removed]"
          },
          "metadata": {
            "needs_background": "light"
          }
        }
      ],
      "source": [
        "avg_aht['aht'].hist(bins=100)"
      ]
    },
    {
      "cell_type": "markdown",
      "metadata": {
        "id": "_GZ8-128FOOW"
      },
      "source": [
        "Среднее время разговора у большинства операторов менее 5 минут. Посчитаем сколько операторов разговаривают в среднем дольше."
      ]
    },
    {
      "cell_type": "code",
      "execution_count": null,
      "metadata": {
        "colab": {
          "base_uri": "https://localhost:8080/"
        },
        "id": "xul39f_Lm2Vy",
        "outputId": "ac676978-0a33-4ac2-ed17-a844ca0fb079"
      },
      "outputs": [
        {
          "output_type": "execute_result",
          "data": {
            "text/plain": [
              "operator_id    19\n",
              "aht            19\n",
              "dtype: int64"
            ]
          },
          "metadata": {},
          "execution_count": 72
        }
      ],
      "source": [
        "avg_aht.query('aht > 5').count()"
      ]
    },
    {
      "cell_type": "markdown",
      "metadata": {
        "id": "tXLbhIoFpqS0"
      },
      "source": [
        "Всего 19 операторов разговаривают в среднем дольше 5 минут при вхдящих вызовах.\n",
        "\n",
        "Чтобы отображать этот параметр в дашборде, добавим столбец средней продолжительности входящих звонков в основной датасет"
      ]
    },
    {
      "cell_type": "code",
      "execution_count": null,
      "metadata": {
        "colab": {
          "base_uri": "https://localhost:8080/",
          "height": 357
        },
        "id": "AdOYtqSsp8JR",
        "outputId": "92c95bf3-4c70-4523-aec6-21e68b6ca84d"
      },
      "outputs": [
        {
          "output_type": "execute_result",
          "data": {
            "text/plain": [
              "   user_id       date  direction internal  operator_id  is_missed_call  \\\n",
              "0   166377 2019-08-05          0     True       880022            True   \n",
              "1   166377 2019-08-05          0     True       880020            True   \n",
              "2   166377 2019-08-05          0     True       880020           False   \n",
              "3   166377 2019-08-05          0    False       880022            True   \n",
              "4   166377 2019-08-05          0    False       880020           False   \n",
              "\n",
              "   calls_count  call_duration  total_call_duration tariff_plan date_start  \\\n",
              "0            3              0                    5           B 2019-08-01   \n",
              "1            1              0                    1           B 2019-08-01   \n",
              "2            1             10                   18           B 2019-08-01   \n",
              "3            3              0                   25           B 2019-08-01   \n",
              "4            2              3                   29           B 2019-08-01   \n",
              "\n",
              "   received  missed  percent_missed  wait_time   aht  \n",
              "0       8.0     0.0             0.0      14.00  1.07  \n",
              "1       7.0     0.0             0.0       7.71  0.71  \n",
              "2       7.0     0.0             0.0       7.71  0.71  \n",
              "3       8.0     0.0             0.0      14.00  1.07  \n",
              "4       7.0     0.0             0.0       7.71  0.71  "
            ],
            "text/html": [
              "\n",
              "  <div id=\"df-8b3cff82-a743-425e-bf6e-39a476c42cfd\">\n",
              "    <div class=\"colab-df-container\">\n",
              "      <div>\n",
              "<style scoped>\n",
              "    .dataframe tbody tr th:only-of-type {\n",
              "        vertical-align: middle;\n",
              "    }\n",
              "\n",
              "    .dataframe tbody tr th {\n",
              "        vertical-align: top;\n",
              "    }\n",
              "\n",
              "    .dataframe thead th {\n",
              "        text-align: right;\n",
              "    }\n",
              "</style>\n",
              "<table border=\"1\" class=\"dataframe\">\n",
              "  <thead>\n",
              "    <tr style=\"text-align: right;\">\n",
              "      <th></th>\n",
              "      <th>user_id</th>\n",
              "      <th>date</th>\n",
              "      <th>direction</th>\n",
              "      <th>internal</th>\n",
              "      <th>operator_id</th>\n",
              "      <th>is_missed_call</th>\n",
              "      <th>calls_count</th>\n",
              "      <th>call_duration</th>\n",
              "      <th>total_call_duration</th>\n",
              "      <th>tariff_plan</th>\n",
              "      <th>date_start</th>\n",
              "      <th>received</th>\n",
              "      <th>missed</th>\n",
              "      <th>percent_missed</th>\n",
              "      <th>wait_time</th>\n",
              "      <th>aht</th>\n",
              "    </tr>\n",
              "  </thead>\n",
              "  <tbody>\n",
              "    <tr>\n",
              "      <th>0</th>\n",
              "      <td>166377</td>\n",
              "      <td>2019-08-05</td>\n",
              "      <td>0</td>\n",
              "      <td>True</td>\n",
              "      <td>880022</td>\n",
              "      <td>True</td>\n",
              "      <td>3</td>\n",
              "      <td>0</td>\n",
              "      <td>5</td>\n",
              "      <td>B</td>\n",
              "      <td>2019-08-01</td>\n",
              "      <td>8.0</td>\n",
              "      <td>0.0</td>\n",
              "      <td>0.0</td>\n",
              "      <td>14.00</td>\n",
              "      <td>1.07</td>\n",
              "    </tr>\n",
              "    <tr>\n",
              "      <th>1</th>\n",
              "      <td>166377</td>\n",
              "      <td>2019-08-05</td>\n",
              "      <td>0</td>\n",
              "      <td>True</td>\n",
              "      <td>880020</td>\n",
              "      <td>True</td>\n",
              "      <td>1</td>\n",
              "      <td>0</td>\n",
              "      <td>1</td>\n",
              "      <td>B</td>\n",
              "      <td>2019-08-01</td>\n",
              "      <td>7.0</td>\n",
              "      <td>0.0</td>\n",
              "      <td>0.0</td>\n",
              "      <td>7.71</td>\n",
              "      <td>0.71</td>\n",
              "    </tr>\n",
              "    <tr>\n",
              "      <th>2</th>\n",
              "      <td>166377</td>\n",
              "      <td>2019-08-05</td>\n",
              "      <td>0</td>\n",
              "      <td>True</td>\n",
              "      <td>880020</td>\n",
              "      <td>False</td>\n",
              "      <td>1</td>\n",
              "      <td>10</td>\n",
              "      <td>18</td>\n",
              "      <td>B</td>\n",
              "      <td>2019-08-01</td>\n",
              "      <td>7.0</td>\n",
              "      <td>0.0</td>\n",
              "      <td>0.0</td>\n",
              "      <td>7.71</td>\n",
              "      <td>0.71</td>\n",
              "    </tr>\n",
              "    <tr>\n",
              "      <th>3</th>\n",
              "      <td>166377</td>\n",
              "      <td>2019-08-05</td>\n",
              "      <td>0</td>\n",
              "      <td>False</td>\n",
              "      <td>880022</td>\n",
              "      <td>True</td>\n",
              "      <td>3</td>\n",
              "      <td>0</td>\n",
              "      <td>25</td>\n",
              "      <td>B</td>\n",
              "      <td>2019-08-01</td>\n",
              "      <td>8.0</td>\n",
              "      <td>0.0</td>\n",
              "      <td>0.0</td>\n",
              "      <td>14.00</td>\n",
              "      <td>1.07</td>\n",
              "    </tr>\n",
              "    <tr>\n",
              "      <th>4</th>\n",
              "      <td>166377</td>\n",
              "      <td>2019-08-05</td>\n",
              "      <td>0</td>\n",
              "      <td>False</td>\n",
              "      <td>880020</td>\n",
              "      <td>False</td>\n",
              "      <td>2</td>\n",
              "      <td>3</td>\n",
              "      <td>29</td>\n",
              "      <td>B</td>\n",
              "      <td>2019-08-01</td>\n",
              "      <td>7.0</td>\n",
              "      <td>0.0</td>\n",
              "      <td>0.0</td>\n",
              "      <td>7.71</td>\n",
              "      <td>0.71</td>\n",
              "    </tr>\n",
              "  </tbody>\n",
              "</table>\n",
              "</div>\n",
              "      <button class=\"colab-df-convert\" onclick=\"convertToInteractive('df-8b3cff82-a743-425e-bf6e-39a476c42cfd')\"\n",
              "              title=\"Convert this dataframe to an interactive table.\"\n",
              "              style=\"display:none;\">\n",
              "        \n",
              "  <svg xmlns=\"http://www.w3.org/2000/svg\" height=\"24px\"viewBox=\"0 0 24 24\"\n",
              "       width=\"24px\">\n",
              "    <path d=\"M0 0h24v24H0V0z\" fill=\"none\"/>\n",
              "    <path d=\"M18.56 5.44l.94 2.06.94-2.06 2.06-.94-2.06-.94-.94-2.06-.94 2.06-2.06.94zm-11 1L8.5 8.5l.94-2.06 2.06-.94-2.06-.94L8.5 2.5l-.94 2.06-2.06.94zm10 10l.94 2.06.94-2.06 2.06-.94-2.06-.94-.94-2.06-.94 2.06-2.06.94z\"/><path d=\"M17.41 7.96l-1.37-1.37c-.4-.4-.92-.59-1.43-.59-.52 0-1.04.2-1.43.59L10.3 9.45l-7.72 7.72c-.78.78-.78 2.05 0 2.83L4 21.41c.39.39.9.59 1.41.59.51 0 1.02-.2 1.41-.59l7.78-7.78 2.81-2.81c.8-.78.8-2.07 0-2.86zM5.41 20L4 18.59l7.72-7.72 1.47 1.35L5.41 20z\"/>\n",
              "  </svg>\n",
              "      </button>\n",
              "      \n",
              "  <style>\n",
              "    .colab-df-container {\n",
              "      display:flex;\n",
              "      flex-wrap:wrap;\n",
              "      gap: 12px;\n",
              "    }\n",
              "\n",
              "    .colab-df-convert {\n",
              "      background-color: #E8F0FE;\n",
              "      border: none;\n",
              "      border-radius: 50%;\n",
              "      cursor: pointer;\n",
              "      display: none;\n",
              "      fill: #1967D2;\n",
              "      height: 32px;\n",
              "      padding: 0 0 0 0;\n",
              "      width: 32px;\n",
              "    }\n",
              "\n",
              "    .colab-df-convert:hover {\n",
              "      background-color: #E2EBFA;\n",
              "      box-shadow: 0px 1px 2px rgba(60, 64, 67, 0.3), 0px 1px 3px 1px rgba(60, 64, 67, 0.15);\n",
              "      fill: #174EA6;\n",
              "    }\n",
              "\n",
              "    [theme=dark] .colab-df-convert {\n",
              "      background-color: #3B4455;\n",
              "      fill: #D2E3FC;\n",
              "    }\n",
              "\n",
              "    [theme=dark] .colab-df-convert:hover {\n",
              "      background-color: #434B5C;\n",
              "      box-shadow: 0px 1px 3px 1px rgba(0, 0, 0, 0.15);\n",
              "      filter: drop-shadow(0px 1px 2px rgba(0, 0, 0, 0.3));\n",
              "      fill: #FFFFFF;\n",
              "    }\n",
              "  </style>\n",
              "\n",
              "      <script>\n",
              "        const buttonEl =\n",
              "          document.querySelector('#df-8b3cff82-a743-425e-bf6e-39a476c42cfd button.colab-df-convert');\n",
              "        buttonEl.style.display =\n",
              "          google.colab.kernel.accessAllowed ? 'block' : 'none';\n",
              "\n",
              "        async function convertToInteractive(key) {\n",
              "          const element = document.querySelector('#df-8b3cff82-a743-425e-bf6e-39a476c42cfd');\n",
              "          const dataTable =\n",
              "            await google.colab.kernel.invokeFunction('convertToInteractive',\n",
              "                                                     [key], {});\n",
              "          if (!dataTable) return;\n",
              "\n",
              "          const docLinkHtml = 'Like what you see? Visit the ' +\n",
              "            '<a target=\"_blank\" href=https://colab.research.google.com/notebooks/data_table.ipynb>data table notebook</a>'\n",
              "            + ' to learn more about interactive tables.';\n",
              "          element.innerHTML = '';\n",
              "          dataTable['output_type'] = 'display_data';\n",
              "          await google.colab.output.renderOutput(dataTable, element);\n",
              "          const docLink = document.createElement('div');\n",
              "          docLink.innerHTML = docLinkHtml;\n",
              "          element.appendChild(docLink);\n",
              "        }\n",
              "      </script>\n",
              "    </div>\n",
              "  </div>\n",
              "  "
            ]
          },
          "metadata": {},
          "execution_count": 73
        }
      ],
      "source": [
        "tel = tel.merge(avg_aht, on=[\"operator_id\"], how='left')\n",
        "tel.head()"
      ]
    },
    {
      "cell_type": "markdown",
      "metadata": {
        "id": "okZn-5yd0N-a"
      },
      "source": [
        " ## Определить неэффективных операторов "
      ]
    },
    {
      "cell_type": "markdown",
      "metadata": {
        "id": "oTEzDwVG1dwL"
      },
      "source": [
        "Мы выявили неэффективных операторов по 3 признакам, один у нас остался на будущее, решим нужен ли он клиентам после опроса. \n",
        "\n",
        "Чтобы знать к кому из клиентов в первую очередь обращаться с новой функциональностью, выявим у кого из клиентов больше всего неэффективных операторов.\n",
        "\n",
        "Сделаем скоринговую систему. Будем начислять оператору по 1 баллу, если он попадает в принятые выше критерии"
      ]
    },
    {
      "cell_type": "code",
      "execution_count": null,
      "metadata": {
        "id": "6RGWwjgGzh62"
      },
      "outputs": [],
      "source": [
        "tel['scoring'] = 0"
      ]
    },
    {
      "cell_type": "markdown",
      "metadata": {
        "id": "pfpl-aPgthQr"
      },
      "source": [
        "Начислим 1 балл тем операторам, которые пропускают более 5% входящих звонков"
      ]
    },
    {
      "cell_type": "code",
      "execution_count": null,
      "metadata": {
        "id": "CUzcZcP7sCkf"
      },
      "outputs": [],
      "source": [
        "tel.loc[(tel.percent_missed > 5), 'scoring'] = 1"
      ]
    },
    {
      "cell_type": "markdown",
      "metadata": {
        "id": "aFSStUs7tqHn"
      },
      "source": [
        "Начислим 1 балл операторам, у которых среднее время ожидания на входящей линии составляет более 20 секунд"
      ]
    },
    {
      "cell_type": "code",
      "execution_count": null,
      "metadata": {
        "id": "lVC8hYt8sa1C"
      },
      "outputs": [],
      "source": [
        "tel.loc[(tel.wait_time > 20), 'scoring'] = tel.scoring + 1"
      ]
    },
    {
      "cell_type": "markdown",
      "metadata": {
        "id": "-mRYrwigt0pu"
      },
      "source": [
        "Начислим 1 балл операторам, у которых среднее время разговора с клиентами на входящей линии составляет более 5 минут"
      ]
    },
    {
      "cell_type": "code",
      "execution_count": null,
      "metadata": {
        "id": "xh-yVb0mssjh"
      },
      "outputs": [],
      "source": [
        "tel.loc[(tel.aht > 5), 'scoring'] = tel.scoring + 1"
      ]
    },
    {
      "cell_type": "markdown",
      "metadata": {
        "id": "a5kbKrRgshOc"
      },
      "source": [
        "Посмотрим сколько операторов у нас получили баллы за неэффективность по нескольким или одному критерию."
      ]
    },
    {
      "cell_type": "code",
      "execution_count": null,
      "metadata": {
        "colab": {
          "base_uri": "https://localhost:8080/"
        },
        "id": "6cRRtQW8sPZP",
        "outputId": "59f98cf4-c702-49de-a494-5c657c4253b8"
      },
      "outputs": [
        {
          "output_type": "execute_result",
          "data": {
            "text/plain": [
              "0    31260\n",
              "1     9260\n",
              "2     1026\n",
              "Name: scoring, dtype: int64"
            ]
          },
          "metadata": {},
          "execution_count": 78
        }
      ],
      "source": [
        "tel['scoring'].value_counts()"
      ]
    },
    {
      "cell_type": "code",
      "execution_count": null,
      "metadata": {
        "colab": {
          "base_uri": "https://localhost:8080/",
          "height": 283
        },
        "id": "5HzrBwIWwWEA",
        "outputId": "25a65393-6ec8-4e61-d347-3644b18bbd5e"
      },
      "outputs": [
        {
          "output_type": "execute_result",
          "data": {
            "text/plain": [
              "<matplotlib.axes._subplots.AxesSubplot at 0x7efcd90d1150>"
            ]
          },
          "metadata": {},
          "execution_count": 79
        },
        {
          "output_type": "display_data",
          "data": {
            "text/plain": [
              "<Figure size 432x288 with 1 Axes>"
            ],
            "image/png": "[encoded data removed]"
          },
          "metadata": {
            "needs_background": "light"
          }
        }
      ],
      "source": [
        "tel['scoring'].hist()"
      ]
    },
    {
      "cell_type": "markdown",
      "metadata": {
        "id": "ldYhjdRZsrTW"
      },
      "source": [
        "Три балла не получил никто, есть операторы, у которых два балла и один. Выведем список с  ними."
      ]
    },
    {
      "cell_type": "code",
      "execution_count": null,
      "metadata": {
        "colab": {
          "base_uri": "https://localhost:8080/"
        },
        "id": "yrsq0RHzuOfh",
        "outputId": "495c665e-fd9a-4ee0-b2ed-e5a2d0a62f01"
      },
      "outputs": [
        {
          "output_type": "execute_result",
          "data": {
            "text/plain": [
              "array([888532, 888538, 934076, 884408, 897872, 888406, 894120, 896538,\n",
              "       900746, 899268, 899898, 911102, 911142, 905300, 926490, 920706,\n",
              "       924936, 937368, 944220, 944226, 944218, 944222, 944216, 934098,\n",
              "       958468, 958478, 948758])"
            ]
          },
          "metadata": {},
          "execution_count": 80
        }
      ],
      "source": [
        "oper_id_2 = tel.query('scoring == 2')['operator_id'].unique()\n",
        "oper_id_2"
      ]
    },
    {
      "cell_type": "code",
      "execution_count": null,
      "metadata": {
        "colab": {
          "base_uri": "https://localhost:8080/"
        },
        "id": "I39sIA2otGI0",
        "outputId": "31bfc8f0-6b31-432e-ad9c-39850dc1fb60"
      },
      "outputs": [
        {
          "output_type": "execute_result",
          "data": {
            "text/plain": [
              "27"
            ]
          },
          "metadata": {},
          "execution_count": 81
        }
      ],
      "source": [
        "len(oper_id_2)"
      ]
    },
    {
      "cell_type": "markdown",
      "metadata": {
        "id": "H2ttcvYntJw1"
      },
      "source": [
        "У нас 27 операторов, у которых 2 балла неэффективности."
      ]
    },
    {
      "cell_type": "code",
      "execution_count": null,
      "metadata": {
        "colab": {
          "base_uri": "https://localhost:8080/"
        },
        "id": "rd2cLPbPsaJr",
        "outputId": "f360a132-109e-4460-ecbc-b81f605e4e1e"
      },
      "outputs": [
        {
          "output_type": "execute_result",
          "data": {
            "text/plain": [
              "array([882476, 882478, 886892, 891900, 891906, 902510, 902532, 882688,\n",
              "       882690, 939478, 888534, 888536, 907440, 887276, 887282, 907174,\n",
              "       959312, 884412, 906680, 925106, 923254, 930510, 900194, 908834,\n",
              "       908960, 908958, 910958, 946468, 893420, 886146, 892798, 890406,\n",
              "       890412, 955436, 925808, 891744, 915614, 960296, 960294, 972412,\n",
              "       890226, 890228, 891646, 899082, 891254, 891918, 894232, 909624,\n",
              "       894224, 894230, 919994, 892530, 892538, 892536, 892532, 892534,\n",
              "       893172, 901350, 910226, 913886, 919896, 930242, 894614, 895140,\n",
              "       913474, 896536, 903512, 927070, 895776, 894656, 894662, 896018,\n",
              "       895786, 895782, 906396, 906398, 906392, 906394, 906402, 906404,\n",
              "       906400, 906408, 906410, 906406, 906412, 951332, 954750, 898560,\n",
              "       898558, 899892, 899900, 899906, 901894, 909134, 900492, 901498,\n",
              "       901492, 910516, 923528, 911140, 911152, 901038, 956484, 900792,\n",
              "       922356, 920982, 902910, 907224, 907178, 951650, 905564, 928092,\n",
              "       907502, 904200, 904204, 929228, 905842, 904344, 904372, 905472,\n",
              "       907504, 907994, 907952, 907970, 907982, 905478, 907964, 917680,\n",
              "       907618, 908300, 908152, 908130, 909392, 908162, 908098, 906070,\n",
              "       906076, 905862, 907974, 919554, 919552, 910018, 912684, 909768,\n",
              "       910540, 927142, 914440, 954290, 961552, 920902, 935956, 951290,\n",
              "       914168, 921102, 921104, 921814, 944644, 944648, 930660, 914426,\n",
              "       915958, 917252, 924948, 918958, 922114, 918956, 920930, 924928,\n",
              "       924956, 924940, 924960, 924950, 924952, 924946, 924954, 924934,\n",
              "       919790, 919792, 919794, 944210, 944228, 944246, 929340, 928382,\n",
              "       916618, 964510, 919214, 926872, 936382, 937366, 937374, 937362,\n",
              "       918888, 964712, 921306, 921320, 939708, 920874, 935958, 955164,\n",
              "       933832, 927912, 969272, 930020, 929884, 934430, 934428, 934432,\n",
              "       934424, 933986, 933996, 941844, 951506, 951492, 947612, 951508,\n",
              "       937432, 964518, 958460, 958432, 958456, 958434, 958470, 951118,\n",
              "       940458, 940508, 938414, 969288, 958640, 937962, 937750, 948284,\n",
              "       937898, 947816, 944474, 952292, 970244, 970254, 970252, 970240,\n",
              "       956080, 950972, 964666, 945046, 947304, 948756, 958416, 969380,\n",
              "       952678, 952462, 960698, 973286, 952916, 957922])"
            ]
          },
          "metadata": {},
          "execution_count": 82
        }
      ],
      "source": [
        "oper_id_1 = tel.query('scoring == 1')['operator_id'].unique()\n",
        "oper_id_1"
      ]
    },
    {
      "cell_type": "code",
      "execution_count": null,
      "metadata": {
        "colab": {
          "base_uri": "https://localhost:8080/"
        },
        "id": "Tk-2hQOotReW",
        "outputId": "6b399d91-93cd-4d67-daf0-6e0f74463843"
      },
      "outputs": [
        {
          "output_type": "execute_result",
          "data": {
            "text/plain": [
              "254"
            ]
          },
          "metadata": {},
          "execution_count": 83
        }
      ],
      "source": [
        "len(oper_id_1)"
      ]
    },
    {
      "cell_type": "markdown",
      "metadata": {
        "id": "51OjMu49tTX-"
      },
      "source": [
        "И 254 оператора, которые получили 1 балл неэффективности"
      ]
    },
    {
      "cell_type": "markdown",
      "metadata": {
        "id": "OWAA16FswiQM"
      },
      "source": [
        "Изучим к каким клиентам относятся эти операторы. У каких клиентов будет самый большой средний балл неэффективности операторов."
      ]
    },
    {
      "cell_type": "code",
      "execution_count": null,
      "metadata": {
        "colab": {
          "base_uri": "https://localhost:8080/",
          "height": 551
        },
        "id": "vV_9oHcnqhcP",
        "outputId": "a5f86156-c8cf-4a3e-e7e2-da8d1d64e832"
      },
      "outputs": [
        {
          "output_type": "execute_result",
          "data": {
            "text/plain": [
              "          scoring\n",
              "user_id          \n",
              "167162   2.000000\n",
              "168004   2.000000\n",
              "167977   2.000000\n",
              "166669   2.000000\n",
              "166619   2.000000\n",
              "166975   1.757576\n",
              "166946   1.276596\n",
              "167172   1.133333\n",
              "166879   1.095652\n",
              "166503   1.071429\n",
              "166407   1.051345\n",
              "168606   1.000000\n",
              "167646   1.000000\n",
              "167621   1.000000\n",
              "167792   1.000000"
            ],
            "text/html": [
              "\n",
              "  <div id=\"df-4508d99b-1ed5-454c-93a7-09ea439faa5e\">\n",
              "    <div class=\"colab-df-container\">\n",
              "      <div>\n",
              "<style scoped>\n",
              "    .dataframe tbody tr th:only-of-type {\n",
              "        vertical-align: middle;\n",
              "    }\n",
              "\n",
              "    .dataframe tbody tr th {\n",
              "        vertical-align: top;\n",
              "    }\n",
              "\n",
              "    .dataframe thead th {\n",
              "        text-align: right;\n",
              "    }\n",
              "</style>\n",
              "<table border=\"1\" class=\"dataframe\">\n",
              "  <thead>\n",
              "    <tr style=\"text-align: right;\">\n",
              "      <th></th>\n",
              "      <th>scoring</th>\n",
              "    </tr>\n",
              "    <tr>\n",
              "      <th>user_id</th>\n",
              "      <th></th>\n",
              "    </tr>\n",
              "  </thead>\n",
              "  <tbody>\n",
              "    <tr>\n",
              "      <th>167162</th>\n",
              "      <td>2.000000</td>\n",
              "    </tr>\n",
              "    <tr>\n",
              "      <th>168004</th>\n",
              "      <td>2.000000</td>\n",
              "    </tr>\n",
              "    <tr>\n",
              "      <th>167977</th>\n",
              "      <td>2.000000</td>\n",
              "    </tr>\n",
              "    <tr>\n",
              "      <th>166669</th>\n",
              "      <td>2.000000</td>\n",
              "    </tr>\n",
              "    <tr>\n",
              "      <th>166619</th>\n",
              "      <td>2.000000</td>\n",
              "    </tr>\n",
              "    <tr>\n",
              "      <th>166975</th>\n",
              "      <td>1.757576</td>\n",
              "    </tr>\n",
              "    <tr>\n",
              "      <th>166946</th>\n",
              "      <td>1.276596</td>\n",
              "    </tr>\n",
              "    <tr>\n",
              "      <th>167172</th>\n",
              "      <td>1.133333</td>\n",
              "    </tr>\n",
              "    <tr>\n",
              "      <th>166879</th>\n",
              "      <td>1.095652</td>\n",
              "    </tr>\n",
              "    <tr>\n",
              "      <th>166503</th>\n",
              "      <td>1.071429</td>\n",
              "    </tr>\n",
              "    <tr>\n",
              "      <th>166407</th>\n",
              "      <td>1.051345</td>\n",
              "    </tr>\n",
              "    <tr>\n",
              "      <th>168606</th>\n",
              "      <td>1.000000</td>\n",
              "    </tr>\n",
              "    <tr>\n",
              "      <th>167646</th>\n",
              "      <td>1.000000</td>\n",
              "    </tr>\n",
              "    <tr>\n",
              "      <th>167621</th>\n",
              "      <td>1.000000</td>\n",
              "    </tr>\n",
              "    <tr>\n",
              "      <th>167792</th>\n",
              "      <td>1.000000</td>\n",
              "    </tr>\n",
              "  </tbody>\n",
              "</table>\n",
              "</div>\n",
              "      <button class=\"colab-df-convert\" onclick=\"convertToInteractive('df-4508d99b-1ed5-454c-93a7-09ea439faa5e')\"\n",
              "              title=\"Convert this dataframe to an interactive table.\"\n",
              "              style=\"display:none;\">\n",
              "        \n",
              "  <svg xmlns=\"http://www.w3.org/2000/svg\" height=\"24px\"viewBox=\"0 0 24 24\"\n",
              "       width=\"24px\">\n",
              "    <path d=\"M0 0h24v24H0V0z\" fill=\"none\"/>\n",
              "    <path d=\"M18.56 5.44l.94 2.06.94-2.06 2.06-.94-2.06-.94-.94-2.06-.94 2.06-2.06.94zm-11 1L8.5 8.5l.94-2.06 2.06-.94-2.06-.94L8.5 2.5l-.94 2.06-2.06.94zm10 10l.94 2.06.94-2.06 2.06-.94-2.06-.94-.94-2.06-.94 2.06-2.06.94z\"/><path d=\"M17.41 7.96l-1.37-1.37c-.4-.4-.92-.59-1.43-.59-.52 0-1.04.2-1.43.59L10.3 9.45l-7.72 7.72c-.78.78-.78 2.05 0 2.83L4 21.41c.39.39.9.59 1.41.59.51 0 1.02-.2 1.41-.59l7.78-7.78 2.81-2.81c.8-.78.8-2.07 0-2.86zM5.41 20L4 18.59l7.72-7.72 1.47 1.35L5.41 20z\"/>\n",
              "  </svg>\n",
              "      </button>\n",
              "      \n",
              "  <style>\n",
              "    .colab-df-container {\n",
              "      display:flex;\n",
              "      flex-wrap:wrap;\n",
              "      gap: 12px;\n",
              "    }\n",
              "\n",
              "    .colab-df-convert {\n",
              "      background-color: #E8F0FE;\n",
              "      border: none;\n",
              "      border-radius: 50%;\n",
              "      cursor: pointer;\n",
              "      display: none;\n",
              "      fill: #1967D2;\n",
              "      height: 32px;\n",
              "      padding: 0 0 0 0;\n",
              "      width: 32px;\n",
              "    }\n",
              "\n",
              "    .colab-df-convert:hover {\n",
              "      background-color: #E2EBFA;\n",
              "      box-shadow: 0px 1px 2px rgba(60, 64, 67, 0.3), 0px 1px 3px 1px rgba(60, 64, 67, 0.15);\n",
              "      fill: #174EA6;\n",
              "    }\n",
              "\n",
              "    [theme=dark] .colab-df-convert {\n",
              "      background-color: #3B4455;\n",
              "      fill: #D2E3FC;\n",
              "    }\n",
              "\n",
              "    [theme=dark] .colab-df-convert:hover {\n",
              "      background-color: #434B5C;\n",
              "      box-shadow: 0px 1px 3px 1px rgba(0, 0, 0, 0.15);\n",
              "      filter: drop-shadow(0px 1px 2px rgba(0, 0, 0, 0.3));\n",
              "      fill: #FFFFFF;\n",
              "    }\n",
              "  </style>\n",
              "\n",
              "      <script>\n",
              "        const buttonEl =\n",
              "          document.querySelector('#df-4508d99b-1ed5-454c-93a7-09ea439faa5e button.colab-df-convert');\n",
              "        buttonEl.style.display =\n",
              "          google.colab.kernel.accessAllowed ? 'block' : 'none';\n",
              "\n",
              "        async function convertToInteractive(key) {\n",
              "          const element = document.querySelector('#df-4508d99b-1ed5-454c-93a7-09ea439faa5e');\n",
              "          const dataTable =\n",
              "            await google.colab.kernel.invokeFunction('convertToInteractive',\n",
              "                                                     [key], {});\n",
              "          if (!dataTable) return;\n",
              "\n",
              "          const docLinkHtml = 'Like what you see? Visit the ' +\n",
              "            '<a target=\"_blank\" href=https://colab.research.google.com/notebooks/data_table.ipynb>data table notebook</a>'\n",
              "            + ' to learn more about interactive tables.';\n",
              "          element.innerHTML = '';\n",
              "          dataTable['output_type'] = 'display_data';\n",
              "          await google.colab.output.renderOutput(dataTable, element);\n",
              "          const docLink = document.createElement('div');\n",
              "          docLink.innerHTML = docLinkHtml;\n",
              "          element.appendChild(docLink);\n",
              "        }\n",
              "      </script>\n",
              "    </div>\n",
              "  </div>\n",
              "  "
            ]
          },
          "metadata": {},
          "execution_count": 84
        }
      ],
      "source": [
        "user_scor = tel.groupby(['user_id']).agg({'scoring':'mean'})\n",
        "user_scor.sort_values(by = 'scoring', ascending = False).head(15)\n"
      ]
    },
    {
      "cell_type": "code",
      "execution_count": null,
      "metadata": {
        "colab": {
          "base_uri": "https://localhost:8080/",
          "height": 281
        },
        "id": "Sgf7gLRUvjqP",
        "outputId": "4a7e940a-a94c-4448-d7d6-a222d8e88972"
      },
      "outputs": [
        {
          "output_type": "display_data",
          "data": {
            "text/plain": [
              "<Figure size 432x288 with 1 Axes>"
            ],
            "image/png": "[encoded data removed]"
          },
          "metadata": {
            "needs_background": "light"
          }
        }
      ],
      "source": [
        "user_scor.hist();"
      ]
    },
    {
      "cell_type": "code",
      "execution_count": null,
      "metadata": {
        "colab": {
          "base_uri": "https://localhost:8080/"
        },
        "id": "jT7V8gOoGiTl",
        "outputId": "87688ffc-fbdd-40c9-e794-2151c956bce3"
      },
      "outputs": [
        {
          "output_type": "execute_result",
          "data": {
            "text/plain": [
              "scoring    11\n",
              "dtype: int64"
            ]
          },
          "metadata": {},
          "execution_count": 86
        }
      ],
      "source": [
        "user_scor[user_scor['scoring'] > 1].count()"
      ]
    },
    {
      "cell_type": "code",
      "execution_count": null,
      "metadata": {
        "colab": {
          "base_uri": "https://localhost:8080/"
        },
        "id": "3KaYRZ7hwzby",
        "outputId": "2788643f-a681-42a9-d8f6-939dcc0376f9"
      },
      "outputs": [
        {
          "output_type": "execute_result",
          "data": {
            "text/plain": [
              "scoring    35\n",
              "dtype: int64"
            ]
          },
          "metadata": {},
          "execution_count": 87
        }
      ],
      "source": [
        "user_scor[user_scor['scoring'] == 1].count()"
      ]
    },
    {
      "cell_type": "markdown",
      "metadata": {
        "id": "ALC7XroP16sH"
      },
      "source": [
        "В первую очередь с новой функциональностью нужно обращаться к тем клиентам, у которых средний балл эффективности операторов больше 1, таких клиентов 11. Затем к тем у кого scoring = 1, таких клиентов 35.  "
      ]
    },
    {
      "cell_type": "markdown",
      "metadata": {
        "id": "JnMP1T1dCbuS"
      },
      "source": [
        "## Проверим статистические гипотезы"
      ]
    },
    {
      "cell_type": "markdown",
      "metadata": {
        "id": "CBQgyRtnCR0M"
      },
      "source": [
        "### Одинаковое ли среднее ожидание ответа при входящих звонках у клиентов на разных тарифах\n",
        "\n",
        " "
      ]
    },
    {
      "cell_type": "markdown",
      "metadata": {
        "id": "eOh26EUhDSay"
      },
      "source": [
        "Сформулируем нулевую гипотезу: среднее ожидание ответа при входящих звонках у клиентов на тарифах А, В, С одинаково\n",
        "Альтернативная: гипотезу: среднее ожидание ответа при входящих звонках у клиентов на тарифах А, В, С разное"
      ]
    },
    {
      "cell_type": "markdown",
      "metadata": {
        "id": "thnelFa4ClIv"
      },
      "source": [
        " - сделаем срез по входящим, не пропущенным звонкам, сгруппируем его по тарифам клиента \n",
        "  - выберем колонку с ожиданием и передадим ее данные по разным тарифам в ttest_ind\n",
        "  - проверим стат гипотезу о равенстве среднего"
      ]
    },
    {
      "cell_type": "code",
      "execution_count": null,
      "metadata": {
        "id": "_aiyIYBiFTds"
      },
      "outputs": [],
      "source": [
        "in_call = tel.query('direction == 1 and is_missed_call == False')"
      ]
    },
    {
      "cell_type": "markdown",
      "metadata": {
        "id": "vslFsgIaILaI"
      },
      "source": [
        "Выберем время ожидания для тарифа А, В, С"
      ]
    },
    {
      "cell_type": "code",
      "execution_count": null,
      "metadata": {
        "colab": {
          "base_uri": "https://localhost:8080/"
        },
        "id": "V6ZJFrzoqPr-",
        "outputId": "89642adf-987c-49a7-db55-45fcc409f510"
      },
      "outputs": [
        {
          "output_type": "execute_result",
          "data": {
            "text/plain": [
              "1754    26.44\n",
              "1756    26.44\n",
              "1763    28.24\n",
              "1770    28.24\n",
              "1772    28.24\n",
              "Name: wait_time, dtype: float64"
            ]
          },
          "metadata": {},
          "execution_count": 89
        }
      ],
      "source": [
        "tariff_A = in_call.query('tariff_plan == \"A\"')['wait_time']\n",
        "tariff_A.head()"
      ]
    },
    {
      "cell_type": "code",
      "execution_count": null,
      "metadata": {
        "colab": {
          "base_uri": "https://localhost:8080/"
        },
        "id": "dcl8yXYArTmC",
        "outputId": "e70c5c9a-928e-4c0e-f42a-1769f7dea5ac"
      },
      "outputs": [
        {
          "output_type": "execute_result",
          "data": {
            "text/plain": [
              "21    6.11\n",
              "26    6.11\n",
              "29    5.94\n",
              "30    6.11\n",
              "38    6.11\n",
              "Name: wait_time, dtype: float64"
            ]
          },
          "metadata": {},
          "execution_count": 90
        }
      ],
      "source": [
        "tariff_B = in_call.query('tariff_plan == \"B\"')['wait_time']\n",
        "tariff_B.head()"
      ]
    },
    {
      "cell_type": "code",
      "execution_count": null,
      "metadata": {
        "colab": {
          "base_uri": "https://localhost:8080/"
        },
        "id": "gVTeVX32rfft",
        "outputId": "a3311d4f-6f79-4126-cefe-492daa29a895"
      },
      "outputs": [
        {
          "output_type": "execute_result",
          "data": {
            "text/plain": [
              "482    31.67\n",
              "483    22.25\n",
              "484    22.25\n",
              "486    31.67\n",
              "487    31.67\n",
              "Name: wait_time, dtype: float64"
            ]
          },
          "metadata": {},
          "execution_count": 91
        }
      ],
      "source": [
        "tariff_C = in_call.query('tariff_plan == \"C\"')['wait_time']\n",
        "tariff_C.head()"
      ]
    },
    {
      "cell_type": "markdown",
      "metadata": {
        "id": "MuWQuYkLtjx5"
      },
      "source": [
        "Так как мы будем проводить множественное сравнение, то внесем поправку Бонферрони. Разделим стандартное alpha = 0,05 на 3 (число проверок) "
      ]
    },
    {
      "cell_type": "code",
      "execution_count": null,
      "metadata": {
        "colab": {
          "base_uri": "https://localhost:8080/"
        },
        "id": "jSfrXqP_sKuO",
        "outputId": "a5027d78-9c39-405a-c2d5-8753349034b6"
      },
      "outputs": [
        {
          "output_type": "stream",
          "name": "stdout",
          "text": [
            "p-значение:  4.1435642238801275e-39\n",
            "Отвергаем нулевую гипотезу\n"
          ]
        }
      ],
      "source": [
        "alpha = 0.017 \n",
        "\n",
        "results = st.ttest_ind( tariff_A, tariff_B, equal_var=False)\n",
        "\n",
        "print('p-значение: ', results.pvalue)\n",
        "\n",
        "if results.pvalue < alpha:\n",
        "    print(\"Отвергаем нулевую гипотезу\")\n",
        "else:\n",
        "    print(\"Не получилось отвергнуть нулевую гипотезу\")"
      ]
    },
    {
      "cell_type": "code",
      "execution_count": null,
      "metadata": {
        "colab": {
          "base_uri": "https://localhost:8080/"
        },
        "id": "o4tAvQvWsg_9",
        "outputId": "43e96285-9871-4583-9672-a86ae4b0d8da"
      },
      "outputs": [
        {
          "output_type": "stream",
          "name": "stdout",
          "text": [
            "p-значение:  0.04037644542155919\n",
            "Не получилось отвергнуть нулевую гипотезу\n"
          ]
        }
      ],
      "source": [
        "alpha = 0.017\n",
        "\n",
        "results = st.ttest_ind( tariff_A, tariff_C, equal_var=False)\n",
        "\n",
        "print('p-значение: ', results.pvalue)\n",
        "\n",
        "if results.pvalue < alpha:\n",
        "    print(\"Отвергаем нулевую гипотезу\")\n",
        "else:\n",
        "    print(\"Не получилось отвергнуть нулевую гипотезу\")"
      ]
    },
    {
      "cell_type": "code",
      "execution_count": null,
      "metadata": {
        "colab": {
          "base_uri": "https://localhost:8080/"
        },
        "id": "8S2IyG0Zsw8-",
        "outputId": "37f76562-43f9-43ed-9c56-ed3edb07ab14"
      },
      "outputs": [
        {
          "output_type": "stream",
          "name": "stdout",
          "text": [
            "p-значение:  1.5676995652092462e-40\n",
            "Отвергаем нулевую гипотезу\n"
          ]
        }
      ],
      "source": [
        "alpha =  0.017 \n",
        "\n",
        "results = st.ttest_ind( tariff_B, tariff_C, equal_var=False)\n",
        "\n",
        "print('p-значение: ', results.pvalue)\n",
        "\n",
        "if results.pvalue < alpha:\n",
        "    print(\"Отвергаем нулевую гипотезу\")\n",
        "else:\n",
        "    print(\"Не получилось отвергнуть нулевую гипотезу\")"
      ]
    },
    {
      "cell_type": "markdown",
      "metadata": {
        "id": "hM_mRuv7_v-W"
      },
      "source": [
        "При сравнении тарифа А и С не получилось отвергнуть нулевую гипотезу, т.е.  среднее ожидание ответа при входящих звонках у клиентов на тарифах А, С не имеет статистической разницы. \n",
        "При сравнении тарифов А и В, В и С нулевая гипотеза была отвергнута различия в среднем времени ожидания при входящих звонках между группами есть."
      ]
    },
    {
      "cell_type": "markdown",
      "metadata": {
        "id": "dVS42YDRCr5H"
      },
      "source": [
        "### Одинаковый ли процент пропущенных вызовов у клиентов на разных тарифах\n",
        "\n"
      ]
    },
    {
      "cell_type": "markdown",
      "metadata": {
        "id": "-fpBFVwDsns3"
      },
      "source": [
        "Сделаем срез по входящим вызовам"
      ]
    },
    {
      "cell_type": "code",
      "execution_count": null,
      "metadata": {
        "id": "mw6-zK7Qv-n8"
      },
      "outputs": [],
      "source": [
        "user_in = tel.query('direction == 1')"
      ]
    },
    {
      "cell_type": "markdown",
      "metadata": {
        "id": "CqU1oH_usns3"
      },
      "source": [
        "Сделаем сводную таблицу по разным тарифам"
      ]
    },
    {
      "cell_type": "code",
      "execution_count": null,
      "metadata": {
        "colab": {
          "base_uri": "https://localhost:8080/",
          "height": 143
        },
        "id": "VG5XD4J5sns3",
        "outputId": "dc276c1c-c68e-4122-d9ef-b495a3915a17"
      },
      "outputs": [
        {
          "output_type": "execute_result",
          "data": {
            "text/plain": [
              "  tariff_plan   missed   received\n",
              "0           A  17362.0  1339976.0\n",
              "1           B  16086.0  1525129.0\n",
              "2           C  10013.0  1837859.0"
            ],
            "text/html": [
              "\n",
              "  <div id=\"df-30099ab6-11a3-4b5d-8a2d-af02048d976d\">\n",
              "    <div class=\"colab-df-container\">\n",
              "      <div>\n",
              "<style scoped>\n",
              "    .dataframe tbody tr th:only-of-type {\n",
              "        vertical-align: middle;\n",
              "    }\n",
              "\n",
              "    .dataframe tbody tr th {\n",
              "        vertical-align: top;\n",
              "    }\n",
              "\n",
              "    .dataframe thead th {\n",
              "        text-align: right;\n",
              "    }\n",
              "</style>\n",
              "<table border=\"1\" class=\"dataframe\">\n",
              "  <thead>\n",
              "    <tr style=\"text-align: right;\">\n",
              "      <th></th>\n",
              "      <th>tariff_plan</th>\n",
              "      <th>missed</th>\n",
              "      <th>received</th>\n",
              "    </tr>\n",
              "  </thead>\n",
              "  <tbody>\n",
              "    <tr>\n",
              "      <th>0</th>\n",
              "      <td>A</td>\n",
              "      <td>17362.0</td>\n",
              "      <td>1339976.0</td>\n",
              "    </tr>\n",
              "    <tr>\n",
              "      <th>1</th>\n",
              "      <td>B</td>\n",
              "      <td>16086.0</td>\n",
              "      <td>1525129.0</td>\n",
              "    </tr>\n",
              "    <tr>\n",
              "      <th>2</th>\n",
              "      <td>C</td>\n",
              "      <td>10013.0</td>\n",
              "      <td>1837859.0</td>\n",
              "    </tr>\n",
              "  </tbody>\n",
              "</table>\n",
              "</div>\n",
              "      <button class=\"colab-df-convert\" onclick=\"convertToInteractive('df-30099ab6-11a3-4b5d-8a2d-af02048d976d')\"\n",
              "              title=\"Convert this dataframe to an interactive table.\"\n",
              "              style=\"display:none;\">\n",
              "        \n",
              "  <svg xmlns=\"http://www.w3.org/2000/svg\" height=\"24px\"viewBox=\"0 0 24 24\"\n",
              "       width=\"24px\">\n",
              "    <path d=\"M0 0h24v24H0V0z\" fill=\"none\"/>\n",
              "    <path d=\"M18.56 5.44l.94 2.06.94-2.06 2.06-.94-2.06-.94-.94-2.06-.94 2.06-2.06.94zm-11 1L8.5 8.5l.94-2.06 2.06-.94-2.06-.94L8.5 2.5l-.94 2.06-2.06.94zm10 10l.94 2.06.94-2.06 2.06-.94-2.06-.94-.94-2.06-.94 2.06-2.06.94z\"/><path d=\"M17.41 7.96l-1.37-1.37c-.4-.4-.92-.59-1.43-.59-.52 0-1.04.2-1.43.59L10.3 9.45l-7.72 7.72c-.78.78-.78 2.05 0 2.83L4 21.41c.39.39.9.59 1.41.59.51 0 1.02-.2 1.41-.59l7.78-7.78 2.81-2.81c.8-.78.8-2.07 0-2.86zM5.41 20L4 18.59l7.72-7.72 1.47 1.35L5.41 20z\"/>\n",
              "  </svg>\n",
              "      </button>\n",
              "      \n",
              "  <style>\n",
              "    .colab-df-container {\n",
              "      display:flex;\n",
              "      flex-wrap:wrap;\n",
              "      gap: 12px;\n",
              "    }\n",
              "\n",
              "    .colab-df-convert {\n",
              "      background-color: #E8F0FE;\n",
              "      border: none;\n",
              "      border-radius: 50%;\n",
              "      cursor: pointer;\n",
              "      display: none;\n",
              "      fill: #1967D2;\n",
              "      height: 32px;\n",
              "      padding: 0 0 0 0;\n",
              "      width: 32px;\n",
              "    }\n",
              "\n",
              "    .colab-df-convert:hover {\n",
              "      background-color: #E2EBFA;\n",
              "      box-shadow: 0px 1px 2px rgba(60, 64, 67, 0.3), 0px 1px 3px 1px rgba(60, 64, 67, 0.15);\n",
              "      fill: #174EA6;\n",
              "    }\n",
              "\n",
              "    [theme=dark] .colab-df-convert {\n",
              "      background-color: #3B4455;\n",
              "      fill: #D2E3FC;\n",
              "    }\n",
              "\n",
              "    [theme=dark] .colab-df-convert:hover {\n",
              "      background-color: #434B5C;\n",
              "      box-shadow: 0px 1px 3px 1px rgba(0, 0, 0, 0.15);\n",
              "      filter: drop-shadow(0px 1px 2px rgba(0, 0, 0, 0.3));\n",
              "      fill: #FFFFFF;\n",
              "    }\n",
              "  </style>\n",
              "\n",
              "      <script>\n",
              "        const buttonEl =\n",
              "          document.querySelector('#df-30099ab6-11a3-4b5d-8a2d-af02048d976d button.colab-df-convert');\n",
              "        buttonEl.style.display =\n",
              "          google.colab.kernel.accessAllowed ? 'block' : 'none';\n",
              "\n",
              "        async function convertToInteractive(key) {\n",
              "          const element = document.querySelector('#df-30099ab6-11a3-4b5d-8a2d-af02048d976d');\n",
              "          const dataTable =\n",
              "            await google.colab.kernel.invokeFunction('convertToInteractive',\n",
              "                                                     [key], {});\n",
              "          if (!dataTable) return;\n",
              "\n",
              "          const docLinkHtml = 'Like what you see? Visit the ' +\n",
              "            '<a target=\"_blank\" href=https://colab.research.google.com/notebooks/data_table.ipynb>data table notebook</a>'\n",
              "            + ' to learn more about interactive tables.';\n",
              "          element.innerHTML = '';\n",
              "          dataTable['output_type'] = 'display_data';\n",
              "          await google.colab.output.renderOutput(dataTable, element);\n",
              "          const docLink = document.createElement('div');\n",
              "          docLink.innerHTML = docLinkHtml;\n",
              "          element.appendChild(docLink);\n",
              "        }\n",
              "      </script>\n",
              "    </div>\n",
              "  </div>\n",
              "  "
            ]
          },
          "metadata": {},
          "execution_count": 96
        }
      ],
      "source": [
        "user_in_tarif = user_in.pivot_table(index = 'tariff_plan',\n",
        "                                   values = ('received','missed'),\n",
        "                                   aggfunc = 'sum').reset_index()\n",
        "user_in_tarif\n",
        "\n",
        "#users_by_events.columns = ['event', '246', '247', '248']\n"
      ]
    },
    {
      "cell_type": "markdown",
      "metadata": {
        "id": "0cu5z5MhBGn2"
      },
      "source": [
        "Так как мы будем проводить множественное сравнение, то внесем поправку Бонферрони. Разделим стандартное alpha = 0,05 на 3 (число проверок) "
      ]
    },
    {
      "cell_type": "markdown",
      "metadata": {
        "id": "880k-N0Asns4"
      },
      "source": [
        "Напишем функцию для расчета p-value"
      ]
    },
    {
      "cell_type": "code",
      "execution_count": null,
      "metadata": {
        "id": "pAYomyw-sns5"
      },
      "outputs": [],
      "source": [
        "def ztest (successes_1, successes_2, trials_1, trials_2):\n",
        "    successes = np.array([successes_1, successes_2])\n",
        "    trials = np.array([trials_1, trials_2])\n",
        "    \n",
        "    # пропорция пропущенных в первой группе:\n",
        "    p1 = successes[0]/trials[0]\n",
        "\n",
        "  # пропорция пропущенных во второй группе:\n",
        "    p2 = successes[1]/trials[1]\n",
        "    \n",
        "    # пропорция пропущенных в комбинированном датасете:\n",
        "    p_combined = (successes[0] + successes[1]) / (trials[0] + trials[1])\n",
        "\n",
        "  # разница пропорций в датасетах\n",
        "    difference = p1 - p2 \n",
        "    \n",
        "    # считаем статистику в ст.отклонениях стандартного нормального распределения\n",
        "    z_value = difference / mth.sqrt(p_combined * (1 - p_combined) * (1/trials[0] + 1/trials[1]))\n",
        "    \n",
        "    # задаем стандартное нормальное распределение (среднее 0, ст.отклонение 1)\n",
        "    distr = st.norm(0, 1)  \n",
        "\n",
        "    p_value = (1 - distr.cdf(abs(z_value))) * 2\n",
        "    \n",
        "    return p_value  "
      ]
    },
    {
      "cell_type": "markdown",
      "metadata": {
        "id": "KOetdKvosns5"
      },
      "source": [
        "Напишем функцию, которая будет выводить результаты теста"
      ]
    },
    {
      "cell_type": "code",
      "execution_count": null,
      "metadata": {
        "id": "z5JV8_UZsns5"
      },
      "outputs": [],
      "source": [
        "def print_result (p_value):\n",
        "    \n",
        "    alpha = 0.017 # критический уровень статистической значимости\n",
        "\n",
        "    print('p-значение: ', p_value)\n",
        "\n",
        "    if p_value < alpha:\n",
        "        print('Отвергаем нулевую гипотезу: между процентами пропущенных вызовов на разных тарифах значимая разница')\n",
        "    else:\n",
        "        print('Не получилось отвергнуть нулевую гипотезу, нет оснований считать доли разными') "
      ]
    },
    {
      "cell_type": "code",
      "execution_count": null,
      "metadata": {
        "colab": {
          "base_uri": "https://localhost:8080/"
        },
        "id": "EqMV8cHQsns5",
        "outputId": "9641d8e0-b53c-45c1-b636-6bbf54abedaa"
      },
      "outputs": [
        {
          "output_type": "execute_result",
          "data": {
            "text/plain": [
              "(1357338.0, 17362.0)"
            ]
          },
          "metadata": {},
          "execution_count": 99
        }
      ],
      "source": [
        "trials_A = user_in_tarif.loc[0,'missed'] + user_in_tarif.loc[0,'received']\n",
        "successes_A = user_in_tarif.loc[0,'missed']\n",
        "trials_A, successes_A\n"
      ]
    },
    {
      "cell_type": "code",
      "execution_count": null,
      "metadata": {
        "colab": {
          "base_uri": "https://localhost:8080/"
        },
        "id": "Cyup__GGsns5",
        "outputId": "44beb622-70d4-478d-d777-bd37bf344b00"
      },
      "outputs": [
        {
          "output_type": "execute_result",
          "data": {
            "text/plain": [
              "(1541215.0, 16086.0)"
            ]
          },
          "metadata": {},
          "execution_count": 100
        }
      ],
      "source": [
        "trials_B = user_in_tarif.loc[1,'missed'] + user_in_tarif.loc[1,'received']\n",
        "successes_B = user_in_tarif.loc[1,'missed']\n",
        "trials_B, successes_B"
      ]
    },
    {
      "cell_type": "code",
      "execution_count": null,
      "metadata": {
        "colab": {
          "base_uri": "https://localhost:8080/"
        },
        "id": "iwweTYkdsns6",
        "outputId": "e0af195f-82bf-46a3-d93a-7e379d5f084d"
      },
      "outputs": [
        {
          "output_type": "execute_result",
          "data": {
            "text/plain": [
              "(1847872.0, 10013.0)"
            ]
          },
          "metadata": {},
          "execution_count": 101
        }
      ],
      "source": [
        "trials_C = user_in_tarif.loc[2,'missed'] + user_in_tarif.loc[2,'received']\n",
        "successes_C = user_in_tarif.loc[2,'missed']\n",
        "trials_C, successes_C"
      ]
    },
    {
      "cell_type": "markdown",
      "metadata": {
        "id": "oBUv6yTIsns6"
      },
      "source": [
        " Сформулируем нулевую гипотезу - процент пропущенных вызовов у клиентов на тарифах А и В одинаков."
      ]
    },
    {
      "cell_type": "code",
      "execution_count": null,
      "metadata": {
        "colab": {
          "base_uri": "https://localhost:8080/"
        },
        "id": "faS0r-Aasns6",
        "outputId": "4d546a1d-481d-41e1-fa49-27b8f11d31e1"
      },
      "outputs": [
        {
          "output_type": "stream",
          "name": "stdout",
          "text": [
            "p-значение:  0.0\n",
            "Отвергаем нулевую гипотезу: между процентами пропущенных вызовов на разных тарифах значимая разница\n"
          ]
        }
      ],
      "source": [
        "print_result(ztest(successes_A, successes_B, trials_A, trials_B))"
      ]
    },
    {
      "cell_type": "code",
      "execution_count": null,
      "metadata": {
        "colab": {
          "base_uri": "https://localhost:8080/"
        },
        "id": "ktrFy-VXsns6",
        "outputId": "ae704659-4c83-4ec9-fcfc-f8478f2d4b46"
      },
      "outputs": [
        {
          "output_type": "stream",
          "name": "stdout",
          "text": [
            "p-значение:  0.0\n",
            "Отвергаем нулевую гипотезу: между процентами пропущенных вызовов на разных тарифах значимая разница\n"
          ]
        }
      ],
      "source": [
        "print_result(ztest(successes_C, successes_B, trials_C, trials_B))"
      ]
    },
    {
      "cell_type": "code",
      "execution_count": null,
      "metadata": {
        "colab": {
          "base_uri": "https://localhost:8080/"
        },
        "id": "dgTBWvQdsns6",
        "outputId": "36c4e0c8-c065-4d30-d86f-86af00c69ed9"
      },
      "outputs": [
        {
          "output_type": "stream",
          "name": "stdout",
          "text": [
            "p-значение:  0.0\n",
            "Отвергаем нулевую гипотезу: между процентами пропущенных вызовов на разных тарифах значимая разница\n"
          ]
        }
      ],
      "source": [
        "print_result(ztest(successes_A, successes_C, trials_A, trials_C))"
      ]
    },
    {
      "cell_type": "code",
      "execution_count": null,
      "metadata": {
        "colab": {
          "base_uri": "https://localhost:8080/"
        },
        "id": "tcyCn1hjsns7",
        "outputId": "144f1ffe-6fda-4eed-ad0e-ee3dc9bf28c1"
      },
      "outputs": [
        {
          "output_type": "stream",
          "name": "stdout",
          "text": [
            "z_stat: 18.725, p_value: 0.000\n",
            "Отвергаем нулевую гипотезу\n"
          ]
        }
      ],
      "source": [
        "from statsmodels.stats.proportion import proportions_ztest\n",
        "import numpy as np\n",
        "\n",
        "\n",
        "alpha = 0.017\n",
        "\n",
        "sample_success_a, sample_size_a = (successes_A, trials_A)  \n",
        "sample_success_b, sample_size_b = (successes_B, trials_B)\n",
        "\n",
        "successes = np.array([sample_success_a, sample_success_b])\n",
        "samples = np.array([sample_size_a, sample_size_b])\n",
        "\n",
        "# note, no need for a Ho value here - it's derived from the other parameters\n",
        "stat, p_value = proportions_ztest(count=successes, nobs=samples,  alternative='two-sided')\n",
        "\n",
        "# report\n",
        "print('z_stat: %0.3f, p_value: %0.3f' % (stat, p_value))\n",
        "\n",
        "if p_value > alpha:\n",
        "   print ('Не получилось отвергнуть нулевую гипотезу, нет оснований считать доли разными')\n",
        "else:\n",
        "   print (\"Отвергаем нулевую гипотезу\")\n"
      ]
    },
    {
      "cell_type": "markdown",
      "metadata": {
        "id": "CARqOEbcCDSX"
      },
      "source": [
        "## Выводы и рекомендации"
      ]
    },
    {
      "cell_type": "markdown",
      "metadata": {
        "id": "M1Qhk2uiCXa2"
      },
      "source": [
        " Для выявления неэффективных операторов были использованы индустриальные стандарты по эффективности операторов кол центров:\n",
        " - процент пропущенных вызовов не более 5\n",
        " - среднее время ожидание ответа - 20 секунд\n",
        " - среднее количество обработанных исходящих звонков - 100 в день (не учитывался, т.к. таких операторов очень мало)\n",
        " - среднее время разговора - не более 5 минут\n",
        "\n",
        " В итоге мы получили список операторов и кол-центров к которым они относятся, которые неэффективны по какому-то критерию\n",
        "\n",
        "  27 операторов, у которых 2 балла неэффективности (2 критерия одновременно)\n",
        "\n",
        "  254 оператора, которые получили 1 балл неэффективности\n",
        "\n",
        "\n",
        "Выявили 11 клиентов у которых средний балл эффективности операторов больше 1. И 35 клиентов у которых средний балл эффективности операторов больше 1."
      ]
    },
    {
      "cell_type": "markdown",
      "metadata": {
        "id": "ksnSevT5G5TW"
      },
      "source": [
        "Предложения: обратится к этим клиентам (кол-центрам) с предложением отслеживать эфективность своих операторов в режиме реального времени, например, каждую неделю и по итогам сообщать операторам о результатах их работы и каких показателей от них ждут. Пообщрять самых эффективных, расставаться с теми, кто не хочет работать над своими показателями. "
      ]
    },
    {
      "cell_type": "code",
      "source": [
        ""
      ],
      "metadata": {
        "id": "xPcLy2lM2r-e"
      },
      "execution_count": null,
      "outputs": []
    }
  ],
  "metadata": {
    "ExecuteTimeLog": [
      {
        "duration": 6,
        "start_time": "2022-06-20T22:28:25.681Z"
      },
      {
        "duration": 1490,
        "start_time": "2022-06-20T22:28:25.689Z"
      },
      {
        "duration": 394,
        "start_time": "2022-06-20T22:28:27.181Z"
      },
      {
        "duration": 21,
        "start_time": "2022-06-20T22:28:27.577Z"
      },
      {
        "duration": 30,
        "start_time": "2022-06-20T22:28:27.600Z"
      },
      {
        "duration": 36,
        "start_time": "2022-06-20T22:28:27.632Z"
      },
      {
        "duration": 7,
        "start_time": "2022-06-20T22:28:27.670Z"
      },
      {
        "duration": 14,
        "start_time": "2022-06-20T22:28:27.679Z"
      },
      {
        "duration": 13,
        "start_time": "2022-06-20T22:28:27.696Z"
      },
      {
        "duration": 10,
        "start_time": "2022-06-20T22:28:27.712Z"
      },
      {
        "duration": 5,
        "start_time": "2022-06-20T22:28:27.743Z"
      },
      {
        "duration": 8,
        "start_time": "2022-06-20T22:28:27.750Z"
      },
      {
        "duration": 98,
        "start_time": "2022-06-20T22:28:27.759Z"
      },
      {
        "duration": 6,
        "start_time": "2022-06-20T22:28:27.859Z"
      },
      {
        "duration": 10,
        "start_time": "2022-06-20T22:28:27.866Z"
      },
      {
        "duration": 19,
        "start_time": "2022-06-20T22:28:27.877Z"
      },
      {
        "duration": 7,
        "start_time": "2022-06-20T22:28:27.898Z"
      },
      {
        "duration": 47,
        "start_time": "2022-06-20T22:28:27.907Z"
      },
      {
        "duration": 5,
        "start_time": "2022-06-20T22:28:27.956Z"
      },
      {
        "duration": 6,
        "start_time": "2022-06-20T22:28:27.962Z"
      },
      {
        "duration": 9,
        "start_time": "2022-06-20T22:28:27.970Z"
      },
      {
        "duration": 5,
        "start_time": "2022-06-20T22:28:27.981Z"
      },
      {
        "duration": 22,
        "start_time": "2022-06-20T22:28:27.987Z"
      },
      {
        "duration": 52,
        "start_time": "2022-06-20T22:28:28.011Z"
      },
      {
        "duration": 10,
        "start_time": "2022-06-20T22:28:28.066Z"
      },
      {
        "duration": 18,
        "start_time": "2022-06-20T22:28:28.087Z"
      },
      {
        "duration": 46,
        "start_time": "2022-06-20T22:28:28.107Z"
      },
      {
        "duration": 13,
        "start_time": "2022-06-20T22:28:28.158Z"
      },
      {
        "duration": 20,
        "start_time": "2022-06-20T22:28:28.174Z"
      },
      {
        "duration": 61,
        "start_time": "2022-06-20T22:28:28.196Z"
      },
      {
        "duration": 17,
        "start_time": "2022-06-20T22:28:28.259Z"
      },
      {
        "duration": 15,
        "start_time": "2022-06-20T22:28:28.278Z"
      },
      {
        "duration": 18,
        "start_time": "2022-06-20T22:28:28.295Z"
      },
      {
        "duration": 8,
        "start_time": "2022-06-20T22:28:28.343Z"
      },
      {
        "duration": 27,
        "start_time": "2022-06-20T22:28:28.354Z"
      },
      {
        "duration": 20,
        "start_time": "2022-06-20T22:28:28.384Z"
      },
      {
        "duration": 7,
        "start_time": "2022-06-20T22:28:28.406Z"
      },
      {
        "duration": 7,
        "start_time": "2022-06-20T22:28:28.443Z"
      },
      {
        "duration": 293,
        "start_time": "2022-06-20T22:28:28.452Z"
      },
      {
        "duration": 9,
        "start_time": "2022-06-20T22:28:28.747Z"
      },
      {
        "duration": 21,
        "start_time": "2022-06-20T22:28:28.758Z"
      },
      {
        "duration": 20,
        "start_time": "2022-06-20T22:28:28.781Z"
      },
      {
        "duration": 49,
        "start_time": "2022-06-20T22:28:28.803Z"
      },
      {
        "duration": 11,
        "start_time": "2022-06-20T22:28:28.854Z"
      },
      {
        "duration": 4,
        "start_time": "2022-06-20T22:28:28.867Z"
      },
      {
        "duration": 275,
        "start_time": "2022-06-20T22:28:28.872Z"
      },
      {
        "duration": 0,
        "start_time": "2022-06-20T22:28:29.149Z"
      },
      {
        "duration": 0,
        "start_time": "2022-06-20T22:28:29.150Z"
      },
      {
        "duration": 0,
        "start_time": "2022-06-20T22:28:29.151Z"
      },
      {
        "duration": 0,
        "start_time": "2022-06-20T22:28:29.153Z"
      },
      {
        "duration": 0,
        "start_time": "2022-06-20T22:28:29.154Z"
      },
      {
        "duration": 0,
        "start_time": "2022-06-20T22:28:29.155Z"
      },
      {
        "duration": 0,
        "start_time": "2022-06-20T22:28:29.156Z"
      },
      {
        "duration": 0,
        "start_time": "2022-06-20T22:28:29.157Z"
      },
      {
        "duration": 0,
        "start_time": "2022-06-20T22:28:29.159Z"
      },
      {
        "duration": 0,
        "start_time": "2022-06-20T22:28:29.159Z"
      },
      {
        "duration": 0,
        "start_time": "2022-06-20T22:28:29.160Z"
      },
      {
        "duration": 0,
        "start_time": "2022-06-20T22:28:29.161Z"
      },
      {
        "duration": 0,
        "start_time": "2022-06-20T22:28:29.162Z"
      },
      {
        "duration": 0,
        "start_time": "2022-06-20T22:28:29.163Z"
      },
      {
        "duration": 0,
        "start_time": "2022-06-20T22:28:29.164Z"
      },
      {
        "duration": 0,
        "start_time": "2022-06-20T22:28:29.165Z"
      },
      {
        "duration": 0,
        "start_time": "2022-06-20T22:28:29.166Z"
      },
      {
        "duration": 0,
        "start_time": "2022-06-20T22:28:29.167Z"
      },
      {
        "duration": 0,
        "start_time": "2022-06-20T22:28:29.169Z"
      },
      {
        "duration": 0,
        "start_time": "2022-06-20T22:28:29.170Z"
      },
      {
        "duration": 0,
        "start_time": "2022-06-20T22:28:29.171Z"
      },
      {
        "duration": 1,
        "start_time": "2022-06-20T22:28:29.171Z"
      },
      {
        "duration": 0,
        "start_time": "2022-06-20T22:28:29.173Z"
      },
      {
        "duration": 0,
        "start_time": "2022-06-20T22:28:29.174Z"
      },
      {
        "duration": 0,
        "start_time": "2022-06-20T22:28:29.175Z"
      },
      {
        "duration": 0,
        "start_time": "2022-06-20T22:28:29.176Z"
      },
      {
        "duration": 0,
        "start_time": "2022-06-20T22:28:29.177Z"
      },
      {
        "duration": 0,
        "start_time": "2022-06-20T22:28:29.178Z"
      },
      {
        "duration": 0,
        "start_time": "2022-06-20T22:28:29.179Z"
      },
      {
        "duration": 0,
        "start_time": "2022-06-20T22:28:29.180Z"
      },
      {
        "duration": 0,
        "start_time": "2022-06-20T22:28:29.181Z"
      },
      {
        "duration": 0,
        "start_time": "2022-06-20T22:28:29.182Z"
      },
      {
        "duration": 0,
        "start_time": "2022-06-20T22:28:29.182Z"
      },
      {
        "duration": 0,
        "start_time": "2022-06-20T22:28:29.184Z"
      },
      {
        "duration": 0,
        "start_time": "2022-06-20T22:28:29.185Z"
      },
      {
        "duration": 0,
        "start_time": "2022-06-20T22:28:29.185Z"
      },
      {
        "duration": 0,
        "start_time": "2022-06-20T22:28:29.186Z"
      },
      {
        "duration": 0,
        "start_time": "2022-06-20T22:28:29.187Z"
      },
      {
        "duration": 0,
        "start_time": "2022-06-20T22:28:29.187Z"
      },
      {
        "duration": 0,
        "start_time": "2022-06-20T22:28:29.241Z"
      },
      {
        "duration": 0,
        "start_time": "2022-06-20T22:28:29.243Z"
      },
      {
        "duration": 0,
        "start_time": "2022-06-20T22:28:29.245Z"
      },
      {
        "duration": 0,
        "start_time": "2022-06-20T22:28:29.247Z"
      },
      {
        "duration": 0,
        "start_time": "2022-06-20T22:28:29.249Z"
      },
      {
        "duration": 0,
        "start_time": "2022-06-20T22:28:29.250Z"
      },
      {
        "duration": 0,
        "start_time": "2022-06-20T22:28:29.251Z"
      },
      {
        "duration": 0,
        "start_time": "2022-06-20T22:28:29.252Z"
      },
      {
        "duration": 0,
        "start_time": "2022-06-20T22:28:29.253Z"
      },
      {
        "duration": 0,
        "start_time": "2022-06-20T22:28:29.253Z"
      },
      {
        "duration": 0,
        "start_time": "2022-06-20T22:28:29.254Z"
      },
      {
        "duration": 0,
        "start_time": "2022-06-20T22:28:29.255Z"
      },
      {
        "duration": 0,
        "start_time": "2022-06-20T22:28:29.256Z"
      },
      {
        "duration": 0,
        "start_time": "2022-06-20T22:28:29.257Z"
      },
      {
        "duration": 0,
        "start_time": "2022-06-20T22:28:29.258Z"
      },
      {
        "duration": 0,
        "start_time": "2022-06-20T22:28:29.259Z"
      },
      {
        "duration": 0,
        "start_time": "2022-06-20T22:28:29.260Z"
      },
      {
        "duration": 10,
        "start_time": "2022-06-20T22:28:53.429Z"
      },
      {
        "duration": 9,
        "start_time": "2022-06-20T22:29:03.227Z"
      },
      {
        "duration": 3,
        "start_time": "2022-06-20T22:29:13.955Z"
      },
      {
        "duration": 1106,
        "start_time": "2022-06-20T22:29:13.961Z"
      },
      {
        "duration": 99,
        "start_time": "2022-06-20T22:29:15.069Z"
      },
      {
        "duration": 17,
        "start_time": "2022-06-20T22:29:15.169Z"
      },
      {
        "duration": 16,
        "start_time": "2022-06-20T22:29:15.187Z"
      },
      {
        "duration": 33,
        "start_time": "2022-06-20T22:29:15.205Z"
      },
      {
        "duration": 8,
        "start_time": "2022-06-20T22:29:15.239Z"
      },
      {
        "duration": 9,
        "start_time": "2022-06-20T22:29:15.249Z"
      },
      {
        "duration": 12,
        "start_time": "2022-06-20T22:29:15.260Z"
      },
      {
        "duration": 10,
        "start_time": "2022-06-20T22:29:15.274Z"
      },
      {
        "duration": 6,
        "start_time": "2022-06-20T22:29:15.285Z"
      },
      {
        "duration": 7,
        "start_time": "2022-06-20T22:29:15.292Z"
      },
      {
        "duration": 95,
        "start_time": "2022-06-20T22:29:15.300Z"
      },
      {
        "duration": 5,
        "start_time": "2022-06-20T22:29:15.397Z"
      },
      {
        "duration": 8,
        "start_time": "2022-06-20T22:29:15.406Z"
      },
      {
        "duration": 28,
        "start_time": "2022-06-20T22:29:15.416Z"
      },
      {
        "duration": 7,
        "start_time": "2022-06-20T22:29:15.446Z"
      },
      {
        "duration": 22,
        "start_time": "2022-06-20T22:29:15.455Z"
      },
      {
        "duration": 4,
        "start_time": "2022-06-20T22:29:15.479Z"
      },
      {
        "duration": 8,
        "start_time": "2022-06-20T22:29:15.484Z"
      },
      {
        "duration": 9,
        "start_time": "2022-06-20T22:29:15.494Z"
      },
      {
        "duration": 3,
        "start_time": "2022-06-20T22:29:15.505Z"
      },
      {
        "duration": 36,
        "start_time": "2022-06-20T22:29:15.509Z"
      },
      {
        "duration": 23,
        "start_time": "2022-06-20T22:29:15.547Z"
      },
      {
        "duration": 8,
        "start_time": "2022-06-20T22:29:15.572Z"
      },
      {
        "duration": 16,
        "start_time": "2022-06-20T22:29:15.581Z"
      },
      {
        "duration": 47,
        "start_time": "2022-06-20T22:29:15.599Z"
      },
      {
        "duration": 12,
        "start_time": "2022-06-20T22:29:15.647Z"
      },
      {
        "duration": 12,
        "start_time": "2022-06-20T22:29:15.661Z"
      },
      {
        "duration": 28,
        "start_time": "2022-06-20T22:29:15.674Z"
      },
      {
        "duration": 12,
        "start_time": "2022-06-20T22:29:15.704Z"
      },
      {
        "duration": 12,
        "start_time": "2022-06-20T22:29:15.743Z"
      },
      {
        "duration": 15,
        "start_time": "2022-06-20T22:29:15.757Z"
      },
      {
        "duration": 7,
        "start_time": "2022-06-20T22:29:15.773Z"
      },
      {
        "duration": 16,
        "start_time": "2022-06-20T22:29:15.781Z"
      },
      {
        "duration": 44,
        "start_time": "2022-06-20T22:29:15.799Z"
      },
      {
        "duration": 6,
        "start_time": "2022-06-20T22:29:15.845Z"
      },
      {
        "duration": 8,
        "start_time": "2022-06-20T22:29:15.852Z"
      },
      {
        "duration": 278,
        "start_time": "2022-06-20T22:29:15.862Z"
      },
      {
        "duration": 8,
        "start_time": "2022-06-20T22:29:16.141Z"
      },
      {
        "duration": 16,
        "start_time": "2022-06-20T22:29:16.151Z"
      },
      {
        "duration": 86,
        "start_time": "2022-06-20T22:29:16.171Z"
      },
      {
        "duration": 15,
        "start_time": "2022-06-20T22:29:16.259Z"
      },
      {
        "duration": 10,
        "start_time": "2022-06-20T22:29:16.276Z"
      },
      {
        "duration": 3,
        "start_time": "2022-06-20T22:29:16.288Z"
      },
      {
        "duration": 220,
        "start_time": "2022-06-20T22:29:16.293Z"
      },
      {
        "duration": 0,
        "start_time": "2022-06-20T22:29:16.514Z"
      },
      {
        "duration": 0,
        "start_time": "2022-06-20T22:29:16.516Z"
      },
      {
        "duration": 0,
        "start_time": "2022-06-20T22:29:16.517Z"
      },
      {
        "duration": 0,
        "start_time": "2022-06-20T22:29:16.518Z"
      },
      {
        "duration": 0,
        "start_time": "2022-06-20T22:29:16.519Z"
      },
      {
        "duration": 0,
        "start_time": "2022-06-20T22:29:16.520Z"
      },
      {
        "duration": 0,
        "start_time": "2022-06-20T22:29:16.521Z"
      },
      {
        "duration": 0,
        "start_time": "2022-06-20T22:29:16.522Z"
      },
      {
        "duration": 0,
        "start_time": "2022-06-20T22:29:16.523Z"
      },
      {
        "duration": 0,
        "start_time": "2022-06-20T22:29:16.542Z"
      },
      {
        "duration": 0,
        "start_time": "2022-06-20T22:29:16.543Z"
      },
      {
        "duration": 0,
        "start_time": "2022-06-20T22:29:16.544Z"
      },
      {
        "duration": 0,
        "start_time": "2022-06-20T22:29:16.545Z"
      },
      {
        "duration": 0,
        "start_time": "2022-06-20T22:29:16.546Z"
      },
      {
        "duration": 0,
        "start_time": "2022-06-20T22:29:16.547Z"
      },
      {
        "duration": 0,
        "start_time": "2022-06-20T22:29:16.548Z"
      },
      {
        "duration": 0,
        "start_time": "2022-06-20T22:29:16.549Z"
      },
      {
        "duration": 0,
        "start_time": "2022-06-20T22:29:16.550Z"
      },
      {
        "duration": 0,
        "start_time": "2022-06-20T22:29:16.551Z"
      },
      {
        "duration": 0,
        "start_time": "2022-06-20T22:29:16.552Z"
      },
      {
        "duration": 0,
        "start_time": "2022-06-20T22:29:16.553Z"
      },
      {
        "duration": 0,
        "start_time": "2022-06-20T22:29:16.554Z"
      },
      {
        "duration": 0,
        "start_time": "2022-06-20T22:29:16.554Z"
      },
      {
        "duration": 0,
        "start_time": "2022-06-20T22:29:16.556Z"
      },
      {
        "duration": 0,
        "start_time": "2022-06-20T22:29:16.557Z"
      },
      {
        "duration": 0,
        "start_time": "2022-06-20T22:29:16.557Z"
      },
      {
        "duration": 0,
        "start_time": "2022-06-20T22:29:16.558Z"
      },
      {
        "duration": 0,
        "start_time": "2022-06-20T22:29:16.559Z"
      },
      {
        "duration": 0,
        "start_time": "2022-06-20T22:29:16.560Z"
      },
      {
        "duration": 0,
        "start_time": "2022-06-20T22:29:16.561Z"
      },
      {
        "duration": 0,
        "start_time": "2022-06-20T22:29:16.562Z"
      },
      {
        "duration": 0,
        "start_time": "2022-06-20T22:29:16.563Z"
      },
      {
        "duration": 0,
        "start_time": "2022-06-20T22:29:16.564Z"
      },
      {
        "duration": 0,
        "start_time": "2022-06-20T22:29:16.565Z"
      },
      {
        "duration": 0,
        "start_time": "2022-06-20T22:29:16.566Z"
      },
      {
        "duration": 0,
        "start_time": "2022-06-20T22:29:16.566Z"
      },
      {
        "duration": 0,
        "start_time": "2022-06-20T22:29:16.567Z"
      },
      {
        "duration": 0,
        "start_time": "2022-06-20T22:29:16.568Z"
      },
      {
        "duration": 0,
        "start_time": "2022-06-20T22:29:16.569Z"
      },
      {
        "duration": 0,
        "start_time": "2022-06-20T22:29:16.570Z"
      },
      {
        "duration": 0,
        "start_time": "2022-06-20T22:29:16.571Z"
      },
      {
        "duration": 0,
        "start_time": "2022-06-20T22:29:16.572Z"
      },
      {
        "duration": 0,
        "start_time": "2022-06-20T22:29:16.573Z"
      },
      {
        "duration": 0,
        "start_time": "2022-06-20T22:29:16.574Z"
      },
      {
        "duration": 0,
        "start_time": "2022-06-20T22:29:16.575Z"
      },
      {
        "duration": 0,
        "start_time": "2022-06-20T22:29:16.575Z"
      },
      {
        "duration": 0,
        "start_time": "2022-06-20T22:29:16.577Z"
      },
      {
        "duration": 0,
        "start_time": "2022-06-20T22:29:16.577Z"
      },
      {
        "duration": 0,
        "start_time": "2022-06-20T22:29:16.578Z"
      },
      {
        "duration": 0,
        "start_time": "2022-06-20T22:29:16.579Z"
      },
      {
        "duration": 0,
        "start_time": "2022-06-20T22:29:16.642Z"
      },
      {
        "duration": 0,
        "start_time": "2022-06-20T22:29:16.643Z"
      },
      {
        "duration": 0,
        "start_time": "2022-06-20T22:29:16.644Z"
      },
      {
        "duration": 0,
        "start_time": "2022-06-20T22:29:16.645Z"
      },
      {
        "duration": 0,
        "start_time": "2022-06-20T22:29:16.646Z"
      },
      {
        "duration": 0,
        "start_time": "2022-06-20T22:29:16.647Z"
      },
      {
        "duration": 3,
        "start_time": "2022-06-20T22:30:21.257Z"
      },
      {
        "duration": 7,
        "start_time": "2022-06-20T22:30:21.262Z"
      },
      {
        "duration": 115,
        "start_time": "2022-06-20T22:30:21.270Z"
      },
      {
        "duration": 16,
        "start_time": "2022-06-20T22:30:21.388Z"
      },
      {
        "duration": 19,
        "start_time": "2022-06-20T22:30:21.406Z"
      },
      {
        "duration": 40,
        "start_time": "2022-06-20T22:30:21.427Z"
      },
      {
        "duration": 7,
        "start_time": "2022-06-20T22:30:21.469Z"
      },
      {
        "duration": 10,
        "start_time": "2022-06-20T22:30:21.478Z"
      },
      {
        "duration": 15,
        "start_time": "2022-06-20T22:30:21.490Z"
      },
      {
        "duration": 37,
        "start_time": "2022-06-20T22:30:21.509Z"
      },
      {
        "duration": 20,
        "start_time": "2022-06-20T22:30:21.547Z"
      },
      {
        "duration": 9,
        "start_time": "2022-06-20T22:30:21.569Z"
      },
      {
        "duration": 87,
        "start_time": "2022-06-20T22:30:21.579Z"
      },
      {
        "duration": 5,
        "start_time": "2022-06-20T22:30:21.668Z"
      },
      {
        "duration": 13,
        "start_time": "2022-06-20T22:30:21.675Z"
      },
      {
        "duration": 18,
        "start_time": "2022-06-20T22:30:21.690Z"
      },
      {
        "duration": 8,
        "start_time": "2022-06-20T22:30:21.710Z"
      },
      {
        "duration": 31,
        "start_time": "2022-06-20T22:30:21.720Z"
      },
      {
        "duration": 5,
        "start_time": "2022-06-20T22:30:21.753Z"
      },
      {
        "duration": 10,
        "start_time": "2022-06-20T22:30:21.759Z"
      },
      {
        "duration": 10,
        "start_time": "2022-06-20T22:30:21.771Z"
      },
      {
        "duration": 4,
        "start_time": "2022-06-20T22:30:21.783Z"
      },
      {
        "duration": 20,
        "start_time": "2022-06-20T22:30:21.789Z"
      },
      {
        "duration": 53,
        "start_time": "2022-06-20T22:30:21.811Z"
      },
      {
        "duration": 10,
        "start_time": "2022-06-20T22:30:21.866Z"
      },
      {
        "duration": 17,
        "start_time": "2022-06-20T22:30:21.877Z"
      },
      {
        "duration": 59,
        "start_time": "2022-06-20T22:30:21.896Z"
      },
      {
        "duration": 16,
        "start_time": "2022-06-20T22:30:21.959Z"
      },
      {
        "duration": 13,
        "start_time": "2022-06-20T22:30:21.977Z"
      },
      {
        "duration": 58,
        "start_time": "2022-06-20T22:30:21.992Z"
      },
      {
        "duration": 13,
        "start_time": "2022-06-20T22:30:22.052Z"
      },
      {
        "duration": 15,
        "start_time": "2022-06-20T22:30:22.067Z"
      },
      {
        "duration": 21,
        "start_time": "2022-06-20T22:30:22.084Z"
      },
      {
        "duration": 8,
        "start_time": "2022-06-20T22:30:22.107Z"
      },
      {
        "duration": 15,
        "start_time": "2022-06-20T22:30:22.141Z"
      },
      {
        "duration": 21,
        "start_time": "2022-06-20T22:30:22.158Z"
      },
      {
        "duration": 5,
        "start_time": "2022-06-20T22:30:22.181Z"
      },
      {
        "duration": 6,
        "start_time": "2022-06-20T22:30:22.187Z"
      },
      {
        "duration": 280,
        "start_time": "2022-06-20T22:30:22.194Z"
      },
      {
        "duration": 10,
        "start_time": "2022-06-20T22:30:22.476Z"
      },
      {
        "duration": 25,
        "start_time": "2022-06-20T22:30:22.487Z"
      },
      {
        "duration": 29,
        "start_time": "2022-06-20T22:30:22.514Z"
      },
      {
        "duration": 19,
        "start_time": "2022-06-20T22:30:22.546Z"
      },
      {
        "duration": 12,
        "start_time": "2022-06-20T22:30:22.567Z"
      },
      {
        "duration": 20,
        "start_time": "2022-06-20T22:30:22.581Z"
      },
      {
        "duration": 0,
        "start_time": "2022-06-20T22:30:22.603Z"
      },
      {
        "duration": 0,
        "start_time": "2022-06-20T22:30:22.604Z"
      },
      {
        "duration": 0,
        "start_time": "2022-06-20T22:30:22.642Z"
      },
      {
        "duration": 0,
        "start_time": "2022-06-20T22:30:22.643Z"
      },
      {
        "duration": 0,
        "start_time": "2022-06-20T22:30:22.644Z"
      },
      {
        "duration": 0,
        "start_time": "2022-06-20T22:30:22.645Z"
      },
      {
        "duration": 0,
        "start_time": "2022-06-20T22:30:22.647Z"
      },
      {
        "duration": 0,
        "start_time": "2022-06-20T22:30:22.648Z"
      },
      {
        "duration": 0,
        "start_time": "2022-06-20T22:30:22.650Z"
      },
      {
        "duration": 0,
        "start_time": "2022-06-20T22:30:22.651Z"
      },
      {
        "duration": 0,
        "start_time": "2022-06-20T22:30:22.652Z"
      },
      {
        "duration": 0,
        "start_time": "2022-06-20T22:30:22.654Z"
      },
      {
        "duration": 0,
        "start_time": "2022-06-20T22:30:22.655Z"
      },
      {
        "duration": 0,
        "start_time": "2022-06-20T22:30:22.656Z"
      },
      {
        "duration": 0,
        "start_time": "2022-06-20T22:30:22.657Z"
      },
      {
        "duration": 0,
        "start_time": "2022-06-20T22:30:22.658Z"
      },
      {
        "duration": 0,
        "start_time": "2022-06-20T22:30:22.659Z"
      },
      {
        "duration": 0,
        "start_time": "2022-06-20T22:30:22.660Z"
      },
      {
        "duration": 0,
        "start_time": "2022-06-20T22:30:22.661Z"
      },
      {
        "duration": 0,
        "start_time": "2022-06-20T22:30:22.663Z"
      },
      {
        "duration": 0,
        "start_time": "2022-06-20T22:30:22.663Z"
      },
      {
        "duration": 0,
        "start_time": "2022-06-20T22:30:22.664Z"
      },
      {
        "duration": 1,
        "start_time": "2022-06-20T22:30:22.665Z"
      },
      {
        "duration": 0,
        "start_time": "2022-06-20T22:30:22.667Z"
      },
      {
        "duration": 0,
        "start_time": "2022-06-20T22:30:22.668Z"
      },
      {
        "duration": 0,
        "start_time": "2022-06-20T22:30:22.669Z"
      },
      {
        "duration": 0,
        "start_time": "2022-06-20T22:30:22.670Z"
      },
      {
        "duration": 0,
        "start_time": "2022-06-20T22:30:22.671Z"
      },
      {
        "duration": 0,
        "start_time": "2022-06-20T22:30:22.672Z"
      },
      {
        "duration": 0,
        "start_time": "2022-06-20T22:30:22.673Z"
      },
      {
        "duration": 0,
        "start_time": "2022-06-20T22:30:22.674Z"
      },
      {
        "duration": 0,
        "start_time": "2022-06-20T22:30:22.675Z"
      },
      {
        "duration": 0,
        "start_time": "2022-06-20T22:30:22.676Z"
      },
      {
        "duration": 1,
        "start_time": "2022-06-20T22:30:22.677Z"
      },
      {
        "duration": 0,
        "start_time": "2022-06-20T22:30:22.678Z"
      },
      {
        "duration": 0,
        "start_time": "2022-06-20T22:30:22.680Z"
      },
      {
        "duration": 0,
        "start_time": "2022-06-20T22:30:22.742Z"
      },
      {
        "duration": 0,
        "start_time": "2022-06-20T22:30:22.743Z"
      },
      {
        "duration": 0,
        "start_time": "2022-06-20T22:30:22.745Z"
      },
      {
        "duration": 0,
        "start_time": "2022-06-20T22:30:22.746Z"
      },
      {
        "duration": 0,
        "start_time": "2022-06-20T22:30:22.747Z"
      },
      {
        "duration": 0,
        "start_time": "2022-06-20T22:30:22.748Z"
      },
      {
        "duration": 0,
        "start_time": "2022-06-20T22:30:22.749Z"
      },
      {
        "duration": 0,
        "start_time": "2022-06-20T22:30:22.750Z"
      },
      {
        "duration": 0,
        "start_time": "2022-06-20T22:30:22.751Z"
      },
      {
        "duration": 0,
        "start_time": "2022-06-20T22:30:22.752Z"
      },
      {
        "duration": 0,
        "start_time": "2022-06-20T22:30:22.753Z"
      },
      {
        "duration": 0,
        "start_time": "2022-06-20T22:30:22.754Z"
      },
      {
        "duration": 0,
        "start_time": "2022-06-20T22:30:22.755Z"
      },
      {
        "duration": 0,
        "start_time": "2022-06-20T22:30:22.756Z"
      },
      {
        "duration": 0,
        "start_time": "2022-06-20T22:30:22.757Z"
      },
      {
        "duration": 0,
        "start_time": "2022-06-20T22:30:22.758Z"
      },
      {
        "duration": 0,
        "start_time": "2022-06-20T22:30:22.759Z"
      },
      {
        "duration": 0,
        "start_time": "2022-06-20T22:30:22.761Z"
      },
      {
        "duration": 0,
        "start_time": "2022-06-20T22:30:22.762Z"
      },
      {
        "duration": 4,
        "start_time": "2022-06-20T22:32:38.071Z"
      },
      {
        "duration": 1085,
        "start_time": "2022-06-20T22:32:38.077Z"
      },
      {
        "duration": 96,
        "start_time": "2022-06-20T22:32:39.163Z"
      },
      {
        "duration": 16,
        "start_time": "2022-06-20T22:32:39.261Z"
      },
      {
        "duration": 16,
        "start_time": "2022-06-20T22:32:39.279Z"
      },
      {
        "duration": 32,
        "start_time": "2022-06-20T22:32:39.296Z"
      },
      {
        "duration": 12,
        "start_time": "2022-06-20T22:32:39.329Z"
      },
      {
        "duration": 7,
        "start_time": "2022-06-20T22:32:39.343Z"
      },
      {
        "duration": 13,
        "start_time": "2022-06-20T22:32:39.351Z"
      },
      {
        "duration": 8,
        "start_time": "2022-06-20T22:32:39.366Z"
      },
      {
        "duration": 8,
        "start_time": "2022-06-20T22:32:39.376Z"
      },
      {
        "duration": 6,
        "start_time": "2022-06-20T22:32:39.385Z"
      },
      {
        "duration": 95,
        "start_time": "2022-06-20T22:32:39.394Z"
      },
      {
        "duration": 5,
        "start_time": "2022-06-20T22:32:39.490Z"
      },
      {
        "duration": 8,
        "start_time": "2022-06-20T22:32:39.497Z"
      },
      {
        "duration": 16,
        "start_time": "2022-06-20T22:32:39.507Z"
      },
      {
        "duration": 24,
        "start_time": "2022-06-20T22:32:39.524Z"
      },
      {
        "duration": 24,
        "start_time": "2022-06-20T22:32:39.550Z"
      },
      {
        "duration": 5,
        "start_time": "2022-06-20T22:32:39.575Z"
      },
      {
        "duration": 6,
        "start_time": "2022-06-20T22:32:39.581Z"
      },
      {
        "duration": 11,
        "start_time": "2022-06-20T22:32:39.588Z"
      },
      {
        "duration": 4,
        "start_time": "2022-06-20T22:32:39.601Z"
      },
      {
        "duration": 39,
        "start_time": "2022-06-20T22:32:39.606Z"
      },
      {
        "duration": 21,
        "start_time": "2022-06-20T22:32:39.647Z"
      },
      {
        "duration": 7,
        "start_time": "2022-06-20T22:32:39.670Z"
      },
      {
        "duration": 16,
        "start_time": "2022-06-20T22:32:39.679Z"
      },
      {
        "duration": 46,
        "start_time": "2022-06-20T22:32:39.697Z"
      },
      {
        "duration": 12,
        "start_time": "2022-06-20T22:32:39.744Z"
      },
      {
        "duration": 12,
        "start_time": "2022-06-20T22:32:39.758Z"
      },
      {
        "duration": 29,
        "start_time": "2022-06-20T22:32:39.771Z"
      },
      {
        "duration": 11,
        "start_time": "2022-06-20T22:32:39.801Z"
      },
      {
        "duration": 39,
        "start_time": "2022-06-20T22:32:39.813Z"
      },
      {
        "duration": 15,
        "start_time": "2022-06-20T22:32:39.853Z"
      },
      {
        "duration": 7,
        "start_time": "2022-06-20T22:32:39.869Z"
      },
      {
        "duration": 18,
        "start_time": "2022-06-20T22:32:39.877Z"
      },
      {
        "duration": 12,
        "start_time": "2022-06-20T22:32:39.897Z"
      },
      {
        "duration": 5,
        "start_time": "2022-06-20T22:32:39.943Z"
      },
      {
        "duration": 8,
        "start_time": "2022-06-20T22:32:39.949Z"
      },
      {
        "duration": 241,
        "start_time": "2022-06-20T22:32:39.958Z"
      },
      {
        "duration": 9,
        "start_time": "2022-06-20T22:32:40.201Z"
      },
      {
        "duration": 31,
        "start_time": "2022-06-20T22:32:40.211Z"
      },
      {
        "duration": 15,
        "start_time": "2022-06-20T22:32:40.243Z"
      },
      {
        "duration": 16,
        "start_time": "2022-06-20T22:32:40.260Z"
      },
      {
        "duration": 11,
        "start_time": "2022-06-20T22:32:40.277Z"
      },
      {
        "duration": 121,
        "start_time": "2022-06-20T22:32:40.290Z"
      },
      {
        "duration": 13,
        "start_time": "2022-06-20T22:32:40.413Z"
      },
      {
        "duration": 27,
        "start_time": "2022-06-20T22:32:40.428Z"
      },
      {
        "duration": 14,
        "start_time": "2022-06-20T22:32:40.456Z"
      },
      {
        "duration": 26,
        "start_time": "2022-06-20T22:32:40.472Z"
      },
      {
        "duration": 11,
        "start_time": "2022-06-20T22:32:40.499Z"
      },
      {
        "duration": 237,
        "start_time": "2022-06-20T22:32:40.511Z"
      },
      {
        "duration": 6,
        "start_time": "2022-06-20T22:32:40.750Z"
      },
      {
        "duration": 13,
        "start_time": "2022-06-20T22:32:40.757Z"
      },
      {
        "duration": 28,
        "start_time": "2022-06-20T22:32:40.771Z"
      },
      {
        "duration": 14,
        "start_time": "2022-06-20T22:32:40.801Z"
      },
      {
        "duration": 28,
        "start_time": "2022-06-20T22:32:40.816Z"
      },
      {
        "duration": 239,
        "start_time": "2022-06-20T22:32:40.845Z"
      },
      {
        "duration": 10,
        "start_time": "2022-06-20T22:32:41.085Z"
      },
      {
        "duration": 45,
        "start_time": "2022-06-20T22:32:41.097Z"
      },
      {
        "duration": 38,
        "start_time": "2022-06-20T22:32:41.144Z"
      },
      {
        "duration": 5,
        "start_time": "2022-06-20T22:32:41.183Z"
      },
      {
        "duration": 7,
        "start_time": "2022-06-20T22:32:41.190Z"
      },
      {
        "duration": 15,
        "start_time": "2022-06-20T22:32:41.198Z"
      },
      {
        "duration": 201,
        "start_time": "2022-06-20T22:32:41.214Z"
      },
      {
        "duration": 9,
        "start_time": "2022-06-20T22:32:41.416Z"
      },
      {
        "duration": 21,
        "start_time": "2022-06-20T22:32:41.426Z"
      },
      {
        "duration": 16,
        "start_time": "2022-06-20T22:32:41.449Z"
      },
      {
        "duration": 12,
        "start_time": "2022-06-20T22:32:41.466Z"
      },
      {
        "duration": 256,
        "start_time": "2022-06-20T22:32:41.480Z"
      },
      {
        "duration": 9,
        "start_time": "2022-06-20T22:32:41.742Z"
      },
      {
        "duration": 28,
        "start_time": "2022-06-20T22:32:41.753Z"
      },
      {
        "duration": 4,
        "start_time": "2022-06-20T22:32:41.783Z"
      },
      {
        "duration": 8,
        "start_time": "2022-06-20T22:32:41.788Z"
      },
      {
        "duration": 11,
        "start_time": "2022-06-20T22:32:41.798Z"
      },
      {
        "duration": 31,
        "start_time": "2022-06-20T22:32:41.810Z"
      },
      {
        "duration": 6,
        "start_time": "2022-06-20T22:32:41.843Z"
      },
      {
        "duration": 157,
        "start_time": "2022-06-20T22:32:41.850Z"
      },
      {
        "duration": 14,
        "start_time": "2022-06-20T22:32:42.009Z"
      },
      {
        "duration": 19,
        "start_time": "2022-06-20T22:32:42.024Z"
      },
      {
        "duration": 9,
        "start_time": "2022-06-20T22:32:42.045Z"
      },
      {
        "duration": 5,
        "start_time": "2022-06-20T22:32:42.056Z"
      },
      {
        "duration": 13,
        "start_time": "2022-06-20T22:32:42.063Z"
      },
      {
        "duration": 175,
        "start_time": "2022-06-20T22:32:42.077Z"
      },
      {
        "duration": 7,
        "start_time": "2022-06-20T22:32:42.254Z"
      },
      {
        "duration": 8,
        "start_time": "2022-06-20T22:32:42.262Z"
      },
      {
        "duration": 7,
        "start_time": "2022-06-20T22:32:42.272Z"
      },
      {
        "duration": 8,
        "start_time": "2022-06-20T22:32:42.281Z"
      },
      {
        "duration": 8,
        "start_time": "2022-06-20T22:32:42.291Z"
      },
      {
        "duration": 41,
        "start_time": "2022-06-20T22:32:42.301Z"
      },
      {
        "duration": 5,
        "start_time": "2022-06-20T22:32:42.343Z"
      },
      {
        "duration": 9,
        "start_time": "2022-06-20T22:32:42.349Z"
      },
      {
        "duration": 5,
        "start_time": "2022-06-20T22:32:42.360Z"
      },
      {
        "duration": 10,
        "start_time": "2022-06-20T22:32:42.366Z"
      },
      {
        "duration": 10,
        "start_time": "2022-06-20T22:32:42.377Z"
      },
      {
        "duration": 9,
        "start_time": "2022-06-20T22:32:42.388Z"
      },
      {
        "duration": 8,
        "start_time": "2022-06-20T22:32:42.399Z"
      },
      {
        "duration": 39,
        "start_time": "2022-06-20T22:32:42.409Z"
      },
      {
        "duration": 11,
        "start_time": "2022-06-20T22:32:42.450Z"
      },
      {
        "duration": 14,
        "start_time": "2022-06-20T22:32:42.462Z"
      },
      {
        "duration": 68,
        "start_time": "2022-06-21T19:26:43.105Z"
      },
      {
        "duration": 60,
        "start_time": "2022-06-21T19:37:49.533Z"
      },
      {
        "duration": 80,
        "start_time": "2022-06-21T19:44:24.654Z"
      },
      {
        "duration": 42,
        "start_time": "2022-06-21T19:46:34.092Z"
      },
      {
        "duration": 3,
        "start_time": "2022-06-21T19:46:46.300Z"
      },
      {
        "duration": 1452,
        "start_time": "2022-06-21T19:46:46.305Z"
      },
      {
        "duration": 217,
        "start_time": "2022-06-21T19:46:47.759Z"
      },
      {
        "duration": 17,
        "start_time": "2022-06-21T19:46:47.978Z"
      },
      {
        "duration": 21,
        "start_time": "2022-06-21T19:46:47.997Z"
      },
      {
        "duration": 37,
        "start_time": "2022-06-21T19:46:48.020Z"
      },
      {
        "duration": 7,
        "start_time": "2022-06-21T19:46:48.059Z"
      },
      {
        "duration": 10,
        "start_time": "2022-06-21T19:46:48.067Z"
      },
      {
        "duration": 10,
        "start_time": "2022-06-21T19:46:48.079Z"
      },
      {
        "duration": 12,
        "start_time": "2022-06-21T19:46:48.090Z"
      },
      {
        "duration": 23,
        "start_time": "2022-06-21T19:46:48.104Z"
      },
      {
        "duration": 5,
        "start_time": "2022-06-21T19:46:48.130Z"
      },
      {
        "duration": 92,
        "start_time": "2022-06-21T19:46:48.137Z"
      },
      {
        "duration": 6,
        "start_time": "2022-06-21T19:46:48.234Z"
      },
      {
        "duration": 14,
        "start_time": "2022-06-21T19:46:48.243Z"
      },
      {
        "duration": 16,
        "start_time": "2022-06-21T19:46:48.258Z"
      },
      {
        "duration": 7,
        "start_time": "2022-06-21T19:46:48.276Z"
      },
      {
        "duration": 21,
        "start_time": "2022-06-21T19:46:48.285Z"
      },
      {
        "duration": 24,
        "start_time": "2022-06-21T19:46:48.307Z"
      },
      {
        "duration": 10,
        "start_time": "2022-06-21T19:46:48.333Z"
      },
      {
        "duration": 11,
        "start_time": "2022-06-21T19:46:48.345Z"
      },
      {
        "duration": 11,
        "start_time": "2022-06-21T19:46:48.358Z"
      },
      {
        "duration": 3,
        "start_time": "2022-06-21T19:46:48.370Z"
      },
      {
        "duration": 12,
        "start_time": "2022-06-21T19:46:48.374Z"
      },
      {
        "duration": 59,
        "start_time": "2022-06-21T19:46:48.388Z"
      },
      {
        "duration": 8,
        "start_time": "2022-06-21T19:46:48.449Z"
      },
      {
        "duration": 17,
        "start_time": "2022-06-21T19:46:48.458Z"
      },
      {
        "duration": 25,
        "start_time": "2022-06-21T19:46:48.476Z"
      },
      {
        "duration": 36,
        "start_time": "2022-06-21T19:46:48.503Z"
      },
      {
        "duration": 12,
        "start_time": "2022-06-21T19:46:48.541Z"
      },
      {
        "duration": 28,
        "start_time": "2022-06-21T19:46:48.555Z"
      },
      {
        "duration": 13,
        "start_time": "2022-06-21T19:46:48.584Z"
      },
      {
        "duration": 38,
        "start_time": "2022-06-21T19:46:48.598Z"
      },
      {
        "duration": 30,
        "start_time": "2022-06-21T19:46:48.639Z"
      },
      {
        "duration": 11,
        "start_time": "2022-06-21T19:46:48.671Z"
      },
      {
        "duration": 13,
        "start_time": "2022-06-21T19:46:48.684Z"
      },
      {
        "duration": 33,
        "start_time": "2022-06-21T19:46:48.699Z"
      },
      {
        "duration": 11,
        "start_time": "2022-06-21T19:46:48.734Z"
      },
      {
        "duration": 6,
        "start_time": "2022-06-21T19:46:48.748Z"
      },
      {
        "duration": 267,
        "start_time": "2022-06-21T19:46:48.756Z"
      },
      {
        "duration": 71,
        "start_time": "2022-06-21T19:46:49.030Z"
      },
      {
        "duration": 32,
        "start_time": "2022-06-21T19:46:49.103Z"
      },
      {
        "duration": 18,
        "start_time": "2022-06-21T19:46:49.137Z"
      },
      {
        "duration": 16,
        "start_time": "2022-06-21T19:46:49.157Z"
      },
      {
        "duration": 10,
        "start_time": "2022-06-21T19:46:49.174Z"
      },
      {
        "duration": 66,
        "start_time": "2022-06-21T19:46:49.186Z"
      },
      {
        "duration": 13,
        "start_time": "2022-06-21T19:46:49.254Z"
      },
      {
        "duration": 13,
        "start_time": "2022-06-21T19:46:49.268Z"
      },
      {
        "duration": 6,
        "start_time": "2022-06-21T19:46:49.283Z"
      },
      {
        "duration": 55,
        "start_time": "2022-06-21T19:46:49.291Z"
      },
      {
        "duration": 10,
        "start_time": "2022-06-21T19:46:49.347Z"
      },
      {
        "duration": 278,
        "start_time": "2022-06-21T19:46:49.358Z"
      },
      {
        "duration": 8,
        "start_time": "2022-06-21T19:46:49.639Z"
      },
      {
        "duration": 7,
        "start_time": "2022-06-21T19:46:49.649Z"
      },
      {
        "duration": 38,
        "start_time": "2022-06-21T19:46:49.658Z"
      },
      {
        "duration": 13,
        "start_time": "2022-06-21T19:46:49.697Z"
      },
      {
        "duration": 26,
        "start_time": "2022-06-21T19:46:49.711Z"
      },
      {
        "duration": 257,
        "start_time": "2022-06-21T19:46:49.739Z"
      },
      {
        "duration": 10,
        "start_time": "2022-06-21T19:46:49.999Z"
      },
      {
        "duration": 56,
        "start_time": "2022-06-21T19:46:50.011Z"
      },
      {
        "duration": 48,
        "start_time": "2022-06-21T19:46:50.068Z"
      },
      {
        "duration": 7,
        "start_time": "2022-06-21T19:46:50.128Z"
      },
      {
        "duration": 20,
        "start_time": "2022-06-21T19:46:50.136Z"
      },
      {
        "duration": 14,
        "start_time": "2022-06-21T19:46:50.158Z"
      },
      {
        "duration": 193,
        "start_time": "2022-06-21T19:46:50.174Z"
      },
      {
        "duration": 9,
        "start_time": "2022-06-21T19:46:50.368Z"
      },
      {
        "duration": 19,
        "start_time": "2022-06-21T19:46:50.379Z"
      },
      {
        "duration": 18,
        "start_time": "2022-06-21T19:46:50.399Z"
      },
      {
        "duration": 31,
        "start_time": "2022-06-21T19:46:50.419Z"
      },
      {
        "duration": 246,
        "start_time": "2022-06-21T19:46:50.451Z"
      },
      {
        "duration": 8,
        "start_time": "2022-06-21T19:46:50.699Z"
      },
      {
        "duration": 47,
        "start_time": "2022-06-21T19:46:50.708Z"
      },
      {
        "duration": 4,
        "start_time": "2022-06-21T19:46:50.756Z"
      },
      {
        "duration": 6,
        "start_time": "2022-06-21T19:46:50.762Z"
      },
      {
        "duration": 8,
        "start_time": "2022-06-21T19:46:50.769Z"
      },
      {
        "duration": 5,
        "start_time": "2022-06-21T19:46:50.779Z"
      },
      {
        "duration": 7,
        "start_time": "2022-06-21T19:46:50.786Z"
      },
      {
        "duration": 183,
        "start_time": "2022-06-21T19:46:50.795Z"
      },
      {
        "duration": 19,
        "start_time": "2022-06-21T19:46:50.979Z"
      },
      {
        "duration": 7,
        "start_time": "2022-06-21T19:46:51.000Z"
      },
      {
        "duration": 24,
        "start_time": "2022-06-21T19:46:51.009Z"
      },
      {
        "duration": 16,
        "start_time": "2022-06-21T19:46:51.035Z"
      },
      {
        "duration": 17,
        "start_time": "2022-06-21T19:46:51.052Z"
      },
      {
        "duration": 170,
        "start_time": "2022-06-21T19:46:51.071Z"
      },
      {
        "duration": 7,
        "start_time": "2022-06-21T19:46:51.244Z"
      },
      {
        "duration": 12,
        "start_time": "2022-06-21T19:46:51.253Z"
      },
      {
        "duration": 10,
        "start_time": "2022-06-21T19:46:51.266Z"
      },
      {
        "duration": 10,
        "start_time": "2022-06-21T19:46:51.278Z"
      },
      {
        "duration": 8,
        "start_time": "2022-06-21T19:46:51.289Z"
      },
      {
        "duration": 31,
        "start_time": "2022-06-21T19:46:51.299Z"
      },
      {
        "duration": 13,
        "start_time": "2022-06-21T19:46:51.332Z"
      },
      {
        "duration": 19,
        "start_time": "2022-06-21T19:46:51.348Z"
      },
      {
        "duration": 16,
        "start_time": "2022-06-21T19:46:51.368Z"
      },
      {
        "duration": 8,
        "start_time": "2022-06-21T19:46:51.386Z"
      },
      {
        "duration": 11,
        "start_time": "2022-06-21T19:46:51.396Z"
      },
      {
        "duration": 7,
        "start_time": "2022-06-21T19:46:51.409Z"
      },
      {
        "duration": 24,
        "start_time": "2022-06-21T19:46:51.418Z"
      },
      {
        "duration": 24,
        "start_time": "2022-06-21T19:46:51.445Z"
      },
      {
        "duration": 11,
        "start_time": "2022-06-21T19:46:51.477Z"
      },
      {
        "duration": 61,
        "start_time": "2022-06-21T19:46:51.491Z"
      },
      {
        "duration": 121,
        "start_time": "2022-06-21T19:47:27.408Z"
      },
      {
        "duration": 10,
        "start_time": "2022-06-21T19:47:49.102Z"
      },
      {
        "duration": 13,
        "start_time": "2022-06-21T19:48:35.960Z"
      },
      {
        "duration": 16,
        "start_time": "2022-06-21T19:48:47.956Z"
      },
      {
        "duration": 11,
        "start_time": "2022-06-21T19:48:56.496Z"
      },
      {
        "duration": 10,
        "start_time": "2022-06-21T19:49:14.351Z"
      },
      {
        "duration": 25,
        "start_time": "2022-06-21T19:57:38.848Z"
      },
      {
        "duration": 16,
        "start_time": "2022-06-21T19:58:48.860Z"
      },
      {
        "duration": 22,
        "start_time": "2022-06-21T19:59:29.944Z"
      },
      {
        "duration": 21,
        "start_time": "2022-06-21T20:00:11.314Z"
      },
      {
        "duration": 22,
        "start_time": "2022-06-21T20:00:21.540Z"
      },
      {
        "duration": 15,
        "start_time": "2022-06-21T20:09:25.123Z"
      },
      {
        "duration": 12,
        "start_time": "2022-06-21T20:13:29.900Z"
      },
      {
        "duration": 15,
        "start_time": "2022-06-21T20:15:55.224Z"
      },
      {
        "duration": 11,
        "start_time": "2022-06-21T20:18:48.700Z"
      },
      {
        "duration": 17,
        "start_time": "2022-06-21T20:19:48.644Z"
      },
      {
        "duration": 10,
        "start_time": "2022-06-21T20:23:37.213Z"
      },
      {
        "duration": 9,
        "start_time": "2022-06-21T20:25:09.340Z"
      },
      {
        "duration": 10,
        "start_time": "2022-06-21T20:27:21.971Z"
      },
      {
        "duration": 3,
        "start_time": "2022-06-21T20:27:28.117Z"
      },
      {
        "duration": 5,
        "start_time": "2022-06-21T20:27:35.304Z"
      },
      {
        "duration": 6,
        "start_time": "2022-06-21T20:29:10.760Z"
      },
      {
        "duration": 5,
        "start_time": "2022-06-21T20:30:04.614Z"
      },
      {
        "duration": 5,
        "start_time": "2022-06-21T20:30:23.900Z"
      },
      {
        "duration": 74,
        "start_time": "2022-06-21T20:30:43.958Z"
      },
      {
        "duration": 47,
        "start_time": "2022-06-23T05:16:22.455Z"
      },
      {
        "duration": 3,
        "start_time": "2022-06-23T05:16:36.237Z"
      },
      {
        "duration": 1372,
        "start_time": "2022-06-23T05:16:36.243Z"
      },
      {
        "duration": 192,
        "start_time": "2022-06-23T05:16:37.617Z"
      },
      {
        "duration": 18,
        "start_time": "2022-06-23T05:16:37.810Z"
      },
      {
        "duration": 17,
        "start_time": "2022-06-23T05:16:37.830Z"
      },
      {
        "duration": 32,
        "start_time": "2022-06-23T05:16:37.848Z"
      },
      {
        "duration": 8,
        "start_time": "2022-06-23T05:16:37.881Z"
      },
      {
        "duration": 10,
        "start_time": "2022-06-23T05:16:37.890Z"
      },
      {
        "duration": 11,
        "start_time": "2022-06-23T05:16:37.902Z"
      },
      {
        "duration": 11,
        "start_time": "2022-06-23T05:16:37.915Z"
      },
      {
        "duration": 25,
        "start_time": "2022-06-23T05:16:37.928Z"
      },
      {
        "duration": 7,
        "start_time": "2022-06-23T05:16:37.955Z"
      },
      {
        "duration": 69,
        "start_time": "2022-06-23T05:16:37.964Z"
      },
      {
        "duration": 5,
        "start_time": "2022-06-23T05:16:38.051Z"
      },
      {
        "duration": 16,
        "start_time": "2022-06-23T05:16:38.058Z"
      },
      {
        "duration": 27,
        "start_time": "2022-06-23T05:16:38.077Z"
      },
      {
        "duration": 6,
        "start_time": "2022-06-23T05:16:38.106Z"
      },
      {
        "duration": 39,
        "start_time": "2022-06-23T05:16:38.114Z"
      },
      {
        "duration": 10,
        "start_time": "2022-06-23T05:16:38.154Z"
      },
      {
        "duration": 9,
        "start_time": "2022-06-23T05:16:38.165Z"
      },
      {
        "duration": 15,
        "start_time": "2022-06-23T05:16:38.175Z"
      },
      {
        "duration": 14,
        "start_time": "2022-06-23T05:16:38.192Z"
      },
      {
        "duration": 13,
        "start_time": "2022-06-23T05:16:38.207Z"
      },
      {
        "duration": 18,
        "start_time": "2022-06-23T05:16:38.222Z"
      },
      {
        "duration": 27,
        "start_time": "2022-06-23T05:16:38.242Z"
      },
      {
        "duration": 7,
        "start_time": "2022-06-23T05:16:38.271Z"
      },
      {
        "duration": 17,
        "start_time": "2022-06-23T05:16:38.279Z"
      },
      {
        "duration": 33,
        "start_time": "2022-06-23T05:16:38.298Z"
      },
      {
        "duration": 35,
        "start_time": "2022-06-23T05:16:38.333Z"
      },
      {
        "duration": 16,
        "start_time": "2022-06-23T05:16:38.370Z"
      },
      {
        "duration": 28,
        "start_time": "2022-06-23T05:16:38.388Z"
      },
      {
        "duration": 40,
        "start_time": "2022-06-23T05:16:38.418Z"
      },
      {
        "duration": 14,
        "start_time": "2022-06-23T05:16:38.460Z"
      },
      {
        "duration": 22,
        "start_time": "2022-06-23T05:16:38.476Z"
      },
      {
        "duration": 6,
        "start_time": "2022-06-23T05:16:38.500Z"
      },
      {
        "duration": 15,
        "start_time": "2022-06-23T05:16:38.507Z"
      },
      {
        "duration": 30,
        "start_time": "2022-06-23T05:16:38.523Z"
      },
      {
        "duration": 16,
        "start_time": "2022-06-23T05:16:38.554Z"
      },
      {
        "duration": 6,
        "start_time": "2022-06-23T05:16:38.572Z"
      },
      {
        "duration": 6,
        "start_time": "2022-06-23T05:16:38.580Z"
      },
      {
        "duration": 263,
        "start_time": "2022-06-23T05:16:38.594Z"
      },
      {
        "duration": 7,
        "start_time": "2022-06-23T05:16:38.859Z"
      },
      {
        "duration": 18,
        "start_time": "2022-06-23T05:16:38.867Z"
      },
      {
        "duration": 15,
        "start_time": "2022-06-23T05:16:38.886Z"
      },
      {
        "duration": 19,
        "start_time": "2022-06-23T05:16:38.903Z"
      },
      {
        "duration": 32,
        "start_time": "2022-06-23T05:16:38.924Z"
      },
      {
        "duration": 102,
        "start_time": "2022-06-23T05:16:38.958Z"
      },
      {
        "duration": 13,
        "start_time": "2022-06-23T05:16:39.061Z"
      },
      {
        "duration": 17,
        "start_time": "2022-06-23T05:16:39.076Z"
      },
      {
        "duration": 10,
        "start_time": "2022-06-23T05:16:39.095Z"
      },
      {
        "duration": 32,
        "start_time": "2022-06-23T05:16:39.106Z"
      },
      {
        "duration": 11,
        "start_time": "2022-06-23T05:16:39.152Z"
      },
      {
        "duration": 231,
        "start_time": "2022-06-23T05:16:39.164Z"
      },
      {
        "duration": 6,
        "start_time": "2022-06-23T05:16:39.397Z"
      },
      {
        "duration": 8,
        "start_time": "2022-06-23T05:16:39.404Z"
      },
      {
        "duration": 46,
        "start_time": "2022-06-23T05:16:39.414Z"
      },
      {
        "duration": 13,
        "start_time": "2022-06-23T05:16:39.461Z"
      },
      {
        "duration": 17,
        "start_time": "2022-06-23T05:16:39.477Z"
      },
      {
        "duration": 234,
        "start_time": "2022-06-23T05:16:39.496Z"
      },
      {
        "duration": 10,
        "start_time": "2022-06-23T05:16:39.732Z"
      },
      {
        "duration": 34,
        "start_time": "2022-06-23T05:16:39.753Z"
      },
      {
        "duration": 45,
        "start_time": "2022-06-23T05:16:39.789Z"
      },
      {
        "duration": 5,
        "start_time": "2022-06-23T05:16:39.853Z"
      },
      {
        "duration": 9,
        "start_time": "2022-06-23T05:16:39.860Z"
      },
      {
        "duration": 22,
        "start_time": "2022-06-23T05:16:39.871Z"
      },
      {
        "duration": 258,
        "start_time": "2022-06-23T05:16:39.896Z"
      },
      {
        "duration": 10,
        "start_time": "2022-06-23T05:16:40.157Z"
      },
      {
        "duration": 19,
        "start_time": "2022-06-23T05:16:40.168Z"
      },
      {
        "duration": 24,
        "start_time": "2022-06-23T05:16:40.189Z"
      },
      {
        "duration": 13,
        "start_time": "2022-06-23T05:16:40.215Z"
      },
      {
        "duration": 256,
        "start_time": "2022-06-23T05:16:40.229Z"
      },
      {
        "duration": 8,
        "start_time": "2022-06-23T05:16:40.487Z"
      },
      {
        "duration": 29,
        "start_time": "2022-06-23T05:16:40.497Z"
      },
      {
        "duration": 24,
        "start_time": "2022-06-23T05:16:40.528Z"
      },
      {
        "duration": 10,
        "start_time": "2022-06-23T05:16:40.553Z"
      },
      {
        "duration": 13,
        "start_time": "2022-06-23T05:16:40.565Z"
      },
      {
        "duration": 4,
        "start_time": "2022-06-23T05:16:40.581Z"
      },
      {
        "duration": 12,
        "start_time": "2022-06-23T05:16:40.587Z"
      },
      {
        "duration": 162,
        "start_time": "2022-06-23T05:16:40.601Z"
      },
      {
        "duration": 19,
        "start_time": "2022-06-23T05:16:40.765Z"
      },
      {
        "duration": 4,
        "start_time": "2022-06-23T05:16:40.786Z"
      },
      {
        "duration": 15,
        "start_time": "2022-06-23T05:16:40.791Z"
      },
      {
        "duration": 14,
        "start_time": "2022-06-23T05:16:40.808Z"
      },
      {
        "duration": 30,
        "start_time": "2022-06-23T05:16:40.824Z"
      },
      {
        "duration": 160,
        "start_time": "2022-06-23T05:16:40.856Z"
      },
      {
        "duration": 6,
        "start_time": "2022-06-23T05:16:41.018Z"
      },
      {
        "duration": 11,
        "start_time": "2022-06-23T05:16:41.026Z"
      },
      {
        "duration": 19,
        "start_time": "2022-06-23T05:16:41.039Z"
      },
      {
        "duration": 14,
        "start_time": "2022-06-23T05:16:41.060Z"
      },
      {
        "duration": 12,
        "start_time": "2022-06-23T05:16:41.076Z"
      },
      {
        "duration": 8,
        "start_time": "2022-06-23T05:16:41.089Z"
      },
      {
        "duration": 4,
        "start_time": "2022-06-23T05:16:41.099Z"
      },
      {
        "duration": 8,
        "start_time": "2022-06-23T05:16:41.105Z"
      },
      {
        "duration": 7,
        "start_time": "2022-06-23T05:16:41.114Z"
      },
      {
        "duration": 7,
        "start_time": "2022-06-23T05:16:41.153Z"
      },
      {
        "duration": 12,
        "start_time": "2022-06-23T05:16:41.162Z"
      },
      {
        "duration": 12,
        "start_time": "2022-06-23T05:16:41.177Z"
      },
      {
        "duration": 7,
        "start_time": "2022-06-23T05:16:41.192Z"
      },
      {
        "duration": 9,
        "start_time": "2022-06-23T05:16:41.201Z"
      },
      {
        "duration": 46,
        "start_time": "2022-06-23T05:16:41.212Z"
      },
      {
        "duration": 12,
        "start_time": "2022-06-23T05:16:41.261Z"
      },
      {
        "duration": 6,
        "start_time": "2022-06-23T05:16:41.275Z"
      },
      {
        "duration": 13,
        "start_time": "2022-06-23T05:16:41.283Z"
      },
      {
        "duration": 8,
        "start_time": "2022-06-23T05:16:41.298Z"
      },
      {
        "duration": 12,
        "start_time": "2022-06-23T05:16:41.308Z"
      },
      {
        "duration": 43,
        "start_time": "2022-06-23T05:16:41.322Z"
      },
      {
        "duration": 102,
        "start_time": "2022-06-23T19:31:11.410Z"
      },
      {
        "duration": 4,
        "start_time": "2022-06-23T19:31:20.110Z"
      },
      {
        "duration": 1687,
        "start_time": "2022-06-23T19:31:20.117Z"
      },
      {
        "duration": 327,
        "start_time": "2022-06-23T19:31:21.809Z"
      },
      {
        "duration": 29,
        "start_time": "2022-06-23T19:31:22.139Z"
      },
      {
        "duration": 53,
        "start_time": "2022-06-23T19:31:22.174Z"
      },
      {
        "duration": 58,
        "start_time": "2022-06-23T19:31:22.229Z"
      },
      {
        "duration": 12,
        "start_time": "2022-06-23T19:31:22.295Z"
      },
      {
        "duration": 21,
        "start_time": "2022-06-23T19:31:22.312Z"
      },
      {
        "duration": 20,
        "start_time": "2022-06-23T19:31:22.335Z"
      },
      {
        "duration": 57,
        "start_time": "2022-06-23T19:31:22.361Z"
      },
      {
        "duration": 8,
        "start_time": "2022-06-23T19:31:22.420Z"
      },
      {
        "duration": 9,
        "start_time": "2022-06-23T19:31:22.430Z"
      },
      {
        "duration": 124,
        "start_time": "2022-06-23T19:31:22.441Z"
      },
      {
        "duration": 9,
        "start_time": "2022-06-23T19:31:22.568Z"
      },
      {
        "duration": 46,
        "start_time": "2022-06-23T19:31:22.581Z"
      },
      {
        "duration": 27,
        "start_time": "2022-06-23T19:31:22.630Z"
      },
      {
        "duration": 43,
        "start_time": "2022-06-23T19:31:22.660Z"
      },
      {
        "duration": 41,
        "start_time": "2022-06-23T19:31:22.705Z"
      },
      {
        "duration": 16,
        "start_time": "2022-06-23T19:31:22.748Z"
      },
      {
        "duration": 50,
        "start_time": "2022-06-23T19:31:22.767Z"
      },
      {
        "duration": 7,
        "start_time": "2022-06-23T19:31:22.819Z"
      },
      {
        "duration": 21,
        "start_time": "2022-06-23T19:31:22.828Z"
      },
      {
        "duration": 14,
        "start_time": "2022-06-23T19:31:22.854Z"
      },
      {
        "duration": 62,
        "start_time": "2022-06-23T19:31:22.870Z"
      },
      {
        "duration": 41,
        "start_time": "2022-06-23T19:31:22.934Z"
      },
      {
        "duration": 22,
        "start_time": "2022-06-23T19:31:22.980Z"
      },
      {
        "duration": 40,
        "start_time": "2022-06-23T19:31:23.004Z"
      },
      {
        "duration": 38,
        "start_time": "2022-06-23T19:31:23.051Z"
      },
      {
        "duration": 43,
        "start_time": "2022-06-23T19:31:23.092Z"
      },
      {
        "duration": 15,
        "start_time": "2022-06-23T19:31:23.138Z"
      },
      {
        "duration": 88,
        "start_time": "2022-06-23T19:31:23.155Z"
      },
      {
        "duration": 23,
        "start_time": "2022-06-23T19:31:23.245Z"
      },
      {
        "duration": 64,
        "start_time": "2022-06-23T19:31:23.277Z"
      },
      {
        "duration": 23,
        "start_time": "2022-06-23T19:31:23.343Z"
      },
      {
        "duration": 49,
        "start_time": "2022-06-23T19:31:23.367Z"
      },
      {
        "duration": 17,
        "start_time": "2022-06-23T19:31:23.418Z"
      },
      {
        "duration": 29,
        "start_time": "2022-06-23T19:31:23.437Z"
      },
      {
        "duration": 75,
        "start_time": "2022-06-23T19:31:23.471Z"
      },
      {
        "duration": 16,
        "start_time": "2022-06-23T19:31:23.548Z"
      },
      {
        "duration": 64,
        "start_time": "2022-06-23T19:31:23.566Z"
      },
      {
        "duration": 413,
        "start_time": "2022-06-23T19:31:23.632Z"
      },
      {
        "duration": 22,
        "start_time": "2022-06-23T19:31:24.051Z"
      },
      {
        "duration": 78,
        "start_time": "2022-06-23T19:31:24.080Z"
      },
      {
        "duration": 26,
        "start_time": "2022-06-23T19:31:24.167Z"
      },
      {
        "duration": 72,
        "start_time": "2022-06-23T19:31:24.200Z"
      },
      {
        "duration": 26,
        "start_time": "2022-06-23T19:31:24.281Z"
      },
      {
        "duration": 208,
        "start_time": "2022-06-23T19:31:24.314Z"
      },
      {
        "duration": 38,
        "start_time": "2022-06-23T19:31:24.524Z"
      },
      {
        "duration": 27,
        "start_time": "2022-06-23T19:31:24.564Z"
      },
      {
        "duration": 27,
        "start_time": "2022-06-23T19:31:24.596Z"
      },
      {
        "duration": 112,
        "start_time": "2022-06-23T19:31:24.630Z"
      },
      {
        "duration": 51,
        "start_time": "2022-06-23T19:31:24.744Z"
      },
      {
        "duration": 473,
        "start_time": "2022-06-23T19:31:24.798Z"
      },
      {
        "duration": 12,
        "start_time": "2022-06-23T19:31:25.274Z"
      },
      {
        "duration": 35,
        "start_time": "2022-06-23T19:31:25.288Z"
      },
      {
        "duration": 56,
        "start_time": "2022-06-23T19:31:25.325Z"
      },
      {
        "duration": 89,
        "start_time": "2022-06-23T19:31:25.385Z"
      },
      {
        "duration": 70,
        "start_time": "2022-06-23T19:31:25.479Z"
      },
      {
        "duration": 416,
        "start_time": "2022-06-23T19:31:25.555Z"
      },
      {
        "duration": 16,
        "start_time": "2022-06-23T19:31:25.976Z"
      },
      {
        "duration": 102,
        "start_time": "2022-06-23T19:31:25.994Z"
      },
      {
        "duration": 74,
        "start_time": "2022-06-23T19:31:26.097Z"
      },
      {
        "duration": 7,
        "start_time": "2022-06-23T19:31:26.173Z"
      },
      {
        "duration": 55,
        "start_time": "2022-06-23T19:31:26.181Z"
      },
      {
        "duration": 30,
        "start_time": "2022-06-23T19:31:26.238Z"
      },
      {
        "duration": 272,
        "start_time": "2022-06-23T19:31:26.270Z"
      },
      {
        "duration": 15,
        "start_time": "2022-06-23T19:31:26.545Z"
      },
      {
        "duration": 60,
        "start_time": "2022-06-23T19:31:26.564Z"
      },
      {
        "duration": 22,
        "start_time": "2022-06-23T19:31:26.626Z"
      },
      {
        "duration": 14,
        "start_time": "2022-06-23T19:31:26.650Z"
      },
      {
        "duration": 342,
        "start_time": "2022-06-23T19:31:26.666Z"
      },
      {
        "duration": 19,
        "start_time": "2022-06-23T19:31:27.014Z"
      },
      {
        "duration": 46,
        "start_time": "2022-06-23T19:31:27.035Z"
      },
      {
        "duration": 21,
        "start_time": "2022-06-23T19:31:27.085Z"
      },
      {
        "duration": 13,
        "start_time": "2022-06-23T19:31:27.110Z"
      },
      {
        "duration": 11,
        "start_time": "2022-06-23T19:31:27.125Z"
      },
      {
        "duration": 9,
        "start_time": "2022-06-23T19:31:27.137Z"
      },
      {
        "duration": 62,
        "start_time": "2022-06-23T19:31:27.148Z"
      },
      {
        "duration": 181,
        "start_time": "2022-06-23T19:31:27.212Z"
      },
      {
        "duration": 17,
        "start_time": "2022-06-23T19:31:27.395Z"
      },
      {
        "duration": 14,
        "start_time": "2022-06-23T19:31:27.414Z"
      },
      {
        "duration": 21,
        "start_time": "2022-06-23T19:31:27.436Z"
      },
      {
        "duration": 45,
        "start_time": "2022-06-23T19:31:27.459Z"
      },
      {
        "duration": 25,
        "start_time": "2022-06-23T19:31:27.512Z"
      },
      {
        "duration": 203,
        "start_time": "2022-06-23T19:31:27.539Z"
      },
      {
        "duration": 16,
        "start_time": "2022-06-23T19:31:27.745Z"
      },
      {
        "duration": 56,
        "start_time": "2022-06-23T19:31:27.763Z"
      },
      {
        "duration": 9,
        "start_time": "2022-06-23T19:31:27.821Z"
      },
      {
        "duration": 12,
        "start_time": "2022-06-23T19:31:27.832Z"
      },
      {
        "duration": 40,
        "start_time": "2022-06-23T19:31:27.847Z"
      },
      {
        "duration": 28,
        "start_time": "2022-06-23T19:31:27.892Z"
      },
      {
        "duration": 7,
        "start_time": "2022-06-23T19:31:27.921Z"
      },
      {
        "duration": 14,
        "start_time": "2022-06-23T19:31:27.931Z"
      },
      {
        "duration": 13,
        "start_time": "2022-06-23T19:31:27.947Z"
      },
      {
        "duration": 66,
        "start_time": "2022-06-23T19:31:27.962Z"
      },
      {
        "duration": 41,
        "start_time": "2022-06-23T19:31:28.031Z"
      },
      {
        "duration": 28,
        "start_time": "2022-06-23T19:31:28.074Z"
      },
      {
        "duration": 19,
        "start_time": "2022-06-23T19:31:28.104Z"
      },
      {
        "duration": 205,
        "start_time": "2022-06-23T19:31:28.127Z"
      },
      {
        "duration": 0,
        "start_time": "2022-06-23T19:31:28.334Z"
      },
      {
        "duration": 0,
        "start_time": "2022-06-23T19:31:28.336Z"
      },
      {
        "duration": 0,
        "start_time": "2022-06-23T19:31:28.337Z"
      },
      {
        "duration": 0,
        "start_time": "2022-06-23T19:31:28.339Z"
      },
      {
        "duration": 0,
        "start_time": "2022-06-23T19:31:28.340Z"
      },
      {
        "duration": 0,
        "start_time": "2022-06-23T19:31:28.352Z"
      },
      {
        "duration": 0,
        "start_time": "2022-06-23T19:31:28.360Z"
      },
      {
        "duration": 0,
        "start_time": "2022-06-23T19:31:28.361Z"
      },
      {
        "duration": 29,
        "start_time": "2022-06-23T19:33:38.299Z"
      },
      {
        "duration": 32,
        "start_time": "2022-06-23T19:33:43.050Z"
      },
      {
        "duration": 49,
        "start_time": "2022-06-23T19:41:05.372Z"
      },
      {
        "duration": 12,
        "start_time": "2022-06-23T19:41:13.348Z"
      },
      {
        "duration": 26,
        "start_time": "2022-06-23T19:41:14.566Z"
      },
      {
        "duration": 4,
        "start_time": "2022-06-23T19:43:56.694Z"
      },
      {
        "duration": 9,
        "start_time": "2022-06-23T19:46:59.349Z"
      },
      {
        "duration": 5,
        "start_time": "2022-06-23T19:47:54.442Z"
      },
      {
        "duration": 4,
        "start_time": "2022-06-23T19:47:55.167Z"
      },
      {
        "duration": 37,
        "start_time": "2022-06-23T19:49:31.390Z"
      },
      {
        "duration": 71,
        "start_time": "2022-06-23T19:53:47.874Z"
      },
      {
        "duration": 129,
        "start_time": "2022-06-23T19:54:18.608Z"
      },
      {
        "duration": 7,
        "start_time": "2022-06-23T19:59:17.076Z"
      },
      {
        "duration": 6,
        "start_time": "2022-06-23T19:59:19.993Z"
      },
      {
        "duration": 7,
        "start_time": "2022-06-23T19:59:24.877Z"
      },
      {
        "duration": 4,
        "start_time": "2022-06-23T19:59:28.343Z"
      },
      {
        "duration": 4,
        "start_time": "2022-06-23T20:00:50.781Z"
      },
      {
        "duration": 2,
        "start_time": "2022-06-23T20:01:06.741Z"
      },
      {
        "duration": 10,
        "start_time": "2022-06-23T20:01:13.625Z"
      },
      {
        "duration": 12,
        "start_time": "2022-06-23T20:01:16.610Z"
      },
      {
        "duration": 12,
        "start_time": "2022-06-23T20:02:34.017Z"
      },
      {
        "duration": 8,
        "start_time": "2022-06-23T20:03:26.247Z"
      },
      {
        "duration": 21,
        "start_time": "2022-06-23T20:03:30.644Z"
      },
      {
        "duration": 3,
        "start_time": "2022-06-23T20:04:06.741Z"
      },
      {
        "duration": 10,
        "start_time": "2022-06-23T20:04:14.188Z"
      },
      {
        "duration": 59,
        "start_time": "2022-06-23T20:07:09.086Z"
      },
      {
        "duration": 76,
        "start_time": "2022-06-23T20:07:19.475Z"
      },
      {
        "duration": 3,
        "start_time": "2022-06-23T20:07:25.522Z"
      },
      {
        "duration": 4,
        "start_time": "2022-06-23T20:07:30.109Z"
      },
      {
        "duration": 3,
        "start_time": "2022-06-23T20:08:40.875Z"
      },
      {
        "duration": 6,
        "start_time": "2022-06-23T20:08:41.544Z"
      },
      {
        "duration": 6,
        "start_time": "2022-06-23T20:09:15.065Z"
      },
      {
        "duration": 4,
        "start_time": "2022-06-23T20:09:15.799Z"
      },
      {
        "duration": 16,
        "start_time": "2022-06-23T20:09:34.569Z"
      },
      {
        "duration": 5,
        "start_time": "2022-06-23T20:09:36.280Z"
      },
      {
        "duration": 5,
        "start_time": "2022-06-23T20:10:00.094Z"
      },
      {
        "duration": 4,
        "start_time": "2022-06-23T20:10:01.828Z"
      },
      {
        "duration": 8,
        "start_time": "2022-06-23T20:10:25.179Z"
      },
      {
        "duration": 4,
        "start_time": "2022-06-23T20:10:26.341Z"
      },
      {
        "duration": 8,
        "start_time": "2022-06-23T20:11:20.661Z"
      },
      {
        "duration": 5,
        "start_time": "2022-06-23T20:11:32.192Z"
      },
      {
        "duration": 6,
        "start_time": "2022-06-23T20:12:24.410Z"
      },
      {
        "duration": 8,
        "start_time": "2022-06-23T20:12:25.992Z"
      },
      {
        "duration": 7,
        "start_time": "2022-06-23T20:12:47.579Z"
      },
      {
        "duration": 6,
        "start_time": "2022-06-23T20:12:48.400Z"
      },
      {
        "duration": 10,
        "start_time": "2022-06-23T20:13:02.179Z"
      },
      {
        "duration": 5,
        "start_time": "2022-06-23T20:13:02.736Z"
      },
      {
        "duration": 7,
        "start_time": "2022-06-23T20:13:28.871Z"
      },
      {
        "duration": 4,
        "start_time": "2022-06-23T20:13:30.232Z"
      },
      {
        "duration": 4,
        "start_time": "2022-06-23T20:13:49.207Z"
      },
      {
        "duration": 9,
        "start_time": "2022-06-23T20:13:49.971Z"
      },
      {
        "duration": 5,
        "start_time": "2022-06-23T20:14:13.604Z"
      },
      {
        "duration": 7,
        "start_time": "2022-06-23T20:14:14.730Z"
      },
      {
        "duration": 5,
        "start_time": "2022-06-23T20:14:53.819Z"
      },
      {
        "duration": 8,
        "start_time": "2022-06-23T20:14:54.407Z"
      },
      {
        "duration": 5,
        "start_time": "2022-06-23T20:15:04.221Z"
      },
      {
        "duration": 7,
        "start_time": "2022-06-23T20:15:04.921Z"
      },
      {
        "duration": 22,
        "start_time": "2022-06-23T20:15:26.480Z"
      },
      {
        "duration": 9,
        "start_time": "2022-06-23T20:15:59.312Z"
      },
      {
        "duration": 7,
        "start_time": "2022-06-23T20:16:04.923Z"
      },
      {
        "duration": 21,
        "start_time": "2022-06-23T20:17:17.873Z"
      },
      {
        "duration": 10,
        "start_time": "2022-06-23T20:17:21.350Z"
      },
      {
        "duration": 6,
        "start_time": "2022-06-23T20:17:22.291Z"
      },
      {
        "duration": 5,
        "start_time": "2022-06-23T20:18:04.184Z"
      },
      {
        "duration": 4,
        "start_time": "2022-06-23T20:18:37.610Z"
      },
      {
        "duration": 4,
        "start_time": "2022-06-23T20:18:53.591Z"
      },
      {
        "duration": 5,
        "start_time": "2022-06-23T20:19:23.313Z"
      },
      {
        "duration": 7,
        "start_time": "2022-06-23T20:19:35.507Z"
      },
      {
        "duration": 12,
        "start_time": "2022-06-23T20:19:37.078Z"
      },
      {
        "duration": 10,
        "start_time": "2022-06-23T20:19:37.871Z"
      },
      {
        "duration": 10,
        "start_time": "2022-06-23T20:19:39.380Z"
      },
      {
        "duration": 10,
        "start_time": "2022-06-23T20:25:48.111Z"
      },
      {
        "duration": 10,
        "start_time": "2022-06-23T20:25:55.126Z"
      },
      {
        "duration": 4,
        "start_time": "2022-06-23T20:26:04.803Z"
      },
      {
        "duration": 4,
        "start_time": "2022-06-23T20:26:17.136Z"
      },
      {
        "duration": 5,
        "start_time": "2022-06-23T20:26:18.137Z"
      },
      {
        "duration": 7,
        "start_time": "2022-06-23T20:26:26.270Z"
      },
      {
        "duration": 5,
        "start_time": "2022-06-23T20:26:27.900Z"
      },
      {
        "duration": 49,
        "start_time": "2022-06-23T20:27:58.806Z"
      },
      {
        "duration": 64,
        "start_time": "2022-06-23T20:32:54.633Z"
      },
      {
        "duration": 16,
        "start_time": "2022-06-23T20:33:33.885Z"
      },
      {
        "duration": 8,
        "start_time": "2022-06-23T20:33:55.892Z"
      },
      {
        "duration": 12,
        "start_time": "2022-06-23T20:35:44.301Z"
      },
      {
        "duration": 13,
        "start_time": "2022-06-23T20:35:49.567Z"
      },
      {
        "duration": 9,
        "start_time": "2022-06-23T20:38:57.189Z"
      }
    ],
    "colab": {
      "collapsed_sections": [],
      "name": "vipusknoy_proect_telecom.ipynb",
      "provenance": [],
      "toc_visible": true
    },
    "kernelspec": {
      "display_name": "Python 3 (ipykernel)",
      "language": "python",
      "name": "python3"
    },
    "language_info": {
      "codemirror_mode": {
        "name": "ipython",
        "version": 3
      },
      "file_extension": ".py",
      "mimetype": "text/x-python",
      "name": "python",
      "nbconvert_exporter": "python",
      "pygments_lexer": "ipython3",
      "version": "3.9.5"
    },
    "toc": {
      "base_numbering": 1,
      "nav_menu": {},
      "number_sections": true,
      "sideBar": true,
      "skip_h1_title": true,
      "title_cell": "Table of Contents",
      "title_sidebar": "Contents",
      "toc_cell": false,
      "toc_position": {
        "height": "calc(100% - 180px)",
        "left": "10px",
        "top": "150px",
        "width": "165px"
      },
      "toc_section_display": true,
      "toc_window_display": true
    }
  },
  "nbformat": 4,
  "nbformat_minor": 0
}