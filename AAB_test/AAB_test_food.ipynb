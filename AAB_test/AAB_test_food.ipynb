{
  "cells": [
    {
      "cell_type": "markdown",
      "metadata": {
        "id": "Fk93MojZ2Aqt"
      },
      "source": [
        "# ААВ тест в мобильном приложении продуктов питания\n"
      ]
    },
    {
      "cell_type": "markdown",
      "metadata": {
        "id": "kbSlRgkCMIw_"
      },
      "source": [
        "Мы работаем в стартапе, который продаёт продукты питания. \n",
        "Задачи проекта: \n",
        "- разобраться, как ведут себя пользователи нашего мобильного приложения,\n",
        "- изучить результаты ААВ теста, который был проведен\n"
      ]
    },
    {
      "cell_type": "markdown",
      "metadata": {
        "id": "UjVoMqgm1Ehs"
      },
      "source": [
        "В нашем распоряжении файл с логами. \n",
        "В нем содержится 244126 строк. \n",
        "\n",
        "Согласно документации:\n",
        "\n",
        "Каждая запись в логе — это действие пользователя, или событие.\n",
        "\n",
        "- EventName — название события;\n",
        "\n",
        "- DeviceIDHash — уникальный идентификатор пользователя;\n",
        "\n",
        "- EventTimestamp — время события;\n",
        "\n",
        "- ExpId — номер эксперимента: 246 и 247 — контрольные группы, а 248 — экспериментальная."
      ]
    },
    {
      "cell_type": "code",
      "execution_count": null,
      "metadata": {
        "id": "FkfVyV2AN6N4"
      },
      "outputs": [],
      "source": [
        "import pandas as pd\n",
        "import datetime as dt\n",
        "import numpy as np\n",
        "import math as mth\n",
        "import matplotlib.pyplot as plt\n",
        "import seaborn as sns\n",
        "import plotly.express as px\n",
        "from datetime import datetime\n",
        "from scipy import stats as st\n",
        "from plotly import graph_objects as go\n"
      ]
    },
    {
      "cell_type": "markdown",
      "metadata": {
        "id": "MGT9tznBQNxP"
      },
      "source": [
        "## Чтение данных"
      ]
    },
    {
      "cell_type": "code",
      "execution_count": null,
      "metadata": {
        "colab": {
          "base_uri": "https://localhost:8080/",
          "height": 363
        },
        "id": "hxRmgrsW0MBL",
        "outputId": "56eabf4a-5dd8-4abf-cf77-145c6fbd2a14"
      },
      "outputs": [
        {
          "output_type": "execute_result",
          "data": {
            "text/plain": [
              "                      EventName         DeviceIDHash  EventTimestamp  ExpId\n",
              "131590       OffersScreenAppear  1685496134763216440      1564934562    246\n",
              "217725         MainScreenAppear  2956083095170517025      1565160487    246\n",
              "94030   PaymentScreenSuccessful  7124807051950926466      1564840646    248\n",
              "193938         MainScreenAppear  2034413732318922811      1565095371    247\n",
              "120304         MainScreenAppear  1864330314524351514      1564916803    246\n",
              "64109          MainScreenAppear  5025956312643488924      1564760905    247\n",
              "211107         CartScreenAppear  8309980273750324949      1565121526    246\n",
              "101155         CartScreenAppear  2910761286178294850      1564851533    248\n",
              "200405         MainScreenAppear  4287497219556938805      1565104776    247\n",
              "205552         MainScreenAppear  7731824283088463812      1565111901    247"
            ],
            "text/html": [
              "\n",
              "  <div id=\"df-e7e97d0a-2d73-41e7-9d98-2b9d90733d63\">\n",
              "    <div class=\"colab-df-container\">\n",
              "      <div>\n",
              "<style scoped>\n",
              "    .dataframe tbody tr th:only-of-type {\n",
              "        vertical-align: middle;\n",
              "    }\n",
              "\n",
              "    .dataframe tbody tr th {\n",
              "        vertical-align: top;\n",
              "    }\n",
              "\n",
              "    .dataframe thead th {\n",
              "        text-align: right;\n",
              "    }\n",
              "</style>\n",
              "<table border=\"1\" class=\"dataframe\">\n",
              "  <thead>\n",
              "    <tr style=\"text-align: right;\">\n",
              "      <th></th>\n",
              "      <th>EventName</th>\n",
              "      <th>DeviceIDHash</th>\n",
              "      <th>EventTimestamp</th>\n",
              "      <th>ExpId</th>\n",
              "    </tr>\n",
              "  </thead>\n",
              "  <tbody>\n",
              "    <tr>\n",
              "      <th>131590</th>\n",
              "      <td>OffersScreenAppear</td>\n",
              "      <td>1685496134763216440</td>\n",
              "      <td>1564934562</td>\n",
              "      <td>246</td>\n",
              "    </tr>\n",
              "    <tr>\n",
              "      <th>217725</th>\n",
              "      <td>MainScreenAppear</td>\n",
              "      <td>2956083095170517025</td>\n",
              "      <td>1565160487</td>\n",
              "      <td>246</td>\n",
              "    </tr>\n",
              "    <tr>\n",
              "      <th>94030</th>\n",
              "      <td>PaymentScreenSuccessful</td>\n",
              "      <td>7124807051950926466</td>\n",
              "      <td>1564840646</td>\n",
              "      <td>248</td>\n",
              "    </tr>\n",
              "    <tr>\n",
              "      <th>193938</th>\n",
              "      <td>MainScreenAppear</td>\n",
              "      <td>2034413732318922811</td>\n",
              "      <td>1565095371</td>\n",
              "      <td>247</td>\n",
              "    </tr>\n",
              "    <tr>\n",
              "      <th>120304</th>\n",
              "      <td>MainScreenAppear</td>\n",
              "      <td>1864330314524351514</td>\n",
              "      <td>1564916803</td>\n",
              "      <td>246</td>\n",
              "    </tr>\n",
              "    <tr>\n",
              "      <th>64109</th>\n",
              "      <td>MainScreenAppear</td>\n",
              "      <td>5025956312643488924</td>\n",
              "      <td>1564760905</td>\n",
              "      <td>247</td>\n",
              "    </tr>\n",
              "    <tr>\n",
              "      <th>211107</th>\n",
              "      <td>CartScreenAppear</td>\n",
              "      <td>8309980273750324949</td>\n",
              "      <td>1565121526</td>\n",
              "      <td>246</td>\n",
              "    </tr>\n",
              "    <tr>\n",
              "      <th>101155</th>\n",
              "      <td>CartScreenAppear</td>\n",
              "      <td>2910761286178294850</td>\n",
              "      <td>1564851533</td>\n",
              "      <td>248</td>\n",
              "    </tr>\n",
              "    <tr>\n",
              "      <th>200405</th>\n",
              "      <td>MainScreenAppear</td>\n",
              "      <td>4287497219556938805</td>\n",
              "      <td>1565104776</td>\n",
              "      <td>247</td>\n",
              "    </tr>\n",
              "    <tr>\n",
              "      <th>205552</th>\n",
              "      <td>MainScreenAppear</td>\n",
              "      <td>7731824283088463812</td>\n",
              "      <td>1565111901</td>\n",
              "      <td>247</td>\n",
              "    </tr>\n",
              "  </tbody>\n",
              "</table>\n",
              "</div>\n",
              "      <button class=\"colab-df-convert\" onclick=\"convertToInteractive('df-e7e97d0a-2d73-41e7-9d98-2b9d90733d63')\"\n",
              "              title=\"Convert this dataframe to an interactive table.\"\n",
              "              style=\"display:none;\">\n",
              "        \n",
              "  <svg xmlns=\"http://www.w3.org/2000/svg\" height=\"24px\"viewBox=\"0 0 24 24\"\n",
              "       width=\"24px\">\n",
              "    <path d=\"M0 0h24v24H0V0z\" fill=\"none\"/>\n",
              "    <path d=\"M18.56 5.44l.94 2.06.94-2.06 2.06-.94-2.06-.94-.94-2.06-.94 2.06-2.06.94zm-11 1L8.5 8.5l.94-2.06 2.06-.94-2.06-.94L8.5 2.5l-.94 2.06-2.06.94zm10 10l.94 2.06.94-2.06 2.06-.94-2.06-.94-.94-2.06-.94 2.06-2.06.94z\"/><path d=\"M17.41 7.96l-1.37-1.37c-.4-.4-.92-.59-1.43-.59-.52 0-1.04.2-1.43.59L10.3 9.45l-7.72 7.72c-.78.78-.78 2.05 0 2.83L4 21.41c.39.39.9.59 1.41.59.51 0 1.02-.2 1.41-.59l7.78-7.78 2.81-2.81c.8-.78.8-2.07 0-2.86zM5.41 20L4 18.59l7.72-7.72 1.47 1.35L5.41 20z\"/>\n",
              "  </svg>\n",
              "      </button>\n",
              "      \n",
              "  <style>\n",
              "    .colab-df-container {\n",
              "      display:flex;\n",
              "      flex-wrap:wrap;\n",
              "      gap: 12px;\n",
              "    }\n",
              "\n",
              "    .colab-df-convert {\n",
              "      background-color: #E8F0FE;\n",
              "      border: none;\n",
              "      border-radius: 50%;\n",
              "      cursor: pointer;\n",
              "      display: none;\n",
              "      fill: #1967D2;\n",
              "      height: 32px;\n",
              "      padding: 0 0 0 0;\n",
              "      width: 32px;\n",
              "    }\n",
              "\n",
              "    .colab-df-convert:hover {\n",
              "      background-color: #E2EBFA;\n",
              "      box-shadow: 0px 1px 2px rgba(60, 64, 67, 0.3), 0px 1px 3px 1px rgba(60, 64, 67, 0.15);\n",
              "      fill: #174EA6;\n",
              "    }\n",
              "\n",
              "    [theme=dark] .colab-df-convert {\n",
              "      background-color: #3B4455;\n",
              "      fill: #D2E3FC;\n",
              "    }\n",
              "\n",
              "    [theme=dark] .colab-df-convert:hover {\n",
              "      background-color: #434B5C;\n",
              "      box-shadow: 0px 1px 3px 1px rgba(0, 0, 0, 0.15);\n",
              "      filter: drop-shadow(0px 1px 2px rgba(0, 0, 0, 0.3));\n",
              "      fill: #FFFFFF;\n",
              "    }\n",
              "  </style>\n",
              "\n",
              "      <script>\n",
              "        const buttonEl =\n",
              "          document.querySelector('#df-e7e97d0a-2d73-41e7-9d98-2b9d90733d63 button.colab-df-convert');\n",
              "        buttonEl.style.display =\n",
              "          google.colab.kernel.accessAllowed ? 'block' : 'none';\n",
              "\n",
              "        async function convertToInteractive(key) {\n",
              "          const element = document.querySelector('#df-e7e97d0a-2d73-41e7-9d98-2b9d90733d63');\n",
              "          const dataTable =\n",
              "            await google.colab.kernel.invokeFunction('convertToInteractive',\n",
              "                                                     [key], {});\n",
              "          if (!dataTable) return;\n",
              "\n",
              "          const docLinkHtml = 'Like what you see? Visit the ' +\n",
              "            '<a target=\"_blank\" href=https://colab.research.google.com/notebooks/data_table.ipynb>data table notebook</a>'\n",
              "            + ' to learn more about interactive tables.';\n",
              "          element.innerHTML = '';\n",
              "          dataTable['output_type'] = 'display_data';\n",
              "          await google.colab.output.renderOutput(dataTable, element);\n",
              "          const docLink = document.createElement('div');\n",
              "          docLink.innerHTML = docLinkHtml;\n",
              "          element.appendChild(docLink);\n",
              "        }\n",
              "      </script>\n",
              "    </div>\n",
              "  </div>\n",
              "  "
            ]
          },
          "metadata": {},
          "execution_count": 8
        }
      ],
      "source": [
        " log.sample(10)"
      ]
    },
    {
      "cell_type": "markdown",
      "metadata": {
        "id": "Fyic2FdGQ5kZ"
      },
      "source": [
        "## Подготовка данных"
      ]
    },
    {
      "cell_type": "markdown",
      "metadata": {
        "id": "WUR8pAss2mUo"
      },
      "source": [
        "Изучим общую информацию о данных в файле"
      ]
    },
    {
      "cell_type": "code",
      "execution_count": null,
      "metadata": {
        "colab": {
          "base_uri": "https://localhost:8080/"
        },
        "id": "bXnNhnkk1Tln",
        "outputId": "62b36141-19e9-4170-bd84-120ddf3f22fd"
      },
      "outputs": [
        {
          "output_type": "stream",
          "name": "stdout",
          "text": [
            "<class 'pandas.core.frame.DataFrame'>\n",
            "RangeIndex: 244126 entries, 0 to 244125\n",
            "Data columns (total 4 columns):\n",
            " #   Column          Non-Null Count   Dtype \n",
            "---  ------          --------------   ----- \n",
            " 0   EventName       244126 non-null  object\n",
            " 1   DeviceIDHash    244126 non-null  int64 \n",
            " 2   EventTimestamp  244126 non-null  int64 \n",
            " 3   ExpId           244126 non-null  int64 \n",
            "dtypes: int64(3), object(1)\n",
            "memory usage: 7.5+ MB\n"
          ]
        }
      ],
      "source": [
        "log.info()"
      ]
    },
    {
      "cell_type": "markdown",
      "metadata": {
        "id": "Ip8UKQbzQvCC"
      },
      "source": [
        "Пропусков в данных нет"
      ]
    },
    {
      "cell_type": "markdown",
      "metadata": {
        "id": "ZqGZJUr7QWzU"
      },
      "source": [
        "Согласно документации:\n",
        "\n",
        "Каждая запись в логе — это действие пользователя, или событие.\n",
        "\n",
        "EventName — название события;\n",
        "\n",
        "DeviceIDHash — уникальный идентификатор пользователя;\n",
        "\n",
        "EventTimestamp — время события;\n",
        "\n",
        "ExpId — номер эксперимента: 246 и 247 — контрольные группы, а 248 — экспериментальная."
      ]
    },
    {
      "cell_type": "markdown",
      "metadata": {
        "id": "xUYM7GkC_tld"
      },
      "source": [
        "Изменим названия столбцов на удобные нам"
      ]
    },
    {
      "cell_type": "code",
      "execution_count": null,
      "metadata": {
        "id": "BxhGMBM61Eh3"
      },
      "outputs": [],
      "source": [
        "log.rename(columns={'EventName': 'event', 'DeviceIDHash': 'id', 'EventTimestamp': 'timestamp', 'ExpId': 'group'}, inplace=True)\n"
      ]
    },
    {
      "cell_type": "markdown",
      "metadata": {
        "id": "ve0XiJz5QR_f"
      },
      "source": [
        "Добавим столбец с датой и временем. Переведем формат timestamp в datetime."
      ]
    },
    {
      "cell_type": "code",
      "execution_count": null,
      "metadata": {
        "id": "yVIPLNn04leE"
      },
      "outputs": [],
      "source": [
        "log['date_time'] = pd.to_datetime(log['timestamp'], unit = 's')"
      ]
    },
    {
      "cell_type": "code",
      "execution_count": null,
      "metadata": {
        "colab": {
          "base_uri": "https://localhost:8080/",
          "height": 363
        },
        "id": "C-cVNhxL7rM0",
        "outputId": "8665aa69-8331-492c-f4d4-52f7c131e3d1"
      },
      "outputs": [
        {
          "output_type": "execute_result",
          "data": {
            "text/plain": [
              "                          event                   id   timestamp  group  \\\n",
              "15751   PaymentScreenSuccessful  3528217211962170139  1564658003    247   \n",
              "152709       OffersScreenAppear  8929264187278182833  1565001124    246   \n",
              "53194          MainScreenAppear  7519390359963934783  1564743718    248   \n",
              "47179          MainScreenAppear  7586949343857555269  1564733313    246   \n",
              "40695   PaymentScreenSuccessful  6304868067479728361  1564713198    248   \n",
              "17890          MainScreenAppear   587703240071607491  1564660977    246   \n",
              "33859        OffersScreenAppear  8429505541319539763  1564683996    246   \n",
              "41627   PaymentScreenSuccessful  4374194959911938890  1564716192    248   \n",
              "21724        OffersScreenAppear  8070558855125722674  1564666701    246   \n",
              "132295  PaymentScreenSuccessful  6876075934773831748  1564935772    246   \n",
              "\n",
              "                 date_time  \n",
              "15751  2019-08-01 11:13:23  \n",
              "152709 2019-08-05 10:32:04  \n",
              "53194  2019-08-02 11:01:58  \n",
              "47179  2019-08-02 08:08:33  \n",
              "40695  2019-08-02 02:33:18  \n",
              "17890  2019-08-01 12:02:57  \n",
              "33859  2019-08-01 18:26:36  \n",
              "41627  2019-08-02 03:23:12  \n",
              "21724  2019-08-01 13:38:21  \n",
              "132295 2019-08-04 16:22:52  "
            ],
            "text/html": [
              "\n",
              "  <div id=\"df-3b22896a-dd54-4d6a-a0c0-000615ecfef8\">\n",
              "    <div class=\"colab-df-container\">\n",
              "      <div>\n",
              "<style scoped>\n",
              "    .dataframe tbody tr th:only-of-type {\n",
              "        vertical-align: middle;\n",
              "    }\n",
              "\n",
              "    .dataframe tbody tr th {\n",
              "        vertical-align: top;\n",
              "    }\n",
              "\n",
              "    .dataframe thead th {\n",
              "        text-align: right;\n",
              "    }\n",
              "</style>\n",
              "<table border=\"1\" class=\"dataframe\">\n",
              "  <thead>\n",
              "    <tr style=\"text-align: right;\">\n",
              "      <th></th>\n",
              "      <th>event</th>\n",
              "      <th>id</th>\n",
              "      <th>timestamp</th>\n",
              "      <th>group</th>\n",
              "      <th>date_time</th>\n",
              "    </tr>\n",
              "  </thead>\n",
              "  <tbody>\n",
              "    <tr>\n",
              "      <th>15751</th>\n",
              "      <td>PaymentScreenSuccessful</td>\n",
              "      <td>3528217211962170139</td>\n",
              "      <td>1564658003</td>\n",
              "      <td>247</td>\n",
              "      <td>2019-08-01 11:13:23</td>\n",
              "    </tr>\n",
              "    <tr>\n",
              "      <th>152709</th>\n",
              "      <td>OffersScreenAppear</td>\n",
              "      <td>8929264187278182833</td>\n",
              "      <td>1565001124</td>\n",
              "      <td>246</td>\n",
              "      <td>2019-08-05 10:32:04</td>\n",
              "    </tr>\n",
              "    <tr>\n",
              "      <th>53194</th>\n",
              "      <td>MainScreenAppear</td>\n",
              "      <td>7519390359963934783</td>\n",
              "      <td>1564743718</td>\n",
              "      <td>248</td>\n",
              "      <td>2019-08-02 11:01:58</td>\n",
              "    </tr>\n",
              "    <tr>\n",
              "      <th>47179</th>\n",
              "      <td>MainScreenAppear</td>\n",
              "      <td>7586949343857555269</td>\n",
              "      <td>1564733313</td>\n",
              "      <td>246</td>\n",
              "      <td>2019-08-02 08:08:33</td>\n",
              "    </tr>\n",
              "    <tr>\n",
              "      <th>40695</th>\n",
              "      <td>PaymentScreenSuccessful</td>\n",
              "      <td>6304868067479728361</td>\n",
              "      <td>1564713198</td>\n",
              "      <td>248</td>\n",
              "      <td>2019-08-02 02:33:18</td>\n",
              "    </tr>\n",
              "    <tr>\n",
              "      <th>17890</th>\n",
              "      <td>MainScreenAppear</td>\n",
              "      <td>587703240071607491</td>\n",
              "      <td>1564660977</td>\n",
              "      <td>246</td>\n",
              "      <td>2019-08-01 12:02:57</td>\n",
              "    </tr>\n",
              "    <tr>\n",
              "      <th>33859</th>\n",
              "      <td>OffersScreenAppear</td>\n",
              "      <td>8429505541319539763</td>\n",
              "      <td>1564683996</td>\n",
              "      <td>246</td>\n",
              "      <td>2019-08-01 18:26:36</td>\n",
              "    </tr>\n",
              "    <tr>\n",
              "      <th>41627</th>\n",
              "      <td>PaymentScreenSuccessful</td>\n",
              "      <td>4374194959911938890</td>\n",
              "      <td>1564716192</td>\n",
              "      <td>248</td>\n",
              "      <td>2019-08-02 03:23:12</td>\n",
              "    </tr>\n",
              "    <tr>\n",
              "      <th>21724</th>\n",
              "      <td>OffersScreenAppear</td>\n",
              "      <td>8070558855125722674</td>\n",
              "      <td>1564666701</td>\n",
              "      <td>246</td>\n",
              "      <td>2019-08-01 13:38:21</td>\n",
              "    </tr>\n",
              "    <tr>\n",
              "      <th>132295</th>\n",
              "      <td>PaymentScreenSuccessful</td>\n",
              "      <td>6876075934773831748</td>\n",
              "      <td>1564935772</td>\n",
              "      <td>246</td>\n",
              "      <td>2019-08-04 16:22:52</td>\n",
              "    </tr>\n",
              "  </tbody>\n",
              "</table>\n",
              "</div>\n",
              "      <button class=\"colab-df-convert\" onclick=\"convertToInteractive('df-3b22896a-dd54-4d6a-a0c0-000615ecfef8')\"\n",
              "              title=\"Convert this dataframe to an interactive table.\"\n",
              "              style=\"display:none;\">\n",
              "        \n",
              "  <svg xmlns=\"http://www.w3.org/2000/svg\" height=\"24px\"viewBox=\"0 0 24 24\"\n",
              "       width=\"24px\">\n",
              "    <path d=\"M0 0h24v24H0V0z\" fill=\"none\"/>\n",
              "    <path d=\"M18.56 5.44l.94 2.06.94-2.06 2.06-.94-2.06-.94-.94-2.06-.94 2.06-2.06.94zm-11 1L8.5 8.5l.94-2.06 2.06-.94-2.06-.94L8.5 2.5l-.94 2.06-2.06.94zm10 10l.94 2.06.94-2.06 2.06-.94-2.06-.94-.94-2.06-.94 2.06-2.06.94z\"/><path d=\"M17.41 7.96l-1.37-1.37c-.4-.4-.92-.59-1.43-.59-.52 0-1.04.2-1.43.59L10.3 9.45l-7.72 7.72c-.78.78-.78 2.05 0 2.83L4 21.41c.39.39.9.59 1.41.59.51 0 1.02-.2 1.41-.59l7.78-7.78 2.81-2.81c.8-.78.8-2.07 0-2.86zM5.41 20L4 18.59l7.72-7.72 1.47 1.35L5.41 20z\"/>\n",
              "  </svg>\n",
              "      </button>\n",
              "      \n",
              "  <style>\n",
              "    .colab-df-container {\n",
              "      display:flex;\n",
              "      flex-wrap:wrap;\n",
              "      gap: 12px;\n",
              "    }\n",
              "\n",
              "    .colab-df-convert {\n",
              "      background-color: #E8F0FE;\n",
              "      border: none;\n",
              "      border-radius: 50%;\n",
              "      cursor: pointer;\n",
              "      display: none;\n",
              "      fill: #1967D2;\n",
              "      height: 32px;\n",
              "      padding: 0 0 0 0;\n",
              "      width: 32px;\n",
              "    }\n",
              "\n",
              "    .colab-df-convert:hover {\n",
              "      background-color: #E2EBFA;\n",
              "      box-shadow: 0px 1px 2px rgba(60, 64, 67, 0.3), 0px 1px 3px 1px rgba(60, 64, 67, 0.15);\n",
              "      fill: #174EA6;\n",
              "    }\n",
              "\n",
              "    [theme=dark] .colab-df-convert {\n",
              "      background-color: #3B4455;\n",
              "      fill: #D2E3FC;\n",
              "    }\n",
              "\n",
              "    [theme=dark] .colab-df-convert:hover {\n",
              "      background-color: #434B5C;\n",
              "      box-shadow: 0px 1px 3px 1px rgba(0, 0, 0, 0.15);\n",
              "      filter: drop-shadow(0px 1px 2px rgba(0, 0, 0, 0.3));\n",
              "      fill: #FFFFFF;\n",
              "    }\n",
              "  </style>\n",
              "\n",
              "      <script>\n",
              "        const buttonEl =\n",
              "          document.querySelector('#df-3b22896a-dd54-4d6a-a0c0-000615ecfef8 button.colab-df-convert');\n",
              "        buttonEl.style.display =\n",
              "          google.colab.kernel.accessAllowed ? 'block' : 'none';\n",
              "\n",
              "        async function convertToInteractive(key) {\n",
              "          const element = document.querySelector('#df-3b22896a-dd54-4d6a-a0c0-000615ecfef8');\n",
              "          const dataTable =\n",
              "            await google.colab.kernel.invokeFunction('convertToInteractive',\n",
              "                                                     [key], {});\n",
              "          if (!dataTable) return;\n",
              "\n",
              "          const docLinkHtml = 'Like what you see? Visit the ' +\n",
              "            '<a target=\"_blank\" href=https://colab.research.google.com/notebooks/data_table.ipynb>data table notebook</a>'\n",
              "            + ' to learn more about interactive tables.';\n",
              "          element.innerHTML = '';\n",
              "          dataTable['output_type'] = 'display_data';\n",
              "          await google.colab.output.renderOutput(dataTable, element);\n",
              "          const docLink = document.createElement('div');\n",
              "          docLink.innerHTML = docLinkHtml;\n",
              "          element.appendChild(docLink);\n",
              "        }\n",
              "      </script>\n",
              "    </div>\n",
              "  </div>\n",
              "  "
            ]
          },
          "metadata": {},
          "execution_count": 13
        }
      ],
      "source": [
        " log.sample(10)"
      ]
    },
    {
      "cell_type": "markdown",
      "metadata": {
        "id": "EM-hc8K5SHjq"
      },
      "source": [
        "Добавим столбец с датой без времени"
      ]
    },
    {
      "cell_type": "code",
      "execution_count": null,
      "metadata": {
        "id": "IHDnLLuySM92"
      },
      "outputs": [],
      "source": [
        "log['date'] = log['date_time'].dt.date"
      ]
    },
    {
      "cell_type": "code",
      "execution_count": null,
      "metadata": {
        "colab": {
          "base_uri": "https://localhost:8080/",
          "height": 363
        },
        "id": "gRItR8zkS7x8",
        "outputId": "54e1b6c4-1eb9-49da-ac64-e9a079138ff3"
      },
      "outputs": [
        {
          "output_type": "execute_result",
          "data": {
            "text/plain": [
              "                          event                   id   timestamp  group  \\\n",
              "215761         MainScreenAppear  1413091616777106146  1565154943    247   \n",
              "197803         MainScreenAppear  6857413145640053090  1565101018    248   \n",
              "92624          MainScreenAppear  5027370568248751464  1564838295    246   \n",
              "214634         CartScreenAppear  1754140665440434215  1565151222    247   \n",
              "92765        OffersScreenAppear  8023623688519544332  1564838512    248   \n",
              "43145          CartScreenAppear  9110608674894233944  1564723097    246   \n",
              "103848       OffersScreenAppear  6377011691662227294  1564856628    246   \n",
              "105588         MainScreenAppear  5211717548134904196  1564860184    247   \n",
              "238917         MainScreenAppear  7358857170038129131  1565198768    248   \n",
              "104543  PaymentScreenSuccessful   674541835027541643  1564858073    248   \n",
              "\n",
              "                 date_time        date  \n",
              "215761 2019-08-07 05:15:43  2019-08-07  \n",
              "197803 2019-08-06 14:16:58  2019-08-06  \n",
              "92624  2019-08-03 13:18:15  2019-08-03  \n",
              "214634 2019-08-07 04:13:42  2019-08-07  \n",
              "92765  2019-08-03 13:21:52  2019-08-03  \n",
              "43145  2019-08-02 05:18:17  2019-08-02  \n",
              "103848 2019-08-03 18:23:48  2019-08-03  \n",
              "105588 2019-08-03 19:23:04  2019-08-03  \n",
              "238917 2019-08-07 17:26:08  2019-08-07  \n",
              "104543 2019-08-03 18:47:53  2019-08-03  "
            ],
            "text/html": [
              "\n",
              "  <div id=\"df-df062d02-718f-4c08-b8d5-8d629e976101\">\n",
              "    <div class=\"colab-df-container\">\n",
              "      <div>\n",
              "<style scoped>\n",
              "    .dataframe tbody tr th:only-of-type {\n",
              "        vertical-align: middle;\n",
              "    }\n",
              "\n",
              "    .dataframe tbody tr th {\n",
              "        vertical-align: top;\n",
              "    }\n",
              "\n",
              "    .dataframe thead th {\n",
              "        text-align: right;\n",
              "    }\n",
              "</style>\n",
              "<table border=\"1\" class=\"dataframe\">\n",
              "  <thead>\n",
              "    <tr style=\"text-align: right;\">\n",
              "      <th></th>\n",
              "      <th>event</th>\n",
              "      <th>id</th>\n",
              "      <th>timestamp</th>\n",
              "      <th>group</th>\n",
              "      <th>date_time</th>\n",
              "      <th>date</th>\n",
              "    </tr>\n",
              "  </thead>\n",
              "  <tbody>\n",
              "    <tr>\n",
              "      <th>215761</th>\n",
              "      <td>MainScreenAppear</td>\n",
              "      <td>1413091616777106146</td>\n",
              "      <td>1565154943</td>\n",
              "      <td>247</td>\n",
              "      <td>2019-08-07 05:15:43</td>\n",
              "      <td>2019-08-07</td>\n",
              "    </tr>\n",
              "    <tr>\n",
              "      <th>197803</th>\n",
              "      <td>MainScreenAppear</td>\n",
              "      <td>6857413145640053090</td>\n",
              "      <td>1565101018</td>\n",
              "      <td>248</td>\n",
              "      <td>2019-08-06 14:16:58</td>\n",
              "      <td>2019-08-06</td>\n",
              "    </tr>\n",
              "    <tr>\n",
              "      <th>92624</th>\n",
              "      <td>MainScreenAppear</td>\n",
              "      <td>5027370568248751464</td>\n",
              "      <td>1564838295</td>\n",
              "      <td>246</td>\n",
              "      <td>2019-08-03 13:18:15</td>\n",
              "      <td>2019-08-03</td>\n",
              "    </tr>\n",
              "    <tr>\n",
              "      <th>214634</th>\n",
              "      <td>CartScreenAppear</td>\n",
              "      <td>1754140665440434215</td>\n",
              "      <td>1565151222</td>\n",
              "      <td>247</td>\n",
              "      <td>2019-08-07 04:13:42</td>\n",
              "      <td>2019-08-07</td>\n",
              "    </tr>\n",
              "    <tr>\n",
              "      <th>92765</th>\n",
              "      <td>OffersScreenAppear</td>\n",
              "      <td>8023623688519544332</td>\n",
              "      <td>1564838512</td>\n",
              "      <td>248</td>\n",
              "      <td>2019-08-03 13:21:52</td>\n",
              "      <td>2019-08-03</td>\n",
              "    </tr>\n",
              "    <tr>\n",
              "      <th>43145</th>\n",
              "      <td>CartScreenAppear</td>\n",
              "      <td>9110608674894233944</td>\n",
              "      <td>1564723097</td>\n",
              "      <td>246</td>\n",
              "      <td>2019-08-02 05:18:17</td>\n",
              "      <td>2019-08-02</td>\n",
              "    </tr>\n",
              "    <tr>\n",
              "      <th>103848</th>\n",
              "      <td>OffersScreenAppear</td>\n",
              "      <td>6377011691662227294</td>\n",
              "      <td>1564856628</td>\n",
              "      <td>246</td>\n",
              "      <td>2019-08-03 18:23:48</td>\n",
              "      <td>2019-08-03</td>\n",
              "    </tr>\n",
              "    <tr>\n",
              "      <th>105588</th>\n",
              "      <td>MainScreenAppear</td>\n",
              "      <td>5211717548134904196</td>\n",
              "      <td>1564860184</td>\n",
              "      <td>247</td>\n",
              "      <td>2019-08-03 19:23:04</td>\n",
              "      <td>2019-08-03</td>\n",
              "    </tr>\n",
              "    <tr>\n",
              "      <th>238917</th>\n",
              "      <td>MainScreenAppear</td>\n",
              "      <td>7358857170038129131</td>\n",
              "      <td>1565198768</td>\n",
              "      <td>248</td>\n",
              "      <td>2019-08-07 17:26:08</td>\n",
              "      <td>2019-08-07</td>\n",
              "    </tr>\n",
              "    <tr>\n",
              "      <th>104543</th>\n",
              "      <td>PaymentScreenSuccessful</td>\n",
              "      <td>674541835027541643</td>\n",
              "      <td>1564858073</td>\n",
              "      <td>248</td>\n",
              "      <td>2019-08-03 18:47:53</td>\n",
              "      <td>2019-08-03</td>\n",
              "    </tr>\n",
              "  </tbody>\n",
              "</table>\n",
              "</div>\n",
              "      <button class=\"colab-df-convert\" onclick=\"convertToInteractive('df-df062d02-718f-4c08-b8d5-8d629e976101')\"\n",
              "              title=\"Convert this dataframe to an interactive table.\"\n",
              "              style=\"display:none;\">\n",
              "        \n",
              "  <svg xmlns=\"http://www.w3.org/2000/svg\" height=\"24px\"viewBox=\"0 0 24 24\"\n",
              "       width=\"24px\">\n",
              "    <path d=\"M0 0h24v24H0V0z\" fill=\"none\"/>\n",
              "    <path d=\"M18.56 5.44l.94 2.06.94-2.06 2.06-.94-2.06-.94-.94-2.06-.94 2.06-2.06.94zm-11 1L8.5 8.5l.94-2.06 2.06-.94-2.06-.94L8.5 2.5l-.94 2.06-2.06.94zm10 10l.94 2.06.94-2.06 2.06-.94-2.06-.94-.94-2.06-.94 2.06-2.06.94z\"/><path d=\"M17.41 7.96l-1.37-1.37c-.4-.4-.92-.59-1.43-.59-.52 0-1.04.2-1.43.59L10.3 9.45l-7.72 7.72c-.78.78-.78 2.05 0 2.83L4 21.41c.39.39.9.59 1.41.59.51 0 1.02-.2 1.41-.59l7.78-7.78 2.81-2.81c.8-.78.8-2.07 0-2.86zM5.41 20L4 18.59l7.72-7.72 1.47 1.35L5.41 20z\"/>\n",
              "  </svg>\n",
              "      </button>\n",
              "      \n",
              "  <style>\n",
              "    .colab-df-container {\n",
              "      display:flex;\n",
              "      flex-wrap:wrap;\n",
              "      gap: 12px;\n",
              "    }\n",
              "\n",
              "    .colab-df-convert {\n",
              "      background-color: #E8F0FE;\n",
              "      border: none;\n",
              "      border-radius: 50%;\n",
              "      cursor: pointer;\n",
              "      display: none;\n",
              "      fill: #1967D2;\n",
              "      height: 32px;\n",
              "      padding: 0 0 0 0;\n",
              "      width: 32px;\n",
              "    }\n",
              "\n",
              "    .colab-df-convert:hover {\n",
              "      background-color: #E2EBFA;\n",
              "      box-shadow: 0px 1px 2px rgba(60, 64, 67, 0.3), 0px 1px 3px 1px rgba(60, 64, 67, 0.15);\n",
              "      fill: #174EA6;\n",
              "    }\n",
              "\n",
              "    [theme=dark] .colab-df-convert {\n",
              "      background-color: #3B4455;\n",
              "      fill: #D2E3FC;\n",
              "    }\n",
              "\n",
              "    [theme=dark] .colab-df-convert:hover {\n",
              "      background-color: #434B5C;\n",
              "      box-shadow: 0px 1px 3px 1px rgba(0, 0, 0, 0.15);\n",
              "      filter: drop-shadow(0px 1px 2px rgba(0, 0, 0, 0.3));\n",
              "      fill: #FFFFFF;\n",
              "    }\n",
              "  </style>\n",
              "\n",
              "      <script>\n",
              "        const buttonEl =\n",
              "          document.querySelector('#df-df062d02-718f-4c08-b8d5-8d629e976101 button.colab-df-convert');\n",
              "        buttonEl.style.display =\n",
              "          google.colab.kernel.accessAllowed ? 'block' : 'none';\n",
              "\n",
              "        async function convertToInteractive(key) {\n",
              "          const element = document.querySelector('#df-df062d02-718f-4c08-b8d5-8d629e976101');\n",
              "          const dataTable =\n",
              "            await google.colab.kernel.invokeFunction('convertToInteractive',\n",
              "                                                     [key], {});\n",
              "          if (!dataTable) return;\n",
              "\n",
              "          const docLinkHtml = 'Like what you see? Visit the ' +\n",
              "            '<a target=\"_blank\" href=https://colab.research.google.com/notebooks/data_table.ipynb>data table notebook</a>'\n",
              "            + ' to learn more about interactive tables.';\n",
              "          element.innerHTML = '';\n",
              "          dataTable['output_type'] = 'display_data';\n",
              "          await google.colab.output.renderOutput(dataTable, element);\n",
              "          const docLink = document.createElement('div');\n",
              "          docLink.innerHTML = docLinkHtml;\n",
              "          element.appendChild(docLink);\n",
              "        }\n",
              "      </script>\n",
              "    </div>\n",
              "  </div>\n",
              "  "
            ]
          },
          "metadata": {},
          "execution_count": 15
        }
      ],
      "source": [
        " log.sample(10)"
      ]
    },
    {
      "cell_type": "markdown",
      "metadata": {
        "id": "1SB2KHcNUxeo"
      },
      "source": [
        "Проверим есть ли дубликаты "
      ]
    },
    {
      "cell_type": "code",
      "execution_count": null,
      "metadata": {
        "colab": {
          "base_uri": "https://localhost:8080/"
        },
        "id": "G6VUu4C1UVSI",
        "outputId": "db29c8a0-daca-4fec-84a4-d1aacf85e546"
      },
      "outputs": [
        {
          "output_type": "execute_result",
          "data": {
            "text/plain": [
              "413"
            ]
          },
          "metadata": {},
          "execution_count": 16
        }
      ],
      "source": [
        "log.duplicated().sum()"
      ]
    },
    {
      "cell_type": "markdown",
      "metadata": {
        "id": "zpD0w5eQU1WZ"
      },
      "source": [
        "413 полных дубликата, т.к. у нас время события указано до секунды, то это действительно дубликаты, а не повторные события примерно в тоже время. Удалим их."
      ]
    },
    {
      "cell_type": "code",
      "execution_count": null,
      "metadata": {
        "id": "dTwpZx1MVE0Y"
      },
      "outputs": [],
      "source": [
        "log = log.drop_duplicates()"
      ]
    },
    {
      "cell_type": "code",
      "execution_count": null,
      "metadata": {
        "colab": {
          "base_uri": "https://localhost:8080/"
        },
        "id": "9blNWZfOVVaM",
        "outputId": "71318140-0a8d-4adf-e8c3-31c57426a8f3"
      },
      "outputs": [
        {
          "output_type": "stream",
          "name": "stdout",
          "text": [
            "<class 'pandas.core.frame.DataFrame'>\n",
            "Int64Index: 243713 entries, 0 to 244125\n",
            "Data columns (total 6 columns):\n",
            " #   Column     Non-Null Count   Dtype         \n",
            "---  ------     --------------   -----         \n",
            " 0   event      243713 non-null  object        \n",
            " 1   id         243713 non-null  int64         \n",
            " 2   timestamp  243713 non-null  int64         \n",
            " 3   group      243713 non-null  int64         \n",
            " 4   date_time  243713 non-null  datetime64[ns]\n",
            " 5   date       243713 non-null  object        \n",
            "dtypes: datetime64[ns](1), int64(3), object(2)\n",
            "memory usage: 13.0+ MB\n"
          ]
        }
      ],
      "source": [
        "log.info()"
      ]
    },
    {
      "cell_type": "markdown",
      "metadata": {
        "id": "ps5A6rJt20Q6"
      },
      "source": [
        "Вывод по разделу: \n",
        "\n",
        "Мы прочитали данные, изменили формат столбца с датой, переименовали столбцы и удалили дубликаты"
      ]
    },
    {
      "cell_type": "markdown",
      "metadata": {
        "id": "4nj6WEFqRBTY"
      },
      "source": [
        "## Изучение и проверка данных"
      ]
    },
    {
      "cell_type": "markdown",
      "metadata": {
        "id": "VLUyG3w3TfWf"
      },
      "source": [
        "### Сколько всего событий в логе"
      ]
    },
    {
      "cell_type": "code",
      "execution_count": null,
      "metadata": {
        "colab": {
          "base_uri": "https://localhost:8080/"
        },
        "id": "fZcYU7YK8M3s",
        "outputId": "3ea11795-368f-4c46-f8f6-3ffc7d7a60a7"
      },
      "outputs": [
        {
          "output_type": "execute_result",
          "data": {
            "text/plain": [
              "243713"
            ]
          },
          "metadata": {},
          "execution_count": 80
        }
      ],
      "source": [
        "log['event'].count()"
      ]
    },
    {
      "cell_type": "markdown",
      "metadata": {
        "id": "M_97P8GfVmic"
      },
      "source": [
        "У нас в таблице осталось 24713 событий."
      ]
    },
    {
      "cell_type": "markdown",
      "metadata": {
        "id": "Pz4H2NMjOnPW"
      },
      "source": [
        "### Сколько всего пользователей в логе?"
      ]
    },
    {
      "cell_type": "code",
      "execution_count": null,
      "metadata": {
        "colab": {
          "base_uri": "https://localhost:8080/"
        },
        "id": "WSH3XEoTUCvT",
        "outputId": "6c39686a-3969-432e-b174-afe66263f59e"
      },
      "outputs": [
        {
          "output_type": "execute_result",
          "data": {
            "text/plain": [
              "7551"
            ]
          },
          "metadata": {},
          "execution_count": 81
        }
      ],
      "source": [
        "log['id'].nunique()"
      ]
    },
    {
      "cell_type": "markdown",
      "metadata": {
        "id": "4WtXpYQrO_mm"
      },
      "source": [
        "В логе сведения о 7551 уникальных пользователях"
      ]
    },
    {
      "cell_type": "markdown",
      "metadata": {
        "id": "yfLWsYFdPAtg"
      },
      "source": [
        "### Сколько в среднем событий приходится на пользователя?"
      ]
    },
    {
      "cell_type": "markdown",
      "metadata": {
        "id": "O_sdUZeO4XRR"
      },
      "source": [
        "Посмотрим на распределение количества событий"
      ]
    },
    {
      "cell_type": "code",
      "execution_count": null,
      "metadata": {
        "colab": {
          "base_uri": "https://localhost:8080/",
          "height": 318
        },
        "id": "VAjYiTL740W2",
        "outputId": "f4547325-b3f1-4782-a4ae-a1b4a7c35192"
      },
      "outputs": [
        {
          "output_type": "execute_result",
          "data": {
            "text/plain": [
              "array([[<matplotlib.axes._subplots.AxesSubplot object at 0x7fb8c67db510>]],\n",
              "      dtype=object)"
            ]
          },
          "metadata": {},
          "execution_count": 82
        },
        {
          "output_type": "display_data",
          "data": {
            "text/plain": [
              "<Figure size 432x288 with 1 Axes>"
            ],
            "image/png": "[encoded data removed]"
          },
          "metadata": {
            "needs_background": "light"
          }
        }
      ],
      "source": [
        "log.groupby('id').agg({'event':'count'}).hist(bins=1000)"
      ]
    },
    {
      "cell_type": "markdown",
      "metadata": {
        "id": "NGo_-vvn5NRW"
      },
      "source": [
        "Мы видим, что есть пользователи, которые совершают очень много действий, более 600. Отбрасывать их не стоит, т.к. мы не знаем возможно ли такое взаимодействие с нашим магазином (скорее всего возможно, какие-то постоянные покупатели, которые за 7 дней купили 700 товаров). Поэтому среднее будет сдвигаться в большую сторону и не отобразит реальной картины, лучше использовать медиану."
      ]
    },
    {
      "cell_type": "code",
      "execution_count": null,
      "metadata": {
        "colab": {
          "base_uri": "https://localhost:8080/"
        },
        "id": "mt1Q5907O4vq",
        "outputId": "5cfa0c2d-04bd-4441-94ee-326b1e7694b9"
      },
      "outputs": [
        {
          "output_type": "execute_result",
          "data": {
            "text/plain": [
              "event    32.275593\n",
              "dtype: float64"
            ]
          },
          "metadata": {},
          "execution_count": 83
        }
      ],
      "source": [
        "log.groupby('id').agg({'event':'count'}).mean()"
      ]
    },
    {
      "cell_type": "code",
      "execution_count": null,
      "metadata": {
        "colab": {
          "base_uri": "https://localhost:8080/"
        },
        "id": "ZpZm9BYL4Tvq",
        "outputId": "1a872291-1340-43e9-8c13-471333babe06"
      },
      "outputs": [
        {
          "output_type": "execute_result",
          "data": {
            "text/plain": [
              "event    20.0\n",
              "dtype: float64"
            ]
          },
          "metadata": {},
          "execution_count": 84
        }
      ],
      "source": [
        "log.groupby('id').agg({'event':'count'}).median()"
      ]
    },
    {
      "cell_type": "markdown",
      "metadata": {
        "id": "dgZoipFg4eQq"
      },
      "source": [
        "В среднем на одного пользователя приходится 32 события, а медиана на уровне 20 событий на пользователя. "
      ]
    },
    {
      "cell_type": "markdown",
      "metadata": {
        "id": "8sKPyqUZUVC2"
      },
      "source": [
        "### Данными за какой период мы располагаем?"
      ]
    },
    {
      "cell_type": "code",
      "execution_count": null,
      "metadata": {
        "colab": {
          "base_uri": "https://localhost:8080/"
        },
        "id": "9i48QqTmPjE7",
        "outputId": "d11f6f5b-9d07-414a-cebb-cc740cd56d64"
      },
      "outputs": [
        {
          "output_type": "execute_result",
          "data": {
            "text/plain": [
              "Timestamp('2019-08-07 21:15:17')"
            ]
          },
          "metadata": {},
          "execution_count": 85
        }
      ],
      "source": [
        "log['date_time'].max()"
      ]
    },
    {
      "cell_type": "code",
      "execution_count": null,
      "metadata": {
        "colab": {
          "base_uri": "https://localhost:8080/"
        },
        "id": "N-VyOALR7kPa",
        "outputId": "29dfa26f-8284-48c0-aa1f-6da10dc73dbc"
      },
      "outputs": [
        {
          "output_type": "execute_result",
          "data": {
            "text/plain": [
              "Timestamp('2019-07-25 04:43:36')"
            ]
          },
          "metadata": {},
          "execution_count": 86
        }
      ],
      "source": [
        "log['date_time'].min()"
      ]
    },
    {
      "cell_type": "markdown",
      "metadata": {
        "id": "yfrFz5xD7wTL"
      },
      "source": [
        "У нас есть данные с 25 июля 2019 года по 7 августа 20019\n",
        "\n",
        "Построим гистограмму по дате и времени. "
      ]
    },
    {
      "cell_type": "code",
      "execution_count": null,
      "metadata": {
        "colab": {
          "base_uri": "https://localhost:8080/",
          "height": 551
        },
        "id": "5Twkumsd7uXY",
        "outputId": "f299935e-1e80-4a55-f179-50961dd615a1"
      },
      "outputs": [
        {
          "output_type": "display_data",
          "data": {
            "text/plain": [
              "<Figure size 1440x720 with 1 Axes>"
            ],
            "image/png": "[encoded data removed]"
          },
          "metadata": {
            "needs_background": "light"
          }
        }
      ],
      "source": [
        "fig = plt.figure(figsize = (20,10))\n",
        "ax = log['date_time'].hist(bins=200)\n",
        "\n",
        "plt.xlabel('Дата', fontsize = 15)\n",
        "plt.ylabel('Количество событий', fontsize = 15)\n",
        "plt.title('Нормальное распределение', fontsize = 15)\n",
        "plt.show()"
      ]
    },
    {
      "cell_type": "markdown",
      "metadata": {
        "id": "CPKT9G2Y9BJg"
      },
      "source": [
        "Мы видим на графике, что большая часть событий была совершена с 1 августа. Полные данные у нас с 1 августа, до этого момента их очень мало и можно отбросить. Возможно раньше были совершены какие-то действия клиентами, которые  войдут в полные данные, например кто-то смотрел главную страницу до 1.08, а купил уже после. Но с другой стороны у нас данные есть ровно по конец дня 7.08. и также будут клиенты, которые сделали 1-2 действия, но совершили покупку позже, так что перекоса думаю не будет."
      ]
    },
    {
      "cell_type": "code",
      "execution_count": null,
      "metadata": {
        "id": "ohKC2SKv43hf"
      },
      "outputs": [],
      "source": [
        "log_filter = log.query('datetime(2019, 8, 1).date() <= date <= datetime(2019, 8, 7).date()')"
      ]
    },
    {
      "cell_type": "markdown",
      "metadata": {
        "id": "qnb5OTKl7hUe"
      },
      "source": [
        "Получается полные данные у нас есть за 1 неделю, с 1.08. по 07.08.2019"
      ]
    },
    {
      "cell_type": "markdown",
      "metadata": {
        "id": "RBfq7Ctp7uZt"
      },
      "source": [
        "### Много ли событий и пользователей вы потеряли, отбросив старые данные?"
      ]
    },
    {
      "cell_type": "code",
      "execution_count": null,
      "metadata": {
        "colab": {
          "base_uri": "https://localhost:8080/"
        },
        "id": "xNWr9swa7xPP",
        "outputId": "d53de10a-8bf3-459a-de92-f76e4924f8fa"
      },
      "outputs": [
        {
          "output_type": "execute_result",
          "data": {
            "text/plain": [
              "17"
            ]
          },
          "metadata": {},
          "execution_count": 89
        }
      ],
      "source": [
        "log['id'].nunique()-log_filter['id'].nunique()"
      ]
    },
    {
      "cell_type": "code",
      "execution_count": null,
      "metadata": {
        "colab": {
          "base_uri": "https://localhost:8080/"
        },
        "id": "b535TgarEFlt",
        "outputId": "3e79bb21-65ba-4b0e-cff1-1163a77e68c6"
      },
      "outputs": [
        {
          "output_type": "execute_result",
          "data": {
            "text/plain": [
              "2826"
            ]
          },
          "metadata": {},
          "execution_count": 90
        }
      ],
      "source": [
        "log['event'].count()-log_filter['event'].count()"
      ]
    },
    {
      "cell_type": "markdown",
      "metadata": {
        "id": "JxsrfayP8Ry3"
      },
      "source": [
        "Мы потеряли 17 пользователей и 2826 событий. "
      ]
    },
    {
      "cell_type": "markdown",
      "metadata": {
        "id": "zWEVbmsOCa2T"
      },
      "source": [
        "Рассчитаем сколько это в процентах от общего числа"
      ]
    },
    {
      "cell_type": "code",
      "execution_count": null,
      "metadata": {
        "colab": {
          "base_uri": "https://localhost:8080/"
        },
        "id": "r3luSgWb8gan",
        "outputId": "3529b003-d172-4000-9f5c-e6db4fdd0e19"
      },
      "outputs": [
        {
          "output_type": "execute_result",
          "data": {
            "text/plain": [
              "0.23"
            ]
          },
          "metadata": {},
          "execution_count": 91
        }
      ],
      "source": [
        "round(((log['id'].nunique()-log_filter['id'].nunique())/log['id'].nunique() * 100),2)"
      ]
    },
    {
      "cell_type": "code",
      "execution_count": null,
      "metadata": {
        "colab": {
          "base_uri": "https://localhost:8080/"
        },
        "id": "e29-cP5W8Il5",
        "outputId": "cba4df22-f33f-4a11-fd4e-59f1c614dd4a"
      },
      "outputs": [
        {
          "output_type": "execute_result",
          "data": {
            "text/plain": [
              "1.16"
            ]
          },
          "metadata": {},
          "execution_count": 92
        }
      ],
      "source": [
        "round(((log['event'].count()-log_filter['event'].count())/log['event'].count() * 100),2)"
      ]
    },
    {
      "cell_type": "markdown",
      "metadata": {
        "id": "BOwMWiQT9Iqg"
      },
      "source": [
        "Это около 1% событий и 0,23% пользователей. Доли получились очень маленькие, решение отбросить их не повлияет на результаты исследования"
      ]
    },
    {
      "cell_type": "markdown",
      "metadata": {
        "id": "v1gGB3Ec9bkB"
      },
      "source": [
        "### Проверим, что у нас есть пользователи из всех трёх экспериментальных групп."
      ]
    },
    {
      "cell_type": "code",
      "execution_count": null,
      "metadata": {
        "colab": {
          "base_uri": "https://localhost:8080/",
          "height": 175
        },
        "id": "3ZSBGduD9Gv-",
        "outputId": "0c6cf3c4-7706-45b3-c7c8-f85cdfe1bb00"
      },
      "outputs": [
        {
          "output_type": "execute_result",
          "data": {
            "text/plain": [
              "       event\n",
              "group       \n",
              "246    79302\n",
              "247    77022\n",
              "248    84563"
            ],
            "text/html": [
              "\n",
              "  <div id=\"df-22b73b96-d4c3-4f98-b50e-6082fea4cc64\">\n",
              "    <div class=\"colab-df-container\">\n",
              "      <div>\n",
              "<style scoped>\n",
              "    .dataframe tbody tr th:only-of-type {\n",
              "        vertical-align: middle;\n",
              "    }\n",
              "\n",
              "    .dataframe tbody tr th {\n",
              "        vertical-align: top;\n",
              "    }\n",
              "\n",
              "    .dataframe thead th {\n",
              "        text-align: right;\n",
              "    }\n",
              "</style>\n",
              "<table border=\"1\" class=\"dataframe\">\n",
              "  <thead>\n",
              "    <tr style=\"text-align: right;\">\n",
              "      <th></th>\n",
              "      <th>event</th>\n",
              "    </tr>\n",
              "    <tr>\n",
              "      <th>group</th>\n",
              "      <th></th>\n",
              "    </tr>\n",
              "  </thead>\n",
              "  <tbody>\n",
              "    <tr>\n",
              "      <th>246</th>\n",
              "      <td>79302</td>\n",
              "    </tr>\n",
              "    <tr>\n",
              "      <th>247</th>\n",
              "      <td>77022</td>\n",
              "    </tr>\n",
              "    <tr>\n",
              "      <th>248</th>\n",
              "      <td>84563</td>\n",
              "    </tr>\n",
              "  </tbody>\n",
              "</table>\n",
              "</div>\n",
              "      <button class=\"colab-df-convert\" onclick=\"convertToInteractive('df-22b73b96-d4c3-4f98-b50e-6082fea4cc64')\"\n",
              "              title=\"Convert this dataframe to an interactive table.\"\n",
              "              style=\"display:none;\">\n",
              "        \n",
              "  <svg xmlns=\"http://www.w3.org/2000/svg\" height=\"24px\"viewBox=\"0 0 24 24\"\n",
              "       width=\"24px\">\n",
              "    <path d=\"M0 0h24v24H0V0z\" fill=\"none\"/>\n",
              "    <path d=\"M18.56 5.44l.94 2.06.94-2.06 2.06-.94-2.06-.94-.94-2.06-.94 2.06-2.06.94zm-11 1L8.5 8.5l.94-2.06 2.06-.94-2.06-.94L8.5 2.5l-.94 2.06-2.06.94zm10 10l.94 2.06.94-2.06 2.06-.94-2.06-.94-.94-2.06-.94 2.06-2.06.94z\"/><path d=\"M17.41 7.96l-1.37-1.37c-.4-.4-.92-.59-1.43-.59-.52 0-1.04.2-1.43.59L10.3 9.45l-7.72 7.72c-.78.78-.78 2.05 0 2.83L4 21.41c.39.39.9.59 1.41.59.51 0 1.02-.2 1.41-.59l7.78-7.78 2.81-2.81c.8-.78.8-2.07 0-2.86zM5.41 20L4 18.59l7.72-7.72 1.47 1.35L5.41 20z\"/>\n",
              "  </svg>\n",
              "      </button>\n",
              "      \n",
              "  <style>\n",
              "    .colab-df-container {\n",
              "      display:flex;\n",
              "      flex-wrap:wrap;\n",
              "      gap: 12px;\n",
              "    }\n",
              "\n",
              "    .colab-df-convert {\n",
              "      background-color: #E8F0FE;\n",
              "      border: none;\n",
              "      border-radius: 50%;\n",
              "      cursor: pointer;\n",
              "      display: none;\n",
              "      fill: #1967D2;\n",
              "      height: 32px;\n",
              "      padding: 0 0 0 0;\n",
              "      width: 32px;\n",
              "    }\n",
              "\n",
              "    .colab-df-convert:hover {\n",
              "      background-color: #E2EBFA;\n",
              "      box-shadow: 0px 1px 2px rgba(60, 64, 67, 0.3), 0px 1px 3px 1px rgba(60, 64, 67, 0.15);\n",
              "      fill: #174EA6;\n",
              "    }\n",
              "\n",
              "    [theme=dark] .colab-df-convert {\n",
              "      background-color: #3B4455;\n",
              "      fill: #D2E3FC;\n",
              "    }\n",
              "\n",
              "    [theme=dark] .colab-df-convert:hover {\n",
              "      background-color: #434B5C;\n",
              "      box-shadow: 0px 1px 3px 1px rgba(0, 0, 0, 0.15);\n",
              "      filter: drop-shadow(0px 1px 2px rgba(0, 0, 0, 0.3));\n",
              "      fill: #FFFFFF;\n",
              "    }\n",
              "  </style>\n",
              "\n",
              "      <script>\n",
              "        const buttonEl =\n",
              "          document.querySelector('#df-22b73b96-d4c3-4f98-b50e-6082fea4cc64 button.colab-df-convert');\n",
              "        buttonEl.style.display =\n",
              "          google.colab.kernel.accessAllowed ? 'block' : 'none';\n",
              "\n",
              "        async function convertToInteractive(key) {\n",
              "          const element = document.querySelector('#df-22b73b96-d4c3-4f98-b50e-6082fea4cc64');\n",
              "          const dataTable =\n",
              "            await google.colab.kernel.invokeFunction('convertToInteractive',\n",
              "                                                     [key], {});\n",
              "          if (!dataTable) return;\n",
              "\n",
              "          const docLinkHtml = 'Like what you see? Visit the ' +\n",
              "            '<a target=\"_blank\" href=https://colab.research.google.com/notebooks/data_table.ipynb>data table notebook</a>'\n",
              "            + ' to learn more about interactive tables.';\n",
              "          element.innerHTML = '';\n",
              "          dataTable['output_type'] = 'display_data';\n",
              "          await google.colab.output.renderOutput(dataTable, element);\n",
              "          const docLink = document.createElement('div');\n",
              "          docLink.innerHTML = docLinkHtml;\n",
              "          element.appendChild(docLink);\n",
              "        }\n",
              "      </script>\n",
              "    </div>\n",
              "  </div>\n",
              "  "
            ]
          },
          "metadata": {},
          "execution_count": 93
        }
      ],
      "source": [
        "log_filter.groupby('group').agg({'event':'count'})"
      ]
    },
    {
      "cell_type": "markdown",
      "metadata": {
        "id": "Ivx5z4g0-ISu"
      },
      "source": [
        "У нас есть пользователи из всех трех групп"
      ]
    },
    {
      "cell_type": "markdown",
      "metadata": {
        "id": "yoZT4lAs821v"
      },
      "source": [
        "Проверим, есть ли пользователи, которые попали сразу в 2 или более группы"
      ]
    },
    {
      "cell_type": "code",
      "execution_count": null,
      "metadata": {
        "colab": {
          "base_uri": "https://localhost:8080/"
        },
        "id": "CPNbOSmJ8woj",
        "outputId": "9109d37e-9f7d-4b20-a7ed-bea0c1db2471"
      },
      "outputs": [
        {
          "output_type": "execute_result",
          "data": {
            "text/plain": [
              "0"
            ]
          },
          "metadata": {},
          "execution_count": 94
        }
      ],
      "source": [
        "log_filter.groupby('id').agg({'group':'nunique'}).query('group>1').shape[0]"
      ]
    },
    {
      "cell_type": "markdown",
      "metadata": {
        "id": "GrJ9eDkH89z5"
      },
      "source": [
        "Таких пользователей нет. Все пользователи находятся только в одной группе"
      ]
    },
    {
      "cell_type": "markdown",
      "metadata": {
        "id": "TzMqQwvDChZB"
      },
      "source": [
        "*Вывод по разделу:*\n",
        "\n",
        "Мы изучили данные выяснили:\n",
        "\n",
        "- в таблице  24713 событий и 7551 уникальных пользователей\n",
        "\n",
        "- в среднем (по медиане) 20 событий на пользователя\n",
        "\n",
        "- полные данные у нас есть за 1 неделю, с 1.08. по 07.08.2019\n",
        "\n",
        "- из-за первоначальных не полных данных мы отбросили 1% событий и 0,23% пользователей\n",
        "\n",
        "- у нас есть пользователи из всех 3 групп и они не пересекаются"
      ]
    },
    {
      "cell_type": "markdown",
      "metadata": {
        "id": "Cs3jAY99DMUA"
      },
      "source": [
        "## Изучим воронку событий"
      ]
    },
    {
      "cell_type": "markdown",
      "metadata": {
        "id": "HQ2UO0AdFJqX"
      },
      "source": [
        "Посмотрим, какие события есть в логах, как часто они встречаются. "
      ]
    },
    {
      "cell_type": "code",
      "execution_count": null,
      "metadata": {
        "colab": {
          "base_uri": "https://localhost:8080/",
          "height": 206
        },
        "id": "voMxF_Th-EPC",
        "outputId": "e85e1f41-d9d1-43f0-95ac-9dd864503b7d"
      },
      "outputs": [
        {
          "output_type": "execute_result",
          "data": {
            "text/plain": [
              "                     event   count\n",
              "0         MainScreenAppear  117328\n",
              "1       OffersScreenAppear   46333\n",
              "2         CartScreenAppear   42303\n",
              "3  PaymentScreenSuccessful   33918\n",
              "4                 Tutorial    1005"
            ],
            "text/html": [
              "\n",
              "  <div id=\"df-50fc0d2e-0cd8-4b87-abe9-7395f44b4eb3\">\n",
              "    <div class=\"colab-df-container\">\n",
              "      <div>\n",
              "<style scoped>\n",
              "    .dataframe tbody tr th:only-of-type {\n",
              "        vertical-align: middle;\n",
              "    }\n",
              "\n",
              "    .dataframe tbody tr th {\n",
              "        vertical-align: top;\n",
              "    }\n",
              "\n",
              "    .dataframe thead th {\n",
              "        text-align: right;\n",
              "    }\n",
              "</style>\n",
              "<table border=\"1\" class=\"dataframe\">\n",
              "  <thead>\n",
              "    <tr style=\"text-align: right;\">\n",
              "      <th></th>\n",
              "      <th>event</th>\n",
              "      <th>count</th>\n",
              "    </tr>\n",
              "  </thead>\n",
              "  <tbody>\n",
              "    <tr>\n",
              "      <th>0</th>\n",
              "      <td>MainScreenAppear</td>\n",
              "      <td>117328</td>\n",
              "    </tr>\n",
              "    <tr>\n",
              "      <th>1</th>\n",
              "      <td>OffersScreenAppear</td>\n",
              "      <td>46333</td>\n",
              "    </tr>\n",
              "    <tr>\n",
              "      <th>2</th>\n",
              "      <td>CartScreenAppear</td>\n",
              "      <td>42303</td>\n",
              "    </tr>\n",
              "    <tr>\n",
              "      <th>3</th>\n",
              "      <td>PaymentScreenSuccessful</td>\n",
              "      <td>33918</td>\n",
              "    </tr>\n",
              "    <tr>\n",
              "      <th>4</th>\n",
              "      <td>Tutorial</td>\n",
              "      <td>1005</td>\n",
              "    </tr>\n",
              "  </tbody>\n",
              "</table>\n",
              "</div>\n",
              "      <button class=\"colab-df-convert\" onclick=\"convertToInteractive('df-50fc0d2e-0cd8-4b87-abe9-7395f44b4eb3')\"\n",
              "              title=\"Convert this dataframe to an interactive table.\"\n",
              "              style=\"display:none;\">\n",
              "        \n",
              "  <svg xmlns=\"http://www.w3.org/2000/svg\" height=\"24px\"viewBox=\"0 0 24 24\"\n",
              "       width=\"24px\">\n",
              "    <path d=\"M0 0h24v24H0V0z\" fill=\"none\"/>\n",
              "    <path d=\"M18.56 5.44l.94 2.06.94-2.06 2.06-.94-2.06-.94-.94-2.06-.94 2.06-2.06.94zm-11 1L8.5 8.5l.94-2.06 2.06-.94-2.06-.94L8.5 2.5l-.94 2.06-2.06.94zm10 10l.94 2.06.94-2.06 2.06-.94-2.06-.94-.94-2.06-.94 2.06-2.06.94z\"/><path d=\"M17.41 7.96l-1.37-1.37c-.4-.4-.92-.59-1.43-.59-.52 0-1.04.2-1.43.59L10.3 9.45l-7.72 7.72c-.78.78-.78 2.05 0 2.83L4 21.41c.39.39.9.59 1.41.59.51 0 1.02-.2 1.41-.59l7.78-7.78 2.81-2.81c.8-.78.8-2.07 0-2.86zM5.41 20L4 18.59l7.72-7.72 1.47 1.35L5.41 20z\"/>\n",
              "  </svg>\n",
              "      </button>\n",
              "      \n",
              "  <style>\n",
              "    .colab-df-container {\n",
              "      display:flex;\n",
              "      flex-wrap:wrap;\n",
              "      gap: 12px;\n",
              "    }\n",
              "\n",
              "    .colab-df-convert {\n",
              "      background-color: #E8F0FE;\n",
              "      border: none;\n",
              "      border-radius: 50%;\n",
              "      cursor: pointer;\n",
              "      display: none;\n",
              "      fill: #1967D2;\n",
              "      height: 32px;\n",
              "      padding: 0 0 0 0;\n",
              "      width: 32px;\n",
              "    }\n",
              "\n",
              "    .colab-df-convert:hover {\n",
              "      background-color: #E2EBFA;\n",
              "      box-shadow: 0px 1px 2px rgba(60, 64, 67, 0.3), 0px 1px 3px 1px rgba(60, 64, 67, 0.15);\n",
              "      fill: #174EA6;\n",
              "    }\n",
              "\n",
              "    [theme=dark] .colab-df-convert {\n",
              "      background-color: #3B4455;\n",
              "      fill: #D2E3FC;\n",
              "    }\n",
              "\n",
              "    [theme=dark] .colab-df-convert:hover {\n",
              "      background-color: #434B5C;\n",
              "      box-shadow: 0px 1px 3px 1px rgba(0, 0, 0, 0.15);\n",
              "      filter: drop-shadow(0px 1px 2px rgba(0, 0, 0, 0.3));\n",
              "      fill: #FFFFFF;\n",
              "    }\n",
              "  </style>\n",
              "\n",
              "      <script>\n",
              "        const buttonEl =\n",
              "          document.querySelector('#df-50fc0d2e-0cd8-4b87-abe9-7395f44b4eb3 button.colab-df-convert');\n",
              "        buttonEl.style.display =\n",
              "          google.colab.kernel.accessAllowed ? 'block' : 'none';\n",
              "\n",
              "        async function convertToInteractive(key) {\n",
              "          const element = document.querySelector('#df-50fc0d2e-0cd8-4b87-abe9-7395f44b4eb3');\n",
              "          const dataTable =\n",
              "            await google.colab.kernel.invokeFunction('convertToInteractive',\n",
              "                                                     [key], {});\n",
              "          if (!dataTable) return;\n",
              "\n",
              "          const docLinkHtml = 'Like what you see? Visit the ' +\n",
              "            '<a target=\"_blank\" href=https://colab.research.google.com/notebooks/data_table.ipynb>data table notebook</a>'\n",
              "            + ' to learn more about interactive tables.';\n",
              "          element.innerHTML = '';\n",
              "          dataTable['output_type'] = 'display_data';\n",
              "          await google.colab.output.renderOutput(dataTable, element);\n",
              "          const docLink = document.createElement('div');\n",
              "          docLink.innerHTML = docLinkHtml;\n",
              "          element.appendChild(docLink);\n",
              "        }\n",
              "      </script>\n",
              "    </div>\n",
              "  </div>\n",
              "  "
            ]
          },
          "metadata": {},
          "execution_count": 34
        }
      ],
      "source": [
        "event_g = log_filter.groupby('event').agg({'date':'count'}).sort_values(by = 'date', ascending = False).reset_index()\n",
        "event_g.columns = ['event', 'count']\n",
        "event_g"
      ]
    },
    {
      "cell_type": "markdown",
      "metadata": {
        "id": "fI0svVQLI1sm"
      },
      "source": [
        "Посчитаем, сколько пользователей совершали каждое из этих событий. Отсортируем события по числу пользователей."
      ]
    },
    {
      "cell_type": "code",
      "execution_count": null,
      "metadata": {
        "colab": {
          "base_uri": "https://localhost:8080/",
          "height": 206
        },
        "id": "35g2LUXcH_zn",
        "outputId": "5449a246-b380-4d91-aa68-15932479d2f3"
      },
      "outputs": [
        {
          "output_type": "execute_result",
          "data": {
            "text/plain": [
              "                     event    id\n",
              "0         MainScreenAppear  7419\n",
              "1       OffersScreenAppear  4593\n",
              "2         CartScreenAppear  3734\n",
              "3  PaymentScreenSuccessful  3539\n",
              "4                 Tutorial   840"
            ],
            "text/html": [
              "\n",
              "  <div id=\"df-f2b52670-2cc7-4302-a223-434a4985a45f\">\n",
              "    <div class=\"colab-df-container\">\n",
              "      <div>\n",
              "<style scoped>\n",
              "    .dataframe tbody tr th:only-of-type {\n",
              "        vertical-align: middle;\n",
              "    }\n",
              "\n",
              "    .dataframe tbody tr th {\n",
              "        vertical-align: top;\n",
              "    }\n",
              "\n",
              "    .dataframe thead th {\n",
              "        text-align: right;\n",
              "    }\n",
              "</style>\n",
              "<table border=\"1\" class=\"dataframe\">\n",
              "  <thead>\n",
              "    <tr style=\"text-align: right;\">\n",
              "      <th></th>\n",
              "      <th>event</th>\n",
              "      <th>id</th>\n",
              "    </tr>\n",
              "  </thead>\n",
              "  <tbody>\n",
              "    <tr>\n",
              "      <th>0</th>\n",
              "      <td>MainScreenAppear</td>\n",
              "      <td>7419</td>\n",
              "    </tr>\n",
              "    <tr>\n",
              "      <th>1</th>\n",
              "      <td>OffersScreenAppear</td>\n",
              "      <td>4593</td>\n",
              "    </tr>\n",
              "    <tr>\n",
              "      <th>2</th>\n",
              "      <td>CartScreenAppear</td>\n",
              "      <td>3734</td>\n",
              "    </tr>\n",
              "    <tr>\n",
              "      <th>3</th>\n",
              "      <td>PaymentScreenSuccessful</td>\n",
              "      <td>3539</td>\n",
              "    </tr>\n",
              "    <tr>\n",
              "      <th>4</th>\n",
              "      <td>Tutorial</td>\n",
              "      <td>840</td>\n",
              "    </tr>\n",
              "  </tbody>\n",
              "</table>\n",
              "</div>\n",
              "      <button class=\"colab-df-convert\" onclick=\"convertToInteractive('df-f2b52670-2cc7-4302-a223-434a4985a45f')\"\n",
              "              title=\"Convert this dataframe to an interactive table.\"\n",
              "              style=\"display:none;\">\n",
              "        \n",
              "  <svg xmlns=\"http://www.w3.org/2000/svg\" height=\"24px\"viewBox=\"0 0 24 24\"\n",
              "       width=\"24px\">\n",
              "    <path d=\"M0 0h24v24H0V0z\" fill=\"none\"/>\n",
              "    <path d=\"M18.56 5.44l.94 2.06.94-2.06 2.06-.94-2.06-.94-.94-2.06-.94 2.06-2.06.94zm-11 1L8.5 8.5l.94-2.06 2.06-.94-2.06-.94L8.5 2.5l-.94 2.06-2.06.94zm10 10l.94 2.06.94-2.06 2.06-.94-2.06-.94-.94-2.06-.94 2.06-2.06.94z\"/><path d=\"M17.41 7.96l-1.37-1.37c-.4-.4-.92-.59-1.43-.59-.52 0-1.04.2-1.43.59L10.3 9.45l-7.72 7.72c-.78.78-.78 2.05 0 2.83L4 21.41c.39.39.9.59 1.41.59.51 0 1.02-.2 1.41-.59l7.78-7.78 2.81-2.81c.8-.78.8-2.07 0-2.86zM5.41 20L4 18.59l7.72-7.72 1.47 1.35L5.41 20z\"/>\n",
              "  </svg>\n",
              "      </button>\n",
              "      \n",
              "  <style>\n",
              "    .colab-df-container {\n",
              "      display:flex;\n",
              "      flex-wrap:wrap;\n",
              "      gap: 12px;\n",
              "    }\n",
              "\n",
              "    .colab-df-convert {\n",
              "      background-color: #E8F0FE;\n",
              "      border: none;\n",
              "      border-radius: 50%;\n",
              "      cursor: pointer;\n",
              "      display: none;\n",
              "      fill: #1967D2;\n",
              "      height: 32px;\n",
              "      padding: 0 0 0 0;\n",
              "      width: 32px;\n",
              "    }\n",
              "\n",
              "    .colab-df-convert:hover {\n",
              "      background-color: #E2EBFA;\n",
              "      box-shadow: 0px 1px 2px rgba(60, 64, 67, 0.3), 0px 1px 3px 1px rgba(60, 64, 67, 0.15);\n",
              "      fill: #174EA6;\n",
              "    }\n",
              "\n",
              "    [theme=dark] .colab-df-convert {\n",
              "      background-color: #3B4455;\n",
              "      fill: #D2E3FC;\n",
              "    }\n",
              "\n",
              "    [theme=dark] .colab-df-convert:hover {\n",
              "      background-color: #434B5C;\n",
              "      box-shadow: 0px 1px 3px 1px rgba(0, 0, 0, 0.15);\n",
              "      filter: drop-shadow(0px 1px 2px rgba(0, 0, 0, 0.3));\n",
              "      fill: #FFFFFF;\n",
              "    }\n",
              "  </style>\n",
              "\n",
              "      <script>\n",
              "        const buttonEl =\n",
              "          document.querySelector('#df-f2b52670-2cc7-4302-a223-434a4985a45f button.colab-df-convert');\n",
              "        buttonEl.style.display =\n",
              "          google.colab.kernel.accessAllowed ? 'block' : 'none';\n",
              "\n",
              "        async function convertToInteractive(key) {\n",
              "          const element = document.querySelector('#df-f2b52670-2cc7-4302-a223-434a4985a45f');\n",
              "          const dataTable =\n",
              "            await google.colab.kernel.invokeFunction('convertToInteractive',\n",
              "                                                     [key], {});\n",
              "          if (!dataTable) return;\n",
              "\n",
              "          const docLinkHtml = 'Like what you see? Visit the ' +\n",
              "            '<a target=\"_blank\" href=https://colab.research.google.com/notebooks/data_table.ipynb>data table notebook</a>'\n",
              "            + ' to learn more about interactive tables.';\n",
              "          element.innerHTML = '';\n",
              "          dataTable['output_type'] = 'display_data';\n",
              "          await google.colab.output.renderOutput(dataTable, element);\n",
              "          const docLink = document.createElement('div');\n",
              "          docLink.innerHTML = docLinkHtml;\n",
              "          element.appendChild(docLink);\n",
              "        }\n",
              "      </script>\n",
              "    </div>\n",
              "  </div>\n",
              "  "
            ]
          },
          "metadata": {},
          "execution_count": 35
        }
      ],
      "source": [
        "id_e = log_filter.groupby('event').agg({'id':'nunique'}).sort_values(by = 'id', ascending = False).reset_index()\n",
        "id_e.columns = ['event', 'id']\n",
        "id_e"
      ]
    },
    {
      "cell_type": "markdown",
      "metadata": {
        "id": "dqY01a4CIyNN"
      },
      "source": [
        " Посчитайте долю пользователей, которые хоть раз совершали событие."
      ]
    },
    {
      "cell_type": "code",
      "execution_count": null,
      "metadata": {
        "id": "-G1bDGpdIa_l"
      },
      "outputs": [],
      "source": [
        "id_e['ratio'] = round((id_e['id']/log_filter['id'].nunique()),2)"
      ]
    },
    {
      "cell_type": "code",
      "execution_count": null,
      "metadata": {
        "colab": {
          "base_uri": "https://localhost:8080/",
          "height": 206
        },
        "id": "zupEwXxlKL9n",
        "outputId": "3ad0ed3b-de5a-4b86-9e63-74d2802f9560"
      },
      "outputs": [
        {
          "output_type": "execute_result",
          "data": {
            "text/plain": [
              "                     event    id  ratio\n",
              "0         MainScreenAppear  7419   0.98\n",
              "1       OffersScreenAppear  4593   0.61\n",
              "2         CartScreenAppear  3734   0.50\n",
              "3  PaymentScreenSuccessful  3539   0.47\n",
              "4                 Tutorial   840   0.11"
            ],
            "text/html": [
              "\n",
              "  <div id=\"df-6ef46ec0-31cf-470b-81ca-5b455055af26\">\n",
              "    <div class=\"colab-df-container\">\n",
              "      <div>\n",
              "<style scoped>\n",
              "    .dataframe tbody tr th:only-of-type {\n",
              "        vertical-align: middle;\n",
              "    }\n",
              "\n",
              "    .dataframe tbody tr th {\n",
              "        vertical-align: top;\n",
              "    }\n",
              "\n",
              "    .dataframe thead th {\n",
              "        text-align: right;\n",
              "    }\n",
              "</style>\n",
              "<table border=\"1\" class=\"dataframe\">\n",
              "  <thead>\n",
              "    <tr style=\"text-align: right;\">\n",
              "      <th></th>\n",
              "      <th>event</th>\n",
              "      <th>id</th>\n",
              "      <th>ratio</th>\n",
              "    </tr>\n",
              "  </thead>\n",
              "  <tbody>\n",
              "    <tr>\n",
              "      <th>0</th>\n",
              "      <td>MainScreenAppear</td>\n",
              "      <td>7419</td>\n",
              "      <td>0.98</td>\n",
              "    </tr>\n",
              "    <tr>\n",
              "      <th>1</th>\n",
              "      <td>OffersScreenAppear</td>\n",
              "      <td>4593</td>\n",
              "      <td>0.61</td>\n",
              "    </tr>\n",
              "    <tr>\n",
              "      <th>2</th>\n",
              "      <td>CartScreenAppear</td>\n",
              "      <td>3734</td>\n",
              "      <td>0.50</td>\n",
              "    </tr>\n",
              "    <tr>\n",
              "      <th>3</th>\n",
              "      <td>PaymentScreenSuccessful</td>\n",
              "      <td>3539</td>\n",
              "      <td>0.47</td>\n",
              "    </tr>\n",
              "    <tr>\n",
              "      <th>4</th>\n",
              "      <td>Tutorial</td>\n",
              "      <td>840</td>\n",
              "      <td>0.11</td>\n",
              "    </tr>\n",
              "  </tbody>\n",
              "</table>\n",
              "</div>\n",
              "      <button class=\"colab-df-convert\" onclick=\"convertToInteractive('df-6ef46ec0-31cf-470b-81ca-5b455055af26')\"\n",
              "              title=\"Convert this dataframe to an interactive table.\"\n",
              "              style=\"display:none;\">\n",
              "        \n",
              "  <svg xmlns=\"http://www.w3.org/2000/svg\" height=\"24px\"viewBox=\"0 0 24 24\"\n",
              "       width=\"24px\">\n",
              "    <path d=\"M0 0h24v24H0V0z\" fill=\"none\"/>\n",
              "    <path d=\"M18.56 5.44l.94 2.06.94-2.06 2.06-.94-2.06-.94-.94-2.06-.94 2.06-2.06.94zm-11 1L8.5 8.5l.94-2.06 2.06-.94-2.06-.94L8.5 2.5l-.94 2.06-2.06.94zm10 10l.94 2.06.94-2.06 2.06-.94-2.06-.94-.94-2.06-.94 2.06-2.06.94z\"/><path d=\"M17.41 7.96l-1.37-1.37c-.4-.4-.92-.59-1.43-.59-.52 0-1.04.2-1.43.59L10.3 9.45l-7.72 7.72c-.78.78-.78 2.05 0 2.83L4 21.41c.39.39.9.59 1.41.59.51 0 1.02-.2 1.41-.59l7.78-7.78 2.81-2.81c.8-.78.8-2.07 0-2.86zM5.41 20L4 18.59l7.72-7.72 1.47 1.35L5.41 20z\"/>\n",
              "  </svg>\n",
              "      </button>\n",
              "      \n",
              "  <style>\n",
              "    .colab-df-container {\n",
              "      display:flex;\n",
              "      flex-wrap:wrap;\n",
              "      gap: 12px;\n",
              "    }\n",
              "\n",
              "    .colab-df-convert {\n",
              "      background-color: #E8F0FE;\n",
              "      border: none;\n",
              "      border-radius: 50%;\n",
              "      cursor: pointer;\n",
              "      display: none;\n",
              "      fill: #1967D2;\n",
              "      height: 32px;\n",
              "      padding: 0 0 0 0;\n",
              "      width: 32px;\n",
              "    }\n",
              "\n",
              "    .colab-df-convert:hover {\n",
              "      background-color: #E2EBFA;\n",
              "      box-shadow: 0px 1px 2px rgba(60, 64, 67, 0.3), 0px 1px 3px 1px rgba(60, 64, 67, 0.15);\n",
              "      fill: #174EA6;\n",
              "    }\n",
              "\n",
              "    [theme=dark] .colab-df-convert {\n",
              "      background-color: #3B4455;\n",
              "      fill: #D2E3FC;\n",
              "    }\n",
              "\n",
              "    [theme=dark] .colab-df-convert:hover {\n",
              "      background-color: #434B5C;\n",
              "      box-shadow: 0px 1px 3px 1px rgba(0, 0, 0, 0.15);\n",
              "      filter: drop-shadow(0px 1px 2px rgba(0, 0, 0, 0.3));\n",
              "      fill: #FFFFFF;\n",
              "    }\n",
              "  </style>\n",
              "\n",
              "      <script>\n",
              "        const buttonEl =\n",
              "          document.querySelector('#df-6ef46ec0-31cf-470b-81ca-5b455055af26 button.colab-df-convert');\n",
              "        buttonEl.style.display =\n",
              "          google.colab.kernel.accessAllowed ? 'block' : 'none';\n",
              "\n",
              "        async function convertToInteractive(key) {\n",
              "          const element = document.querySelector('#df-6ef46ec0-31cf-470b-81ca-5b455055af26');\n",
              "          const dataTable =\n",
              "            await google.colab.kernel.invokeFunction('convertToInteractive',\n",
              "                                                     [key], {});\n",
              "          if (!dataTable) return;\n",
              "\n",
              "          const docLinkHtml = 'Like what you see? Visit the ' +\n",
              "            '<a target=\"_blank\" href=https://colab.research.google.com/notebooks/data_table.ipynb>data table notebook</a>'\n",
              "            + ' to learn more about interactive tables.';\n",
              "          element.innerHTML = '';\n",
              "          dataTable['output_type'] = 'display_data';\n",
              "          await google.colab.output.renderOutput(dataTable, element);\n",
              "          const docLink = document.createElement('div');\n",
              "          docLink.innerHTML = docLinkHtml;\n",
              "          element.appendChild(docLink);\n",
              "        }\n",
              "      </script>\n",
              "    </div>\n",
              "  </div>\n",
              "  "
            ]
          },
          "metadata": {},
          "execution_count": 37
        }
      ],
      "source": [
        "id_e"
      ]
    },
    {
      "cell_type": "markdown",
      "metadata": {
        "id": "LheBxx_E9Q7P"
      },
      "source": [
        "Мы видим 5 видов событий в логе.\n",
        "\n",
        "Больше всего MainScreenAppear - видимо это просмотры главной страницы, \n",
        "\n",
        "затем OffersScreenAppear - просмотры товаров,\n",
        "\n",
        "CartScreenAppear - добавление товаров в корзину, \n",
        "\n",
        "PaymentScreenSuccessful - успешный платеж, \n",
        "\n",
        "Tutorial - обращение к инструкции"
      ]
    },
    {
      "cell_type": "markdown",
      "metadata": {
        "id": "zuJyo8Cc9ZPh"
      },
      "source": [
        "Все события, кроме просмотра инструкции выстраиваются в логическую цепочку. Клиент заходит на главную страницу, просматривает товары, добавляет их в корзину и оплачивает выбранные товары. Инструкцию(руководство) клиент может смотреть на любом шаге и это не обязательное действие. Правильно будет убрать Tutorial из воронки"
      ]
    },
    {
      "cell_type": "code",
      "execution_count": null,
      "metadata": {
        "colab": {
          "base_uri": "https://localhost:8080/",
          "height": 175
        },
        "id": "6ujVfHnX-9Fv",
        "outputId": "16b339ed-edd3-4c23-ce18-af558c9ff195"
      },
      "outputs": [
        {
          "output_type": "execute_result",
          "data": {
            "text/plain": [
              "                     event    id  ratio\n",
              "0         MainScreenAppear  7419   0.98\n",
              "1       OffersScreenAppear  4593   0.61\n",
              "2         CartScreenAppear  3734   0.50\n",
              "3  PaymentScreenSuccessful  3539   0.47"
            ],
            "text/html": [
              "\n",
              "  <div id=\"df-5dbb18d4-047b-45e4-993d-82d88199a45f\">\n",
              "    <div class=\"colab-df-container\">\n",
              "      <div>\n",
              "<style scoped>\n",
              "    .dataframe tbody tr th:only-of-type {\n",
              "        vertical-align: middle;\n",
              "    }\n",
              "\n",
              "    .dataframe tbody tr th {\n",
              "        vertical-align: top;\n",
              "    }\n",
              "\n",
              "    .dataframe thead th {\n",
              "        text-align: right;\n",
              "    }\n",
              "</style>\n",
              "<table border=\"1\" class=\"dataframe\">\n",
              "  <thead>\n",
              "    <tr style=\"text-align: right;\">\n",
              "      <th></th>\n",
              "      <th>event</th>\n",
              "      <th>id</th>\n",
              "      <th>ratio</th>\n",
              "    </tr>\n",
              "  </thead>\n",
              "  <tbody>\n",
              "    <tr>\n",
              "      <th>0</th>\n",
              "      <td>MainScreenAppear</td>\n",
              "      <td>7419</td>\n",
              "      <td>0.98</td>\n",
              "    </tr>\n",
              "    <tr>\n",
              "      <th>1</th>\n",
              "      <td>OffersScreenAppear</td>\n",
              "      <td>4593</td>\n",
              "      <td>0.61</td>\n",
              "    </tr>\n",
              "    <tr>\n",
              "      <th>2</th>\n",
              "      <td>CartScreenAppear</td>\n",
              "      <td>3734</td>\n",
              "      <td>0.50</td>\n",
              "    </tr>\n",
              "    <tr>\n",
              "      <th>3</th>\n",
              "      <td>PaymentScreenSuccessful</td>\n",
              "      <td>3539</td>\n",
              "      <td>0.47</td>\n",
              "    </tr>\n",
              "  </tbody>\n",
              "</table>\n",
              "</div>\n",
              "      <button class=\"colab-df-convert\" onclick=\"convertToInteractive('df-5dbb18d4-047b-45e4-993d-82d88199a45f')\"\n",
              "              title=\"Convert this dataframe to an interactive table.\"\n",
              "              style=\"display:none;\">\n",
              "        \n",
              "  <svg xmlns=\"http://www.w3.org/2000/svg\" height=\"24px\"viewBox=\"0 0 24 24\"\n",
              "       width=\"24px\">\n",
              "    <path d=\"M0 0h24v24H0V0z\" fill=\"none\"/>\n",
              "    <path d=\"M18.56 5.44l.94 2.06.94-2.06 2.06-.94-2.06-.94-.94-2.06-.94 2.06-2.06.94zm-11 1L8.5 8.5l.94-2.06 2.06-.94-2.06-.94L8.5 2.5l-.94 2.06-2.06.94zm10 10l.94 2.06.94-2.06 2.06-.94-2.06-.94-.94-2.06-.94 2.06-2.06.94z\"/><path d=\"M17.41 7.96l-1.37-1.37c-.4-.4-.92-.59-1.43-.59-.52 0-1.04.2-1.43.59L10.3 9.45l-7.72 7.72c-.78.78-.78 2.05 0 2.83L4 21.41c.39.39.9.59 1.41.59.51 0 1.02-.2 1.41-.59l7.78-7.78 2.81-2.81c.8-.78.8-2.07 0-2.86zM5.41 20L4 18.59l7.72-7.72 1.47 1.35L5.41 20z\"/>\n",
              "  </svg>\n",
              "      </button>\n",
              "      \n",
              "  <style>\n",
              "    .colab-df-container {\n",
              "      display:flex;\n",
              "      flex-wrap:wrap;\n",
              "      gap: 12px;\n",
              "    }\n",
              "\n",
              "    .colab-df-convert {\n",
              "      background-color: #E8F0FE;\n",
              "      border: none;\n",
              "      border-radius: 50%;\n",
              "      cursor: pointer;\n",
              "      display: none;\n",
              "      fill: #1967D2;\n",
              "      height: 32px;\n",
              "      padding: 0 0 0 0;\n",
              "      width: 32px;\n",
              "    }\n",
              "\n",
              "    .colab-df-convert:hover {\n",
              "      background-color: #E2EBFA;\n",
              "      box-shadow: 0px 1px 2px rgba(60, 64, 67, 0.3), 0px 1px 3px 1px rgba(60, 64, 67, 0.15);\n",
              "      fill: #174EA6;\n",
              "    }\n",
              "\n",
              "    [theme=dark] .colab-df-convert {\n",
              "      background-color: #3B4455;\n",
              "      fill: #D2E3FC;\n",
              "    }\n",
              "\n",
              "    [theme=dark] .colab-df-convert:hover {\n",
              "      background-color: #434B5C;\n",
              "      box-shadow: 0px 1px 3px 1px rgba(0, 0, 0, 0.15);\n",
              "      filter: drop-shadow(0px 1px 2px rgba(0, 0, 0, 0.3));\n",
              "      fill: #FFFFFF;\n",
              "    }\n",
              "  </style>\n",
              "\n",
              "      <script>\n",
              "        const buttonEl =\n",
              "          document.querySelector('#df-5dbb18d4-047b-45e4-993d-82d88199a45f button.colab-df-convert');\n",
              "        buttonEl.style.display =\n",
              "          google.colab.kernel.accessAllowed ? 'block' : 'none';\n",
              "\n",
              "        async function convertToInteractive(key) {\n",
              "          const element = document.querySelector('#df-5dbb18d4-047b-45e4-993d-82d88199a45f');\n",
              "          const dataTable =\n",
              "            await google.colab.kernel.invokeFunction('convertToInteractive',\n",
              "                                                     [key], {});\n",
              "          if (!dataTable) return;\n",
              "\n",
              "          const docLinkHtml = 'Like what you see? Visit the ' +\n",
              "            '<a target=\"_blank\" href=https://colab.research.google.com/notebooks/data_table.ipynb>data table notebook</a>'\n",
              "            + ' to learn more about interactive tables.';\n",
              "          element.innerHTML = '';\n",
              "          dataTable['output_type'] = 'display_data';\n",
              "          await google.colab.output.renderOutput(dataTable, element);\n",
              "          const docLink = document.createElement('div');\n",
              "          docLink.innerHTML = docLinkHtml;\n",
              "          element.appendChild(docLink);\n",
              "        }\n",
              "      </script>\n",
              "    </div>\n",
              "  </div>\n",
              "  "
            ]
          },
          "metadata": {},
          "execution_count": 38
        }
      ],
      "source": [
        "id_f = id_e[0:4]\n",
        "id_f"
      ]
    },
    {
      "cell_type": "markdown",
      "metadata": {
        "id": "Z9YlXv4s-R7U"
      },
      "source": [
        "Построим график воронки"
      ]
    },
    {
      "cell_type": "code",
      "execution_count": null,
      "metadata": {
        "colab": {
          "base_uri": "https://localhost:8080/",
          "height": 542
        },
        "id": "ELkpx8yBKN1m",
        "outputId": "508ecf86-8021-429d-de83-0f7a32d9173f"
      },
      "outputs": [
        {
          "output_type": "display_data",
          "data": {
            "text/html": [
              "<html>\n",
              "<head><meta charset=\"utf-8\" /></head>\n",
              "<body>\n",
              "    <div>            <script src=\"https://cdnjs.cloudflare.com/ajax/libs/mathjax/2.7.5/MathJax.js?config=TeX-AMS-MML_SVG\"></script><script type=\"text/javascript\">if (window.MathJax) {MathJax.Hub.Config({SVG: {font: \"STIX-Web\"}});}</script>                <script type=\"text/javascript\">window.PlotlyConfig = {MathJaxConfig: 'local'};</script>\n",
              "        <script src=\"https://cdn.plot.ly/plotly-2.8.3.min.js\"></script>                <div id=\"8d5ab687-28c2-4af2-ba3f-8af80d810aee\" class=\"plotly-graph-div\" style=\"height:525px; width:100%;\"></div>            <script type=\"text/javascript\">                                    window.PLOTLYENV=window.PLOTLYENV || {};                                    if (document.getElementById(\"8d5ab687-28c2-4af2-ba3f-8af80d810aee\")) {                    Plotly.newPlot(                        \"8d5ab687-28c2-4af2-ba3f-8af80d810aee\",                        [{\"textinfo\":\"value+percent initial+percent previous\",\"x\":[7419,4593,3734,3539],\"y\":[\"\\u041f\\u043e\\u0441\\u0435\\u0442\\u0438\\u0442\\u0435\\u043b\\u0435\\u0439 \\u0433\\u043b\\u0430\\u0432\\u043d\\u043e\\u0439 \\u0441\\u0442\\u0440\\u0430\\u043d\\u0438\\u0446\\u044b\",\"\\u041f\\u043e\\u0441\\u043c\\u043e\\u0442\\u0440\\u0435\\u043b\\u0438 \\u0442\\u043e\\u0432\\u0430\\u0440\",\"\\u0414\\u043e\\u0431\\u0430\\u0432\\u0438\\u043b\\u0438 \\u0442\\u043e\\u0432\\u0430\\u0440 \\u0432 \\u043a\\u043e\\u0440\\u0437\\u0438\\u043d\\u0443\",\"\\u041e\\u043f\\u043b\\u0430\\u0442\\u0438\\u043b\\u0438\"],\"type\":\"funnel\"}],                        {\"template\":{\"data\":{\"bar\":[{\"error_x\":{\"color\":\"#2a3f5f\"},\"error_y\":{\"color\":\"#2a3f5f\"},\"marker\":{\"line\":{\"color\":\"#E5ECF6\",\"width\":0.5},\"pattern\":{\"fillmode\":\"overlay\",\"size\":10,\"solidity\":0.2}},\"type\":\"bar\"}],\"barpolar\":[{\"marker\":{\"line\":{\"color\":\"#E5ECF6\",\"width\":0.5},\"pattern\":{\"fillmode\":\"overlay\",\"size\":10,\"solidity\":0.2}},\"type\":\"barpolar\"}],\"carpet\":[{\"aaxis\":{\"endlinecolor\":\"#2a3f5f\",\"gridcolor\":\"white\",\"linecolor\":\"white\",\"minorgridcolor\":\"white\",\"startlinecolor\":\"#2a3f5f\"},\"baxis\":{\"endlinecolor\":\"#2a3f5f\",\"gridcolor\":\"white\",\"linecolor\":\"white\",\"minorgridcolor\":\"white\",\"startlinecolor\":\"#2a3f5f\"},\"type\":\"carpet\"}],\"choropleth\":[{\"colorbar\":{\"outlinewidth\":0,\"ticks\":\"\"},\"type\":\"choropleth\"}],\"contour\":[{\"colorbar\":{\"outlinewidth\":0,\"ticks\":\"\"},\"colorscale\":[[0.0,\"#0d0887\"],[0.1111111111111111,\"#46039f\"],[0.2222222222222222,\"#7201a8\"],[0.3333333333333333,\"#9c179e\"],[0.4444444444444444,\"#bd3786\"],[0.5555555555555556,\"#d8576b\"],[0.6666666666666666,\"#ed7953\"],[0.7777777777777778,\"#fb9f3a\"],[0.8888888888888888,\"#fdca26\"],[1.0,\"#f0f921\"]],\"type\":\"contour\"}],\"contourcarpet\":[{\"colorbar\":{\"outlinewidth\":0,\"ticks\":\"\"},\"type\":\"contourcarpet\"}],\"heatmap\":[{\"colorbar\":{\"outlinewidth\":0,\"ticks\":\"\"},\"colorscale\":[[0.0,\"#0d0887\"],[0.1111111111111111,\"#46039f\"],[0.2222222222222222,\"#7201a8\"],[0.3333333333333333,\"#9c179e\"],[0.4444444444444444,\"#bd3786\"],[0.5555555555555556,\"#d8576b\"],[0.6666666666666666,\"#ed7953\"],[0.7777777777777778,\"#fb9f3a\"],[0.8888888888888888,\"#fdca26\"],[1.0,\"#f0f921\"]],\"type\":\"heatmap\"}],\"heatmapgl\":[{\"colorbar\":{\"outlinewidth\":0,\"ticks\":\"\"},\"colorscale\":[[0.0,\"#0d0887\"],[0.1111111111111111,\"#46039f\"],[0.2222222222222222,\"#7201a8\"],[0.3333333333333333,\"#9c179e\"],[0.4444444444444444,\"#bd3786\"],[0.5555555555555556,\"#d8576b\"],[0.6666666666666666,\"#ed7953\"],[0.7777777777777778,\"#fb9f3a\"],[0.8888888888888888,\"#fdca26\"],[1.0,\"#f0f921\"]],\"type\":\"heatmapgl\"}],\"histogram\":[{\"marker\":{\"pattern\":{\"fillmode\":\"overlay\",\"size\":10,\"solidity\":0.2}},\"type\":\"histogram\"}],\"histogram2d\":[{\"colorbar\":{\"outlinewidth\":0,\"ticks\":\"\"},\"colorscale\":[[0.0,\"#0d0887\"],[0.1111111111111111,\"#46039f\"],[0.2222222222222222,\"#7201a8\"],[0.3333333333333333,\"#9c179e\"],[0.4444444444444444,\"#bd3786\"],[0.5555555555555556,\"#d8576b\"],[0.6666666666666666,\"#ed7953\"],[0.7777777777777778,\"#fb9f3a\"],[0.8888888888888888,\"#fdca26\"],[1.0,\"#f0f921\"]],\"type\":\"histogram2d\"}],\"histogram2dcontour\":[{\"colorbar\":{\"outlinewidth\":0,\"ticks\":\"\"},\"colorscale\":[[0.0,\"#0d0887\"],[0.1111111111111111,\"#46039f\"],[0.2222222222222222,\"#7201a8\"],[0.3333333333333333,\"#9c179e\"],[0.4444444444444444,\"#bd3786\"],[0.5555555555555556,\"#d8576b\"],[0.6666666666666666,\"#ed7953\"],[0.7777777777777778,\"#fb9f3a\"],[0.8888888888888888,\"#fdca26\"],[1.0,\"#f0f921\"]],\"type\":\"histogram2dcontour\"}],\"mesh3d\":[{\"colorbar\":{\"outlinewidth\":0,\"ticks\":\"\"},\"type\":\"mesh3d\"}],\"parcoords\":[{\"line\":{\"colorbar\":{\"outlinewidth\":0,\"ticks\":\"\"}},\"type\":\"parcoords\"}],\"pie\":[{\"automargin\":true,\"type\":\"pie\"}],\"scatter\":[{\"marker\":{\"colorbar\":{\"outlinewidth\":0,\"ticks\":\"\"}},\"type\":\"scatter\"}],\"scatter3d\":[{\"line\":{\"colorbar\":{\"outlinewidth\":0,\"ticks\":\"\"}},\"marker\":{\"colorbar\":{\"outlinewidth\":0,\"ticks\":\"\"}},\"type\":\"scatter3d\"}],\"scattercarpet\":[{\"marker\":{\"colorbar\":{\"outlinewidth\":0,\"ticks\":\"\"}},\"type\":\"scattercarpet\"}],\"scattergeo\":[{\"marker\":{\"colorbar\":{\"outlinewidth\":0,\"ticks\":\"\"}},\"type\":\"scattergeo\"}],\"scattergl\":[{\"marker\":{\"colorbar\":{\"outlinewidth\":0,\"ticks\":\"\"}},\"type\":\"scattergl\"}],\"scattermapbox\":[{\"marker\":{\"colorbar\":{\"outlinewidth\":0,\"ticks\":\"\"}},\"type\":\"scattermapbox\"}],\"scatterpolar\":[{\"marker\":{\"colorbar\":{\"outlinewidth\":0,\"ticks\":\"\"}},\"type\":\"scatterpolar\"}],\"scatterpolargl\":[{\"marker\":{\"colorbar\":{\"outlinewidth\":0,\"ticks\":\"\"}},\"type\":\"scatterpolargl\"}],\"scatterternary\":[{\"marker\":{\"colorbar\":{\"outlinewidth\":0,\"ticks\":\"\"}},\"type\":\"scatterternary\"}],\"surface\":[{\"colorbar\":{\"outlinewidth\":0,\"ticks\":\"\"},\"colorscale\":[[0.0,\"#0d0887\"],[0.1111111111111111,\"#46039f\"],[0.2222222222222222,\"#7201a8\"],[0.3333333333333333,\"#9c179e\"],[0.4444444444444444,\"#bd3786\"],[0.5555555555555556,\"#d8576b\"],[0.6666666666666666,\"#ed7953\"],[0.7777777777777778,\"#fb9f3a\"],[0.8888888888888888,\"#fdca26\"],[1.0,\"#f0f921\"]],\"type\":\"surface\"}],\"table\":[{\"cells\":{\"fill\":{\"color\":\"#EBF0F8\"},\"line\":{\"color\":\"white\"}},\"header\":{\"fill\":{\"color\":\"#C8D4E3\"},\"line\":{\"color\":\"white\"}},\"type\":\"table\"}]},\"layout\":{\"annotationdefaults\":{\"arrowcolor\":\"#2a3f5f\",\"arrowhead\":0,\"arrowwidth\":1},\"autotypenumbers\":\"strict\",\"coloraxis\":{\"colorbar\":{\"outlinewidth\":0,\"ticks\":\"\"}},\"colorscale\":{\"diverging\":[[0,\"#8e0152\"],[0.1,\"#c51b7d\"],[0.2,\"#de77ae\"],[0.3,\"#f1b6da\"],[0.4,\"#fde0ef\"],[0.5,\"#f7f7f7\"],[0.6,\"#e6f5d0\"],[0.7,\"#b8e186\"],[0.8,\"#7fbc41\"],[0.9,\"#4d9221\"],[1,\"#276419\"]],\"sequential\":[[0.0,\"#0d0887\"],[0.1111111111111111,\"#46039f\"],[0.2222222222222222,\"#7201a8\"],[0.3333333333333333,\"#9c179e\"],[0.4444444444444444,\"#bd3786\"],[0.5555555555555556,\"#d8576b\"],[0.6666666666666666,\"#ed7953\"],[0.7777777777777778,\"#fb9f3a\"],[0.8888888888888888,\"#fdca26\"],[1.0,\"#f0f921\"]],\"sequentialminus\":[[0.0,\"#0d0887\"],[0.1111111111111111,\"#46039f\"],[0.2222222222222222,\"#7201a8\"],[0.3333333333333333,\"#9c179e\"],[0.4444444444444444,\"#bd3786\"],[0.5555555555555556,\"#d8576b\"],[0.6666666666666666,\"#ed7953\"],[0.7777777777777778,\"#fb9f3a\"],[0.8888888888888888,\"#fdca26\"],[1.0,\"#f0f921\"]]},\"colorway\":[\"#636efa\",\"#EF553B\",\"#00cc96\",\"#ab63fa\",\"#FFA15A\",\"#19d3f3\",\"#FF6692\",\"#B6E880\",\"#FF97FF\",\"#FECB52\"],\"font\":{\"color\":\"#2a3f5f\"},\"geo\":{\"bgcolor\":\"white\",\"lakecolor\":\"white\",\"landcolor\":\"#E5ECF6\",\"showlakes\":true,\"showland\":true,\"subunitcolor\":\"white\"},\"hoverlabel\":{\"align\":\"left\"},\"hovermode\":\"closest\",\"mapbox\":{\"style\":\"light\"},\"paper_bgcolor\":\"white\",\"plot_bgcolor\":\"#E5ECF6\",\"polar\":{\"angularaxis\":{\"gridcolor\":\"white\",\"linecolor\":\"white\",\"ticks\":\"\"},\"bgcolor\":\"#E5ECF6\",\"radialaxis\":{\"gridcolor\":\"white\",\"linecolor\":\"white\",\"ticks\":\"\"}},\"scene\":{\"xaxis\":{\"backgroundcolor\":\"#E5ECF6\",\"gridcolor\":\"white\",\"gridwidth\":2,\"linecolor\":\"white\",\"showbackground\":true,\"ticks\":\"\",\"zerolinecolor\":\"white\"},\"yaxis\":{\"backgroundcolor\":\"#E5ECF6\",\"gridcolor\":\"white\",\"gridwidth\":2,\"linecolor\":\"white\",\"showbackground\":true,\"ticks\":\"\",\"zerolinecolor\":\"white\"},\"zaxis\":{\"backgroundcolor\":\"#E5ECF6\",\"gridcolor\":\"white\",\"gridwidth\":2,\"linecolor\":\"white\",\"showbackground\":true,\"ticks\":\"\",\"zerolinecolor\":\"white\"}},\"shapedefaults\":{\"line\":{\"color\":\"#2a3f5f\"}},\"ternary\":{\"aaxis\":{\"gridcolor\":\"white\",\"linecolor\":\"white\",\"ticks\":\"\"},\"baxis\":{\"gridcolor\":\"white\",\"linecolor\":\"white\",\"ticks\":\"\"},\"bgcolor\":\"#E5ECF6\",\"caxis\":{\"gridcolor\":\"white\",\"linecolor\":\"white\",\"ticks\":\"\"}},\"title\":{\"x\":0.05},\"xaxis\":{\"automargin\":true,\"gridcolor\":\"white\",\"linecolor\":\"white\",\"ticks\":\"\",\"title\":{\"standoff\":15},\"zerolinecolor\":\"white\",\"zerolinewidth\":2},\"yaxis\":{\"automargin\":true,\"gridcolor\":\"white\",\"linecolor\":\"white\",\"ticks\":\"\",\"title\":{\"standoff\":15},\"zerolinecolor\":\"white\",\"zerolinewidth\":2}}}},                        {\"responsive\": true}                    ).then(function(){\n",
              "                            \n",
              "var gd = document.getElementById('8d5ab687-28c2-4af2-ba3f-8af80d810aee');\n",
              "var x = new MutationObserver(function (mutations, observer) {{\n",
              "        var display = window.getComputedStyle(gd).display;\n",
              "        if (!display || display === 'none') {{\n",
              "            console.log([gd, 'removed!']);\n",
              "            Plotly.purge(gd);\n",
              "            observer.disconnect();\n",
              "        }}\n",
              "}});\n",
              "\n",
              "// Listen for the removal of the full notebook cells\n",
              "var notebookContainer = gd.closest('#notebook-container');\n",
              "if (notebookContainer) {{\n",
              "    x.observe(notebookContainer, {childList: true});\n",
              "}}\n",
              "\n",
              "// Listen for the clearing of the current output cell\n",
              "var outputEl = gd.closest('.output');\n",
              "if (outputEl) {{\n",
              "    x.observe(outputEl, {childList: true});\n",
              "}}\n",
              "\n",
              "                        })                };                            </script>        </div>\n",
              "</body>\n",
              "</html>"
            ]
          },
          "metadata": {}
        }
      ],
      "source": [
        "fig = go.Figure(\n",
        "    go.Funnel(\n",
        "        y=[\n",
        "            'Посетителей главной страницы',\n",
        "            'Посмотрели товар',\n",
        "            'Добавили товар в корзину',\n",
        "            'Оплатили'\n",
        "        ],\n",
        "        x=id_f['id'],\n",
        "         textinfo = \"value+percent initial+percent previous\"\n",
        "    )\n",
        ")\n",
        "fig.show() "
      ]
    },
    {
      "cell_type": "markdown",
      "metadata": {
        "id": "oxm3LTe_zMaO"
      },
      "source": [
        "*Вывод по разделу:*\n",
        "\n",
        "По воронке мы видим, что от общего числа посетителей главной страницы, перешли на следующий шаг - просмотр товара - 62%, добавили товар в корзину 50% от общего числа посетителей и 81% от пользователей прошедших предыдущий шаг, оплатили товар - 48% от общего числа посетителей и 95% от пользователей прошедших предыдущий шаг.\n",
        "\n",
        "Получается, что больше всего пользователей теряется между шагом 1 и 2: просмотром главной страницы и просмотром товаров, потеряли 38% посетителей. \n",
        "\n",
        "До шага оплаты дошли 48% от первоначального числа посетителей."
      ]
    },
    {
      "cell_type": "markdown",
      "metadata": {
        "id": "NZBJAmi1NwYA"
      },
      "source": [
        "## Изучим результаты эксперимента"
      ]
    },
    {
      "cell_type": "markdown",
      "metadata": {
        "id": "Zh-W7Yr1N1Cp"
      },
      "source": [
        "Дизайнеры захотели поменять шрифты во всём приложении, а менеджеры испугались, что пользователям будет непривычно. Договорились принять решение по результатам A/A/B-теста. Пользователей разбили на 3 группы: 2 контрольные со старыми шрифтами и одну экспериментальную — с новыми. Выясним, какой шрифт лучше."
      ]
    },
    {
      "cell_type": "markdown",
      "metadata": {
        "id": "jHqBtCDvN9mw"
      },
      "source": [
        "### Посчитаем сколько пользователей в каждой экспериментальной группе"
      ]
    },
    {
      "cell_type": "code",
      "execution_count": null,
      "metadata": {
        "colab": {
          "base_uri": "https://localhost:8080/",
          "height": 143
        },
        "id": "A7Ez9PPiOFtK",
        "outputId": "8eb6eadd-ad29-4e8e-a2ca-5ca7cc20bf7a"
      },
      "outputs": [
        {
          "output_type": "execute_result",
          "data": {
            "text/plain": [
              "   group    id\n",
              "0    246  2484\n",
              "1    247  2513\n",
              "2    248  2537"
            ],
            "text/html": [
              "\n",
              "  <div id=\"df-1394dfcd-7653-46ca-be8c-e0d16409fede\">\n",
              "    <div class=\"colab-df-container\">\n",
              "      <div>\n",
              "<style scoped>\n",
              "    .dataframe tbody tr th:only-of-type {\n",
              "        vertical-align: middle;\n",
              "    }\n",
              "\n",
              "    .dataframe tbody tr th {\n",
              "        vertical-align: top;\n",
              "    }\n",
              "\n",
              "    .dataframe thead th {\n",
              "        text-align: right;\n",
              "    }\n",
              "</style>\n",
              "<table border=\"1\" class=\"dataframe\">\n",
              "  <thead>\n",
              "    <tr style=\"text-align: right;\">\n",
              "      <th></th>\n",
              "      <th>group</th>\n",
              "      <th>id</th>\n",
              "    </tr>\n",
              "  </thead>\n",
              "  <tbody>\n",
              "    <tr>\n",
              "      <th>0</th>\n",
              "      <td>246</td>\n",
              "      <td>2484</td>\n",
              "    </tr>\n",
              "    <tr>\n",
              "      <th>1</th>\n",
              "      <td>247</td>\n",
              "      <td>2513</td>\n",
              "    </tr>\n",
              "    <tr>\n",
              "      <th>2</th>\n",
              "      <td>248</td>\n",
              "      <td>2537</td>\n",
              "    </tr>\n",
              "  </tbody>\n",
              "</table>\n",
              "</div>\n",
              "      <button class=\"colab-df-convert\" onclick=\"convertToInteractive('df-1394dfcd-7653-46ca-be8c-e0d16409fede')\"\n",
              "              title=\"Convert this dataframe to an interactive table.\"\n",
              "              style=\"display:none;\">\n",
              "        \n",
              "  <svg xmlns=\"http://www.w3.org/2000/svg\" height=\"24px\"viewBox=\"0 0 24 24\"\n",
              "       width=\"24px\">\n",
              "    <path d=\"M0 0h24v24H0V0z\" fill=\"none\"/>\n",
              "    <path d=\"M18.56 5.44l.94 2.06.94-2.06 2.06-.94-2.06-.94-.94-2.06-.94 2.06-2.06.94zm-11 1L8.5 8.5l.94-2.06 2.06-.94-2.06-.94L8.5 2.5l-.94 2.06-2.06.94zm10 10l.94 2.06.94-2.06 2.06-.94-2.06-.94-.94-2.06-.94 2.06-2.06.94z\"/><path d=\"M17.41 7.96l-1.37-1.37c-.4-.4-.92-.59-1.43-.59-.52 0-1.04.2-1.43.59L10.3 9.45l-7.72 7.72c-.78.78-.78 2.05 0 2.83L4 21.41c.39.39.9.59 1.41.59.51 0 1.02-.2 1.41-.59l7.78-7.78 2.81-2.81c.8-.78.8-2.07 0-2.86zM5.41 20L4 18.59l7.72-7.72 1.47 1.35L5.41 20z\"/>\n",
              "  </svg>\n",
              "      </button>\n",
              "      \n",
              "  <style>\n",
              "    .colab-df-container {\n",
              "      display:flex;\n",
              "      flex-wrap:wrap;\n",
              "      gap: 12px;\n",
              "    }\n",
              "\n",
              "    .colab-df-convert {\n",
              "      background-color: #E8F0FE;\n",
              "      border: none;\n",
              "      border-radius: 50%;\n",
              "      cursor: pointer;\n",
              "      display: none;\n",
              "      fill: #1967D2;\n",
              "      height: 32px;\n",
              "      padding: 0 0 0 0;\n",
              "      width: 32px;\n",
              "    }\n",
              "\n",
              "    .colab-df-convert:hover {\n",
              "      background-color: #E2EBFA;\n",
              "      box-shadow: 0px 1px 2px rgba(60, 64, 67, 0.3), 0px 1px 3px 1px rgba(60, 64, 67, 0.15);\n",
              "      fill: #174EA6;\n",
              "    }\n",
              "\n",
              "    [theme=dark] .colab-df-convert {\n",
              "      background-color: #3B4455;\n",
              "      fill: #D2E3FC;\n",
              "    }\n",
              "\n",
              "    [theme=dark] .colab-df-convert:hover {\n",
              "      background-color: #434B5C;\n",
              "      box-shadow: 0px 1px 3px 1px rgba(0, 0, 0, 0.15);\n",
              "      filter: drop-shadow(0px 1px 2px rgba(0, 0, 0, 0.3));\n",
              "      fill: #FFFFFF;\n",
              "    }\n",
              "  </style>\n",
              "\n",
              "      <script>\n",
              "        const buttonEl =\n",
              "          document.querySelector('#df-1394dfcd-7653-46ca-be8c-e0d16409fede button.colab-df-convert');\n",
              "        buttonEl.style.display =\n",
              "          google.colab.kernel.accessAllowed ? 'block' : 'none';\n",
              "\n",
              "        async function convertToInteractive(key) {\n",
              "          const element = document.querySelector('#df-1394dfcd-7653-46ca-be8c-e0d16409fede');\n",
              "          const dataTable =\n",
              "            await google.colab.kernel.invokeFunction('convertToInteractive',\n",
              "                                                     [key], {});\n",
              "          if (!dataTable) return;\n",
              "\n",
              "          const docLinkHtml = 'Like what you see? Visit the ' +\n",
              "            '<a target=\"_blank\" href=https://colab.research.google.com/notebooks/data_table.ipynb>data table notebook</a>'\n",
              "            + ' to learn more about interactive tables.';\n",
              "          element.innerHTML = '';\n",
              "          dataTable['output_type'] = 'display_data';\n",
              "          await google.colab.output.renderOutput(dataTable, element);\n",
              "          const docLink = document.createElement('div');\n",
              "          docLink.innerHTML = docLinkHtml;\n",
              "          element.appendChild(docLink);\n",
              "        }\n",
              "      </script>\n",
              "    </div>\n",
              "  </div>\n",
              "  "
            ]
          },
          "metadata": {},
          "execution_count": 40
        }
      ],
      "source": [
        "users = log_filter.groupby('group').agg({'id':'nunique'}).reset_index()\n",
        "users\n",
        "\n"
      ]
    },
    {
      "cell_type": "markdown",
      "metadata": {
        "id": "LG-w5t74-mwY"
      },
      "source": [
        "Во всех группах около 2500 пользователей. "
      ]
    },
    {
      "cell_type": "code",
      "execution_count": null,
      "metadata": {
        "id": "ct8oJsKc-ezs"
      },
      "outputs": [],
      "source": [
        "us_246 = users.loc[0,'id']\n",
        "us_247 = users.loc[1,'id']\n",
        "us_248 = users.loc[2,'id']"
      ]
    },
    {
      "cell_type": "markdown",
      "metadata": {
        "id": "ZZTvc8RZOXKu"
      },
      "source": [
        "\n",
        "\n",
        "Рассчитаем на сколько в процентах отличаются группы"
      ]
    },
    {
      "cell_type": "code",
      "execution_count": null,
      "metadata": {
        "colab": {
          "base_uri": "https://localhost:8080/"
        },
        "id": "oG8T8nsq9kKH",
        "outputId": "71e37ebd-2131-497c-9db4-ccbcdf5f8f72"
      },
      "outputs": [
        {
          "output_type": "execute_result",
          "data": {
            "text/plain": [
              "1.15"
            ]
          },
          "metadata": {},
          "execution_count": 42
        }
      ],
      "source": [
        " # разница групп 246 и 247\n",
        " round(((1-(us_246/us_247))*100), 2)"
      ]
    },
    {
      "cell_type": "code",
      "execution_count": null,
      "metadata": {
        "colab": {
          "base_uri": "https://localhost:8080/"
        },
        "id": "eOPzLsYD_zzp",
        "outputId": "4b5ec65b-7d87-4d26-ef20-bc47a9842ede"
      },
      "outputs": [
        {
          "output_type": "execute_result",
          "data": {
            "text/plain": [
              "2.09"
            ]
          },
          "metadata": {},
          "execution_count": 43
        }
      ],
      "source": [
        " # разница групп 246 и 248\n",
        " round(((1-(us_246/us_248))*100), 2)"
      ]
    },
    {
      "cell_type": "markdown",
      "metadata": {
        "id": "oLh3K3Gv_4Z9"
      },
      "source": [
        "Количество уникальных пользователей в группах различается на 1,15% в группах А и на 2,09% с группой B"
      ]
    },
    {
      "cell_type": "markdown",
      "metadata": {
        "id": "tsva6ZBmE-PD"
      },
      "source": [
        "### Рассмотрим сколько пользователей из каждой группы приходится на каждое событие"
      ]
    },
    {
      "cell_type": "code",
      "execution_count": null,
      "metadata": {
        "colab": {
          "base_uri": "https://localhost:8080/",
          "height": 206
        },
        "id": "nwT0Gy6zEb1z",
        "outputId": "64084fc9-e347-4c47-a93a-41f5d86f8f95"
      },
      "outputs": [
        {
          "output_type": "execute_result",
          "data": {
            "text/plain": [
              "                     event   246   247   248\n",
              "0         CartScreenAppear  1266  1238  1230\n",
              "1         MainScreenAppear  2450  2476  2493\n",
              "2       OffersScreenAppear  1542  1520  1531\n",
              "3  PaymentScreenSuccessful  1200  1158  1181\n",
              "4                 Tutorial   278   283   279"
            ],
            "text/html": [
              "\n",
              "  <div id=\"df-2c3b9ac3-596b-4082-8ddf-33e22fec856f\">\n",
              "    <div class=\"colab-df-container\">\n",
              "      <div>\n",
              "<style scoped>\n",
              "    .dataframe tbody tr th:only-of-type {\n",
              "        vertical-align: middle;\n",
              "    }\n",
              "\n",
              "    .dataframe tbody tr th {\n",
              "        vertical-align: top;\n",
              "    }\n",
              "\n",
              "    .dataframe thead th {\n",
              "        text-align: right;\n",
              "    }\n",
              "</style>\n",
              "<table border=\"1\" class=\"dataframe\">\n",
              "  <thead>\n",
              "    <tr style=\"text-align: right;\">\n",
              "      <th></th>\n",
              "      <th>event</th>\n",
              "      <th>246</th>\n",
              "      <th>247</th>\n",
              "      <th>248</th>\n",
              "    </tr>\n",
              "  </thead>\n",
              "  <tbody>\n",
              "    <tr>\n",
              "      <th>0</th>\n",
              "      <td>CartScreenAppear</td>\n",
              "      <td>1266</td>\n",
              "      <td>1238</td>\n",
              "      <td>1230</td>\n",
              "    </tr>\n",
              "    <tr>\n",
              "      <th>1</th>\n",
              "      <td>MainScreenAppear</td>\n",
              "      <td>2450</td>\n",
              "      <td>2476</td>\n",
              "      <td>2493</td>\n",
              "    </tr>\n",
              "    <tr>\n",
              "      <th>2</th>\n",
              "      <td>OffersScreenAppear</td>\n",
              "      <td>1542</td>\n",
              "      <td>1520</td>\n",
              "      <td>1531</td>\n",
              "    </tr>\n",
              "    <tr>\n",
              "      <th>3</th>\n",
              "      <td>PaymentScreenSuccessful</td>\n",
              "      <td>1200</td>\n",
              "      <td>1158</td>\n",
              "      <td>1181</td>\n",
              "    </tr>\n",
              "    <tr>\n",
              "      <th>4</th>\n",
              "      <td>Tutorial</td>\n",
              "      <td>278</td>\n",
              "      <td>283</td>\n",
              "      <td>279</td>\n",
              "    </tr>\n",
              "  </tbody>\n",
              "</table>\n",
              "</div>\n",
              "      <button class=\"colab-df-convert\" onclick=\"convertToInteractive('df-2c3b9ac3-596b-4082-8ddf-33e22fec856f')\"\n",
              "              title=\"Convert this dataframe to an interactive table.\"\n",
              "              style=\"display:none;\">\n",
              "        \n",
              "  <svg xmlns=\"http://www.w3.org/2000/svg\" height=\"24px\"viewBox=\"0 0 24 24\"\n",
              "       width=\"24px\">\n",
              "    <path d=\"M0 0h24v24H0V0z\" fill=\"none\"/>\n",
              "    <path d=\"M18.56 5.44l.94 2.06.94-2.06 2.06-.94-2.06-.94-.94-2.06-.94 2.06-2.06.94zm-11 1L8.5 8.5l.94-2.06 2.06-.94-2.06-.94L8.5 2.5l-.94 2.06-2.06.94zm10 10l.94 2.06.94-2.06 2.06-.94-2.06-.94-.94-2.06-.94 2.06-2.06.94z\"/><path d=\"M17.41 7.96l-1.37-1.37c-.4-.4-.92-.59-1.43-.59-.52 0-1.04.2-1.43.59L10.3 9.45l-7.72 7.72c-.78.78-.78 2.05 0 2.83L4 21.41c.39.39.9.59 1.41.59.51 0 1.02-.2 1.41-.59l7.78-7.78 2.81-2.81c.8-.78.8-2.07 0-2.86zM5.41 20L4 18.59l7.72-7.72 1.47 1.35L5.41 20z\"/>\n",
              "  </svg>\n",
              "      </button>\n",
              "      \n",
              "  <style>\n",
              "    .colab-df-container {\n",
              "      display:flex;\n",
              "      flex-wrap:wrap;\n",
              "      gap: 12px;\n",
              "    }\n",
              "\n",
              "    .colab-df-convert {\n",
              "      background-color: #E8F0FE;\n",
              "      border: none;\n",
              "      border-radius: 50%;\n",
              "      cursor: pointer;\n",
              "      display: none;\n",
              "      fill: #1967D2;\n",
              "      height: 32px;\n",
              "      padding: 0 0 0 0;\n",
              "      width: 32px;\n",
              "    }\n",
              "\n",
              "    .colab-df-convert:hover {\n",
              "      background-color: #E2EBFA;\n",
              "      box-shadow: 0px 1px 2px rgba(60, 64, 67, 0.3), 0px 1px 3px 1px rgba(60, 64, 67, 0.15);\n",
              "      fill: #174EA6;\n",
              "    }\n",
              "\n",
              "    [theme=dark] .colab-df-convert {\n",
              "      background-color: #3B4455;\n",
              "      fill: #D2E3FC;\n",
              "    }\n",
              "\n",
              "    [theme=dark] .colab-df-convert:hover {\n",
              "      background-color: #434B5C;\n",
              "      box-shadow: 0px 1px 3px 1px rgba(0, 0, 0, 0.15);\n",
              "      filter: drop-shadow(0px 1px 2px rgba(0, 0, 0, 0.3));\n",
              "      fill: #FFFFFF;\n",
              "    }\n",
              "  </style>\n",
              "\n",
              "      <script>\n",
              "        const buttonEl =\n",
              "          document.querySelector('#df-2c3b9ac3-596b-4082-8ddf-33e22fec856f button.colab-df-convert');\n",
              "        buttonEl.style.display =\n",
              "          google.colab.kernel.accessAllowed ? 'block' : 'none';\n",
              "\n",
              "        async function convertToInteractive(key) {\n",
              "          const element = document.querySelector('#df-2c3b9ac3-596b-4082-8ddf-33e22fec856f');\n",
              "          const dataTable =\n",
              "            await google.colab.kernel.invokeFunction('convertToInteractive',\n",
              "                                                     [key], {});\n",
              "          if (!dataTable) return;\n",
              "\n",
              "          const docLinkHtml = 'Like what you see? Visit the ' +\n",
              "            '<a target=\"_blank\" href=https://colab.research.google.com/notebooks/data_table.ipynb>data table notebook</a>'\n",
              "            + ' to learn more about interactive tables.';\n",
              "          element.innerHTML = '';\n",
              "          dataTable['output_type'] = 'display_data';\n",
              "          await google.colab.output.renderOutput(dataTable, element);\n",
              "          const docLink = document.createElement('div');\n",
              "          docLink.innerHTML = docLinkHtml;\n",
              "          element.appendChild(docLink);\n",
              "        }\n",
              "      </script>\n",
              "    </div>\n",
              "  </div>\n",
              "  "
            ]
          },
          "metadata": {},
          "execution_count": 44
        }
      ],
      "source": [
        "users_by_events = log_filter.pivot_table(index = 'event',\n",
        "                                   columns = 'group',\n",
        "                                   values = 'id',\n",
        "                                   aggfunc = 'nunique').reset_index()\n",
        "users_by_events.columns = ['event', '246', '247', '248']\n",
        "users_by_events"
      ]
    },
    {
      "cell_type": "markdown",
      "metadata": {
        "id": "ja9BAocRdCf2"
      },
      "source": [
        "### Проверим, находят ли статистические критерии разницу между выборками 246 и 247."
      ]
    },
    {
      "cell_type": "markdown",
      "metadata": {
        "id": "uNe4zCihOmbT"
      },
      "source": [
        " Cравним доли клиентов, совершивших события, используем z-тест.\n",
        "\n",
        "Напишем функцию которая будет расчитывать p-value "
      ]
    },
    {
      "cell_type": "code",
      "execution_count": null,
      "metadata": {
        "id": "6RQuEEAWOldl"
      },
      "outputs": [],
      "source": [
        "def ztest(successes_1, successes_2, trials_1, trials_2):\n",
        "  \n",
        "  successes = np.array([successes_1, successes_2])\n",
        "  trials = np.array([trials_1, trials_2])\n",
        "  \n",
        "  # пропорция успехов в первой группе:\n",
        "  p1 = successes[0]/trials[0]\n",
        "\n",
        "  # пропорция успехов во второй группе:\n",
        "  p2 = successes[1]/trials[1]\n",
        "\n",
        "  # пропорция успехов в комбинированном датасете:\n",
        "  p_combined = (successes[0] + successes[1]) / (trials[0] + trials[1])\n",
        "\n",
        "  # разница пропорций в датасетах\n",
        "  difference = p1 - p2 \n",
        "\n",
        "  # считаем статистику в ст.отклонениях стандартного нормального распределения\n",
        "  z_value = difference / mth.sqrt(p_combined * (1 - p_combined) * (1/trials[0] + 1/trials[1]))\n",
        "\n",
        "  # задаем стандартное нормальное распределение (среднее 0, ст.отклонение 1)\n",
        "  distr = st.norm(0, 1)  \n",
        "\n",
        "  p_value = (1 - distr.cdf(abs(z_value))) * 2\n",
        "\n",
        "  return p_value\n",
        "\n",
        "  "
      ]
    },
    {
      "cell_type": "markdown",
      "metadata": {
        "id": "VfURdmQ7a6wV"
      },
      "source": [
        "И функцию, которая будет выводить результаты теста"
      ]
    },
    {
      "cell_type": "code",
      "execution_count": null,
      "metadata": {
        "id": "E4QSQ_PpyKMB"
      },
      "outputs": [],
      "source": [
        " def print_result (p_value):\n",
        "\n",
        "   alpha = 0.05 # критический уровень статистической значимости\n",
        "\n",
        "   print('p-значение: ', p_value)\n",
        "\n",
        "   if p_value < alpha:\n",
        "     print('Отвергаем нулевую гипотезу: между долями есть значимая разница')\n",
        "   else:\n",
        "     print('Не получилось отвергнуть нулевую гипотезу, нет оснований считать доли разными') \n"
      ]
    },
    {
      "cell_type": "markdown",
      "metadata": {
        "id": "Ro2McrrOK4aU"
      },
      "source": [
        "Проверим результаты А/А теста по самому популярному событию MainScreenAppear\n",
        "\n",
        "Сформулируем нулевую гипотезу: между долями клиентов из групп 246 и  247, посетитившими главную страницы, нет статистической разницы."
      ]
    },
    {
      "cell_type": "code",
      "execution_count": null,
      "metadata": {
        "colab": {
          "base_uri": "https://localhost:8080/"
        },
        "id": "OUhPLHtfWB5j",
        "outputId": "8a2bb26a-8b71-4d29-a6a7-a26ca00c393a"
      },
      "outputs": [
        {
          "output_type": "stream",
          "name": "stdout",
          "text": [
            "p-значение:  0.7570597232046099\n",
            "Не получилось отвергнуть нулевую гипотезу, нет оснований считать доли разными\n"
          ]
        }
      ],
      "source": [
        "print_result(ztest(users_by_events.loc[1,'246'], users_by_events.loc[1,'247'], us_246, us_247))"
      ]
    },
    {
      "cell_type": "markdown",
      "metadata": {
        "id": "tXJLd_WyWtOs"
      },
      "source": [
        "Проверим используя эту же функцию и остальные события.\n",
        "\n",
        "Сформулируем нулевую гипотезу: между долями клиентов из групп 246 и 247, посетитившими страницы товара, нет статистической разницы."
      ]
    },
    {
      "cell_type": "code",
      "execution_count": null,
      "metadata": {
        "colab": {
          "base_uri": "https://localhost:8080/"
        },
        "id": "6yedpzwjJ3DE",
        "outputId": "b05cd81c-ac25-456e-cff1-d700411b27ee"
      },
      "outputs": [
        {
          "output_type": "stream",
          "name": "stdout",
          "text": [
            "p-значение:  0.2480954578522181\n",
            "Не получилось отвергнуть нулевую гипотезу, нет оснований считать доли разными\n"
          ]
        }
      ],
      "source": [
        "print_result(ztest(users_by_events.loc[2,'246'], users_by_events.loc[2,'247'], us_246, us_247))"
      ]
    },
    {
      "cell_type": "markdown",
      "metadata": {
        "id": "AjR3gHB3bklP"
      },
      "source": [
        "Сформулируем нулевую гипотезу: между долями клиентов из групп 246 и 247, положившими товар в корзину, нет статистической разницы."
      ]
    },
    {
      "cell_type": "code",
      "execution_count": null,
      "metadata": {
        "colab": {
          "base_uri": "https://localhost:8080/"
        },
        "id": "iMCTfbcQaBBu",
        "outputId": "2aa999b8-12a0-4b53-d2a3-e287f0f96894"
      },
      "outputs": [
        {
          "output_type": "stream",
          "name": "stdout",
          "text": [
            "p-значение:  0.22883372237997213\n",
            "Не получилось отвергнуть нулевую гипотезу, нет оснований считать доли разными\n"
          ]
        }
      ],
      "source": [
        "print_result(ztest(users_by_events.loc[0,'246'], users_by_events.loc[0,'247'], us_246, us_247))"
      ]
    },
    {
      "cell_type": "markdown",
      "metadata": {
        "id": "la8pwN2mbtL4"
      },
      "source": [
        "Сформулируем нулевую гипотезу: между долями клиентов из групп 246 и 247, оплатившими товар, нет статистической разницы."
      ]
    },
    {
      "cell_type": "code",
      "execution_count": null,
      "metadata": {
        "colab": {
          "base_uri": "https://localhost:8080/"
        },
        "id": "uaCYzyxnaD_W",
        "outputId": "a8910fc7-14be-4254-aab0-979c58335f54"
      },
      "outputs": [
        {
          "output_type": "stream",
          "name": "stdout",
          "text": [
            "p-значение:  0.11456679313141849\n",
            "Не получилось отвергнуть нулевую гипотезу, нет оснований считать доли разными\n"
          ]
        }
      ],
      "source": [
        "print_result(ztest(users_by_events.loc[3,'246'], users_by_events.loc[3,'247'], us_246, us_247))"
      ]
    },
    {
      "cell_type": "markdown",
      "metadata": {
        "id": "akvj7R0ab6YL"
      },
      "source": [
        "Все нулевые гипотезы о равенстве долей контрольных групп по разным событиям не удалось опровергнуть.\n",
        "\n",
        " Следовательно тест проведен корректно - статзначимых различий между двумя А-группами не обнаружено."
      ]
    },
    {
      "cell_type": "markdown",
      "metadata": {
        "id": "ry01pMKAdV8R"
      },
      "source": [
        "## Изучим результаты АВ-теста"
      ]
    },
    {
      "cell_type": "markdown",
      "metadata": {
        "id": "m0AUMcmefO7L"
      },
      "source": [
        "### Проверим результаты А/В теста между группами 246 и 248"
      ]
    },
    {
      "cell_type": "markdown",
      "metadata": {
        "id": "GM3b3P-AdzLj"
      },
      "source": [
        "Проверим результаты А/В теста между группами 246 и 248 по самому популярному событию MainScreenAppear\n",
        "\n",
        "Сформулируем нулевую гипотезу: между долями клиентов из групп 246 и  248, посетитившими главную страницы, нет статистической разницы."
      ]
    },
    {
      "cell_type": "code",
      "execution_count": null,
      "metadata": {
        "colab": {
          "base_uri": "https://localhost:8080/"
        },
        "id": "tcS6SSgYb41S",
        "outputId": "c44587e5-efdc-4b53-aa94-4433b2b6d7ff"
      },
      "outputs": [
        {
          "output_type": "stream",
          "name": "stdout",
          "text": [
            "p-значение:  0.2949721933554552\n",
            "Не получилось отвергнуть нулевую гипотезу, нет оснований считать доли разными\n"
          ]
        }
      ],
      "source": [
        "print_result(ztest(users_by_events.loc[1,'246'], users_by_events.loc[1,'248'], us_246, us_248))"
      ]
    },
    {
      "cell_type": "markdown",
      "metadata": {
        "id": "AYA4Pra1e0Ph"
      },
      "source": [
        "Проверим используя эту же функцию и остальные события.\n",
        "\n",
        "Сформулируем нулевую гипотезу: между долями клиентов из групп 246 и 248, посетитившими страницы товара, нет статистической разницы.\n"
      ]
    },
    {
      "cell_type": "code",
      "execution_count": null,
      "metadata": {
        "colab": {
          "base_uri": "https://localhost:8080/"
        },
        "id": "vnMAq7Cdd90e",
        "outputId": "5459128c-439e-478a-da8f-0f747c737e5f"
      },
      "outputs": [
        {
          "output_type": "stream",
          "name": "stdout",
          "text": [
            "p-значение:  0.20836205402738917\n",
            "Не получилось отвергнуть нулевую гипотезу, нет оснований считать доли разными\n"
          ]
        }
      ],
      "source": [
        "print_result(ztest(users_by_events.loc[2,'246'], users_by_events.loc[2,'248'], us_246, us_248))"
      ]
    },
    {
      "cell_type": "markdown",
      "metadata": {
        "id": "brIviWl6e8v-"
      },
      "source": [
        "Сформулируем нулевую гипотезу: между долями клиентов из групп 246 и 248, положившими товар в корзину, нет статистической разницы."
      ]
    },
    {
      "cell_type": "code",
      "execution_count": null,
      "metadata": {
        "colab": {
          "base_uri": "https://localhost:8080/"
        },
        "id": "kk3rQGeie5h9",
        "outputId": "27d97b89-27fd-4f37-a3d4-ca4a1dc22473"
      },
      "outputs": [
        {
          "output_type": "stream",
          "name": "stdout",
          "text": [
            "p-значение:  0.07842923237520116\n",
            "Не получилось отвергнуть нулевую гипотезу, нет оснований считать доли разными\n"
          ]
        }
      ],
      "source": [
        "print_result(ztest(users_by_events.loc[0,'246'], users_by_events.loc[0,'248'], us_246, us_248))"
      ]
    },
    {
      "cell_type": "markdown",
      "metadata": {
        "id": "Rmli_oycfGNv"
      },
      "source": [
        "Сформулируем нулевую гипотезу: между долями клиентов из групп 246 и 248, оплатившими товар, нет статистической разницы."
      ]
    },
    {
      "cell_type": "code",
      "execution_count": null,
      "metadata": {
        "colab": {
          "base_uri": "https://localhost:8080/"
        },
        "id": "GkG-PIekfCV0",
        "outputId": "ec365740-e209-464b-f394-055edfac3064"
      },
      "outputs": [
        {
          "output_type": "stream",
          "name": "stdout",
          "text": [
            "p-значение:  0.2122553275697796\n",
            "Не получилось отвергнуть нулевую гипотезу, нет оснований считать доли разными\n"
          ]
        }
      ],
      "source": [
        "print_result(ztest(users_by_events.loc[3,'246'], users_by_events.loc[3,'248'], us_246, us_248))"
      ]
    },
    {
      "cell_type": "markdown",
      "metadata": {
        "id": "S04TgLaTgkfv"
      },
      "source": [
        "*Вывод:*\n",
        "\n",
        "Нет статистически значимого различия по прохождению по событиям воронки между клиентами групп 246 и 248. Измение шрифта не принесло результата"
      ]
    },
    {
      "cell_type": "markdown",
      "metadata": {
        "id": "Fu4IejLufXZK"
      },
      "source": [
        "### Проверим результаты А/В теста между группами 247 и 248"
      ]
    },
    {
      "cell_type": "markdown",
      "metadata": {
        "id": "_9nhfS35fhtP"
      },
      "source": [
        "Проверим результаты А/В теста между группами 247 и 248 по самому популярному событию MainScreenAppear\n",
        "\n",
        "Сформулируем нулевую гипотезу: между долями клиентов из групп 247 и  248, посетитившими главную страницы, нет статистической разницы."
      ]
    },
    {
      "cell_type": "code",
      "execution_count": null,
      "metadata": {
        "colab": {
          "base_uri": "https://localhost:8080/"
        },
        "id": "3ajzIGW9fJq8",
        "outputId": "e6c134c1-0bde-467c-ef6b-3f5fb217f04f"
      },
      "outputs": [
        {
          "output_type": "stream",
          "name": "stdout",
          "text": [
            "p-значение:  0.4587053616621515\n",
            "Не получилось отвергнуть нулевую гипотезу, нет оснований считать доли разными\n"
          ]
        }
      ],
      "source": [
        "print_result(ztest(users_by_events.loc[1,'247'], users_by_events.loc[1,'248'], us_247, us_248))"
      ]
    },
    {
      "cell_type": "markdown",
      "metadata": {
        "id": "gSrtIUVJgOIj"
      },
      "source": [
        "Проверим используя эту же функцию и остальные события.\n",
        "\n",
        "Сформулируем нулевую гипотезу: между долями клиентов из групп 247 и 248, посетитившими страницы товара, нет статистической разницы.\n"
      ]
    },
    {
      "cell_type": "code",
      "execution_count": null,
      "metadata": {
        "colab": {
          "base_uri": "https://localhost:8080/"
        },
        "id": "noHgKoPQgJqe",
        "outputId": "89f3e9b9-acaf-4ec9-b212-f345b41481d6"
      },
      "outputs": [
        {
          "output_type": "stream",
          "name": "stdout",
          "text": [
            "p-значение:  0.9197817830592261\n",
            "Не получилось отвергнуть нулевую гипотезу, нет оснований считать доли разными\n"
          ]
        }
      ],
      "source": [
        "print_result(ztest(users_by_events.loc[2,'247'], users_by_events.loc[2,'248'], us_247, us_248))"
      ]
    },
    {
      "cell_type": "markdown",
      "metadata": {
        "id": "TnXnUrH-gXXF"
      },
      "source": [
        "Сформулируем нулевую гипотезу: между долями клиентов из групп 247 и 248, положившими товар в корзину, нет статистической разницы."
      ]
    },
    {
      "cell_type": "code",
      "execution_count": null,
      "metadata": {
        "colab": {
          "base_uri": "https://localhost:8080/"
        },
        "id": "39HfB-y6gT4Y",
        "outputId": "de9809b5-b535-48e4-e78f-d0f1c7c20c9c"
      },
      "outputs": [
        {
          "output_type": "stream",
          "name": "stdout",
          "text": [
            "p-значение:  0.5786197879539783\n",
            "Не получилось отвергнуть нулевую гипотезу, нет оснований считать доли разными\n"
          ]
        }
      ],
      "source": [
        "print_result(ztest(users_by_events.loc[0,'247'], users_by_events.loc[0,'248'], us_247, us_248))"
      ]
    },
    {
      "cell_type": "markdown",
      "metadata": {
        "id": "Ue-MYbBvge1a"
      },
      "source": [
        "Сформулируем нулевую гипотезу: между долями клиентов из групп 247 и 248, оплатившими товар, нет статистической разницы."
      ]
    },
    {
      "cell_type": "code",
      "execution_count": null,
      "metadata": {
        "colab": {
          "base_uri": "https://localhost:8080/"
        },
        "id": "qQdbCkpKgbLQ",
        "outputId": "28a42def-e031-4c58-93f3-2bb6174c7508"
      },
      "outputs": [
        {
          "output_type": "stream",
          "name": "stdout",
          "text": [
            "p-значение:  0.7373415053803964\n",
            "Не получилось отвергнуть нулевую гипотезу, нет оснований считать доли разными\n"
          ]
        }
      ],
      "source": [
        "print_result(ztest(users_by_events.loc[3,'247'], users_by_events.loc[3,'248'], us_247, us_248))"
      ]
    },
    {
      "cell_type": "markdown",
      "metadata": {
        "id": "ss4Ji-a0n1P1"
      },
      "source": [
        "### Проверим результаты А/В теста между объединённой контрольной группой и 248"
      ]
    },
    {
      "cell_type": "markdown",
      "metadata": {
        "id": "2wg9tsz6oCeW"
      },
      "source": [
        "Объединим данные 246 и 247 группы"
      ]
    },
    {
      "cell_type": "code",
      "execution_count": null,
      "metadata": {
        "id": "DOnbXGH5oKDQ"
      },
      "outputs": [],
      "source": [
        "users_by_events['246_247'] = users_by_events['246'] + users_by_events['247']"
      ]
    },
    {
      "cell_type": "code",
      "execution_count": null,
      "metadata": {
        "colab": {
          "base_uri": "https://localhost:8080/",
          "height": 206
        },
        "id": "U8hVoe3BoVmz",
        "outputId": "4671b18c-eef0-459b-9a30-17ef08c0203f"
      },
      "outputs": [
        {
          "output_type": "execute_result",
          "data": {
            "text/plain": [
              "                     event   246   247   248  246_247\n",
              "0         CartScreenAppear  1266  1238  1230     2504\n",
              "1         MainScreenAppear  2450  2476  2493     4926\n",
              "2       OffersScreenAppear  1542  1520  1531     3062\n",
              "3  PaymentScreenSuccessful  1200  1158  1181     2358\n",
              "4                 Tutorial   278   283   279      561"
            ],
            "text/html": [
              "\n",
              "  <div id=\"df-9d497739-25bc-478a-bec0-3aaf83566a87\">\n",
              "    <div class=\"colab-df-container\">\n",
              "      <div>\n",
              "<style scoped>\n",
              "    .dataframe tbody tr th:only-of-type {\n",
              "        vertical-align: middle;\n",
              "    }\n",
              "\n",
              "    .dataframe tbody tr th {\n",
              "        vertical-align: top;\n",
              "    }\n",
              "\n",
              "    .dataframe thead th {\n",
              "        text-align: right;\n",
              "    }\n",
              "</style>\n",
              "<table border=\"1\" class=\"dataframe\">\n",
              "  <thead>\n",
              "    <tr style=\"text-align: right;\">\n",
              "      <th></th>\n",
              "      <th>event</th>\n",
              "      <th>246</th>\n",
              "      <th>247</th>\n",
              "      <th>248</th>\n",
              "      <th>246_247</th>\n",
              "    </tr>\n",
              "  </thead>\n",
              "  <tbody>\n",
              "    <tr>\n",
              "      <th>0</th>\n",
              "      <td>CartScreenAppear</td>\n",
              "      <td>1266</td>\n",
              "      <td>1238</td>\n",
              "      <td>1230</td>\n",
              "      <td>2504</td>\n",
              "    </tr>\n",
              "    <tr>\n",
              "      <th>1</th>\n",
              "      <td>MainScreenAppear</td>\n",
              "      <td>2450</td>\n",
              "      <td>2476</td>\n",
              "      <td>2493</td>\n",
              "      <td>4926</td>\n",
              "    </tr>\n",
              "    <tr>\n",
              "      <th>2</th>\n",
              "      <td>OffersScreenAppear</td>\n",
              "      <td>1542</td>\n",
              "      <td>1520</td>\n",
              "      <td>1531</td>\n",
              "      <td>3062</td>\n",
              "    </tr>\n",
              "    <tr>\n",
              "      <th>3</th>\n",
              "      <td>PaymentScreenSuccessful</td>\n",
              "      <td>1200</td>\n",
              "      <td>1158</td>\n",
              "      <td>1181</td>\n",
              "      <td>2358</td>\n",
              "    </tr>\n",
              "    <tr>\n",
              "      <th>4</th>\n",
              "      <td>Tutorial</td>\n",
              "      <td>278</td>\n",
              "      <td>283</td>\n",
              "      <td>279</td>\n",
              "      <td>561</td>\n",
              "    </tr>\n",
              "  </tbody>\n",
              "</table>\n",
              "</div>\n",
              "      <button class=\"colab-df-convert\" onclick=\"convertToInteractive('df-9d497739-25bc-478a-bec0-3aaf83566a87')\"\n",
              "              title=\"Convert this dataframe to an interactive table.\"\n",
              "              style=\"display:none;\">\n",
              "        \n",
              "  <svg xmlns=\"http://www.w3.org/2000/svg\" height=\"24px\"viewBox=\"0 0 24 24\"\n",
              "       width=\"24px\">\n",
              "    <path d=\"M0 0h24v24H0V0z\" fill=\"none\"/>\n",
              "    <path d=\"M18.56 5.44l.94 2.06.94-2.06 2.06-.94-2.06-.94-.94-2.06-.94 2.06-2.06.94zm-11 1L8.5 8.5l.94-2.06 2.06-.94-2.06-.94L8.5 2.5l-.94 2.06-2.06.94zm10 10l.94 2.06.94-2.06 2.06-.94-2.06-.94-.94-2.06-.94 2.06-2.06.94z\"/><path d=\"M17.41 7.96l-1.37-1.37c-.4-.4-.92-.59-1.43-.59-.52 0-1.04.2-1.43.59L10.3 9.45l-7.72 7.72c-.78.78-.78 2.05 0 2.83L4 21.41c.39.39.9.59 1.41.59.51 0 1.02-.2 1.41-.59l7.78-7.78 2.81-2.81c.8-.78.8-2.07 0-2.86zM5.41 20L4 18.59l7.72-7.72 1.47 1.35L5.41 20z\"/>\n",
              "  </svg>\n",
              "      </button>\n",
              "      \n",
              "  <style>\n",
              "    .colab-df-container {\n",
              "      display:flex;\n",
              "      flex-wrap:wrap;\n",
              "      gap: 12px;\n",
              "    }\n",
              "\n",
              "    .colab-df-convert {\n",
              "      background-color: #E8F0FE;\n",
              "      border: none;\n",
              "      border-radius: 50%;\n",
              "      cursor: pointer;\n",
              "      display: none;\n",
              "      fill: #1967D2;\n",
              "      height: 32px;\n",
              "      padding: 0 0 0 0;\n",
              "      width: 32px;\n",
              "    }\n",
              "\n",
              "    .colab-df-convert:hover {\n",
              "      background-color: #E2EBFA;\n",
              "      box-shadow: 0px 1px 2px rgba(60, 64, 67, 0.3), 0px 1px 3px 1px rgba(60, 64, 67, 0.15);\n",
              "      fill: #174EA6;\n",
              "    }\n",
              "\n",
              "    [theme=dark] .colab-df-convert {\n",
              "      background-color: #3B4455;\n",
              "      fill: #D2E3FC;\n",
              "    }\n",
              "\n",
              "    [theme=dark] .colab-df-convert:hover {\n",
              "      background-color: #434B5C;\n",
              "      box-shadow: 0px 1px 3px 1px rgba(0, 0, 0, 0.15);\n",
              "      filter: drop-shadow(0px 1px 2px rgba(0, 0, 0, 0.3));\n",
              "      fill: #FFFFFF;\n",
              "    }\n",
              "  </style>\n",
              "\n",
              "      <script>\n",
              "        const buttonEl =\n",
              "          document.querySelector('#df-9d497739-25bc-478a-bec0-3aaf83566a87 button.colab-df-convert');\n",
              "        buttonEl.style.display =\n",
              "          google.colab.kernel.accessAllowed ? 'block' : 'none';\n",
              "\n",
              "        async function convertToInteractive(key) {\n",
              "          const element = document.querySelector('#df-9d497739-25bc-478a-bec0-3aaf83566a87');\n",
              "          const dataTable =\n",
              "            await google.colab.kernel.invokeFunction('convertToInteractive',\n",
              "                                                     [key], {});\n",
              "          if (!dataTable) return;\n",
              "\n",
              "          const docLinkHtml = 'Like what you see? Visit the ' +\n",
              "            '<a target=\"_blank\" href=https://colab.research.google.com/notebooks/data_table.ipynb>data table notebook</a>'\n",
              "            + ' to learn more about interactive tables.';\n",
              "          element.innerHTML = '';\n",
              "          dataTable['output_type'] = 'display_data';\n",
              "          await google.colab.output.renderOutput(dataTable, element);\n",
              "          const docLink = document.createElement('div');\n",
              "          docLink.innerHTML = docLinkHtml;\n",
              "          element.appendChild(docLink);\n",
              "        }\n",
              "      </script>\n",
              "    </div>\n",
              "  </div>\n",
              "  "
            ]
          },
          "metadata": {},
          "execution_count": 60
        }
      ],
      "source": [
        "users_by_events"
      ]
    },
    {
      "cell_type": "markdown",
      "metadata": {
        "id": "aB9CE59HooRO"
      },
      "source": [
        "Проверим результаты А/В теста между между объединённой контрольной группой и 248 по самому популярному событию MainScreenAppear\n",
        "\n",
        "Сформулируем нулевую гипотезу: между долями клиентов из объединённой контрольной группы и 248, посетитившими главную страницы, нет статистической разницы.\n"
      ]
    },
    {
      "cell_type": "code",
      "execution_count": null,
      "metadata": {
        "colab": {
          "base_uri": "https://localhost:8080/"
        },
        "id": "iRU3yw4aobJM",
        "outputId": "bd553aae-8d05-4ba6-b026-c1bf948e45c2"
      },
      "outputs": [
        {
          "output_type": "stream",
          "name": "stdout",
          "text": [
            "p-значение:  0.29424526837179577\n",
            "Не получилось отвергнуть нулевую гипотезу, нет оснований считать доли разными\n"
          ]
        }
      ],
      "source": [
        "print_result(ztest(users_by_events.loc[1,'246_247'], users_by_events.loc[1,'248'], us_247+us_246, us_248))"
      ]
    },
    {
      "cell_type": "markdown",
      "metadata": {
        "id": "-cn45eBDpR0N"
      },
      "source": [
        "Проверим используя эту же функцию и остальные события.\n",
        "\n",
        "Сформулируем нулевую гипотезу: между долями клиентов из объединённой контрольной группы и 248, посетитившими страницы товара, нет статистической разницы."
      ]
    },
    {
      "cell_type": "code",
      "execution_count": null,
      "metadata": {
        "colab": {
          "base_uri": "https://localhost:8080/"
        },
        "id": "Hxcs0v-RoyZC",
        "outputId": "f1fcabaf-b837-4a76-a570-9c69aafe064d"
      },
      "outputs": [
        {
          "output_type": "stream",
          "name": "stdout",
          "text": [
            "p-значение:  0.43425549655188256\n",
            "Не получилось отвергнуть нулевую гипотезу, нет оснований считать доли разными\n"
          ]
        }
      ],
      "source": [
        "print_result(ztest(users_by_events.loc[2,'246_247'], users_by_events.loc[2,'248'], us_247+us_246, us_248))\n"
      ]
    },
    {
      "cell_type": "markdown",
      "metadata": {
        "id": "H1KAN2cRpgOK"
      },
      "source": [
        "Сформулируем нулевую гипотезу: между долями клиентов из объединённой контрольной группы и 248, положившими товар в корзину, нет статистической разницы."
      ]
    },
    {
      "cell_type": "code",
      "execution_count": null,
      "metadata": {
        "colab": {
          "base_uri": "https://localhost:8080/"
        },
        "id": "_MZkUT-zpV7k",
        "outputId": "a5eedb01-2fec-4de0-8780-208942aa1b3f"
      },
      "outputs": [
        {
          "output_type": "stream",
          "name": "stdout",
          "text": [
            "p-значение:  0.18175875284404386\n",
            "Не получилось отвергнуть нулевую гипотезу, нет оснований считать доли разными\n"
          ]
        }
      ],
      "source": [
        "print_result(ztest(users_by_events.loc[0,'246_247'], users_by_events.loc[0,'248'], us_247+us_246, us_248))"
      ]
    },
    {
      "cell_type": "markdown",
      "metadata": {
        "id": "VedR5RvGp-LC"
      },
      "source": [
        "Сформулируем нулевую гипотезу: между долями клиентов из объединённой контрольной группs и 248,  оплатившими товар, нет статистической разницы."
      ]
    },
    {
      "cell_type": "code",
      "execution_count": null,
      "metadata": {
        "colab": {
          "base_uri": "https://localhost:8080/"
        },
        "id": "KtVdacT1prEZ",
        "outputId": "18c7a754-2042-4116-a6d0-7f815b292185"
      },
      "outputs": [
        {
          "output_type": "stream",
          "name": "stdout",
          "text": [
            "p-значение:  0.6004294282308704\n",
            "Не получилось отвергнуть нулевую гипотезу, нет оснований считать доли разными\n"
          ]
        }
      ],
      "source": [
        "print_result(ztest(users_by_events.loc[3,'246_247'], users_by_events.loc[3,'248'], us_247+us_246, us_248))"
      ]
    },
    {
      "cell_type": "markdown",
      "metadata": {
        "id": "sOAVlUp_rd2R"
      },
      "source": [
        "В итоге при проверке результатов А/В теста мы провели 16 проверок гипотез. В этом случае увеличивается вероятность ложноположительного результата эксперимента. Для снижения такой вероятности применяются разные методы, самый простой (при этом достаточно грубый) поправка Бонферрони. При этом alpha делится на количество экспериментов. В нашем случае их 16, т.е. alpha = 0.05/16 = 0,003. Но ни одно из значений p-value, которые мы получили не меньше 0,05. Соответственно при применении поправки Бонферрони мы получим те же результаты"
      ]
    },
    {
      "cell_type": "markdown",
      "metadata": {
        "id": "888Gj9lkD7cP"
      },
      "source": [
        "*Вывод по разделу:*\n",
        "\n",
        "При проведении эксперимента не выявлено статистически значимой разницы между группами А, А и В. Шрифт не повлиял на поведение пользователей. "
      ]
    },
    {
      "cell_type": "markdown",
      "metadata": {
        "id": "2J4lPslAEtgK"
      },
      "source": [
        "## Общий вывод по проекту:\n",
        "\n",
        "Мы проанализировали лог с данными интернет магазина. \n",
        "\n",
        "Мы прочитали данные, изменили формат столбца с датой, переименовали столбцы и удалили дубликаты\n",
        "\n",
        "Построили воронку событий, выявили, что от общего числа посетителей главной страницы, перешли на следующий шаг - просмотр товара - 62%, добавили товар в корзину 50% от общего числа посетителей и 81% от пользователей прошедших предыдущий шаг, оплатили товар - 48% от общего числа посетителей и 95% от пользователей прошедших предыдущий шаг.\n",
        "\n",
        "Получается, что больше всего пользователей теряется между шагом 1 и 2: просмотром главной страницы и просмотром товаров, потеряли 38% посетителей. \n",
        "\n",
        "При анализе ААВ теста не выявлено статистически значимой разницы между поведением клиентов из групп А, А и В. Шрифт не повлиял на поведение пользователей. Можно оставить любой шрифт из 2-х. \n",
        "\n"
      ]
    }
  ],
  "metadata": {
    "ExecuteTimeLog": [
      {
        "duration": 1884,
        "start_time": "2022-05-01T10:12:23.287Z"
      },
      {
        "duration": 340,
        "start_time": "2022-05-01T10:12:25.174Z"
      },
      {
        "duration": 22,
        "start_time": "2022-05-01T10:12:25.516Z"
      },
      {
        "duration": 42,
        "start_time": "2022-05-01T10:12:25.541Z"
      },
      {
        "duration": 519,
        "start_time": "2022-05-01T10:12:25.585Z"
      },
      {
        "duration": 0,
        "start_time": "2022-05-01T10:12:26.109Z"
      },
      {
        "duration": 0,
        "start_time": "2022-05-01T10:12:26.111Z"
      },
      {
        "duration": 0,
        "start_time": "2022-05-01T10:12:26.112Z"
      },
      {
        "duration": 0,
        "start_time": "2022-05-01T10:12:26.114Z"
      },
      {
        "duration": 0,
        "start_time": "2022-05-01T10:12:26.115Z"
      },
      {
        "duration": 0,
        "start_time": "2022-05-01T10:12:26.117Z"
      },
      {
        "duration": 0,
        "start_time": "2022-05-01T10:12:26.118Z"
      },
      {
        "duration": 0,
        "start_time": "2022-05-01T10:12:26.120Z"
      },
      {
        "duration": 1,
        "start_time": "2022-05-01T10:12:26.121Z"
      },
      {
        "duration": 0,
        "start_time": "2022-05-01T10:12:26.123Z"
      },
      {
        "duration": 0,
        "start_time": "2022-05-01T10:12:26.124Z"
      },
      {
        "duration": 0,
        "start_time": "2022-05-01T10:12:26.125Z"
      },
      {
        "duration": 0,
        "start_time": "2022-05-01T10:12:26.127Z"
      },
      {
        "duration": 0,
        "start_time": "2022-05-01T10:12:26.128Z"
      },
      {
        "duration": 0,
        "start_time": "2022-05-01T10:12:26.129Z"
      },
      {
        "duration": 0,
        "start_time": "2022-05-01T10:12:26.131Z"
      },
      {
        "duration": 0,
        "start_time": "2022-05-01T10:12:26.132Z"
      },
      {
        "duration": 0,
        "start_time": "2022-05-01T10:12:26.134Z"
      },
      {
        "duration": 0,
        "start_time": "2022-05-01T10:12:26.135Z"
      },
      {
        "duration": 0,
        "start_time": "2022-05-01T10:12:26.137Z"
      },
      {
        "duration": 0,
        "start_time": "2022-05-01T10:12:26.138Z"
      },
      {
        "duration": 0,
        "start_time": "2022-05-01T10:12:26.139Z"
      },
      {
        "duration": 0,
        "start_time": "2022-05-01T10:12:26.140Z"
      },
      {
        "duration": 0,
        "start_time": "2022-05-01T10:12:26.141Z"
      },
      {
        "duration": 0,
        "start_time": "2022-05-01T10:12:26.143Z"
      },
      {
        "duration": 0,
        "start_time": "2022-05-01T10:12:26.144Z"
      },
      {
        "duration": 0,
        "start_time": "2022-05-01T10:12:26.182Z"
      },
      {
        "duration": 0,
        "start_time": "2022-05-01T10:12:26.183Z"
      },
      {
        "duration": 0,
        "start_time": "2022-05-01T10:12:26.185Z"
      },
      {
        "duration": 0,
        "start_time": "2022-05-01T10:12:26.186Z"
      },
      {
        "duration": 0,
        "start_time": "2022-05-01T10:12:26.187Z"
      },
      {
        "duration": 0,
        "start_time": "2022-05-01T10:12:26.188Z"
      },
      {
        "duration": 0,
        "start_time": "2022-05-01T10:12:26.190Z"
      },
      {
        "duration": 0,
        "start_time": "2022-05-01T10:12:26.191Z"
      },
      {
        "duration": 0,
        "start_time": "2022-05-01T10:12:26.192Z"
      },
      {
        "duration": 0,
        "start_time": "2022-05-01T10:12:26.194Z"
      },
      {
        "duration": 0,
        "start_time": "2022-05-01T10:12:26.195Z"
      },
      {
        "duration": 0,
        "start_time": "2022-05-01T10:12:26.196Z"
      },
      {
        "duration": 0,
        "start_time": "2022-05-01T10:12:26.197Z"
      },
      {
        "duration": 0,
        "start_time": "2022-05-01T10:12:26.198Z"
      },
      {
        "duration": 0,
        "start_time": "2022-05-01T10:12:26.200Z"
      },
      {
        "duration": 0,
        "start_time": "2022-05-01T10:12:26.201Z"
      },
      {
        "duration": 0,
        "start_time": "2022-05-01T10:12:26.202Z"
      },
      {
        "duration": 0,
        "start_time": "2022-05-01T10:12:26.226Z"
      },
      {
        "duration": 0,
        "start_time": "2022-05-01T10:12:26.228Z"
      },
      {
        "duration": 0,
        "start_time": "2022-05-01T10:12:26.230Z"
      },
      {
        "duration": 0,
        "start_time": "2022-05-01T10:12:26.231Z"
      },
      {
        "duration": 0,
        "start_time": "2022-05-01T10:12:26.233Z"
      },
      {
        "duration": 0,
        "start_time": "2022-05-01T10:12:26.282Z"
      },
      {
        "duration": 0,
        "start_time": "2022-05-01T10:12:26.284Z"
      },
      {
        "duration": 0,
        "start_time": "2022-05-01T10:12:26.286Z"
      },
      {
        "duration": 0,
        "start_time": "2022-05-01T10:12:26.287Z"
      },
      {
        "duration": 0,
        "start_time": "2022-05-01T10:12:26.289Z"
      },
      {
        "duration": 199,
        "start_time": "2022-05-01T10:12:52.468Z"
      },
      {
        "duration": 25,
        "start_time": "2022-05-01T10:12:53.513Z"
      },
      {
        "duration": 2385,
        "start_time": "2022-05-01T10:13:01.349Z"
      },
      {
        "duration": 312,
        "start_time": "2022-05-01T10:13:03.738Z"
      },
      {
        "duration": 47,
        "start_time": "2022-05-01T10:13:04.053Z"
      },
      {
        "duration": 45,
        "start_time": "2022-05-01T10:13:04.104Z"
      },
      {
        "duration": 5,
        "start_time": "2022-05-01T10:13:04.152Z"
      },
      {
        "duration": 18,
        "start_time": "2022-05-01T10:13:04.181Z"
      },
      {
        "duration": 29,
        "start_time": "2022-05-01T10:13:04.202Z"
      },
      {
        "duration": 185,
        "start_time": "2022-05-01T10:13:04.234Z"
      },
      {
        "duration": 66,
        "start_time": "2022-05-01T10:13:04.423Z"
      },
      {
        "duration": 228,
        "start_time": "2022-05-01T10:13:04.494Z"
      },
      {
        "duration": 226,
        "start_time": "2022-05-01T10:13:04.724Z"
      },
      {
        "duration": 80,
        "start_time": "2022-05-01T10:13:04.953Z"
      },
      {
        "duration": 29,
        "start_time": "2022-05-01T10:13:05.036Z"
      },
      {
        "duration": 20,
        "start_time": "2022-05-01T10:13:05.083Z"
      },
      {
        "duration": 2437,
        "start_time": "2022-05-01T10:13:05.105Z"
      },
      {
        "duration": 38,
        "start_time": "2022-05-01T10:13:07.545Z"
      },
      {
        "duration": 30,
        "start_time": "2022-05-01T10:13:07.585Z"
      },
      {
        "duration": 6,
        "start_time": "2022-05-01T10:13:07.617Z"
      },
      {
        "duration": 11,
        "start_time": "2022-05-01T10:13:07.625Z"
      },
      {
        "duration": 1026,
        "start_time": "2022-05-01T10:13:07.638Z"
      },
      {
        "duration": 60,
        "start_time": "2022-05-01T10:13:08.666Z"
      },
      {
        "duration": 18,
        "start_time": "2022-05-01T10:13:08.728Z"
      },
      {
        "duration": 46,
        "start_time": "2022-05-01T10:13:08.749Z"
      },
      {
        "duration": 22,
        "start_time": "2022-05-01T10:13:08.798Z"
      },
      {
        "duration": 87,
        "start_time": "2022-05-01T10:13:08.823Z"
      },
      {
        "duration": 42,
        "start_time": "2022-05-01T10:13:08.913Z"
      },
      {
        "duration": 94,
        "start_time": "2022-05-01T10:13:08.958Z"
      },
      {
        "duration": 96,
        "start_time": "2022-05-01T10:13:09.064Z"
      },
      {
        "duration": 90,
        "start_time": "2022-05-01T10:13:09.163Z"
      },
      {
        "duration": 35,
        "start_time": "2022-05-01T10:13:09.255Z"
      },
      {
        "duration": 13,
        "start_time": "2022-05-01T10:13:09.293Z"
      },
      {
        "duration": 14,
        "start_time": "2022-05-01T10:13:09.309Z"
      },
      {
        "duration": 245,
        "start_time": "2022-05-01T10:13:09.325Z"
      },
      {
        "duration": 116,
        "start_time": "2022-05-01T10:13:09.574Z"
      },
      {
        "duration": 6,
        "start_time": "2022-05-01T10:13:09.692Z"
      },
      {
        "duration": 10,
        "start_time": "2022-05-01T10:13:09.701Z"
      },
      {
        "duration": 10,
        "start_time": "2022-05-01T10:13:09.713Z"
      },
      {
        "duration": 225,
        "start_time": "2022-05-01T10:13:09.725Z"
      },
      {
        "duration": 29,
        "start_time": "2022-05-01T10:13:09.953Z"
      },
      {
        "duration": 5,
        "start_time": "2022-05-01T10:13:09.985Z"
      },
      {
        "duration": 8,
        "start_time": "2022-05-01T10:13:09.993Z"
      },
      {
        "duration": 13,
        "start_time": "2022-05-01T10:13:10.005Z"
      },
      {
        "duration": 8,
        "start_time": "2022-05-01T10:13:10.021Z"
      },
      {
        "duration": 15,
        "start_time": "2022-05-01T10:13:10.031Z"
      },
      {
        "duration": 8,
        "start_time": "2022-05-01T10:13:10.082Z"
      },
      {
        "duration": 11,
        "start_time": "2022-05-01T10:13:10.092Z"
      },
      {
        "duration": 10,
        "start_time": "2022-05-01T10:13:10.105Z"
      },
      {
        "duration": 15,
        "start_time": "2022-05-01T10:13:10.117Z"
      },
      {
        "duration": 10,
        "start_time": "2022-05-01T10:13:10.134Z"
      },
      {
        "duration": 44,
        "start_time": "2022-05-01T10:13:10.146Z"
      },
      {
        "duration": 12,
        "start_time": "2022-05-01T10:13:10.192Z"
      },
      {
        "duration": 11,
        "start_time": "2022-05-01T10:13:10.206Z"
      },
      {
        "duration": 5,
        "start_time": "2022-05-01T10:13:10.220Z"
      },
      {
        "duration": 17,
        "start_time": "2022-05-01T10:13:10.227Z"
      },
      {
        "duration": 38,
        "start_time": "2022-05-01T10:13:10.246Z"
      },
      {
        "duration": 9,
        "start_time": "2022-05-01T10:13:10.286Z"
      },
      {
        "duration": 12,
        "start_time": "2022-05-01T10:13:10.297Z"
      },
      {
        "duration": 10,
        "start_time": "2022-05-01T10:13:10.312Z"
      },
      {
        "duration": 1383,
        "start_time": "2022-05-01T17:29:47.729Z"
      },
      {
        "duration": 135,
        "start_time": "2022-05-01T17:29:49.114Z"
      },
      {
        "duration": 18,
        "start_time": "2022-05-01T17:29:49.251Z"
      },
      {
        "duration": 19,
        "start_time": "2022-05-01T17:29:49.270Z"
      },
      {
        "duration": 3,
        "start_time": "2022-05-01T17:29:49.291Z"
      },
      {
        "duration": 13,
        "start_time": "2022-05-01T17:29:49.296Z"
      },
      {
        "duration": 37,
        "start_time": "2022-05-01T17:29:49.311Z"
      },
      {
        "duration": 67,
        "start_time": "2022-05-01T17:29:49.350Z"
      },
      {
        "duration": 47,
        "start_time": "2022-05-01T17:29:49.418Z"
      },
      {
        "duration": 99,
        "start_time": "2022-05-01T17:29:49.467Z"
      },
      {
        "duration": 99,
        "start_time": "2022-05-01T17:29:49.567Z"
      },
      {
        "duration": 28,
        "start_time": "2022-05-01T17:29:49.667Z"
      },
      {
        "duration": 12,
        "start_time": "2022-05-01T17:29:49.697Z"
      },
      {
        "duration": 8,
        "start_time": "2022-05-01T17:29:49.713Z"
      },
      {
        "duration": 1180,
        "start_time": "2022-05-01T17:29:49.748Z"
      },
      {
        "duration": 31,
        "start_time": "2022-05-01T17:29:50.929Z"
      },
      {
        "duration": 21,
        "start_time": "2022-05-01T17:29:50.961Z"
      },
      {
        "duration": 4,
        "start_time": "2022-05-01T17:29:50.984Z"
      },
      {
        "duration": 6,
        "start_time": "2022-05-01T17:29:50.990Z"
      },
      {
        "duration": 479,
        "start_time": "2022-05-01T17:29:50.997Z"
      },
      {
        "duration": 47,
        "start_time": "2022-05-01T17:29:51.477Z"
      },
      {
        "duration": 32,
        "start_time": "2022-05-01T17:29:51.527Z"
      },
      {
        "duration": 32,
        "start_time": "2022-05-01T17:29:51.561Z"
      },
      {
        "duration": 21,
        "start_time": "2022-05-01T17:29:51.595Z"
      },
      {
        "duration": 75,
        "start_time": "2022-05-01T17:29:51.618Z"
      },
      {
        "duration": 30,
        "start_time": "2022-05-01T17:29:51.695Z"
      },
      {
        "duration": 58,
        "start_time": "2022-05-01T17:29:51.727Z"
      },
      {
        "duration": 34,
        "start_time": "2022-05-01T17:29:51.787Z"
      },
      {
        "duration": 69,
        "start_time": "2022-05-01T17:29:51.823Z"
      },
      {
        "duration": 7,
        "start_time": "2022-05-01T17:29:51.894Z"
      },
      {
        "duration": 10,
        "start_time": "2022-05-01T17:29:51.902Z"
      },
      {
        "duration": 8,
        "start_time": "2022-05-01T17:29:51.914Z"
      },
      {
        "duration": 163,
        "start_time": "2022-05-01T17:29:51.948Z"
      },
      {
        "duration": 47,
        "start_time": "2022-05-01T17:29:52.114Z"
      },
      {
        "duration": 3,
        "start_time": "2022-05-01T17:29:52.163Z"
      },
      {
        "duration": 6,
        "start_time": "2022-05-01T17:29:52.168Z"
      },
      {
        "duration": 9,
        "start_time": "2022-05-01T17:29:52.176Z"
      },
      {
        "duration": 161,
        "start_time": "2022-05-01T17:29:52.187Z"
      },
      {
        "duration": 5,
        "start_time": "2022-05-01T17:29:52.350Z"
      },
      {
        "duration": 7,
        "start_time": "2022-05-01T17:29:52.356Z"
      },
      {
        "duration": 5,
        "start_time": "2022-05-01T17:29:52.367Z"
      },
      {
        "duration": 10,
        "start_time": "2022-05-01T17:29:52.374Z"
      },
      {
        "duration": 6,
        "start_time": "2022-05-01T17:29:52.385Z"
      },
      {
        "duration": 6,
        "start_time": "2022-05-01T17:29:52.393Z"
      },
      {
        "duration": 47,
        "start_time": "2022-05-01T17:29:52.401Z"
      },
      {
        "duration": 4,
        "start_time": "2022-05-01T17:29:52.450Z"
      },
      {
        "duration": 7,
        "start_time": "2022-05-01T17:29:52.456Z"
      },
      {
        "duration": 9,
        "start_time": "2022-05-01T17:29:52.465Z"
      },
      {
        "duration": 9,
        "start_time": "2022-05-01T17:29:52.476Z"
      },
      {
        "duration": 10,
        "start_time": "2022-05-01T17:29:52.487Z"
      },
      {
        "duration": 13,
        "start_time": "2022-05-01T17:29:52.498Z"
      },
      {
        "duration": 10,
        "start_time": "2022-05-01T17:29:52.513Z"
      },
      {
        "duration": 4,
        "start_time": "2022-05-01T17:29:52.548Z"
      },
      {
        "duration": 11,
        "start_time": "2022-05-01T17:29:52.554Z"
      },
      {
        "duration": 8,
        "start_time": "2022-05-01T17:29:52.567Z"
      },
      {
        "duration": 7,
        "start_time": "2022-05-01T17:29:52.576Z"
      },
      {
        "duration": 10,
        "start_time": "2022-05-01T17:29:52.585Z"
      },
      {
        "duration": 4,
        "start_time": "2022-05-01T17:29:52.597Z"
      },
      {
        "duration": 68,
        "start_time": "2022-05-04T04:46:57.218Z"
      },
      {
        "duration": 73,
        "start_time": "2022-05-04T05:02:08.408Z"
      },
      {
        "duration": 45,
        "start_time": "2022-05-04T05:04:42.597Z"
      },
      {
        "duration": 1464,
        "start_time": "2022-05-04T05:04:50.031Z"
      },
      {
        "duration": 158,
        "start_time": "2022-05-04T05:04:51.497Z"
      },
      {
        "duration": 20,
        "start_time": "2022-05-04T05:04:51.657Z"
      },
      {
        "duration": 36,
        "start_time": "2022-05-04T05:04:51.679Z"
      },
      {
        "duration": 3,
        "start_time": "2022-05-04T05:04:51.717Z"
      },
      {
        "duration": 16,
        "start_time": "2022-05-04T05:04:51.721Z"
      },
      {
        "duration": 14,
        "start_time": "2022-05-04T05:04:51.739Z"
      },
      {
        "duration": 97,
        "start_time": "2022-05-04T05:04:51.755Z"
      },
      {
        "duration": 33,
        "start_time": "2022-05-04T05:04:51.854Z"
      },
      {
        "duration": 112,
        "start_time": "2022-05-04T05:04:51.888Z"
      },
      {
        "duration": 110,
        "start_time": "2022-05-04T05:04:52.001Z"
      },
      {
        "duration": 30,
        "start_time": "2022-05-04T05:04:52.113Z"
      },
      {
        "duration": 13,
        "start_time": "2022-05-04T05:04:52.145Z"
      },
      {
        "duration": 7,
        "start_time": "2022-05-04T05:04:52.161Z"
      },
      {
        "duration": 1406,
        "start_time": "2022-05-04T05:04:52.170Z"
      },
      {
        "duration": 30,
        "start_time": "2022-05-04T05:04:53.578Z"
      },
      {
        "duration": 22,
        "start_time": "2022-05-04T05:04:53.609Z"
      },
      {
        "duration": 4,
        "start_time": "2022-05-04T05:04:53.633Z"
      },
      {
        "duration": 6,
        "start_time": "2022-05-04T05:04:53.639Z"
      },
      {
        "duration": 547,
        "start_time": "2022-05-04T05:04:53.646Z"
      },
      {
        "duration": 48,
        "start_time": "2022-05-04T05:04:54.194Z"
      },
      {
        "duration": 15,
        "start_time": "2022-05-04T05:04:54.243Z"
      },
      {
        "duration": 23,
        "start_time": "2022-05-04T05:04:54.259Z"
      },
      {
        "duration": 35,
        "start_time": "2022-05-04T05:04:54.284Z"
      },
      {
        "duration": 30,
        "start_time": "2022-05-04T05:04:54.321Z"
      },
      {
        "duration": 20,
        "start_time": "2022-05-04T05:04:54.353Z"
      },
      {
        "duration": 65,
        "start_time": "2022-05-04T05:04:54.374Z"
      },
      {
        "duration": 37,
        "start_time": "2022-05-04T05:04:54.440Z"
      },
      {
        "duration": 78,
        "start_time": "2022-05-04T05:04:54.478Z"
      },
      {
        "duration": 7,
        "start_time": "2022-05-04T05:04:54.558Z"
      },
      {
        "duration": 7,
        "start_time": "2022-05-04T05:04:54.567Z"
      },
      {
        "duration": 11,
        "start_time": "2022-05-04T05:04:54.575Z"
      },
      {
        "duration": 152,
        "start_time": "2022-05-04T05:04:54.608Z"
      },
      {
        "duration": 54,
        "start_time": "2022-05-04T05:04:54.761Z"
      },
      {
        "duration": 3,
        "start_time": "2022-05-04T05:04:54.817Z"
      },
      {
        "duration": 6,
        "start_time": "2022-05-04T05:04:54.822Z"
      },
      {
        "duration": 6,
        "start_time": "2022-05-04T05:04:54.830Z"
      },
      {
        "duration": 133,
        "start_time": "2022-05-04T05:04:54.837Z"
      },
      {
        "duration": 4,
        "start_time": "2022-05-04T05:04:54.972Z"
      },
      {
        "duration": 4,
        "start_time": "2022-05-04T05:04:55.008Z"
      },
      {
        "duration": 17,
        "start_time": "2022-05-04T05:04:55.015Z"
      },
      {
        "duration": 6,
        "start_time": "2022-05-04T05:04:55.034Z"
      },
      {
        "duration": 20,
        "start_time": "2022-05-04T05:04:55.041Z"
      },
      {
        "duration": 6,
        "start_time": "2022-05-04T05:04:55.062Z"
      },
      {
        "duration": 8,
        "start_time": "2022-05-04T05:04:55.070Z"
      },
      {
        "duration": 11,
        "start_time": "2022-05-04T05:04:55.079Z"
      },
      {
        "duration": 15,
        "start_time": "2022-05-04T05:04:55.092Z"
      },
      {
        "duration": 7,
        "start_time": "2022-05-04T05:04:55.109Z"
      },
      {
        "duration": 9,
        "start_time": "2022-05-04T05:04:55.118Z"
      },
      {
        "duration": 7,
        "start_time": "2022-05-04T05:04:55.129Z"
      },
      {
        "duration": 8,
        "start_time": "2022-05-04T05:04:55.138Z"
      },
      {
        "duration": 7,
        "start_time": "2022-05-04T05:04:55.147Z"
      },
      {
        "duration": 8,
        "start_time": "2022-05-04T05:04:55.155Z"
      },
      {
        "duration": 44,
        "start_time": "2022-05-04T05:04:55.164Z"
      },
      {
        "duration": 6,
        "start_time": "2022-05-04T05:04:55.209Z"
      },
      {
        "duration": 8,
        "start_time": "2022-05-04T05:04:55.216Z"
      },
      {
        "duration": 8,
        "start_time": "2022-05-04T05:04:55.226Z"
      },
      {
        "duration": 10,
        "start_time": "2022-05-04T05:04:55.235Z"
      },
      {
        "duration": 1282,
        "start_time": "2022-05-04T05:06:37.587Z"
      },
      {
        "duration": 150,
        "start_time": "2022-05-04T05:06:38.871Z"
      },
      {
        "duration": 19,
        "start_time": "2022-05-04T05:06:39.023Z"
      },
      {
        "duration": 21,
        "start_time": "2022-05-04T05:06:39.044Z"
      },
      {
        "duration": 2,
        "start_time": "2022-05-04T05:06:39.067Z"
      },
      {
        "duration": 129,
        "start_time": "2022-05-04T05:06:39.071Z"
      },
      {
        "duration": 0,
        "start_time": "2022-05-04T05:06:39.202Z"
      },
      {
        "duration": 0,
        "start_time": "2022-05-04T05:06:39.204Z"
      },
      {
        "duration": 0,
        "start_time": "2022-05-04T05:06:39.204Z"
      },
      {
        "duration": 0,
        "start_time": "2022-05-04T05:06:39.205Z"
      },
      {
        "duration": 0,
        "start_time": "2022-05-04T05:06:39.205Z"
      },
      {
        "duration": 0,
        "start_time": "2022-05-04T05:06:39.207Z"
      },
      {
        "duration": 0,
        "start_time": "2022-05-04T05:06:39.208Z"
      },
      {
        "duration": 0,
        "start_time": "2022-05-04T05:06:39.208Z"
      },
      {
        "duration": 0,
        "start_time": "2022-05-04T05:06:39.209Z"
      },
      {
        "duration": 0,
        "start_time": "2022-05-04T05:06:39.210Z"
      },
      {
        "duration": 0,
        "start_time": "2022-05-04T05:06:39.211Z"
      },
      {
        "duration": 0,
        "start_time": "2022-05-04T05:06:39.212Z"
      },
      {
        "duration": 0,
        "start_time": "2022-05-04T05:06:39.213Z"
      },
      {
        "duration": 0,
        "start_time": "2022-05-04T05:06:39.214Z"
      },
      {
        "duration": 0,
        "start_time": "2022-05-04T05:06:39.215Z"
      },
      {
        "duration": 0,
        "start_time": "2022-05-04T05:06:39.216Z"
      },
      {
        "duration": 0,
        "start_time": "2022-05-04T05:06:39.216Z"
      },
      {
        "duration": 0,
        "start_time": "2022-05-04T05:06:39.217Z"
      },
      {
        "duration": 0,
        "start_time": "2022-05-04T05:06:39.218Z"
      },
      {
        "duration": 0,
        "start_time": "2022-05-04T05:06:39.219Z"
      },
      {
        "duration": 0,
        "start_time": "2022-05-04T05:06:39.220Z"
      },
      {
        "duration": 0,
        "start_time": "2022-05-04T05:06:39.221Z"
      },
      {
        "duration": 0,
        "start_time": "2022-05-04T05:06:39.222Z"
      },
      {
        "duration": 0,
        "start_time": "2022-05-04T05:06:39.223Z"
      },
      {
        "duration": 0,
        "start_time": "2022-05-04T05:06:39.224Z"
      },
      {
        "duration": 0,
        "start_time": "2022-05-04T05:06:39.225Z"
      },
      {
        "duration": 0,
        "start_time": "2022-05-04T05:06:39.226Z"
      },
      {
        "duration": 0,
        "start_time": "2022-05-04T05:06:39.227Z"
      },
      {
        "duration": 0,
        "start_time": "2022-05-04T05:06:39.228Z"
      },
      {
        "duration": 1,
        "start_time": "2022-05-04T05:06:39.229Z"
      },
      {
        "duration": 0,
        "start_time": "2022-05-04T05:06:39.230Z"
      },
      {
        "duration": 0,
        "start_time": "2022-05-04T05:06:39.231Z"
      },
      {
        "duration": 0,
        "start_time": "2022-05-04T05:06:39.232Z"
      },
      {
        "duration": 0,
        "start_time": "2022-05-04T05:06:39.233Z"
      },
      {
        "duration": 0,
        "start_time": "2022-05-04T05:06:39.233Z"
      },
      {
        "duration": 0,
        "start_time": "2022-05-04T05:06:39.235Z"
      },
      {
        "duration": 0,
        "start_time": "2022-05-04T05:06:39.236Z"
      },
      {
        "duration": 0,
        "start_time": "2022-05-04T05:06:39.237Z"
      },
      {
        "duration": 0,
        "start_time": "2022-05-04T05:06:39.238Z"
      },
      {
        "duration": 0,
        "start_time": "2022-05-04T05:06:39.239Z"
      },
      {
        "duration": 0,
        "start_time": "2022-05-04T05:06:39.240Z"
      },
      {
        "duration": 1,
        "start_time": "2022-05-04T05:06:39.240Z"
      },
      {
        "duration": 0,
        "start_time": "2022-05-04T05:06:39.241Z"
      },
      {
        "duration": 0,
        "start_time": "2022-05-04T05:06:39.242Z"
      },
      {
        "duration": 0,
        "start_time": "2022-05-04T05:06:39.308Z"
      },
      {
        "duration": 0,
        "start_time": "2022-05-04T05:06:39.309Z"
      },
      {
        "duration": 0,
        "start_time": "2022-05-04T05:06:39.310Z"
      },
      {
        "duration": 0,
        "start_time": "2022-05-04T05:06:39.311Z"
      },
      {
        "duration": 0,
        "start_time": "2022-05-04T05:06:39.313Z"
      },
      {
        "duration": 0,
        "start_time": "2022-05-04T05:06:39.313Z"
      },
      {
        "duration": 0,
        "start_time": "2022-05-04T05:06:39.314Z"
      },
      {
        "duration": 0,
        "start_time": "2022-05-04T05:06:39.315Z"
      },
      {
        "duration": 0,
        "start_time": "2022-05-04T05:06:39.317Z"
      },
      {
        "duration": 3,
        "start_time": "2022-05-04T05:09:57.137Z"
      },
      {
        "duration": 4,
        "start_time": "2022-05-04T05:10:05.207Z"
      },
      {
        "duration": 202,
        "start_time": "2022-05-04T05:10:05.216Z"
      },
      {
        "duration": 20,
        "start_time": "2022-05-04T05:10:05.421Z"
      },
      {
        "duration": 25,
        "start_time": "2022-05-04T05:10:05.443Z"
      },
      {
        "duration": 3,
        "start_time": "2022-05-04T05:10:05.470Z"
      },
      {
        "duration": 4,
        "start_time": "2022-05-04T05:10:05.507Z"
      },
      {
        "duration": 12,
        "start_time": "2022-05-04T05:10:05.513Z"
      },
      {
        "duration": 18,
        "start_time": "2022-05-04T05:10:05.527Z"
      },
      {
        "duration": 100,
        "start_time": "2022-05-04T05:10:05.547Z"
      },
      {
        "duration": 35,
        "start_time": "2022-05-04T05:10:05.649Z"
      },
      {
        "duration": 111,
        "start_time": "2022-05-04T05:10:05.685Z"
      },
      {
        "duration": 110,
        "start_time": "2022-05-04T05:10:05.798Z"
      },
      {
        "duration": 32,
        "start_time": "2022-05-04T05:10:05.910Z"
      },
      {
        "duration": 15,
        "start_time": "2022-05-04T05:10:05.944Z"
      },
      {
        "duration": 11,
        "start_time": "2022-05-04T05:10:05.962Z"
      },
      {
        "duration": 1511,
        "start_time": "2022-05-04T05:10:05.975Z"
      },
      {
        "duration": 30,
        "start_time": "2022-05-04T05:10:07.488Z"
      },
      {
        "duration": 23,
        "start_time": "2022-05-04T05:10:07.520Z"
      },
      {
        "duration": 6,
        "start_time": "2022-05-04T05:10:07.544Z"
      },
      {
        "duration": 6,
        "start_time": "2022-05-04T05:10:07.551Z"
      },
      {
        "duration": 569,
        "start_time": "2022-05-04T05:10:07.558Z"
      },
      {
        "duration": 35,
        "start_time": "2022-05-04T05:10:08.129Z"
      },
      {
        "duration": 14,
        "start_time": "2022-05-04T05:10:08.166Z"
      },
      {
        "duration": 40,
        "start_time": "2022-05-04T05:10:08.181Z"
      },
      {
        "duration": 14,
        "start_time": "2022-05-04T05:10:08.223Z"
      },
      {
        "duration": 32,
        "start_time": "2022-05-04T05:10:08.239Z"
      },
      {
        "duration": 46,
        "start_time": "2022-05-04T05:10:08.272Z"
      },
      {
        "duration": 40,
        "start_time": "2022-05-04T05:10:08.320Z"
      },
      {
        "duration": 56,
        "start_time": "2022-05-04T05:10:08.361Z"
      },
      {
        "duration": 56,
        "start_time": "2022-05-04T05:10:08.419Z"
      },
      {
        "duration": 7,
        "start_time": "2022-05-04T05:10:08.476Z"
      },
      {
        "duration": 25,
        "start_time": "2022-05-04T05:10:08.485Z"
      },
      {
        "duration": 9,
        "start_time": "2022-05-04T05:10:08.512Z"
      },
      {
        "duration": 147,
        "start_time": "2022-05-04T05:10:08.523Z"
      },
      {
        "duration": 61,
        "start_time": "2022-05-04T05:10:08.672Z"
      },
      {
        "duration": 4,
        "start_time": "2022-05-04T05:10:08.735Z"
      },
      {
        "duration": 8,
        "start_time": "2022-05-04T05:10:08.740Z"
      },
      {
        "duration": 5,
        "start_time": "2022-05-04T05:10:08.749Z"
      },
      {
        "duration": 104,
        "start_time": "2022-05-04T05:10:08.808Z"
      },
      {
        "duration": 5,
        "start_time": "2022-05-04T05:10:08.914Z"
      },
      {
        "duration": 7,
        "start_time": "2022-05-04T05:10:08.921Z"
      },
      {
        "duration": 6,
        "start_time": "2022-05-04T05:10:08.933Z"
      },
      {
        "duration": 8,
        "start_time": "2022-05-04T05:10:08.941Z"
      },
      {
        "duration": 60,
        "start_time": "2022-05-04T05:10:08.951Z"
      },
      {
        "duration": 7,
        "start_time": "2022-05-04T05:10:09.013Z"
      },
      {
        "duration": 8,
        "start_time": "2022-05-04T05:10:09.022Z"
      },
      {
        "duration": 11,
        "start_time": "2022-05-04T05:10:09.032Z"
      },
      {
        "duration": 10,
        "start_time": "2022-05-04T05:10:09.045Z"
      },
      {
        "duration": 55,
        "start_time": "2022-05-04T05:10:09.057Z"
      },
      {
        "duration": 6,
        "start_time": "2022-05-04T05:10:09.114Z"
      },
      {
        "duration": 6,
        "start_time": "2022-05-04T05:10:09.122Z"
      },
      {
        "duration": 8,
        "start_time": "2022-05-04T05:10:09.129Z"
      },
      {
        "duration": 7,
        "start_time": "2022-05-04T05:10:09.138Z"
      },
      {
        "duration": 60,
        "start_time": "2022-05-04T05:10:09.147Z"
      },
      {
        "duration": 7,
        "start_time": "2022-05-04T05:10:09.209Z"
      },
      {
        "duration": 11,
        "start_time": "2022-05-04T05:10:09.218Z"
      },
      {
        "duration": 8,
        "start_time": "2022-05-04T05:10:09.231Z"
      },
      {
        "duration": 9,
        "start_time": "2022-05-04T05:10:09.240Z"
      },
      {
        "duration": 6,
        "start_time": "2022-05-04T05:10:09.251Z"
      },
      {
        "duration": 89,
        "start_time": "2022-05-04T05:10:44.537Z"
      },
      {
        "duration": 86,
        "start_time": "2022-05-04T05:13:38.137Z"
      },
      {
        "duration": 580,
        "start_time": "2022-05-04T05:16:36.187Z"
      },
      {
        "duration": 469,
        "start_time": "2022-05-04T05:18:03.726Z"
      },
      {
        "duration": 501,
        "start_time": "2022-05-04T05:19:20.087Z"
      },
      {
        "duration": 614,
        "start_time": "2022-05-04T05:19:30.947Z"
      },
      {
        "duration": 475,
        "start_time": "2022-05-04T05:20:38.557Z"
      },
      {
        "duration": 468,
        "start_time": "2022-05-04T05:20:47.647Z"
      },
      {
        "duration": 473,
        "start_time": "2022-05-04T05:21:04.528Z"
      },
      {
        "duration": 635,
        "start_time": "2022-05-04T05:21:14.448Z"
      },
      {
        "duration": 467,
        "start_time": "2022-05-04T05:21:28.487Z"
      },
      {
        "duration": 63,
        "start_time": "2022-05-04T05:27:32.837Z"
      },
      {
        "duration": 61,
        "start_time": "2022-05-04T05:37:40.758Z"
      }
    ],
    "colab": {
      "name": "AAB_test_food.ipynb",
      "provenance": [],
      "toc_visible": true
    },
    "kernelspec": {
      "display_name": "Python 3 (ipykernel)",
      "language": "python",
      "name": "python3"
    },
    "language_info": {
      "codemirror_mode": {
        "name": "ipython",
        "version": 3
      },
      "file_extension": ".py",
      "mimetype": "text/x-python",
      "name": "python",
      "nbconvert_exporter": "python",
      "pygments_lexer": "ipython3",
      "version": "3.9.5"
    },
    "toc": {
      "base_numbering": 1,
      "nav_menu": {},
      "number_sections": true,
      "sideBar": true,
      "skip_h1_title": true,
      "title_cell": "Table of Contents",
      "title_sidebar": "Contents",
      "toc_cell": false,
      "toc_position": {
        "height": "calc(100% - 180px)",
        "left": "10px",
        "top": "150px",
        "width": "165px"
      },
      "toc_section_display": true,
      "toc_window_display": true
    }
  },
  "nbformat": 4,
  "nbformat_minor": 0
}