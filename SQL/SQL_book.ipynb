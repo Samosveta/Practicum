{
  "cells": [
    {
      "cell_type": "markdown",
      "metadata": {
        "id": "qi6sEu24Rv8a"
      },
      "source": [
        "# Проект по SQL"
      ]
    },
    {
      "cell_type": "markdown",
      "metadata": {
        "id": "EDZJzOczRv8a"
      },
      "source": [
        "Цели проекта: \n",
        "- анализ купленной базы данных с книгами,\n",
        "- получение представления о количестве и качестве имеющихся в ней книг, отзывов и обзоров.\n"
      ]
    },
    {
      "cell_type": "markdown",
      "metadata": {
        "id": "ZR1xWxpcRv8b"
      },
      "source": [
        "## Исследуем таблицы — выведем первые строки"
      ]
    },
    {
      "cell_type": "code",
      "execution_count": null,
      "metadata": {
        "scrolled": true,
        "id": "Z51RBhT2Rv8b",
        "outputId": "e8844da8-a586-4a23-a677-8deed98eab0f"
      },
      "outputs": [
        {
          "data": {
            "text/html": [
              "<div>\n",
              "<style scoped>\n",
              "    .dataframe tbody tr th:only-of-type {\n",
              "        vertical-align: middle;\n",
              "    }\n",
              "\n",
              "    .dataframe tbody tr th {\n",
              "        vertical-align: top;\n",
              "    }\n",
              "\n",
              "    .dataframe thead th {\n",
              "        text-align: right;\n",
              "    }\n",
              "</style>\n",
              "<table border=\"1\" class=\"dataframe\">\n",
              "  <thead>\n",
              "    <tr style=\"text-align: right;\">\n",
              "      <th></th>\n",
              "      <th>book_id</th>\n",
              "      <th>author_id</th>\n",
              "      <th>title</th>\n",
              "      <th>num_pages</th>\n",
              "      <th>publication_date</th>\n",
              "      <th>publisher_id</th>\n",
              "    </tr>\n",
              "  </thead>\n",
              "  <tbody>\n",
              "    <tr>\n",
              "      <th>0</th>\n",
              "      <td>1</td>\n",
              "      <td>546</td>\n",
              "      <td>'Salem's Lot</td>\n",
              "      <td>594</td>\n",
              "      <td>2005-11-01</td>\n",
              "      <td>93</td>\n",
              "    </tr>\n",
              "    <tr>\n",
              "      <th>1</th>\n",
              "      <td>2</td>\n",
              "      <td>465</td>\n",
              "      <td>1 000 Places to See Before You Die</td>\n",
              "      <td>992</td>\n",
              "      <td>2003-05-22</td>\n",
              "      <td>336</td>\n",
              "    </tr>\n",
              "    <tr>\n",
              "      <th>2</th>\n",
              "      <td>3</td>\n",
              "      <td>407</td>\n",
              "      <td>13 Little Blue Envelopes (Little Blue Envelope...</td>\n",
              "      <td>322</td>\n",
              "      <td>2010-12-21</td>\n",
              "      <td>135</td>\n",
              "    </tr>\n",
              "    <tr>\n",
              "      <th>3</th>\n",
              "      <td>4</td>\n",
              "      <td>82</td>\n",
              "      <td>1491: New Revelations of the Americas Before C...</td>\n",
              "      <td>541</td>\n",
              "      <td>2006-10-10</td>\n",
              "      <td>309</td>\n",
              "    </tr>\n",
              "    <tr>\n",
              "      <th>4</th>\n",
              "      <td>5</td>\n",
              "      <td>125</td>\n",
              "      <td>1776</td>\n",
              "      <td>386</td>\n",
              "      <td>2006-07-04</td>\n",
              "      <td>268</td>\n",
              "    </tr>\n",
              "  </tbody>\n",
              "</table>\n",
              "</div>"
            ],
            "text/plain": [
              "   book_id  author_id                                              title  \\\n",
              "0        1        546                                       'Salem's Lot   \n",
              "1        2        465                 1 000 Places to See Before You Die   \n",
              "2        3        407  13 Little Blue Envelopes (Little Blue Envelope...   \n",
              "3        4         82  1491: New Revelations of the Americas Before C...   \n",
              "4        5        125                                               1776   \n",
              "\n",
              "   num_pages publication_date  publisher_id  \n",
              "0        594       2005-11-01            93  \n",
              "1        992       2003-05-22           336  \n",
              "2        322       2010-12-21           135  \n",
              "3        541       2006-10-10           309  \n",
              "4        386       2006-07-04           268  "
            ]
          },
          "execution_count": 2,
          "metadata": {},
          "output_type": "execute_result"
        }
      ],
      "source": [
        "query = '''\n",
        "           SELECT *\n",
        "           FROM books\n",
        "           LIMIT 5;\n",
        "        '''\n",
        "\n",
        "pd.io.sql.read_sql(query, con = engine) "
      ]
    },
    {
      "cell_type": "markdown",
      "metadata": {
        "id": "5ZHIIo7ZRv8c"
      },
      "source": [
        "Содержит данные о книгах:\n",
        "\n",
        "    book_id — идентификатор книги;\n",
        "    author_id — идентификатор автора;\n",
        "    title — название книги;\n",
        "    num_pages — количество страниц;\n",
        "    publication_date — дата публикации книги;\n",
        "    publisher_id — идентификатор издателя.\n"
      ]
    },
    {
      "cell_type": "code",
      "execution_count": null,
      "metadata": {
        "id": "b5YfiPPdRv8c",
        "outputId": "8d9b9c8f-aaea-4205-ab50-fa241e021bbb"
      },
      "outputs": [
        {
          "data": {
            "text/html": [
              "<div>\n",
              "<style scoped>\n",
              "    .dataframe tbody tr th:only-of-type {\n",
              "        vertical-align: middle;\n",
              "    }\n",
              "\n",
              "    .dataframe tbody tr th {\n",
              "        vertical-align: top;\n",
              "    }\n",
              "\n",
              "    .dataframe thead th {\n",
              "        text-align: right;\n",
              "    }\n",
              "</style>\n",
              "<table border=\"1\" class=\"dataframe\">\n",
              "  <thead>\n",
              "    <tr style=\"text-align: right;\">\n",
              "      <th></th>\n",
              "      <th>author_id</th>\n",
              "      <th>author</th>\n",
              "    </tr>\n",
              "  </thead>\n",
              "  <tbody>\n",
              "    <tr>\n",
              "      <th>0</th>\n",
              "      <td>1</td>\n",
              "      <td>A.S. Byatt</td>\n",
              "    </tr>\n",
              "    <tr>\n",
              "      <th>1</th>\n",
              "      <td>2</td>\n",
              "      <td>Aesop/Laura Harris/Laura Gibbs</td>\n",
              "    </tr>\n",
              "    <tr>\n",
              "      <th>2</th>\n",
              "      <td>3</td>\n",
              "      <td>Agatha Christie</td>\n",
              "    </tr>\n",
              "    <tr>\n",
              "      <th>3</th>\n",
              "      <td>4</td>\n",
              "      <td>Alan Brennert</td>\n",
              "    </tr>\n",
              "    <tr>\n",
              "      <th>4</th>\n",
              "      <td>5</td>\n",
              "      <td>Alan Moore/David   Lloyd</td>\n",
              "    </tr>\n",
              "  </tbody>\n",
              "</table>\n",
              "</div>"
            ],
            "text/plain": [
              "   author_id                          author\n",
              "0          1                      A.S. Byatt\n",
              "1          2  Aesop/Laura Harris/Laura Gibbs\n",
              "2          3                 Agatha Christie\n",
              "3          4                   Alan Brennert\n",
              "4          5        Alan Moore/David   Lloyd"
            ]
          },
          "execution_count": 3,
          "metadata": {},
          "output_type": "execute_result"
        }
      ],
      "source": [
        "query = '''\n",
        "           SELECT *\n",
        "           FROM authors\n",
        "           LIMIT 5;\n",
        "        '''\n",
        "\n",
        "pd.io.sql.read_sql(query, con = engine) "
      ]
    },
    {
      "cell_type": "markdown",
      "metadata": {
        "id": "epJPi7f0Rv8c"
      },
      "source": [
        "Содержит данные об авторах:\n",
        "    \n",
        "    author_id — идентификатор автора;\n",
        "    author — имя автора.\n"
      ]
    },
    {
      "cell_type": "code",
      "execution_count": null,
      "metadata": {
        "id": "VyUpO0xiRv8c",
        "outputId": "51ecdb27-50bd-4085-cd22-22a6ae743b7e"
      },
      "outputs": [
        {
          "data": {
            "text/html": [
              "<div>\n",
              "<style scoped>\n",
              "    .dataframe tbody tr th:only-of-type {\n",
              "        vertical-align: middle;\n",
              "    }\n",
              "\n",
              "    .dataframe tbody tr th {\n",
              "        vertical-align: top;\n",
              "    }\n",
              "\n",
              "    .dataframe thead th {\n",
              "        text-align: right;\n",
              "    }\n",
              "</style>\n",
              "<table border=\"1\" class=\"dataframe\">\n",
              "  <thead>\n",
              "    <tr style=\"text-align: right;\">\n",
              "      <th></th>\n",
              "      <th>publisher_id</th>\n",
              "      <th>publisher</th>\n",
              "    </tr>\n",
              "  </thead>\n",
              "  <tbody>\n",
              "    <tr>\n",
              "      <th>0</th>\n",
              "      <td>1</td>\n",
              "      <td>Ace</td>\n",
              "    </tr>\n",
              "    <tr>\n",
              "      <th>1</th>\n",
              "      <td>2</td>\n",
              "      <td>Ace Book</td>\n",
              "    </tr>\n",
              "    <tr>\n",
              "      <th>2</th>\n",
              "      <td>3</td>\n",
              "      <td>Ace Books</td>\n",
              "    </tr>\n",
              "    <tr>\n",
              "      <th>3</th>\n",
              "      <td>4</td>\n",
              "      <td>Ace Hardcover</td>\n",
              "    </tr>\n",
              "    <tr>\n",
              "      <th>4</th>\n",
              "      <td>5</td>\n",
              "      <td>Addison Wesley Publishing Company</td>\n",
              "    </tr>\n",
              "  </tbody>\n",
              "</table>\n",
              "</div>"
            ],
            "text/plain": [
              "   publisher_id                          publisher\n",
              "0             1                                Ace\n",
              "1             2                           Ace Book\n",
              "2             3                          Ace Books\n",
              "3             4                      Ace Hardcover\n",
              "4             5  Addison Wesley Publishing Company"
            ]
          },
          "execution_count": 4,
          "metadata": {},
          "output_type": "execute_result"
        }
      ],
      "source": [
        "query = '''\n",
        "           SELECT *\n",
        "           FROM publishers\n",
        "           LIMIT 5;\n",
        "        '''\n",
        "\n",
        "pd.io.sql.read_sql(query, con = engine) "
      ]
    },
    {
      "cell_type": "markdown",
      "metadata": {
        "id": "KDoR1sSWRv8d"
      },
      "source": [
        "Содержит данные об издательствах:\n",
        "    \n",
        "    publisher_id — идентификатор издательства;    \n",
        "    publisher — название издательства;\n"
      ]
    },
    {
      "cell_type": "code",
      "execution_count": null,
      "metadata": {
        "id": "p5FGZsr-Rv8d",
        "outputId": "2d5c91e5-c71c-4a36-ac5b-cc4d68f8804e"
      },
      "outputs": [
        {
          "data": {
            "text/html": [
              "<div>\n",
              "<style scoped>\n",
              "    .dataframe tbody tr th:only-of-type {\n",
              "        vertical-align: middle;\n",
              "    }\n",
              "\n",
              "    .dataframe tbody tr th {\n",
              "        vertical-align: top;\n",
              "    }\n",
              "\n",
              "    .dataframe thead th {\n",
              "        text-align: right;\n",
              "    }\n",
              "</style>\n",
              "<table border=\"1\" class=\"dataframe\">\n",
              "  <thead>\n",
              "    <tr style=\"text-align: right;\">\n",
              "      <th></th>\n",
              "      <th>rating_id</th>\n",
              "      <th>book_id</th>\n",
              "      <th>username</th>\n",
              "      <th>rating</th>\n",
              "    </tr>\n",
              "  </thead>\n",
              "  <tbody>\n",
              "    <tr>\n",
              "      <th>0</th>\n",
              "      <td>1</td>\n",
              "      <td>1</td>\n",
              "      <td>ryanfranco</td>\n",
              "      <td>4</td>\n",
              "    </tr>\n",
              "    <tr>\n",
              "      <th>1</th>\n",
              "      <td>2</td>\n",
              "      <td>1</td>\n",
              "      <td>grantpatricia</td>\n",
              "      <td>2</td>\n",
              "    </tr>\n",
              "    <tr>\n",
              "      <th>2</th>\n",
              "      <td>3</td>\n",
              "      <td>1</td>\n",
              "      <td>brandtandrea</td>\n",
              "      <td>5</td>\n",
              "    </tr>\n",
              "    <tr>\n",
              "      <th>3</th>\n",
              "      <td>4</td>\n",
              "      <td>2</td>\n",
              "      <td>lorichen</td>\n",
              "      <td>3</td>\n",
              "    </tr>\n",
              "    <tr>\n",
              "      <th>4</th>\n",
              "      <td>5</td>\n",
              "      <td>2</td>\n",
              "      <td>mariokeller</td>\n",
              "      <td>2</td>\n",
              "    </tr>\n",
              "  </tbody>\n",
              "</table>\n",
              "</div>"
            ],
            "text/plain": [
              "   rating_id  book_id       username  rating\n",
              "0          1        1     ryanfranco       4\n",
              "1          2        1  grantpatricia       2\n",
              "2          3        1   brandtandrea       5\n",
              "3          4        2       lorichen       3\n",
              "4          5        2    mariokeller       2"
            ]
          },
          "execution_count": 5,
          "metadata": {},
          "output_type": "execute_result"
        }
      ],
      "source": [
        "query = '''\n",
        "           SELECT *\n",
        "           FROM ratings\n",
        "           LIMIT 5;\n",
        "        '''\n",
        "\n",
        "pd.io.sql.read_sql(query, con = engine) "
      ]
    },
    {
      "cell_type": "markdown",
      "metadata": {
        "id": "XluDmd99Rv8d"
      },
      "source": [
        "Содержит данные о пользовательских оценках книг:\n",
        "\n",
        "    rating_id — идентификатор оценки;\n",
        "    book_id — идентификатор книги;\n",
        "    username — имя пользователя, оставившего оценку;\n",
        "    rating — оценка книги.\n"
      ]
    },
    {
      "cell_type": "code",
      "execution_count": null,
      "metadata": {
        "id": "3k2FpqUURv8d",
        "outputId": "032a611c-aad4-45a1-b953-7c93777ea2b0"
      },
      "outputs": [
        {
          "data": {
            "text/html": [
              "<div>\n",
              "<style scoped>\n",
              "    .dataframe tbody tr th:only-of-type {\n",
              "        vertical-align: middle;\n",
              "    }\n",
              "\n",
              "    .dataframe tbody tr th {\n",
              "        vertical-align: top;\n",
              "    }\n",
              "\n",
              "    .dataframe thead th {\n",
              "        text-align: right;\n",
              "    }\n",
              "</style>\n",
              "<table border=\"1\" class=\"dataframe\">\n",
              "  <thead>\n",
              "    <tr style=\"text-align: right;\">\n",
              "      <th></th>\n",
              "      <th>review_id</th>\n",
              "      <th>book_id</th>\n",
              "      <th>username</th>\n",
              "      <th>text</th>\n",
              "    </tr>\n",
              "  </thead>\n",
              "  <tbody>\n",
              "    <tr>\n",
              "      <th>0</th>\n",
              "      <td>1</td>\n",
              "      <td>1</td>\n",
              "      <td>brandtandrea</td>\n",
              "      <td>Mention society tell send professor analysis. ...</td>\n",
              "    </tr>\n",
              "    <tr>\n",
              "      <th>1</th>\n",
              "      <td>2</td>\n",
              "      <td>1</td>\n",
              "      <td>ryanfranco</td>\n",
              "      <td>Foot glass pretty audience hit themselves. Amo...</td>\n",
              "    </tr>\n",
              "    <tr>\n",
              "      <th>2</th>\n",
              "      <td>3</td>\n",
              "      <td>2</td>\n",
              "      <td>lorichen</td>\n",
              "      <td>Listen treat keep worry. Miss husband tax but ...</td>\n",
              "    </tr>\n",
              "    <tr>\n",
              "      <th>3</th>\n",
              "      <td>4</td>\n",
              "      <td>3</td>\n",
              "      <td>johnsonamanda</td>\n",
              "      <td>Finally month interesting blue could nature cu...</td>\n",
              "    </tr>\n",
              "    <tr>\n",
              "      <th>4</th>\n",
              "      <td>5</td>\n",
              "      <td>3</td>\n",
              "      <td>scotttamara</td>\n",
              "      <td>Nation purpose heavy give wait song will. List...</td>\n",
              "    </tr>\n",
              "  </tbody>\n",
              "</table>\n",
              "</div>"
            ],
            "text/plain": [
              "   review_id  book_id       username  \\\n",
              "0          1        1   brandtandrea   \n",
              "1          2        1     ryanfranco   \n",
              "2          3        2       lorichen   \n",
              "3          4        3  johnsonamanda   \n",
              "4          5        3    scotttamara   \n",
              "\n",
              "                                                text  \n",
              "0  Mention society tell send professor analysis. ...  \n",
              "1  Foot glass pretty audience hit themselves. Amo...  \n",
              "2  Listen treat keep worry. Miss husband tax but ...  \n",
              "3  Finally month interesting blue could nature cu...  \n",
              "4  Nation purpose heavy give wait song will. List...  "
            ]
          },
          "execution_count": 6,
          "metadata": {},
          "output_type": "execute_result"
        }
      ],
      "source": [
        "query = '''\n",
        "           SELECT *\n",
        "           FROM reviews\n",
        "           LIMIT 5;\n",
        "        '''\n",
        "\n",
        "pd.io.sql.read_sql(query, con = engine) "
      ]
    },
    {
      "cell_type": "markdown",
      "metadata": {
        "id": "KUaVbv6zRv8d"
      },
      "source": [
        "Содержит данные о пользовательских обзорах:\n",
        "\n",
        "    review_id — идентификатор обзора;\n",
        "    book_id — идентификатор книги;\n",
        "    username — имя автора обзора;\n",
        "    text — текст обзора."
      ]
    },
    {
      "cell_type": "markdown",
      "metadata": {
        "id": "txOyMWaPRv8d"
      },
      "source": [
        "## Посчитайте, сколько книг вышло после 1 января 2000 года"
      ]
    },
    {
      "cell_type": "code",
      "execution_count": null,
      "metadata": {
        "scrolled": true,
        "id": "LikYLxSQRv8e",
        "outputId": "3ce5344e-a363-431d-e38a-b7a90a321ef3"
      },
      "outputs": [
        {
          "data": {
            "text/html": [
              "<div>\n",
              "<style scoped>\n",
              "    .dataframe tbody tr th:only-of-type {\n",
              "        vertical-align: middle;\n",
              "    }\n",
              "\n",
              "    .dataframe tbody tr th {\n",
              "        vertical-align: top;\n",
              "    }\n",
              "\n",
              "    .dataframe thead th {\n",
              "        text-align: right;\n",
              "    }\n",
              "</style>\n",
              "<table border=\"1\" class=\"dataframe\">\n",
              "  <thead>\n",
              "    <tr style=\"text-align: right;\">\n",
              "      <th></th>\n",
              "      <th>count</th>\n",
              "    </tr>\n",
              "  </thead>\n",
              "  <tbody>\n",
              "    <tr>\n",
              "      <th>0</th>\n",
              "      <td>819</td>\n",
              "    </tr>\n",
              "  </tbody>\n",
              "</table>\n",
              "</div>"
            ],
            "text/plain": [
              "   count\n",
              "0    819"
            ]
          },
          "execution_count": 7,
          "metadata": {},
          "output_type": "execute_result"
        }
      ],
      "source": [
        "query = '''\n",
        "           SELECT COUNT(*)\n",
        "           FROM books\n",
        "           WHERE publication_date > '2000-01-01'\n",
        "        '''\n",
        "\n",
        "pd.io.sql.read_sql(query, con = engine) "
      ]
    },
    {
      "cell_type": "code",
      "execution_count": null,
      "metadata": {
        "id": "RPzCwNZERv8e",
        "outputId": "48ac615f-650a-4fc7-d65a-9437e52b08b3"
      },
      "outputs": [
        {
          "data": {
            "text/html": [
              "<div>\n",
              "<style scoped>\n",
              "    .dataframe tbody tr th:only-of-type {\n",
              "        vertical-align: middle;\n",
              "    }\n",
              "\n",
              "    .dataframe tbody tr th {\n",
              "        vertical-align: top;\n",
              "    }\n",
              "\n",
              "    .dataframe thead th {\n",
              "        text-align: right;\n",
              "    }\n",
              "</style>\n",
              "<table border=\"1\" class=\"dataframe\">\n",
              "  <thead>\n",
              "    <tr style=\"text-align: right;\">\n",
              "      <th></th>\n",
              "      <th>count</th>\n",
              "    </tr>\n",
              "  </thead>\n",
              "  <tbody>\n",
              "    <tr>\n",
              "      <th>0</th>\n",
              "      <td>1000</td>\n",
              "    </tr>\n",
              "  </tbody>\n",
              "</table>\n",
              "</div>"
            ],
            "text/plain": [
              "   count\n",
              "0   1000"
            ]
          },
          "execution_count": 8,
          "metadata": {},
          "output_type": "execute_result"
        }
      ],
      "source": [
        "query = '''\n",
        "           SELECT COUNT(*)\n",
        "           FROM books\n",
        "        '''\n",
        "\n",
        "pd.io.sql.read_sql(query, con = engine) "
      ]
    },
    {
      "cell_type": "markdown",
      "metadata": {
        "id": "y67gkgPWRv8e"
      },
      "source": [
        "После 1 января 2000 года вышло 819 книгю Всего в базе книг - 1000 книг"
      ]
    },
    {
      "cell_type": "markdown",
      "metadata": {
        "id": "tE78CDJVRv8e"
      },
      "source": [
        "## Для каждой книги посчитайте количество обзоров и среднюю оценку;"
      ]
    },
    {
      "cell_type": "markdown",
      "metadata": {
        "id": "AVIt5m9TRv8e"
      },
      "source": [
        "Объединим таблицы books, reviews, ratings."
      ]
    },
    {
      "cell_type": "code",
      "execution_count": null,
      "metadata": {
        "id": "BNCsk1ghRv8e",
        "outputId": "83832f3e-e1c1-4f0f-bd0e-ce42013243c7"
      },
      "outputs": [
        {
          "data": {
            "text/html": [
              "<div>\n",
              "<style scoped>\n",
              "    .dataframe tbody tr th:only-of-type {\n",
              "        vertical-align: middle;\n",
              "    }\n",
              "\n",
              "    .dataframe tbody tr th {\n",
              "        vertical-align: top;\n",
              "    }\n",
              "\n",
              "    .dataframe thead th {\n",
              "        text-align: right;\n",
              "    }\n",
              "</style>\n",
              "<table border=\"1\" class=\"dataframe\">\n",
              "  <thead>\n",
              "    <tr style=\"text-align: right;\">\n",
              "      <th></th>\n",
              "      <th>book_id</th>\n",
              "      <th>title</th>\n",
              "      <th>count_reviews</th>\n",
              "      <th>avg_rating</th>\n",
              "    </tr>\n",
              "  </thead>\n",
              "  <tbody>\n",
              "    <tr>\n",
              "      <th>0</th>\n",
              "      <td>948</td>\n",
              "      <td>Twilight (Twilight  #1)</td>\n",
              "      <td>7</td>\n",
              "      <td>3.662500</td>\n",
              "    </tr>\n",
              "    <tr>\n",
              "      <th>1</th>\n",
              "      <td>963</td>\n",
              "      <td>Water for Elephants</td>\n",
              "      <td>6</td>\n",
              "      <td>3.977273</td>\n",
              "    </tr>\n",
              "    <tr>\n",
              "      <th>2</th>\n",
              "      <td>734</td>\n",
              "      <td>The Glass Castle</td>\n",
              "      <td>6</td>\n",
              "      <td>4.206897</td>\n",
              "    </tr>\n",
              "    <tr>\n",
              "      <th>3</th>\n",
              "      <td>302</td>\n",
              "      <td>Harry Potter and the Prisoner of Azkaban (Harr...</td>\n",
              "      <td>6</td>\n",
              "      <td>4.414634</td>\n",
              "    </tr>\n",
              "    <tr>\n",
              "      <th>4</th>\n",
              "      <td>695</td>\n",
              "      <td>The Curious Incident of the Dog in the Night-Time</td>\n",
              "      <td>6</td>\n",
              "      <td>4.081081</td>\n",
              "    </tr>\n",
              "    <tr>\n",
              "      <th>...</th>\n",
              "      <td>...</td>\n",
              "      <td>...</td>\n",
              "      <td>...</td>\n",
              "      <td>...</td>\n",
              "    </tr>\n",
              "    <tr>\n",
              "      <th>995</th>\n",
              "      <td>83</td>\n",
              "      <td>Anne Rice's The Vampire Lestat: A Graphic Novel</td>\n",
              "      <td>0</td>\n",
              "      <td>3.666667</td>\n",
              "    </tr>\n",
              "    <tr>\n",
              "      <th>996</th>\n",
              "      <td>808</td>\n",
              "      <td>The Natural Way to Draw</td>\n",
              "      <td>0</td>\n",
              "      <td>3.000000</td>\n",
              "    </tr>\n",
              "    <tr>\n",
              "      <th>997</th>\n",
              "      <td>672</td>\n",
              "      <td>The Cat in the Hat and Other Dr. Seuss Favorites</td>\n",
              "      <td>0</td>\n",
              "      <td>5.000000</td>\n",
              "    </tr>\n",
              "    <tr>\n",
              "      <th>998</th>\n",
              "      <td>221</td>\n",
              "      <td>Essential Tales and Poems</td>\n",
              "      <td>0</td>\n",
              "      <td>4.000000</td>\n",
              "    </tr>\n",
              "    <tr>\n",
              "      <th>999</th>\n",
              "      <td>191</td>\n",
              "      <td>Disney's Beauty and the Beast (A Little Golden...</td>\n",
              "      <td>0</td>\n",
              "      <td>4.000000</td>\n",
              "    </tr>\n",
              "  </tbody>\n",
              "</table>\n",
              "<p>1000 rows × 4 columns</p>\n",
              "</div>"
            ],
            "text/plain": [
              "     book_id                                              title  \\\n",
              "0        948                            Twilight (Twilight  #1)   \n",
              "1        963                                Water for Elephants   \n",
              "2        734                                   The Glass Castle   \n",
              "3        302  Harry Potter and the Prisoner of Azkaban (Harr...   \n",
              "4        695  The Curious Incident of the Dog in the Night-Time   \n",
              "..       ...                                                ...   \n",
              "995       83    Anne Rice's The Vampire Lestat: A Graphic Novel   \n",
              "996      808                            The Natural Way to Draw   \n",
              "997      672   The Cat in the Hat and Other Dr. Seuss Favorites   \n",
              "998      221                          Essential Tales and Poems   \n",
              "999      191  Disney's Beauty and the Beast (A Little Golden...   \n",
              "\n",
              "     count_reviews  avg_rating  \n",
              "0                7    3.662500  \n",
              "1                6    3.977273  \n",
              "2                6    4.206897  \n",
              "3                6    4.414634  \n",
              "4                6    4.081081  \n",
              "..             ...         ...  \n",
              "995              0    3.666667  \n",
              "996              0    3.000000  \n",
              "997              0    5.000000  \n",
              "998              0    4.000000  \n",
              "999              0    4.000000  \n",
              "\n",
              "[1000 rows x 4 columns]"
            ]
          },
          "execution_count": 9,
          "metadata": {},
          "output_type": "execute_result"
        }
      ],
      "source": [
        "query = '''\n",
        "            SELECT books.book_id,\n",
        "            books.title,\n",
        "            COUNT(DISTINCT review_id) AS count_reviews,\n",
        "            AVG(rating) AS avg_rating\n",
        "            FROM books\n",
        "            LEFT JOIN  reviews ON books.book_id = reviews.book_id\n",
        "            LEFT JOIN ratings ON books.book_id = ratings.book_id\n",
        "            GROUP BY books.book_id\n",
        "            ORDER BY count_reviews DESC\n",
        "        '''\n",
        "\n",
        "pd.io.sql.read_sql(query, con = engine)"
      ]
    },
    {
      "cell_type": "markdown",
      "metadata": {
        "id": "fpFcxB7DRv8e"
      },
      "source": [
        "Мы получили список книг с количествами обзоров и средней оценкой. Больше всего обзоров на книгу Сумерки"
      ]
    },
    {
      "cell_type": "markdown",
      "metadata": {
        "id": "PixOX-JfRv8f"
      },
      "source": [
        "## Определите издательство, которое выпустило наибольшее число книг толще 50 страниц — так вы исключите из анализа брошюры;"
      ]
    },
    {
      "cell_type": "markdown",
      "metadata": {
        "id": "aY7p_sVdRv8f"
      },
      "source": [
        "Объединим таблицы books и publishers по столбцу publisher_id, выберем книги больше 50 страниц, сгруппируем по publisher_id, отсортируем по количеству книг."
      ]
    },
    {
      "cell_type": "code",
      "execution_count": null,
      "metadata": {
        "id": "PEAH5ZwrRv8f",
        "outputId": "75c30bb1-e074-4964-d599-970ac6cb6f8a"
      },
      "outputs": [
        {
          "data": {
            "text/html": [
              "<div>\n",
              "<style scoped>\n",
              "    .dataframe tbody tr th:only-of-type {\n",
              "        vertical-align: middle;\n",
              "    }\n",
              "\n",
              "    .dataframe tbody tr th {\n",
              "        vertical-align: top;\n",
              "    }\n",
              "\n",
              "    .dataframe thead th {\n",
              "        text-align: right;\n",
              "    }\n",
              "</style>\n",
              "<table border=\"1\" class=\"dataframe\">\n",
              "  <thead>\n",
              "    <tr style=\"text-align: right;\">\n",
              "      <th></th>\n",
              "      <th>publisher_id</th>\n",
              "      <th>publisher</th>\n",
              "      <th>count_book</th>\n",
              "    </tr>\n",
              "  </thead>\n",
              "  <tbody>\n",
              "    <tr>\n",
              "      <th>0</th>\n",
              "      <td>212</td>\n",
              "      <td>Penguin Books</td>\n",
              "      <td>42</td>\n",
              "    </tr>\n",
              "  </tbody>\n",
              "</table>\n",
              "</div>"
            ],
            "text/plain": [
              "   publisher_id      publisher  count_book\n",
              "0           212  Penguin Books          42"
            ]
          },
          "execution_count": 10,
          "metadata": {},
          "output_type": "execute_result"
        }
      ],
      "source": [
        "query = '''\n",
        "            SELECT publishers.publisher_id,\n",
        "            publishers.publisher,\n",
        "            COUNT(DISTINCT book_id) AS count_book\n",
        "            FROM books\n",
        "            LEFT JOIN  publishers ON books.publisher_id = publishers.publisher_id\n",
        "            WHERE books.num_pages >50\n",
        "            GROUP BY publishers.publisher_id\n",
        "            ORDER BY count_book DESC\n",
        "            LIMIT 1\n",
        "        '''\n",
        "\n",
        "pd.io.sql.read_sql(query, con = engine)"
      ]
    },
    {
      "cell_type": "markdown",
      "metadata": {
        "id": "wkhLkHz0Rv8f"
      },
      "source": [
        "Издательство Penguin Books выпустило больше всех книг с количеством страниц больше 50\t"
      ]
    },
    {
      "cell_type": "markdown",
      "metadata": {
        "id": "j8Wo2KNnRv8f"
      },
      "source": [
        "## Определите автора с самой высокой средней оценкой книг — учитывайте только книги с 50 и более оценками"
      ]
    },
    {
      "cell_type": "code",
      "execution_count": null,
      "metadata": {
        "id": "c1qdMVjmRv8g",
        "outputId": "d07c60f2-7b68-4f2b-df8b-88e9306980aa"
      },
      "outputs": [
        {
          "data": {
            "text/html": [
              "<div>\n",
              "<style scoped>\n",
              "    .dataframe tbody tr th:only-of-type {\n",
              "        vertical-align: middle;\n",
              "    }\n",
              "\n",
              "    .dataframe tbody tr th {\n",
              "        vertical-align: top;\n",
              "    }\n",
              "\n",
              "    .dataframe thead th {\n",
              "        text-align: right;\n",
              "    }\n",
              "</style>\n",
              "<table border=\"1\" class=\"dataframe\">\n",
              "  <thead>\n",
              "    <tr style=\"text-align: right;\">\n",
              "      <th></th>\n",
              "      <th>author_id</th>\n",
              "      <th>author</th>\n",
              "      <th>avg_rating_autor</th>\n",
              "    </tr>\n",
              "  </thead>\n",
              "  <tbody>\n",
              "    <tr>\n",
              "      <th>0</th>\n",
              "      <td>236</td>\n",
              "      <td>J.K. Rowling/Mary GrandPré</td>\n",
              "      <td>4.283844</td>\n",
              "    </tr>\n",
              "  </tbody>\n",
              "</table>\n",
              "</div>"
            ],
            "text/plain": [
              "   author_id                      author  avg_rating_autor\n",
              "0        236  J.K. Rowling/Mary GrandPré          4.283844"
            ]
          },
          "execution_count": 12,
          "metadata": {},
          "output_type": "execute_result"
        }
      ],
      "source": [
        "query = '''\n",
        "            WITH book_50 AS\n",
        "                (SELECT books.book_id,\n",
        "                books.author_id,\n",
        "                COUNT(ratings.rating),\n",
        "                AVG(ratings.rating)\n",
        "                FROM books\n",
        "                LEFT JOIN  ratings ON books.book_id = ratings.book_id\n",
        "                GROUP BY books.book_id\n",
        "                HAVING COUNT(ratings.rating) > 50)\n",
        "                \n",
        "            SELECT authors.author_id,\n",
        "            authors.author, \n",
        "            AVG(book_50.avg) AS avg_rating_autor    \n",
        "            FROM book_50\n",
        "            LEFT JOIN  authors ON book_50.author_id = authors.author_id\n",
        "            GROUP BY authors.author_id\n",
        "            ORDER BY avg_rating_autor DESC\n",
        "            LIMIT 1    \n",
        "        '''\n",
        "\n",
        "pd.io.sql.read_sql(query, con = engine)"
      ]
    },
    {
      "cell_type": "markdown",
      "metadata": {
        "id": "P4lvkXSPRv8g"
      },
      "source": [
        "Автор с самой высокой средней оценкой - J.K. Rowling/Mary GrandPré"
      ]
    },
    {
      "cell_type": "markdown",
      "metadata": {
        "id": "iax9ZDXbRv8g"
      },
      "source": [
        "## Посчитайте среднее количество обзоров от пользователей, которые поставили больше 50 оценок."
      ]
    },
    {
      "cell_type": "markdown",
      "metadata": {
        "id": "vkkVTwckRv8g"
      },
      "source": [
        "Сформируем временную таблицу, в которую отберем пользователей, которые поставили больше 50 оценок. Посчитаем для этих пользователей количество обзоров, для этого объединим временную таблицу и таблицу reviews, чтобы в ней были только пользователи из временной таблицы. И посчитаем среднее по получившейся выборке"
      ]
    },
    {
      "cell_type": "code",
      "execution_count": null,
      "metadata": {
        "id": "6bePxOxqRv8h",
        "outputId": "3973544e-9770-41f9-e66a-fadd23ea0d33"
      },
      "outputs": [
        {
          "data": {
            "text/html": [
              "<div>\n",
              "<style scoped>\n",
              "    .dataframe tbody tr th:only-of-type {\n",
              "        vertical-align: middle;\n",
              "    }\n",
              "\n",
              "    .dataframe tbody tr th {\n",
              "        vertical-align: top;\n",
              "    }\n",
              "\n",
              "    .dataframe thead th {\n",
              "        text-align: right;\n",
              "    }\n",
              "</style>\n",
              "<table border=\"1\" class=\"dataframe\">\n",
              "  <thead>\n",
              "    <tr style=\"text-align: right;\">\n",
              "      <th></th>\n",
              "      <th>avg</th>\n",
              "    </tr>\n",
              "  </thead>\n",
              "  <tbody>\n",
              "    <tr>\n",
              "      <th>0</th>\n",
              "      <td>24.333333</td>\n",
              "    </tr>\n",
              "  </tbody>\n",
              "</table>\n",
              "</div>"
            ],
            "text/plain": [
              "         avg\n",
              "0  24.333333"
            ]
          },
          "execution_count": 13,
          "metadata": {},
          "output_type": "execute_result"
        }
      ],
      "source": [
        "query = '''  \n",
        "            SELECT AVG(count)\n",
        "            FROM (WITH us_50 AS (SELECT username, \n",
        "                  COUNT(rating)\n",
        "                  FROM ratings\n",
        "                  GROUP BY username\n",
        "                  HAVING COUNT(rating) > 50)\n",
        "                \n",
        "                  SELECT COUNT(review_id)\n",
        "                  FROM us_50\n",
        "                  LEFT JOIN reviews ON us_50.username = reviews.username\n",
        "                  GROUP BY reviews.username) as avg\n",
        "            \n",
        "\n",
        "       '''\n",
        "\n",
        "pd.io.sql.read_sql(query, con = engine)\n"
      ]
    },
    {
      "cell_type": "markdown",
      "metadata": {
        "id": "tTRUqtUKRv8h"
      },
      "source": [
        "Среднее количество обзоров от пользователей, которые поставили больше 50 оценок - 24.33"
      ]
    }
  ],
  "metadata": {
    "ExecuteTimeLog": [
      {
        "duration": 7307,
        "start_time": "2022-06-28T16:57:17.016Z"
      },
      {
        "duration": 246,
        "start_time": "2022-06-28T16:58:50.787Z"
      },
      {
        "duration": 90,
        "start_time": "2022-06-28T17:00:02.508Z"
      },
      {
        "duration": 2,
        "start_time": "2022-06-28T17:00:05.845Z"
      },
      {
        "duration": 84,
        "start_time": "2022-06-28T17:03:12.774Z"
      },
      {
        "duration": 99,
        "start_time": "2022-06-28T17:03:19.080Z"
      },
      {
        "duration": 142,
        "start_time": "2022-06-28T17:12:50.084Z"
      },
      {
        "duration": 94,
        "start_time": "2022-06-28T17:13:30.979Z"
      },
      {
        "duration": 93,
        "start_time": "2022-06-28T17:13:37.545Z"
      },
      {
        "duration": 72,
        "start_time": "2022-06-28T17:13:40.308Z"
      },
      {
        "duration": 78,
        "start_time": "2022-06-28T17:13:45.940Z"
      },
      {
        "duration": 68,
        "start_time": "2022-06-28T17:30:19.621Z"
      },
      {
        "duration": 67,
        "start_time": "2022-06-28T17:30:32.960Z"
      },
      {
        "duration": 68,
        "start_time": "2022-06-28T17:31:10.335Z"
      },
      {
        "duration": 68,
        "start_time": "2022-06-28T17:31:15.846Z"
      },
      {
        "duration": 66,
        "start_time": "2022-06-28T17:31:32.132Z"
      },
      {
        "duration": 67,
        "start_time": "2022-06-28T17:32:10.160Z"
      },
      {
        "duration": 68,
        "start_time": "2022-06-28T17:32:33.159Z"
      },
      {
        "duration": 67,
        "start_time": "2022-06-28T17:33:44.849Z"
      },
      {
        "duration": 239,
        "start_time": "2022-06-28T17:36:39.411Z"
      },
      {
        "duration": 74,
        "start_time": "2022-06-28T17:37:04.358Z"
      },
      {
        "duration": 67,
        "start_time": "2022-06-28T17:37:18.060Z"
      },
      {
        "duration": 51,
        "start_time": "2022-06-28T17:38:54.021Z"
      },
      {
        "duration": 125,
        "start_time": "2022-06-28T17:42:03.015Z"
      },
      {
        "duration": 69,
        "start_time": "2022-06-28T17:42:15.809Z"
      },
      {
        "duration": 127,
        "start_time": "2022-06-28T17:42:48.883Z"
      },
      {
        "duration": 99,
        "start_time": "2022-06-28T17:42:57.899Z"
      },
      {
        "duration": 67,
        "start_time": "2022-06-28T17:43:04.684Z"
      },
      {
        "duration": 67,
        "start_time": "2022-06-28T17:44:57.501Z"
      },
      {
        "duration": 64,
        "start_time": "2022-06-28T17:47:46.644Z"
      },
      {
        "duration": 3,
        "start_time": "2022-06-28T17:48:28.643Z"
      },
      {
        "duration": 136,
        "start_time": "2022-06-28T18:03:15.909Z"
      },
      {
        "duration": 135,
        "start_time": "2022-06-28T18:03:50.661Z"
      },
      {
        "duration": 145,
        "start_time": "2022-06-28T18:04:37.975Z"
      },
      {
        "duration": 84,
        "start_time": "2022-06-28T18:04:54.023Z"
      },
      {
        "duration": 89,
        "start_time": "2022-06-28T18:05:34.100Z"
      },
      {
        "duration": 98,
        "start_time": "2022-06-28T18:06:47.171Z"
      },
      {
        "duration": 133,
        "start_time": "2022-06-28T18:14:25.072Z"
      },
      {
        "duration": 90,
        "start_time": "2022-06-28T18:14:46.717Z"
      },
      {
        "duration": 44,
        "start_time": "2022-06-28T19:58:27.507Z"
      },
      {
        "duration": 9116,
        "start_time": "2022-06-28T19:58:40.215Z"
      },
      {
        "duration": 64,
        "start_time": "2022-06-28T19:58:49.332Z"
      },
      {
        "duration": 11,
        "start_time": "2022-06-28T19:58:49.398Z"
      },
      {
        "duration": 16,
        "start_time": "2022-06-28T19:58:49.411Z"
      },
      {
        "duration": 13,
        "start_time": "2022-06-28T19:58:49.428Z"
      },
      {
        "duration": 19,
        "start_time": "2022-06-28T19:58:49.443Z"
      },
      {
        "duration": 12,
        "start_time": "2022-06-28T19:58:49.463Z"
      },
      {
        "duration": 24,
        "start_time": "2022-06-28T19:58:49.476Z"
      },
      {
        "duration": 40,
        "start_time": "2022-06-28T19:58:49.502Z"
      },
      {
        "duration": 154,
        "start_time": "2022-06-28T20:05:24.091Z"
      },
      {
        "duration": 116,
        "start_time": "2022-06-28T20:05:30.236Z"
      },
      {
        "duration": 11,
        "start_time": "2022-06-28T20:07:09.568Z"
      },
      {
        "duration": 12,
        "start_time": "2022-06-28T20:07:31.834Z"
      },
      {
        "duration": 16,
        "start_time": "2022-06-28T20:07:36.180Z"
      },
      {
        "duration": 12,
        "start_time": "2022-06-28T20:08:02.115Z"
      },
      {
        "duration": 12,
        "start_time": "2022-06-28T20:08:13.181Z"
      },
      {
        "duration": 85,
        "start_time": "2022-06-28T20:12:26.905Z"
      },
      {
        "duration": 111,
        "start_time": "2022-06-28T20:16:57.354Z"
      },
      {
        "duration": 98,
        "start_time": "2022-06-28T20:17:07.145Z"
      },
      {
        "duration": 89,
        "start_time": "2022-06-28T20:17:57.492Z"
      },
      {
        "duration": 16,
        "start_time": "2022-06-28T20:18:08.454Z"
      },
      {
        "duration": 18,
        "start_time": "2022-06-28T20:18:35.573Z"
      },
      {
        "duration": 18,
        "start_time": "2022-06-28T20:18:44.515Z"
      },
      {
        "duration": 112,
        "start_time": "2022-06-28T20:19:08.483Z"
      },
      {
        "duration": 2,
        "start_time": "2022-06-28T20:19:34.269Z"
      },
      {
        "duration": 88,
        "start_time": "2022-06-28T20:24:14.204Z"
      },
      {
        "duration": 119,
        "start_time": "2022-06-28T20:29:29.715Z"
      },
      {
        "duration": 89,
        "start_time": "2022-06-28T20:30:14.628Z"
      },
      {
        "duration": 14,
        "start_time": "2022-06-28T20:30:44.695Z"
      },
      {
        "duration": 138,
        "start_time": "2022-06-28T20:50:06.220Z"
      },
      {
        "duration": 97,
        "start_time": "2022-06-28T20:51:56.271Z"
      },
      {
        "duration": 13,
        "start_time": "2022-06-28T20:53:00.395Z"
      },
      {
        "duration": 95,
        "start_time": "2022-06-28T20:56:21.328Z"
      },
      {
        "duration": 19,
        "start_time": "2022-06-28T20:56:56.472Z"
      },
      {
        "duration": 97,
        "start_time": "2022-06-28T20:58:12.214Z"
      },
      {
        "duration": 104,
        "start_time": "2022-06-28T20:59:37.932Z"
      },
      {
        "duration": 14,
        "start_time": "2022-06-28T20:59:53.827Z"
      },
      {
        "duration": 137,
        "start_time": "2022-06-28T21:01:24.875Z"
      },
      {
        "duration": 13,
        "start_time": "2022-06-28T21:01:58.582Z"
      },
      {
        "duration": 14,
        "start_time": "2022-06-28T21:07:16.722Z"
      },
      {
        "duration": 13,
        "start_time": "2022-06-28T21:08:03.640Z"
      },
      {
        "duration": 12,
        "start_time": "2022-06-28T21:08:09.109Z"
      },
      {
        "duration": 12255,
        "start_time": "2022-06-29T05:07:32.844Z"
      },
      {
        "duration": 64,
        "start_time": "2022-06-29T05:07:45.101Z"
      },
      {
        "duration": 11,
        "start_time": "2022-06-29T05:07:45.167Z"
      },
      {
        "duration": 10,
        "start_time": "2022-06-29T05:07:45.180Z"
      },
      {
        "duration": 10,
        "start_time": "2022-06-29T05:07:45.191Z"
      },
      {
        "duration": 10,
        "start_time": "2022-06-29T05:07:45.203Z"
      },
      {
        "duration": 9,
        "start_time": "2022-06-29T05:07:45.214Z"
      },
      {
        "duration": 10,
        "start_time": "2022-06-29T05:07:45.224Z"
      },
      {
        "duration": 27,
        "start_time": "2022-06-29T05:07:45.236Z"
      },
      {
        "duration": 10,
        "start_time": "2022-06-29T05:07:45.265Z"
      },
      {
        "duration": 14,
        "start_time": "2022-06-29T05:07:45.277Z"
      },
      {
        "duration": 12,
        "start_time": "2022-06-29T05:07:45.293Z"
      },
      {
        "duration": 49,
        "start_time": "2022-06-29T06:52:53.962Z"
      },
      {
        "duration": 6861,
        "start_time": "2022-06-29T06:53:07.945Z"
      },
      {
        "duration": 253,
        "start_time": "2022-06-29T06:53:14.809Z"
      },
      {
        "duration": 73,
        "start_time": "2022-06-29T06:53:15.064Z"
      },
      {
        "duration": 68,
        "start_time": "2022-06-29T06:53:15.139Z"
      },
      {
        "duration": 74,
        "start_time": "2022-06-29T06:53:15.210Z"
      },
      {
        "duration": 71,
        "start_time": "2022-06-29T06:53:15.286Z"
      },
      {
        "duration": 66,
        "start_time": "2022-06-29T06:53:15.358Z"
      },
      {
        "duration": 70,
        "start_time": "2022-06-29T06:53:15.426Z"
      },
      {
        "duration": 276,
        "start_time": "2022-06-29T06:53:15.498Z"
      },
      {
        "duration": 81,
        "start_time": "2022-06-29T06:53:15.776Z"
      },
      {
        "duration": 81,
        "start_time": "2022-06-29T06:53:15.859Z"
      },
      {
        "duration": 73,
        "start_time": "2022-06-29T06:53:15.942Z"
      },
      {
        "duration": 203,
        "start_time": "2022-06-29T07:01:59.251Z"
      },
      {
        "duration": 188,
        "start_time": "2022-06-29T07:02:28.512Z"
      },
      {
        "duration": 75,
        "start_time": "2022-06-29T07:02:44.069Z"
      },
      {
        "duration": 110,
        "start_time": "2022-06-29T07:04:07.811Z"
      },
      {
        "duration": 154,
        "start_time": "2022-06-29T07:05:32.248Z"
      },
      {
        "duration": 86,
        "start_time": "2022-06-29T07:05:54.812Z"
      },
      {
        "duration": 76,
        "start_time": "2022-06-29T07:07:09.412Z"
      },
      {
        "duration": 104,
        "start_time": "2022-06-29T07:09:53.676Z"
      },
      {
        "duration": 70,
        "start_time": "2022-06-29T07:10:37.871Z"
      },
      {
        "duration": 162,
        "start_time": "2022-06-29T07:12:05.514Z"
      },
      {
        "duration": 70,
        "start_time": "2022-06-29T07:12:23.654Z"
      },
      {
        "duration": 70,
        "start_time": "2022-06-29T07:12:44.352Z"
      },
      {
        "duration": 95,
        "start_time": "2022-06-29T07:13:58.610Z"
      },
      {
        "duration": 88,
        "start_time": "2022-06-29T07:14:11.571Z"
      },
      {
        "duration": 86,
        "start_time": "2022-06-29T07:14:20.861Z"
      },
      {
        "duration": 195,
        "start_time": "2022-06-29T07:18:11.564Z"
      },
      {
        "duration": 210,
        "start_time": "2022-06-29T07:18:22.733Z"
      },
      {
        "duration": 81,
        "start_time": "2022-06-29T07:19:19.603Z"
      },
      {
        "duration": 88,
        "start_time": "2022-06-29T07:19:50.694Z"
      },
      {
        "duration": 182,
        "start_time": "2022-06-29T07:24:20.894Z"
      },
      {
        "duration": 80,
        "start_time": "2022-06-29T07:24:29.238Z"
      },
      {
        "duration": 95,
        "start_time": "2022-06-29T07:28:39.065Z"
      },
      {
        "duration": 94,
        "start_time": "2022-06-29T07:29:56.398Z"
      },
      {
        "duration": 5,
        "start_time": "2022-06-29T07:30:56.367Z"
      },
      {
        "duration": 76,
        "start_time": "2022-06-29T07:31:08.059Z"
      },
      {
        "duration": 49,
        "start_time": "2022-06-29T07:32:17.354Z"
      },
      {
        "duration": 73,
        "start_time": "2022-06-29T07:32:40.288Z"
      },
      {
        "duration": 10770,
        "start_time": "2022-06-29T07:33:23.916Z"
      },
      {
        "duration": 302,
        "start_time": "2022-06-29T07:33:34.688Z"
      },
      {
        "duration": 89,
        "start_time": "2022-06-29T07:33:34.992Z"
      },
      {
        "duration": 90,
        "start_time": "2022-06-29T07:33:35.083Z"
      },
      {
        "duration": 110,
        "start_time": "2022-06-29T07:33:35.176Z"
      },
      {
        "duration": 88,
        "start_time": "2022-06-29T07:33:35.288Z"
      },
      {
        "duration": 96,
        "start_time": "2022-06-29T07:33:35.378Z"
      },
      {
        "duration": 93,
        "start_time": "2022-06-29T07:33:35.476Z"
      },
      {
        "duration": 132,
        "start_time": "2022-06-29T07:33:35.571Z"
      },
      {
        "duration": 96,
        "start_time": "2022-06-29T07:33:35.705Z"
      },
      {
        "duration": 97,
        "start_time": "2022-06-29T07:33:35.803Z"
      },
      {
        "duration": 96,
        "start_time": "2022-06-29T07:33:35.902Z"
      },
      {
        "duration": 96,
        "start_time": "2022-06-29T07:33:36.000Z"
      },
      {
        "duration": 8135,
        "start_time": "2022-06-30T04:39:17.758Z"
      },
      {
        "duration": 220,
        "start_time": "2022-06-30T04:39:25.894Z"
      },
      {
        "duration": 77,
        "start_time": "2022-06-30T04:39:26.115Z"
      },
      {
        "duration": 63,
        "start_time": "2022-06-30T04:39:26.195Z"
      },
      {
        "duration": 64,
        "start_time": "2022-06-30T04:39:26.259Z"
      },
      {
        "duration": 66,
        "start_time": "2022-06-30T04:39:26.325Z"
      },
      {
        "duration": 63,
        "start_time": "2022-06-30T04:39:26.393Z"
      },
      {
        "duration": 64,
        "start_time": "2022-06-30T04:39:26.457Z"
      },
      {
        "duration": 99,
        "start_time": "2022-06-30T04:39:26.522Z"
      },
      {
        "duration": 65,
        "start_time": "2022-06-30T04:39:26.623Z"
      },
      {
        "duration": 69,
        "start_time": "2022-06-30T04:39:26.690Z"
      },
      {
        "duration": 67,
        "start_time": "2022-06-30T04:39:26.761Z"
      },
      {
        "duration": 66,
        "start_time": "2022-06-30T04:39:26.830Z"
      }
    ],
    "kernelspec": {
      "display_name": "Python 3 (ipykernel)",
      "language": "python",
      "name": "python3"
    },
    "language_info": {
      "codemirror_mode": {
        "name": "ipython",
        "version": 3
      },
      "file_extension": ".py",
      "mimetype": "text/x-python",
      "name": "python",
      "nbconvert_exporter": "python",
      "pygments_lexer": "ipython3",
      "version": "3.9.5"
    },
    "toc": {
      "base_numbering": 1,
      "nav_menu": {},
      "number_sections": true,
      "sideBar": true,
      "skip_h1_title": true,
      "title_cell": "Table of Contents",
      "title_sidebar": "Contents",
      "toc_cell": false,
      "toc_position": {
        "height": "calc(100% - 180px)",
        "left": "10px",
        "top": "150px",
        "width": "447.812px"
      },
      "toc_section_display": true,
      "toc_window_display": true
    },
    "colab": {
      "name": "SQL_book.ipynb",
      "provenance": []
    }
  },
  "nbformat": 4,
  "nbformat_minor": 0
}